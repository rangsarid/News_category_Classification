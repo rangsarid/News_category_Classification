{
 "cells": [
  {
   "cell_type": "markdown",
   "metadata": {},
   "source": [
    "# Import library"
   ]
  },
  {
   "cell_type": "code",
   "execution_count": 268,
   "metadata": {
    "id": "W8IIn186Ejj4"
   },
   "outputs": [],
   "source": [
    "import tensorflow as tf\n",
    "from numpy import array\n",
    "from keras.preprocessing.text import one_hot\n",
    "from keras.preprocessing.sequence import pad_sequences\n",
    "from keras.models import Sequential\n",
    "from keras.layers.core import Activation, Dropout, Dense\n",
    "from keras.layers import Flatten, LSTM\n",
    "from keras.layers import Bidirectional, GlobalMaxPool1D\n",
    "from keras.models import Model\n",
    "from keras.layers.embeddings import Embedding\n",
    "from sklearn.model_selection import train_test_split\n",
    "from keras.preprocessing.text import Tokenizer\n",
    "from keras.layers import Input\n",
    "from keras.layers.merge import Concatenate\n",
    "\n",
    "import pandas as pd\n",
    "import numpy as np\n",
    "import re\n",
    "\n",
    "import matplotlib.pyplot as plt"
   ]
  },
  {
   "cell_type": "code",
   "execution_count": 2,
   "metadata": {
    "id": "CK2QiUMnnHgm"
   },
   "outputs": [],
   "source": [
    "# import training data\n",
    "training_data = pd.read_csv('Training_newsdata.csv')"
   ]
  },
  {
   "cell_type": "code",
   "execution_count": 3,
   "metadata": {
    "colab": {
     "base_uri": "https://localhost:8080/"
    },
    "id": "vS6Vw0_Cn-xy",
    "outputId": "c5546bcd-0fe4-4d97-bafb-f8a35d23ad81"
   },
   "outputs": [
    {
     "data": {
      "text/plain": [
       "(132175, 20)"
      ]
     },
     "execution_count": 3,
     "metadata": {},
     "output_type": "execute_result"
    }
   ],
   "source": [
    "training_data.shape"
   ]
  },
  {
   "cell_type": "code",
   "execution_count": 4,
   "metadata": {
    "colab": {
     "base_uri": "https://localhost:8080/",
     "height": 110
    },
    "id": "ZA1Rnhc2nvY0",
    "outputId": "01f2b7be-c3b2-47e4-9fc4-570f7b1c8336"
   },
   "outputs": [
    {
     "data": {
      "text/html": [
       "<div>\n",
       "<style scoped>\n",
       "    .dataframe tbody tr th:only-of-type {\n",
       "        vertical-align: middle;\n",
       "    }\n",
       "\n",
       "    .dataframe tbody tr th {\n",
       "        vertical-align: top;\n",
       "    }\n",
       "\n",
       "    .dataframe thead th {\n",
       "        text-align: right;\n",
       "    }\n",
       "</style>\n",
       "<table border=\"1\" class=\"dataframe\">\n",
       "  <thead>\n",
       "    <tr style=\"text-align: right;\">\n",
       "      <th></th>\n",
       "      <th>Unnamed: 0</th>\n",
       "      <th>type</th>\n",
       "      <th>ไลฟ์สไตล์</th>\n",
       "      <th>เศรษฐกิจ</th>\n",
       "      <th>ต่างประเทศ</th>\n",
       "      <th>ความมั่นคง</th>\n",
       "      <th>สิ่งแวดล้อม</th>\n",
       "      <th>ผู้หญิง</th>\n",
       "      <th>การเมือง</th>\n",
       "      <th>แรงงาน</th>\n",
       "      <th>สังคม</th>\n",
       "      <th>อาชญากรรม</th>\n",
       "      <th>บันเทิง</th>\n",
       "      <th>สิทธิมนุษยชน</th>\n",
       "      <th>การศึกษา</th>\n",
       "      <th>วิทยาศาสตร์เทคโนโลยี</th>\n",
       "      <th>คุณภาพชีวิต</th>\n",
       "      <th>วัฒนธรรม</th>\n",
       "      <th>กีฬา</th>\n",
       "      <th>Tkn_Text</th>\n",
       "    </tr>\n",
       "  </thead>\n",
       "  <tbody>\n",
       "    <tr>\n",
       "      <th>0</th>\n",
       "      <td>169629</td>\n",
       "      <td>แรงงาน,คุณภาพชีวิต</td>\n",
       "      <td>0</td>\n",
       "      <td>0</td>\n",
       "      <td>0</td>\n",
       "      <td>0</td>\n",
       "      <td>0</td>\n",
       "      <td>0</td>\n",
       "      <td>0</td>\n",
       "      <td>1</td>\n",
       "      <td>0</td>\n",
       "      <td>0</td>\n",
       "      <td>0</td>\n",
       "      <td>0</td>\n",
       "      <td>0</td>\n",
       "      <td>0</td>\n",
       "      <td>1</td>\n",
       "      <td>0</td>\n",
       "      <td>0</td>\n",
       "      <td>วัน ลูกจ้าง ทำงานบ้าน สากล เครือข่าย ลูกจ้าง ท...</td>\n",
       "    </tr>\n",
       "    <tr>\n",
       "      <th>1</th>\n",
       "      <td>128696</td>\n",
       "      <td>ข่าว,เศรษฐกิจ</td>\n",
       "      <td>0</td>\n",
       "      <td>1</td>\n",
       "      <td>0</td>\n",
       "      <td>0</td>\n",
       "      <td>0</td>\n",
       "      <td>0</td>\n",
       "      <td>0</td>\n",
       "      <td>0</td>\n",
       "      <td>0</td>\n",
       "      <td>0</td>\n",
       "      <td>0</td>\n",
       "      <td>0</td>\n",
       "      <td>0</td>\n",
       "      <td>0</td>\n",
       "      <td>0</td>\n",
       "      <td>0</td>\n",
       "      <td>0</td>\n",
       "      <td>นาย จัก รก ฤศฏิ์ พารา พันธ กุล รองประธานกรรมกา...</td>\n",
       "    </tr>\n",
       "  </tbody>\n",
       "</table>\n",
       "</div>"
      ],
      "text/plain": [
       "   Unnamed: 0                type  ไลฟ์สไตล์  เศรษฐกิจ  ต่างประเทศ  \\\n",
       "0      169629  แรงงาน,คุณภาพชีวิต          0         0           0   \n",
       "1      128696       ข่าว,เศรษฐกิจ          0         1           0   \n",
       "\n",
       "   ความมั่นคง  สิ่งแวดล้อม  ผู้หญิง  การเมือง  แรงงาน  สังคม  อาชญากรรม  \\\n",
       "0           0            0        0         0       1      0          0   \n",
       "1           0            0        0         0       0      0          0   \n",
       "\n",
       "   บันเทิง  สิทธิมนุษยชน  การศึกษา  วิทยาศาสตร์เทคโนโลยี  คุณภาพชีวิต  \\\n",
       "0        0             0         0                     0            1   \n",
       "1        0             0         0                     0            0   \n",
       "\n",
       "   วัฒนธรรม  กีฬา                                           Tkn_Text  \n",
       "0         0     0  วัน ลูกจ้าง ทำงานบ้าน สากล เครือข่าย ลูกจ้าง ท...  \n",
       "1         0     0  นาย จัก รก ฤศฏิ์ พารา พันธ กุล รองประธานกรรมกา...  "
      ]
     },
     "execution_count": 4,
     "metadata": {},
     "output_type": "execute_result"
    }
   ],
   "source": [
    "training_data.head(2)"
   ]
  },
  {
   "cell_type": "code",
   "execution_count": 10,
   "metadata": {
    "id": "XU-b2zXrnHnJ"
   },
   "outputs": [],
   "source": [
    "#import testing data\n",
    "testing_data = pd.read_csv('testing_newsdata.csv')"
   ]
  },
  {
   "cell_type": "code",
   "execution_count": 6,
   "metadata": {
    "colab": {
     "base_uri": "https://localhost:8080/"
    },
    "id": "sYPQEbZ_oDI4",
    "outputId": "b9db1a0f-ebc8-4117-8a61-f41bede0e0cd"
   },
   "outputs": [
    {
     "data": {
      "text/plain": [
       "(56647, 20)"
      ]
     },
     "execution_count": 6,
     "metadata": {},
     "output_type": "execute_result"
    }
   ],
   "source": [
    "testing_data.shape"
   ]
  },
  {
   "cell_type": "code",
   "execution_count": 7,
   "metadata": {
    "colab": {
     "base_uri": "https://localhost:8080/",
     "height": 110
    },
    "id": "wUtSQCA1nHpz",
    "outputId": "1831ebd4-e21e-41ef-d3f4-b29d4b8f34b0"
   },
   "outputs": [
    {
     "data": {
      "text/html": [
       "<div>\n",
       "<style scoped>\n",
       "    .dataframe tbody tr th:only-of-type {\n",
       "        vertical-align: middle;\n",
       "    }\n",
       "\n",
       "    .dataframe tbody tr th {\n",
       "        vertical-align: top;\n",
       "    }\n",
       "\n",
       "    .dataframe thead th {\n",
       "        text-align: right;\n",
       "    }\n",
       "</style>\n",
       "<table border=\"1\" class=\"dataframe\">\n",
       "  <thead>\n",
       "    <tr style=\"text-align: right;\">\n",
       "      <th></th>\n",
       "      <th>Unnamed: 0</th>\n",
       "      <th>type</th>\n",
       "      <th>ไลฟ์สไตล์</th>\n",
       "      <th>เศรษฐกิจ</th>\n",
       "      <th>ต่างประเทศ</th>\n",
       "      <th>ความมั่นคง</th>\n",
       "      <th>สิ่งแวดล้อม</th>\n",
       "      <th>ผู้หญิง</th>\n",
       "      <th>การเมือง</th>\n",
       "      <th>แรงงาน</th>\n",
       "      <th>สังคม</th>\n",
       "      <th>อาชญากรรม</th>\n",
       "      <th>บันเทิง</th>\n",
       "      <th>สิทธิมนุษยชน</th>\n",
       "      <th>การศึกษา</th>\n",
       "      <th>วิทยาศาสตร์เทคโนโลยี</th>\n",
       "      <th>คุณภาพชีวิต</th>\n",
       "      <th>วัฒนธรรม</th>\n",
       "      <th>กีฬา</th>\n",
       "      <th>Tkn_Text</th>\n",
       "    </tr>\n",
       "  </thead>\n",
       "  <tbody>\n",
       "    <tr>\n",
       "      <th>0</th>\n",
       "      <td>19341</td>\n",
       "      <td>อาชญากรรม</td>\n",
       "      <td>0</td>\n",
       "      <td>0</td>\n",
       "      <td>0</td>\n",
       "      <td>0</td>\n",
       "      <td>0</td>\n",
       "      <td>0</td>\n",
       "      <td>0</td>\n",
       "      <td>0</td>\n",
       "      <td>0</td>\n",
       "      <td>1</td>\n",
       "      <td>0</td>\n",
       "      <td>0</td>\n",
       "      <td>0</td>\n",
       "      <td>0</td>\n",
       "      <td>0</td>\n",
       "      <td>0</td>\n",
       "      <td>0</td>\n",
       "      <td>วันนี้ ก พ นาย บุ ณย พงศ์ โพธิ วัฒน ์ธนัต ผู้อ...</td>\n",
       "    </tr>\n",
       "    <tr>\n",
       "      <th>1</th>\n",
       "      <td>185768</td>\n",
       "      <td>เศรษฐกิจ</td>\n",
       "      <td>0</td>\n",
       "      <td>1</td>\n",
       "      <td>0</td>\n",
       "      <td>0</td>\n",
       "      <td>0</td>\n",
       "      <td>0</td>\n",
       "      <td>0</td>\n",
       "      <td>0</td>\n",
       "      <td>0</td>\n",
       "      <td>0</td>\n",
       "      <td>0</td>\n",
       "      <td>0</td>\n",
       "      <td>0</td>\n",
       "      <td>0</td>\n",
       "      <td>0</td>\n",
       "      <td>0</td>\n",
       "      <td>0</td>\n",
       "      <td>ที่ประชุม คณะกรรมการ กิจการ โทร คม นาค มก ทค ม...</td>\n",
       "    </tr>\n",
       "  </tbody>\n",
       "</table>\n",
       "</div>"
      ],
      "text/plain": [
       "   Unnamed: 0       type  ไลฟ์สไตล์  เศรษฐกิจ  ต่างประเทศ  ความมั่นคง  \\\n",
       "0       19341  อาชญากรรม          0         0           0           0   \n",
       "1      185768   เศรษฐกิจ          0         1           0           0   \n",
       "\n",
       "   สิ่งแวดล้อม  ผู้หญิง  การเมือง  แรงงาน  สังคม  อาชญากรรม  บันเทิง  \\\n",
       "0            0        0         0       0      0          1        0   \n",
       "1            0        0         0       0      0          0        0   \n",
       "\n",
       "   สิทธิมนุษยชน  การศึกษา  วิทยาศาสตร์เทคโนโลยี  คุณภาพชีวิต  วัฒนธรรม  กีฬา  \\\n",
       "0             0         0                     0            0         0     0   \n",
       "1             0         0                     0            0         0     0   \n",
       "\n",
       "                                            Tkn_Text  \n",
       "0  วันนี้ ก พ นาย บุ ณย พงศ์ โพธิ วัฒน ์ธนัต ผู้อ...  \n",
       "1  ที่ประชุม คณะกรรมการ กิจการ โทร คม นาค มก ทค ม...  "
      ]
     },
     "execution_count": 7,
     "metadata": {},
     "output_type": "execute_result"
    }
   ],
   "source": [
    "testing_data.head(2)"
   ]
  },
  {
   "cell_type": "code",
   "execution_count": 8,
   "metadata": {
    "id": "fjTOBHhin8hC"
   },
   "outputs": [],
   "source": [
    "X_train = list(training_data[\"Tkn_Text\"])"
   ]
  },
  {
   "cell_type": "code",
   "execution_count": 9,
   "metadata": {
    "colab": {
     "base_uri": "https://localhost:8080/"
    },
    "id": "Igfg5Vrvn8jp",
    "outputId": "b5f8558c-bb75-4ca7-fca1-d270fc838f18"
   },
   "outputs": [
    {
     "data": {
      "text/plain": [
       "132175"
      ]
     },
     "execution_count": 9,
     "metadata": {},
     "output_type": "execute_result"
    }
   ],
   "source": [
    "len(X_train)"
   ]
  },
  {
   "cell_type": "code",
   "execution_count": 11,
   "metadata": {
    "id": "u1nQlGHWn8mE"
   },
   "outputs": [],
   "source": [
    "X_test = list(testing_data[\"Tkn_Text\"])"
   ]
  },
  {
   "cell_type": "code",
   "execution_count": 12,
   "metadata": {
    "colab": {
     "base_uri": "https://localhost:8080/"
    },
    "id": "nLfGzXoUoa5V",
    "outputId": "e55406bf-0aaa-4acd-acef-d08eb2c182f6"
   },
   "outputs": [
    {
     "data": {
      "text/plain": [
       "56647"
      ]
     },
     "execution_count": 12,
     "metadata": {},
     "output_type": "execute_result"
    }
   ],
   "source": [
    "len(X_test)"
   ]
  },
  {
   "cell_type": "code",
   "execution_count": 13,
   "metadata": {
    "id": "1UMz1TSRpm8J"
   },
   "outputs": [],
   "source": [
    "y_train = training_data[['ไลฟ์สไตล์', 'เศรษฐกิจ', 'ต่างประเทศ', 'ความมั่นคง', 'สิ่งแวดล้อม', 'ผู้หญิง', 'การเมือง', 'แรงงาน', 'สังคม', 'อาชญากรรม', 'บันเทิง', 'สิทธิมนุษยชน', 'การศึกษา', 'วิทยาศาสตร์เทคโนโลยี', 'คุณภาพชีวิต', 'วัฒนธรรม', 'กีฬา']].values"
   ]
  },
  {
   "cell_type": "code",
   "execution_count": 14,
   "metadata": {
    "colab": {
     "base_uri": "https://localhost:8080/"
    },
    "id": "w8enCVOhq2dJ",
    "outputId": "f8e7b1f0-39fd-4afd-a515-d63c7a420c68"
   },
   "outputs": [
    {
     "data": {
      "text/plain": [
       "array([[0, 0, 0, ..., 1, 0, 0],\n",
       "       [0, 1, 0, ..., 0, 0, 0],\n",
       "       [0, 0, 0, ..., 0, 0, 0],\n",
       "       ...,\n",
       "       [1, 0, 0, ..., 0, 0, 0],\n",
       "       [0, 0, 1, ..., 0, 0, 0],\n",
       "       [0, 0, 0, ..., 0, 0, 0]], dtype=int64)"
      ]
     },
     "execution_count": 14,
     "metadata": {},
     "output_type": "execute_result"
    }
   ],
   "source": [
    "y_train"
   ]
  },
  {
   "cell_type": "code",
   "execution_count": 15,
   "metadata": {
    "colab": {
     "base_uri": "https://localhost:8080/"
    },
    "id": "Xp35KFUaqJnP",
    "outputId": "7cefe9c3-b7ce-478f-f54e-011c3229776e"
   },
   "outputs": [
    {
     "data": {
      "text/plain": [
       "(132175, 17)"
      ]
     },
     "execution_count": 15,
     "metadata": {},
     "output_type": "execute_result"
    }
   ],
   "source": [
    "y_train.shape"
   ]
  },
  {
   "cell_type": "code",
   "execution_count": 16,
   "metadata": {
    "id": "2u_BihRyqPPt"
   },
   "outputs": [],
   "source": [
    "y_test = testing_data[['ไลฟ์สไตล์', 'เศรษฐกิจ', 'ต่างประเทศ', 'ความมั่นคง', 'สิ่งแวดล้อม', 'ผู้หญิง', 'การเมือง', 'แรงงาน', 'สังคม', 'อาชญากรรม', 'บันเทิง', 'สิทธิมนุษยชน', 'การศึกษา', 'วิทยาศาสตร์เทคโนโลยี', 'คุณภาพชีวิต', 'วัฒนธรรม', 'กีฬา']].values"
   ]
  },
  {
   "cell_type": "code",
   "execution_count": 17,
   "metadata": {
    "colab": {
     "base_uri": "https://localhost:8080/"
    },
    "id": "v5tejWpWqo81",
    "outputId": "44cce139-837e-4da4-aa86-6789fc0ada65"
   },
   "outputs": [
    {
     "data": {
      "text/plain": [
       "array([[0, 0, 0, ..., 0, 0, 0],\n",
       "       [0, 1, 0, ..., 0, 0, 0],\n",
       "       [1, 0, 0, ..., 0, 0, 0],\n",
       "       ...,\n",
       "       [0, 0, 0, ..., 0, 0, 0],\n",
       "       [0, 0, 0, ..., 0, 0, 1],\n",
       "       [0, 0, 0, ..., 0, 0, 1]], dtype=int64)"
      ]
     },
     "execution_count": 17,
     "metadata": {},
     "output_type": "execute_result"
    }
   ],
   "source": [
    "y_test"
   ]
  },
  {
   "cell_type": "code",
   "execution_count": 18,
   "metadata": {
    "colab": {
     "base_uri": "https://localhost:8080/"
    },
    "id": "LVUJ0GdkqmFY",
    "outputId": "87c62601-7614-4f89-c74d-00bb6168ef6b"
   },
   "outputs": [
    {
     "data": {
      "text/plain": [
       "(56647, 17)"
      ]
     },
     "execution_count": 18,
     "metadata": {},
     "output_type": "execute_result"
    }
   ],
   "source": [
    "y_test.shape"
   ]
  },
  {
   "cell_type": "code",
   "execution_count": null,
   "metadata": {},
   "outputs": [],
   "source": [
    "label = ['ไลฟ์สไตล์', 'เศรษฐกิจ', 'ต่างประเทศ', 'ความมั่นคง', 'สิ่งแวดล้อม', 'ผู้หญิง', 'การเมือง', 'แรงงาน', 'สังคม', 'อาชญากรรม', 'บันเทิง', 'สิทธิมนุษยชน', 'การศึกษา', 'วิทยาศาสตร์เทคโนโลยี', 'คุณภาพชีวิต', 'วัฒนธรรม', 'กีฬา']"
   ]
  },
  {
   "cell_type": "code",
   "execution_count": 19,
   "metadata": {
    "id": "HAUXqofebl4O"
   },
   "outputs": [],
   "source": [
    "tokenizer = Tokenizer(num_words=10000, oov_token = '<OOV>')\n",
    "tokenizer.fit_on_texts(X_train)\n",
    "\n",
    "X_train = tokenizer.texts_to_sequences(X_train)\n",
    "X_test = tokenizer.texts_to_sequences(X_test)\n",
    "\n",
    "vocab_size = len(tokenizer.word_index) + 1\n",
    "\n",
    "maxlen = 300\n",
    "\n",
    "X_train = pad_sequences(X_train, padding='post', maxlen=maxlen)\n",
    "X_test = pad_sequences(X_test, padding='post', maxlen=maxlen)"
   ]
  },
  {
   "cell_type": "markdown",
   "metadata": {},
   "source": [
    "## Without pre-train embedding "
   ]
  },
  {
   "cell_type": "markdown",
   "metadata": {},
   "source": [
    "### - LTSM"
   ]
  },
  {
   "cell_type": "markdown",
   "metadata": {},
   "source": [
    "Apporch 1"
   ]
  },
  {
   "cell_type": "code",
   "execution_count": 314,
   "metadata": {},
   "outputs": [
    {
     "name": "stdout",
     "output_type": "stream",
     "text": [
      "Model: \"model_19\"\n",
      "_________________________________________________________________\n",
      "Layer (type)                 Output Shape              Param #   \n",
      "=================================================================\n",
      "input_27 (InputLayer)        [(None, 300)]             0         \n",
      "_________________________________________________________________\n",
      "embedding_32 (Embedding)     (None, 300, 200)          30094200  \n",
      "_________________________________________________________________\n",
      "lstm_32 (LSTM)               (None, 16)                13888     \n",
      "_________________________________________________________________\n",
      "dropout_8 (Dropout)          (None, 16)                0         \n",
      "_________________________________________________________________\n",
      "dense_30 (Dense)             (None, 17)                289       \n",
      "=================================================================\n",
      "Total params: 30,108,377\n",
      "Trainable params: 30,108,377\n",
      "Non-trainable params: 0\n",
      "_________________________________________________________________\n"
     ]
    }
   ],
   "source": [
    "embedding_dim = 200\n",
    "# The LSTM architecture\n",
    "input_1 = Input(shape=(maxlen,))\n",
    "embedding_layer = Embedding(vocab_size, embedding_dim)(input_1)\n",
    "x = LSTM(units= 16)(embedding_layer)\n",
    "#x = Dense(8, activation=\"relu\")(lstm_1)\n",
    "x = Dropout(0.25)(x)\n",
    "dense_1 = Dense(17, activation = 'sigmoid')(x)\n",
    "model_1 = Model(inputs=input_1, outputs=dense_1)\n",
    "model_1.summary()"
   ]
  },
  {
   "cell_type": "code",
   "execution_count": 315,
   "metadata": {},
   "outputs": [],
   "source": [
    "from tensorflow.keras.callbacks import ReduceLROnPlateau, EarlyStopping\n",
    "lr_reduction = ReduceLROnPlateau(monitor='val_accuracy', \n",
    "                                            patience=3, \n",
    "                                            verbose=1, \n",
    "                                            factor=0.5, \n",
    "                                            min_lr=0.00001)\n",
    "es = EarlyStopping(monitor='val_loss',\n",
    "                              min_delta=0,\n",
    "                              patience=5,\n",
    "                              verbose=0, mode='auto')"
   ]
  },
  {
   "cell_type": "code",
   "execution_count": 316,
   "metadata": {},
   "outputs": [],
   "source": [
    "model_1.compile(optimizer='adam',\n",
    "              loss='binary_crossentropy',\n",
    "              metrics=['accuracy'])\n",
    "callbacks_list = [es, lr_reduction]"
   ]
  },
  {
   "cell_type": "code",
   "execution_count": 317,
   "metadata": {},
   "outputs": [],
   "source": [
    "import time\n",
    "start_time = time.time()"
   ]
  },
  {
   "cell_type": "code",
   "execution_count": 318,
   "metadata": {},
   "outputs": [
    {
     "name": "stdout",
     "output_type": "stream",
     "text": [
      "Start Time : 1624157774.5816238\n",
      "Epoch 1/25\n",
      "414/414 [==============================] - 73s 171ms/step - loss: 0.4091 - accuracy: 0.1242 - val_loss: 0.2303 - val_accuracy: 0.2360\n",
      "Epoch 2/25\n",
      "414/414 [==============================] - 71s 171ms/step - loss: 0.2373 - accuracy: 0.2230 - val_loss: 0.2196 - val_accuracy: 0.2387\n",
      "Epoch 3/25\n",
      "414/414 [==============================] - 71s 171ms/step - loss: 0.2292 - accuracy: 0.2375 - val_loss: 0.2159 - val_accuracy: 0.2474\n",
      "Epoch 4/25\n",
      "414/414 [==============================] - 71s 171ms/step - loss: 0.2206 - accuracy: 0.2503 - val_loss: 0.1999 - val_accuracy: 0.3875\n",
      "Epoch 5/25\n",
      "414/414 [==============================] - 71s 171ms/step - loss: 0.2020 - accuracy: 0.3774 - val_loss: 0.1699 - val_accuracy: 0.5482\n",
      "Epoch 6/25\n",
      "414/414 [==============================] - 71s 171ms/step - loss: 0.1726 - accuracy: 0.5350 - val_loss: 0.1422 - val_accuracy: 0.6419\n",
      "Epoch 7/25\n",
      "414/414 [==============================] - 71s 171ms/step - loss: 0.1517 - accuracy: 0.6146 - val_loss: 0.1290 - val_accuracy: 0.6710\n",
      "Epoch 8/25\n",
      "414/414 [==============================] - 71s 171ms/step - loss: 0.1377 - accuracy: 0.6522 - val_loss: 0.1239 - val_accuracy: 0.6683\n",
      "Epoch 9/25\n",
      "414/414 [==============================] - 71s 172ms/step - loss: 0.1300 - accuracy: 0.6719 - val_loss: 0.1169 - val_accuracy: 0.6864\n",
      "Epoch 10/25\n",
      "414/414 [==============================] - 71s 172ms/step - loss: 0.1231 - accuracy: 0.6996 - val_loss: 0.1129 - val_accuracy: 0.7308\n",
      "Epoch 11/25\n",
      "414/414 [==============================] - 71s 171ms/step - loss: 0.1175 - accuracy: 0.7283 - val_loss: 0.1096 - val_accuracy: 0.7431\n",
      "Epoch 12/25\n",
      "414/414 [==============================] - 71s 171ms/step - loss: 0.1111 - accuracy: 0.7524 - val_loss: 0.1072 - val_accuracy: 0.7517\n",
      "Epoch 13/25\n",
      "414/414 [==============================] - 71s 171ms/step - loss: 0.1072 - accuracy: 0.7618 - val_loss: 0.1051 - val_accuracy: 0.7586\n",
      "Epoch 14/25\n",
      "414/414 [==============================] - 72s 173ms/step - loss: 0.1031 - accuracy: 0.7727 - val_loss: 0.1063 - val_accuracy: 0.7597\n",
      "Epoch 15/25\n",
      "414/414 [==============================] - 72s 174ms/step - loss: 0.0986 - accuracy: 0.7857 - val_loss: 0.1041 - val_accuracy: 0.7640\n",
      "Epoch 16/25\n",
      "414/414 [==============================] - 72s 174ms/step - loss: 0.0943 - accuracy: 0.7962 - val_loss: 0.1032 - val_accuracy: 0.7652\n",
      "Epoch 17/25\n",
      "414/414 [==============================] - 72s 174ms/step - loss: 0.0919 - accuracy: 0.8055 - val_loss: 0.1045 - val_accuracy: 0.7664\n",
      "Epoch 18/25\n",
      "414/414 [==============================] - 73s 175ms/step - loss: 0.0880 - accuracy: 0.8157 - val_loss: 0.1063 - val_accuracy: 0.7677\n",
      "Epoch 19/25\n",
      "414/414 [==============================] - 72s 174ms/step - loss: 0.0843 - accuracy: 0.8236 - val_loss: 0.1054 - val_accuracy: 0.7678\n",
      "Epoch 20/25\n",
      "414/414 [==============================] - 72s 174ms/step - loss: 0.0821 - accuracy: 0.8292 - val_loss: 0.1071 - val_accuracy: 0.7709\n",
      "Epoch 21/25\n",
      "414/414 [==============================] - 72s 174ms/step - loss: 0.0785 - accuracy: 0.8394 - val_loss: 0.1077 - val_accuracy: 0.7688\n",
      "Consume time :  1500.2430279254913\n"
     ]
    }
   ],
   "source": [
    "print('Start Time :', start_time )\n",
    "history_1 = model_1.fit(X_train, y_train, batch_size=256, epochs=25, verbose=1, validation_split=0.2,callbacks=callbacks_list)\n",
    "print('Consume time : ',(time.time() - start_time))"
   ]
  },
  {
   "cell_type": "code",
   "execution_count": 479,
   "metadata": {},
   "outputs": [
    {
     "name": "stdout",
     "output_type": "stream",
     "text": [
      "1771/1771 [==============================] - 9s 5ms/step - loss: 0.1109 - accuracy: 0.7615\n",
      "Test Score: 0.11089572310447693\n",
      "Test Accuracy: 0.7615407705307007\n"
     ]
    }
   ],
   "source": [
    "score_1 = model_1.evaluate(X_test, y_test, verbose=1)\n",
    "\n",
    "print(\"Test Score:\", score_1[0])\n",
    "print(\"Test Accuracy:\", score_1[1])"
   ]
  },
  {
   "cell_type": "code",
   "execution_count": 478,
   "metadata": {},
   "outputs": [
    {
     "data": {
      "image/png": "[encoded data removed]",
      "text/plain": [
       "<Figure size 432x288 with 1 Axes>"
      ]
     },
     "metadata": {
      "needs_background": "light"
     },
     "output_type": "display_data"
    },
    {
     "data": {
      "image/png": "[encoded data removed]",
      "text/plain": [
       "<Figure size 432x288 with 1 Axes>"
      ]
     },
     "metadata": {
      "needs_background": "light"
     },
     "output_type": "display_data"
    }
   ],
   "source": [
    "plt.plot(history_1.history['accuracy'])\n",
    "plt.plot(history_1.history['val_accuracy'])\n",
    "\n",
    "plt.title('model accuracy')\n",
    "plt.ylabel('accuracy')\n",
    "plt.xlabel('epoch')\n",
    "plt.legend(['train','test'], loc='upper left')\n",
    "plt.show()\n",
    "\n",
    "plt.plot(history_1.history['loss'])\n",
    "plt.plot(history_1.history['val_loss'])\n",
    "\n",
    "plt.title('model loss')\n",
    "plt.ylabel('loss')\n",
    "plt.xlabel('epoch')\n",
    "plt.legend(['train','test'], loc='upper left')\n",
    "plt.show()"
   ]
  },
  {
   "cell_type": "code",
   "execution_count": 321,
   "metadata": {},
   "outputs": [],
   "source": [
    "model_1.save('model_1.h5')"
   ]
  },
  {
   "cell_type": "code",
   "execution_count": 322,
   "metadata": {},
   "outputs": [],
   "source": [
    "model_1.save_weights(\"model_1_weight.h5\")"
   ]
  },
  {
   "cell_type": "code",
   "execution_count": 323,
   "metadata": {},
   "outputs": [],
   "source": [
    "hist1_df = pd.DataFrame(history_1.history) "
   ]
  },
  {
   "cell_type": "code",
   "execution_count": 325,
   "metadata": {},
   "outputs": [],
   "source": [
    "hist1_df.to_csv(\"hist1_acc&loss.csv\")"
   ]
  },
  {
   "cell_type": "code",
   "execution_count": 326,
   "metadata": {},
   "outputs": [],
   "source": [
    "# Predict the label of the test_images\n",
    "pred = model_1.predict(X_test)\n",
    "\n",
    "\n",
    "# Map the label\n",
    "#labels = (train_images.class_indices)\n",
    "#labels = dict((v,k) for k,v in labels.items())\n",
    "#pred = [labels[k] for k in pred]"
   ]
  },
  {
   "cell_type": "code",
   "execution_count": 327,
   "metadata": {},
   "outputs": [],
   "source": [
    "pred_bool = (pred > 0.5)\n"
   ]
  },
  {
   "cell_type": "code",
   "execution_count": 328,
   "metadata": {},
   "outputs": [],
   "source": [
    "predictions = pred_bool.astype(int)"
   ]
  },
  {
   "cell_type": "code",
   "execution_count": 336,
   "metadata": {},
   "outputs": [
    {
     "data": {
      "text/plain": [
       "array([0, 0, 1, 0, 0, 0, 0, 0, 0, 0, 0, 0, 0, 0, 0, 0, 0])"
      ]
     },
     "execution_count": 336,
     "metadata": {},
     "output_type": "execute_result"
    }
   ],
   "source": [
    "predictions[4]"
   ]
  },
  {
   "cell_type": "code",
   "execution_count": 340,
   "metadata": {},
   "outputs": [
    {
     "data": {
      "text/plain": [
       "54003"
      ]
     },
     "execution_count": 340,
     "metadata": {},
     "output_type": "execute_result"
    }
   ],
   "source": [
    "predictions"
   ]
  },
  {
   "cell_type": "code",
   "execution_count": 330,
   "metadata": {
    "scrolled": false
   },
   "outputs": [
    {
     "name": "stdout",
     "output_type": "stream",
     "text": [
      "              precision    recall  f1-score   support\n",
      "\n",
      "           0       0.80      0.65      0.72      2305\n",
      "           1       0.77      0.64      0.70      5437\n",
      "           2       0.87      0.83      0.85      6506\n",
      "           3       0.00      0.00      0.00       653\n",
      "           4       0.75      0.42      0.54      3168\n",
      "           5       0.67      0.41      0.51      1261\n",
      "           6       0.83      0.82      0.83     14636\n",
      "           7       0.80      0.05      0.10       814\n",
      "           8       0.73      0.43      0.54      8917\n",
      "           9       0.82      0.77      0.79      5219\n",
      "          10       0.92      0.87      0.90      3617\n",
      "          11       0.55      0.37      0.44      3703\n",
      "          12       0.00      0.00      0.00       701\n",
      "          13       0.88      0.32      0.47      1847\n",
      "          14       0.50      0.18      0.27      2812\n",
      "          15       0.69      0.06      0.12      1141\n",
      "          16       0.99      0.96      0.97      6587\n",
      "\n",
      "   micro avg       0.82      0.64      0.72     69324\n",
      "   macro avg       0.68      0.46      0.51     69324\n",
      "weighted avg       0.78      0.64      0.69     69324\n",
      " samples avg       0.73      0.70      0.71     69324\n",
      "\n"
     ]
    },
    {
     "name": "stderr",
     "output_type": "stream",
     "text": [
      "C:\\Users\\Cromagnon-PC\\anaconda3\\envs\\tf2.4gpu\\lib\\site-packages\\sklearn\\metrics\\_classification.py:1248: UndefinedMetricWarning: Precision and F-score are ill-defined and being set to 0.0 in samples with no predicted labels. Use `zero_division` parameter to control this behavior.\n",
      "  _warn_prf(average, modifier, msg_start, len(result))\n",
      "C:\\Users\\Cromagnon-PC\\anaconda3\\envs\\tf2.4gpu\\lib\\site-packages\\sklearn\\metrics\\_classification.py:1248: UndefinedMetricWarning: Recall and F-score are ill-defined and being set to 0.0 in samples with no true labels. Use `zero_division` parameter to control this behavior.\n",
      "  _warn_prf(average, modifier, msg_start, len(result))\n"
     ]
    }
   ],
   "source": [
    "from sklearn.metrics import classification_report\n",
    "print(classification_report(y_test, predictions))"
   ]
  },
  {
   "cell_type": "code",
   "execution_count": 492,
   "metadata": {},
   "outputs": [],
   "source": [
    "Lstm_nopre_df =pd.DataFrame(predictions, columns = ['ไลฟ์สไตล์', 'เศรษฐกิจ', 'ต่างประเทศ', 'ความมั่นคง', 'สิ่งแวดล้อม', 'ผู้หญิง', 'การเมือง', 'แรงงาน', 'สังคม', 'อาชญากรรม', 'บันเทิง', 'สิทธิมนุษยชน', 'การศึกษา', 'วิทยาศาสตร์เทคโนโลยี', 'คุณภาพชีวิต', 'วัฒนธรรม', 'กีฬา'])"
   ]
  },
  {
   "cell_type": "code",
   "execution_count": 494,
   "metadata": {},
   "outputs": [],
   "source": [
    "Lstm_nopre_df.to_csv(\"Predict_LSTM_nopretrain_ap1.csv\")"
   ]
  },
  {
   "cell_type": "markdown",
   "metadata": {},
   "source": [
    "Apporch 2"
   ]
  },
  {
   "cell_type": "code",
   "execution_count": null,
   "metadata": {},
   "outputs": [],
   "source": [
    "# First output\n",
    "y1_train =training_data[[\"ไลฟ์สไตล์\"]].values\n",
    "y1_test =  testing_data[[\"ไลฟ์สไตล์\"]].values\n",
    "\n",
    "# Second output\n",
    "y2_train = training_data[[\"เศรษฐกิจ\"]].values\n",
    "y2_test =  testing_data[[\"เศรษฐกิจ\"]].values\n",
    "\n",
    "# Third output\n",
    "y3_train = training_data[[\"ต่างประเทศ\"]].values\n",
    "y3_test =  testing_data[[\"ต่างประเทศ\"]].values\n",
    "\n",
    "# Fourth output\n",
    "y4_train = training_data[[\"ความมั่นคง\"]].values\n",
    "y4_test =  testing_data[[\"ความมั่นคง\"]].values\n",
    "\n",
    "# Fifth output\n",
    "y5_train = training_data[[\"สิ่งแวดล้อม\"]].values\n",
    "y5_test =  testing_data[[\"สิ่งแวดล้อม\"]].values\n",
    "\n",
    "# Sixth output\n",
    "y6_train = training_data[[\"ผู้หญิง\"]].values\n",
    "y6_test =  testing_data[[\"ผู้หญิง\"]].values\n",
    "\n",
    "# 7th output\n",
    "y7_train = training_data[[\"การเมือง\"]].values\n",
    "y7_test =  testing_data[[\"การเมือง\"]].values\n",
    "\n",
    "# 8th output\n",
    "y8_train = training_data[[\"แรงงาน\"]].values\n",
    "y8_test =  testing_data[[\"แรงงาน\"]].values\n",
    "\n",
    "# 9th output\n",
    "y9_train = training_data[[\"สังคม\"]].values\n",
    "y9_test =  testing_data[[\"สังคม\"]].values\n",
    "\n",
    "# 10th output\n",
    "y10_train = training_data[[\"อาชญากรรม\"]].values\n",
    "y10_test =  testing_data[[\"อาชญากรรม\"]].values\n",
    "\n",
    "# 11th output\n",
    "y11_train = training_data[[\"บันเทิง\"]].values\n",
    "y11_test =  testing_data[[\"บันเทิง\"]].values\n",
    "\n",
    "# 12th output\n",
    "y12_train = training_data[[\"สิทธิมนุษยชน\"]].values\n",
    "y12_test =  testing_data[[\"สิทธิมนุษยชน\"]].values\n",
    "\n",
    "# 13th output\n",
    "y13_train = training_data[[\"การศึกษา\"]].values\n",
    "y13_test =  testing_data[[\"การศึกษา\"]].values\n",
    "\n",
    "# 14th output\n",
    "y14_train = training_data[[\"วิทยาศาสตร์เทคโนโลยี\"]].values\n",
    "y14_test =  testing_data[[\"วิทยาศาสตร์เทคโนโลยี\"]].values\n",
    "\n",
    "# 15th output\n",
    "y15_train = training_data[[\"คุณภาพชีวิต\"]].values\n",
    "y15_test =  testing_data[[\"คุณภาพชีวิต\"]].values\n",
    "\n",
    "# 16th output\n",
    "y16_train = training_data[[\"วัฒนธรรม\"]].values\n",
    "y16_test =  testing_data[[\"วัฒนธรรม\"]].values\n",
    "\n",
    "# 17th output\n",
    "y17_train = training_data[[\"กีฬา\"]].values\n",
    "y17_test =  testing_data[[\"กีฬา\"]].values"
   ]
  },
  {
   "cell_type": "code",
   "execution_count": 379,
   "metadata": {},
   "outputs": [
    {
     "name": "stdout",
     "output_type": "stream",
     "text": [
      "Model: \"model_25\"\n",
      "__________________________________________________________________________________________________\n",
      "Layer (type)                    Output Shape         Param #     Connected to                     \n",
      "==================================================================================================\n",
      "input_33 (InputLayer)           [(None, 300)]        0                                            \n",
      "__________________________________________________________________________________________________\n",
      "embedding_38 (Embedding)        (None, 300, 200)     30094200    input_33[0][0]                   \n",
      "__________________________________________________________________________________________________\n",
      "lstm_38 (LSTM)                  (None, 32)           29824       embedding_38[0][0]               \n",
      "__________________________________________________________________________________________________\n",
      "Output_1 (Dense)                (None, 1)            33          lstm_38[0][0]                    \n",
      "__________________________________________________________________________________________________\n",
      "Output_2 (Dense)                (None, 1)            33          lstm_38[0][0]                    \n",
      "__________________________________________________________________________________________________\n",
      "Output_3 (Dense)                (None, 1)            33          lstm_38[0][0]                    \n",
      "__________________________________________________________________________________________________\n",
      "Output_4 (Dense)                (None, 1)            33          lstm_38[0][0]                    \n",
      "__________________________________________________________________________________________________\n",
      "Output_5 (Dense)                (None, 1)            33          lstm_38[0][0]                    \n",
      "__________________________________________________________________________________________________\n",
      "Output_6 (Dense)                (None, 1)            33          lstm_38[0][0]                    \n",
      "__________________________________________________________________________________________________\n",
      "Output_7 (Dense)                (None, 1)            33          lstm_38[0][0]                    \n",
      "__________________________________________________________________________________________________\n",
      "Output_8 (Dense)                (None, 1)            33          lstm_38[0][0]                    \n",
      "__________________________________________________________________________________________________\n",
      "Output_9 (Dense)                (None, 1)            33          lstm_38[0][0]                    \n",
      "__________________________________________________________________________________________________\n",
      "Output_10 (Dense)               (None, 1)            33          lstm_38[0][0]                    \n",
      "__________________________________________________________________________________________________\n",
      "Output_11 (Dense)               (None, 1)            33          lstm_38[0][0]                    \n",
      "__________________________________________________________________________________________________\n",
      "Output_12 (Dense)               (None, 1)            33          lstm_38[0][0]                    \n",
      "__________________________________________________________________________________________________\n",
      "Output_13 (Dense)               (None, 1)            33          lstm_38[0][0]                    \n",
      "__________________________________________________________________________________________________\n",
      "Output_14 (Dense)               (None, 1)            33          lstm_38[0][0]                    \n",
      "__________________________________________________________________________________________________\n",
      "Output_15 (Dense)               (None, 1)            33          lstm_38[0][0]                    \n",
      "__________________________________________________________________________________________________\n",
      "Output_16 (Dense)               (None, 1)            33          lstm_38[0][0]                    \n",
      "__________________________________________________________________________________________________\n",
      "Output_17 (Dense)               (None, 1)            33          lstm_38[0][0]                    \n",
      "==================================================================================================\n",
      "Total params: 30,124,585\n",
      "Trainable params: 30,124,585\n",
      "Non-trainable params: 0\n",
      "__________________________________________________________________________________________________\n"
     ]
    }
   ],
   "source": [
    "input_1 = Input(shape=(maxlen,))\n",
    "embedding_layer = Embedding(vocab_size, embedding_dim)(input_1)\n",
    "x = LSTM(32)(embedding_layer)\n",
    "output1 = Dense(1, activation='sigmoid',name='Output_1')(x)\n",
    "output2 = Dense(1, activation='sigmoid',name='Output_2')(x)\n",
    "output3 = Dense(1, activation='sigmoid',name='Output_3')(x)\n",
    "output4 = Dense(1, activation='sigmoid',name='Output_4')(x)\n",
    "output5 = Dense(1, activation='sigmoid',name='Output_5')(x)\n",
    "output6 = Dense(1, activation='sigmoid',name='Output_6')(x)\n",
    "output7 = Dense(1, activation='sigmoid',name='Output_7')(x)\n",
    "output8 = Dense(1, activation='sigmoid',name='Output_8')(x)\n",
    "output9 = Dense(1, activation='sigmoid',name='Output_9')(x)\n",
    "output10 = Dense(1, activation='sigmoid',name='Output_10')(x)\n",
    "output11 = Dense(1, activation='sigmoid',name='Output_11')(x)\n",
    "output12 = Dense(1, activation='sigmoid',name='Output_12')(x)\n",
    "output13 = Dense(1, activation='sigmoid',name='Output_13')(x)\n",
    "output14 = Dense(1, activation='sigmoid',name='Output_14')(x)\n",
    "output15 = Dense(1, activation='sigmoid',name='Output_15')(x)\n",
    "output16 = Dense(1, activation='sigmoid',name='Output_16')(x)\n",
    "output17 = Dense(1, activation='sigmoid',name='Output_17')(x)\n",
    "\n",
    "model_3 = Model(inputs=input_1, outputs=[output1, output2, output3, output4, output5, output6,output7,output8,output9,output10,output11,output12,output13,output14,output15,output16,output17])\n",
    "model_3.summary()"
   ]
  },
  {
   "cell_type": "code",
   "execution_count": 380,
   "metadata": {},
   "outputs": [],
   "source": [
    "model_3.compile(optimizer='adam',\n",
    "              loss='binary_crossentropy',\n",
    "              metrics=['accuracy'])"
   ]
  },
  {
   "cell_type": "code",
   "execution_count": 381,
   "metadata": {},
   "outputs": [
    {
     "name": "stdout",
     "output_type": "stream",
     "text": [
      "Start Time : 1624157774.5816238\n",
      "Epoch 1/15\n",
      "414/414 [==============================] - 85s 185ms/step - loss: 5.6481 - Output_1_loss: 0.2706 - Output_2_loss: 0.3868 - Output_3_loss: 0.4146 - Output_4_loss: 0.2761 - Output_5_loss: 0.3413 - Output_6_loss: 0.2151 - Output_7_loss: 0.5880 - Output_8_loss: 0.2188 - Output_9_loss: 0.5272 - Output_10_loss: 0.3666 - Output_11_loss: 0.3269 - Output_12_loss: 0.3321 - Output_13_loss: 0.2190 - Output_14_loss: 0.2357 - Output_15_loss: 0.2918 - Output_16_loss: 0.2006 - Output_17_loss: 0.4370 - Output_1_accuracy: 0.9333 - Output_2_accuracy: 0.8755 - Output_3_accuracy: 0.8734 - Output_4_accuracy: 0.9512 - Output_5_accuracy: 0.9310 - Output_6_accuracy: 0.9731 - Output_7_accuracy: 0.7303 - Output_8_accuracy: 0.9599 - Output_9_accuracy: 0.6913 - Output_10_accuracy: 0.9040 - Output_11_accuracy: 0.9222 - Output_12_accuracy: 0.8972 - Output_13_accuracy: 0.9547 - Output_14_accuracy: 0.9626 - Output_15_accuracy: 0.9398 - Output_16_accuracy: 0.9728 - Output_17_accuracy: 0.8644 - val_loss: 3.7611 - val_Output_1_loss: 0.1488 - val_Output_2_loss: 0.3175 - val_Output_3_loss: 0.3556 - val_Output_4_loss: 0.0627 - val_Output_5_loss: 0.2138 - val_Output_6_loss: 0.0922 - val_Output_7_loss: 0.5362 - val_Output_8_loss: 0.0667 - val_Output_9_loss: 0.4331 - val_Output_10_loss: 0.2939 - val_Output_11_loss: 0.2255 - val_Output_12_loss: 0.2200 - val_Output_13_loss: 0.0603 - val_Output_14_loss: 0.1270 - val_Output_15_loss: 0.1723 - val_Output_16_loss: 0.0948 - val_Output_17_loss: 0.3408 - val_Output_1_accuracy: 0.9618 - val_Output_2_accuracy: 0.9045 - val_Output_3_accuracy: 0.8828 - val_Output_4_accuracy: 0.9891 - val_Output_5_accuracy: 0.9450 - val_Output_6_accuracy: 0.9803 - val_Output_7_accuracy: 0.7471 - val_Output_8_accuracy: 0.9869 - val_Output_9_accuracy: 0.8441 - val_Output_10_accuracy: 0.9100 - val_Output_11_accuracy: 0.9329 - val_Output_12_accuracy: 0.9352 - val_Output_13_accuracy: 0.9883 - val_Output_14_accuracy: 0.9673 - val_Output_15_accuracy: 0.9540 - val_Output_16_accuracy: 0.9801 - val_Output_17_accuracy: 0.8838\n",
      "Epoch 2/15\n",
      "414/414 [==============================] - 75s 181ms/step - loss: 3.6410 - Output_1_loss: 0.1378 - Output_2_loss: 0.3132 - Output_3_loss: 0.3431 - Output_4_loss: 0.0611 - Output_5_loss: 0.2140 - Output_6_loss: 0.0878 - Output_7_loss: 0.5037 - Output_8_loss: 0.0680 - Output_9_loss: 0.4317 - Output_10_loss: 0.2938 - Output_11_loss: 0.2066 - Output_12_loss: 0.2141 - Output_13_loss: 0.0595 - Output_14_loss: 0.1212 - Output_15_loss: 0.1740 - Output_16_loss: 0.0911 - Output_17_loss: 0.3204 - Output_1_accuracy: 0.9624 - Output_2_accuracy: 0.9039 - Output_3_accuracy: 0.8829 - Output_4_accuracy: 0.9891 - Output_5_accuracy: 0.9445 - Output_6_accuracy: 0.9804 - Output_7_accuracy: 0.7634 - Output_8_accuracy: 0.9860 - Output_9_accuracy: 0.8442 - Output_10_accuracy: 0.9070 - Output_11_accuracy: 0.9363 - Output_12_accuracy: 0.9334 - Output_13_accuracy: 0.9879 - Output_14_accuracy: 0.9684 - Output_15_accuracy: 0.9513 - Output_16_accuracy: 0.9806 - Output_17_accuracy: 0.8838 - val_loss: 3.6199 - val_Output_1_loss: 0.1400 - val_Output_2_loss: 0.3049 - val_Output_3_loss: 0.3413 - val_Output_4_loss: 0.0581 - val_Output_5_loss: 0.2110 - val_Output_6_loss: 0.0905 - val_Output_7_loss: 0.5225 - val_Output_8_loss: 0.0625 - val_Output_9_loss: 0.4298 - val_Output_10_loss: 0.2817 - val_Output_11_loss: 0.2174 - val_Output_12_loss: 0.2017 - val_Output_13_loss: 0.0587 - val_Output_14_loss: 0.1224 - val_Output_15_loss: 0.1607 - val_Output_16_loss: 0.0910 - val_Output_17_loss: 0.3257 - val_Output_1_accuracy: 0.9618 - val_Output_2_accuracy: 0.9045 - val_Output_3_accuracy: 0.8830 - val_Output_4_accuracy: 0.9891 - val_Output_5_accuracy: 0.9450 - val_Output_6_accuracy: 0.9803 - val_Output_7_accuracy: 0.7606 - val_Output_8_accuracy: 0.9869 - val_Output_9_accuracy: 0.8441 - val_Output_10_accuracy: 0.9100 - val_Output_11_accuracy: 0.9393 - val_Output_12_accuracy: 0.9353 - val_Output_13_accuracy: 0.9883 - val_Output_14_accuracy: 0.9673 - val_Output_15_accuracy: 0.9540 - val_Output_16_accuracy: 0.9801 - val_Output_17_accuracy: 0.8840\n",
      "Epoch 3/15\n",
      "414/414 [==============================] - 75s 181ms/step - loss: 3.4156 - Output_1_loss: 0.1321 - Output_2_loss: 0.2966 - Output_3_loss: 0.3027 - Output_4_loss: 0.0553 - Output_5_loss: 0.2142 - Output_6_loss: 0.0898 - Output_7_loss: 0.4559 - Output_8_loss: 0.0638 - Output_9_loss: 0.4206 - Output_10_loss: 0.2810 - Output_11_loss: 0.2012 - Output_12_loss: 0.1936 - Output_13_loss: 0.0549 - Output_14_loss: 0.1157 - Output_15_loss: 0.1609 - Output_16_loss: 0.0894 - Output_17_loss: 0.2880 - Output_1_accuracy: 0.9612 - Output_2_accuracy: 0.9044 - Output_3_accuracy: 0.8842 - Output_4_accuracy: 0.9894 - Output_5_accuracy: 0.9430 - Output_6_accuracy: 0.9797 - Output_7_accuracy: 0.7959 - Output_8_accuracy: 0.9862 - Output_9_accuracy: 0.8474 - Output_10_accuracy: 0.9073 - Output_11_accuracy: 0.9400 - Output_12_accuracy: 0.9315 - Output_13_accuracy: 0.9885 - Output_14_accuracy: 0.9692 - Output_15_accuracy: 0.9523 - Output_16_accuracy: 0.9800 - Output_17_accuracy: 0.8845 - val_loss: 3.0284 - val_Output_1_loss: 0.1212 - val_Output_2_loss: 0.2741 - val_Output_3_loss: 0.2471 - val_Output_4_loss: 0.0571 - val_Output_5_loss: 0.2098 - val_Output_6_loss: 0.0821 - val_Output_7_loss: 0.3285 - val_Output_8_loss: 0.0596 - val_Output_9_loss: 0.4087 - val_Output_10_loss: 0.2623 - val_Output_11_loss: 0.1729 - val_Output_12_loss: 0.1802 - val_Output_13_loss: 0.0555 - val_Output_14_loss: 0.1217 - val_Output_15_loss: 0.1513 - val_Output_16_loss: 0.0861 - val_Output_17_loss: 0.2101 - val_Output_1_accuracy: 0.9619 - val_Output_2_accuracy: 0.9045 - val_Output_3_accuracy: 0.8854 - val_Output_4_accuracy: 0.9891 - val_Output_5_accuracy: 0.9450 - val_Output_6_accuracy: 0.9803 - val_Output_7_accuracy: 0.8767 - val_Output_8_accuracy: 0.9869 - val_Output_9_accuracy: 0.8441 - val_Output_10_accuracy: 0.9104 - val_Output_11_accuracy: 0.9428 - val_Output_12_accuracy: 0.9355 - val_Output_13_accuracy: 0.9883 - val_Output_14_accuracy: 0.9720 - val_Output_15_accuracy: 0.9539 - val_Output_16_accuracy: 0.9801 - val_Output_17_accuracy: 0.8912\n",
      "Epoch 4/15\n",
      "414/414 [==============================] - 75s 181ms/step - loss: 2.9611 - Output_1_loss: 0.1194 - Output_2_loss: 0.2825 - Output_3_loss: 0.2160 - Output_4_loss: 0.0573 - Output_5_loss: 0.2128 - Output_6_loss: 0.0841 - Output_7_loss: 0.2929 - Output_8_loss: 0.0626 - Output_9_loss: 0.4080 - Output_10_loss: 0.2643 - Output_11_loss: 0.1634 - Output_12_loss: 0.1749 - Output_13_loss: 0.0530 - Output_14_loss: 0.1127 - Output_15_loss: 0.1539 - Output_16_loss: 0.0841 - Output_17_loss: 0.2194 - Output_1_accuracy: 0.9609 - Output_2_accuracy: 0.9036 - Output_3_accuracy: 0.9030 - Output_4_accuracy: 0.9887 - Output_5_accuracy: 0.9435 - Output_6_accuracy: 0.9788 - Output_7_accuracy: 0.8952 - Output_8_accuracy: 0.9859 - Output_9_accuracy: 0.8470 - Output_10_accuracy: 0.9109 - Output_11_accuracy: 0.9449 - Output_12_accuracy: 0.9335 - Output_13_accuracy: 0.9886 - Output_14_accuracy: 0.9735 - Output_15_accuracy: 0.9521 - Output_16_accuracy: 0.9804 - Output_17_accuracy: 0.8931 - val_loss: 2.7872 - val_Output_1_loss: 0.1170 - val_Output_2_loss: 0.2859 - val_Output_3_loss: 0.1489 - val_Output_4_loss: 0.0546 - val_Output_5_loss: 0.2063 - val_Output_6_loss: 0.0767 - val_Output_7_loss: 0.2679 - val_Output_8_loss: 0.0605 - val_Output_9_loss: 0.3935 - val_Output_10_loss: 0.2447 - val_Output_11_loss: 0.1725 - val_Output_12_loss: 0.1784 - val_Output_13_loss: 0.0559 - val_Output_14_loss: 0.1158 - val_Output_15_loss: 0.1532 - val_Output_16_loss: 0.0861 - val_Output_17_loss: 0.1695 - val_Output_1_accuracy: 0.9620 - val_Output_2_accuracy: 0.9053 - val_Output_3_accuracy: 0.9563 - val_Output_4_accuracy: 0.9891 - val_Output_5_accuracy: 0.9450 - val_Output_6_accuracy: 0.9803 - val_Output_7_accuracy: 0.9025 - val_Output_8_accuracy: 0.9869 - val_Output_9_accuracy: 0.8441 - val_Output_10_accuracy: 0.9182 - val_Output_11_accuracy: 0.9429 - val_Output_12_accuracy: 0.9350 - val_Output_13_accuracy: 0.9883 - val_Output_14_accuracy: 0.9728 - val_Output_15_accuracy: 0.9540 - val_Output_16_accuracy: 0.9801 - val_Output_17_accuracy: 0.8967\n",
      "Epoch 5/15\n",
      "414/414 [==============================] - 75s 181ms/step - loss: 2.5244 - Output_1_loss: 0.1098 - Output_2_loss: 0.2633 - Output_3_loss: 0.1378 - Output_4_loss: 0.0538 - Output_5_loss: 0.2082 - Output_6_loss: 0.0722 - Output_7_loss: 0.2485 - Output_8_loss: 0.0580 - Output_9_loss: 0.3655 - Output_10_loss: 0.2149 - Output_11_loss: 0.1275 - Output_12_loss: 0.1639 - Output_13_loss: 0.0547 - Output_14_loss: 0.1079 - Output_15_loss: 0.1471 - Output_16_loss: 0.0801 - Output_17_loss: 0.1111 - Output_1_accuracy: 0.9637 - Output_2_accuracy: 0.9066 - Output_3_accuracy: 0.9628 - Output_4_accuracy: 0.9890 - Output_5_accuracy: 0.9418 - Output_6_accuracy: 0.9801 - Output_7_accuracy: 0.9120 - Output_8_accuracy: 0.9866 - Output_9_accuracy: 0.8478 - Output_10_accuracy: 0.9211 - Output_11_accuracy: 0.9537 - Output_12_accuracy: 0.9359 - Output_13_accuracy: 0.9877 - Output_14_accuracy: 0.9745 - Output_15_accuracy: 0.9518 - Output_16_accuracy: 0.9809 - Output_17_accuracy: 0.9737 - val_loss: 2.1713 - val_Output_1_loss: 0.0922 - val_Output_2_loss: 0.1904 - val_Output_3_loss: 0.1251 - val_Output_4_loss: 0.0526 - val_Output_5_loss: 0.1886 - val_Output_6_loss: 0.0616 - val_Output_7_loss: 0.2442 - val_Output_8_loss: 0.0581 - val_Output_9_loss: 0.3427 - val_Output_10_loss: 0.1455 - val_Output_11_loss: 0.0737 - val_Output_12_loss: 0.1580 - val_Output_13_loss: 0.0522 - val_Output_14_loss: 0.1120 - val_Output_15_loss: 0.1420 - val_Output_16_loss: 0.0776 - val_Output_17_loss: 0.0547 - val_Output_1_accuracy: 0.9695 - val_Output_2_accuracy: 0.9312 - val_Output_3_accuracy: 0.9644 - val_Output_4_accuracy: 0.9891 - val_Output_5_accuracy: 0.9450 - val_Output_6_accuracy: 0.9804 - val_Output_7_accuracy: 0.9097 - val_Output_8_accuracy: 0.9869 - val_Output_9_accuracy: 0.8453 - val_Output_10_accuracy: 0.9478 - val_Output_11_accuracy: 0.9738 - val_Output_12_accuracy: 0.9360 - val_Output_13_accuracy: 0.9883 - val_Output_14_accuracy: 0.9731 - val_Output_15_accuracy: 0.9541 - val_Output_16_accuracy: 0.9801 - val_Output_17_accuracy: 0.9921tput_6_loss: 0.0738 - Output_7_loss: 0.2517 - Output_8_loss: 0.0578 - Output_9_loss: 0.3721 - Output_10_loss: 0.2270 - Output_11_loss: 0.1402 - Output_12_loss: 0.1645 - Output_13_loss: 0.0561 - Output_14_loss: 0.1087 - Output_15_loss: 0.1468 - Output_16_loss: 0.0798 - Output_17_loss: 0.1283 - Output_1_accuracy: 0.9624 - Output_2_accuracy: 0.9037 - Output_3_accuracy: 0.9628 - Output_4_accuracy: 0.9891 - Output_5_accu\n",
      "Epoch 6/15\n",
      "414/414 [==============================] - 75s 181ms/step - loss: 1.9900 - Output_1_loss: 0.0756 - Output_2_loss: 0.1782 - Output_3_loss: 0.1098 - Output_4_loss: 0.0519 - Output_5_loss: 0.1856 - Output_6_loss: 0.0535 - Output_7_loss: 0.2132 - Output_8_loss: 0.0571 - Output_9_loss: 0.3234 - Output_10_loss: 0.1313 - Output_11_loss: 0.0615 - Output_12_loss: 0.1472 - Output_13_loss: 0.0497 - Output_14_loss: 0.0994 - Output_15_loss: 0.1327 - Output_16_loss: 0.0753 - Output_17_loss: 0.0447 - Output_1_accuracy: 0.9750 - Output_2_accuracy: 0.9346 - Output_3_accuracy: 0.9692 - Output_4_accuracy: 0.9888 - Output_5_accuracy: 0.9420 - Output_6_accuracy: 0.9806 - Output_7_accuracy: 0.9215 - Output_8_accuracy: 0.9856 - Output_9_accuracy: 0.8583 - Output_10_accuracy: 0.9542 - Output_11_accuracy: 0.9834 - Output_12_accuracy: 0.9369 - Output_13_accuracy: 0.9880 - Output_14_accuracy: 0.9755 - Output_15_accuracy: 0.9534 - Output_16_accuracy: 0.9801 - Output_17_accuracy: 0.9929 - val_loss: 1.9064 - val_Output_1_loss: 0.0702 - val_Output_2_loss: 0.1598 - val_Output_3_loss: 0.1094 - val_Output_4_loss: 0.0513 - val_Output_5_loss: 0.1699 - val_Output_6_loss: 0.0502 - val_Output_7_loss: 0.2210 - val_Output_8_loss: 0.0547 - val_Output_9_loss: 0.3086 - val_Output_10_loss: 0.1183 - val_Output_11_loss: 0.0491 - val_Output_12_loss: 0.1485 - val_Output_13_loss: 0.0494 - val_Output_14_loss: 0.1041 - val_Output_15_loss: 0.1354 - val_Output_16_loss: 0.0723 - val_Output_17_loss: 0.0343 - val_Output_1_accuracy: 0.9765 - val_Output_2_accuracy: 0.9408 - val_Output_3_accuracy: 0.9676 - val_Output_4_accuracy: 0.9891 - val_Output_5_accuracy: 0.9450 - val_Output_6_accuracy: 0.9821 - val_Output_7_accuracy: 0.9145 - val_Output_8_accuracy: 0.9869 - val_Output_9_accuracy: 0.8662 - val_Output_10_accuracy: 0.9590 - val_Output_11_accuracy: 0.9870 - val_Output_12_accuracy: 0.9383 - val_Output_13_accuracy: 0.9883 - val_Output_14_accuracy: 0.9730 - val_Output_15_accuracy: 0.9541 - val_Output_16_accuracy: 0.9801 - val_Output_17_accuracy: 0.9944\n",
      "Epoch 7/15\n",
      "414/414 [==============================] - 76s 183ms/step - loss: 1.7385 - Output_1_loss: 0.0565 - Output_2_loss: 0.1472 - Output_3_loss: 0.0925 - Output_4_loss: 0.0500 - Output_5_loss: 0.1617 - Output_6_loss: 0.0432 - Output_7_loss: 0.1890 - Output_8_loss: 0.0524 - Output_9_loss: 0.2925 - Output_10_loss: 0.1067 - Output_11_loss: 0.0406 - Output_12_loss: 0.1350 - Output_13_loss: 0.0485 - Output_14_loss: 0.0946 - Output_15_loss: 0.1292 - Output_16_loss: 0.0689 - Output_17_loss: 0.0300 - Output_1_accuracy: 0.9815 - Output_2_accuracy: 0.9481 - Output_3_accuracy: 0.9725 - Output_4_accuracy: 0.9888 - Output_5_accuracy: 0.9442 - Output_6_accuracy: 0.9832 - Output_7_accuracy: 0.9289 - Output_8_accuracy: 0.9857 - Output_9_accuracy: 0.8792 - Output_10_accuracy: 0.9635 - Output_11_accuracy: 0.9897 - Output_12_accuracy: 0.9412 - Output_13_accuracy: 0.9878 - Output_14_accuracy: 0.9743 - Output_15_accuracy: 0.9537 - Output_16_accuracy: 0.9803 - Output_17_accuracy: 0.9948 - val_loss: 1.7721 - val_Output_1_loss: 0.0614 - val_Output_2_loss: 0.1408 - val_Output_3_loss: 0.1086 - val_Output_4_loss: 0.0493 - val_Output_5_loss: 0.1446 - val_Output_6_loss: 0.0458 - val_Output_7_loss: 0.2148 - val_Output_8_loss: 0.0504 - val_Output_9_loss: 0.2936 - val_Output_10_loss: 0.1072 - val_Output_11_loss: 0.0382 - val_Output_12_loss: 0.1408 - val_Output_13_loss: 0.0482 - val_Output_14_loss: 0.0980 - val_Output_15_loss: 0.1307 - val_Output_16_loss: 0.0698 - val_Output_17_loss: 0.0302 - val_Output_1_accuracy: 0.9798 - val_Output_2_accuracy: 0.9504 - val_Output_3_accuracy: 0.9663 - val_Output_4_accuracy: 0.9891 - val_Output_5_accuracy: 0.9463 - val_Output_6_accuracy: 0.9828 - val_Output_7_accuracy: 0.9166 - val_Output_8_accuracy: 0.9869 - val_Output_9_accuracy: 0.8768 - val_Output_10_accuracy: 0.9630 - val_Output_11_accuracy: 0.9886 - val_Output_12_accuracy: 0.9408 - val_Output_13_accuracy: 0.9883 - val_Output_14_accuracy: 0.9732 - val_Output_15_accuracy: 0.9531 - val_Output_16_accuracy: 0.9801 - val_Output_17_accuracy: 0.9948\n",
      "Epoch 8/15\n",
      "414/414 [==============================] - 75s 182ms/step - loss: 1.5505 - Output_1_loss: 0.0455 - Output_2_loss: 0.1265 - Output_3_loss: 0.0844 - Output_4_loss: 0.0497 - Output_5_loss: 0.1372 - Output_6_loss: 0.0368 - Output_7_loss: 0.1729 - Output_8_loss: 0.0478 - Output_9_loss: 0.2662 - Output_10_loss: 0.0945 - Output_11_loss: 0.0282 - Output_12_loss: 0.1246 - Output_13_loss: 0.0448 - Output_14_loss: 0.0845 - Output_15_loss: 0.1204 - Output_16_loss: 0.0641 - Output_17_loss: 0.0225 - Output_1_accuracy: 0.9857 - Output_2_accuracy: 0.9562 - Output_3_accuracy: 0.9754 - Output_4_accuracy: 0.9885 - Output_5_accuracy: 0.9460 - Output_6_accuracy: 0.9853 - Output_7_accuracy: 0.9348 - Output_8_accuracy: 0.9861 - Output_9_accuracy: 0.8943 - Output_10_accuracy: 0.9676 - Output_11_accuracy: 0.9927 - Output_12_accuracy: 0.9462 - Output_13_accuracy: 0.9880 - Output_14_accuracy: 0.9757 - Output_15_accuracy: 0.9559 - Output_16_accuracy: 0.9804 - Output_17_accuracy: 0.9961 - val_loss: 1.6966 - val_Output_1_loss: 0.0627 - val_Output_2_loss: 0.1332 - val_Output_3_loss: 0.1043 - val_Output_4_loss: 0.0483 - val_Output_5_loss: 0.1240 - val_Output_6_loss: 0.0455 - val_Output_7_loss: 0.2099 - val_Output_8_loss: 0.0463 - val_Output_9_loss: 0.2846 - val_Output_10_loss: 0.1044 - val_Output_11_loss: 0.0355 - val_Output_12_loss: 0.1355 - val_Output_13_loss: 0.0476 - val_Output_14_loss: 0.0922 - val_Output_15_loss: 0.1297 - val_Output_16_loss: 0.0660 - val_Output_17_loss: 0.0270 - val_Output_1_accuracy: 0.9794 - val_Output_2_accuracy: 0.9511 - val_Output_3_accuracy: 0.9669 - val_Output_4_accuracy: 0.9891 - val_Output_5_accuracy: 0.9539 - val_Output_6_accuracy: 0.9838 - val_Output_7_accuracy: 0.9178 - val_Output_8_accuracy: 0.9872 - val_Output_9_accuracy: 0.8878 - val_Output_10_accuracy: 0.9651 - val_Output_11_accuracy: 0.9883 - val_Output_12_accuracy: 0.9461 - val_Output_13_accuracy: 0.9883 - val_Output_14_accuracy: 0.9739 - val_Output_15_accuracy: 0.9544 - val_Output_16_accuracy: 0.9800 - val_Output_17_accuracy: 0.9949: 0.0369 - Output_7_loss: 0.1729 - Output_8_loss: 0.0479 - Output_9_loss: 0.2663 - Output_10_loss: 0.0948 - Output_11_loss: 0.0282 - Output_12_loss: 0.1250 - Output_13_loss: 0.0448 - Output_14_loss: 0.0846 - Output_15_loss: 0.1204 - Output_16_loss: 0.0642 - Output_17_loss: 0.0224 - Output_1_accuracy: 0.9857 - Output_2_accuracy: 0.9563 - Output_3_accuracy: 0.9754 - Output_4_accuracy: 0.9884 - Output_5_accuracy: 0.9456 - Output_6_accuracy: 0.9852 - Output_7_accuracy: 0.9348 - Output_8_accuracy: 0.9860 - Output_9_accuracy: 0.8941 - Output_10_accuracy: 0.9674 - Output_11_accuracy: 0.9927 - Output_12_accuracy: 0.9460 - Output_13_accuracy: 0.9880 - Output_14_accuracy: 0.9757 - Output_15_accuracy: 0.9559 - \n",
      "Epoch 9/15\n",
      "414/414 [==============================] - 75s 182ms/step - loss: 1.4080 - Output_1_loss: 0.0378 - Output_2_loss: 0.1156 - Output_3_loss: 0.0788 - Output_4_loss: 0.0459 - Output_5_loss: 0.1149 - Output_6_loss: 0.0313 - Output_7_loss: 0.1603 - Output_8_loss: 0.0415 - Output_9_loss: 0.2486 - Output_10_loss: 0.0835 - Output_11_loss: 0.0223 - Output_12_loss: 0.1139 - Output_13_loss: 0.0426 - Output_14_loss: 0.0779 - Output_15_loss: 0.1159 - Output_16_loss: 0.0582 - Output_17_loss: 0.0191 - Output_1_accuracy: 0.9887 - Output_2_accuracy: 0.9591 - Output_3_accuracy: 0.9766 - Output_4_accuracy: 0.9889 - Output_5_accuracy: 0.9573 - Output_6_accuracy: 0.9882 - Output_7_accuracy: 0.9400 - Output_8_accuracy: 0.9873 - Output_9_accuracy: 0.9041 - Output_10_accuracy: 0.9725 - Output_11_accuracy: 0.9942 - Output_12_accuracy: 0.9521 - Output_13_accuracy: 0.9884 - Output_14_accuracy: 0.9769 - Output_15_accuracy: 0.9570 - Output_16_accuracy: 0.9808 - Output_17_accuracy: 0.9967 - val_loss: 1.6636 - val_Output_1_loss: 0.0620 - val_Output_2_loss: 0.1307 - val_Output_3_loss: 0.1029 - val_Output_4_loss: 0.0474 - val_Output_5_loss: 0.1123 - val_Output_6_loss: 0.0445 - val_Output_7_loss: 0.2102 - val_Output_8_loss: 0.0451 - val_Output_9_loss: 0.2782 - val_Output_10_loss: 0.1028 - val_Output_11_loss: 0.0352 - val_Output_12_loss: 0.1357 - val_Output_13_loss: 0.0467 - val_Output_14_loss: 0.0877 - val_Output_15_loss: 0.1318 - val_Output_16_loss: 0.0646 - val_Output_17_loss: 0.0258 - val_Output_1_accuracy: 0.9795 - val_Output_2_accuracy: 0.9514 - val_Output_3_accuracy: 0.9678 - val_Output_4_accuracy: 0.9891 - val_Output_5_accuracy: 0.9590 - val_Output_6_accuracy: 0.9845 - val_Output_7_accuracy: 0.9163 - val_Output_8_accuracy: 0.9874 - val_Output_9_accuracy: 0.8891 - val_Output_10_accuracy: 0.9661 - val_Output_11_accuracy: 0.9887 - val_Output_12_accuracy: 0.9477 - val_Output_13_accuracy: 0.9883 - val_Output_14_accuracy: 0.9753 - val_Output_15_accuracy: 0.9551 - val_Output_16_accuracy: 0.9799 - val_Output_17_accuracy: 0.99516 - Output_8_loss: 0.0414 - Output_9_loss: 0.2488 - Output_10_loss: 0.0836 - Output_11_loss: 0.0223 - Output_12_loss: 0.1140 - Output_13_loss: 0.0424 - Output_14_loss: 0.0781 - Output_15_loss: 0.1157 - Output_16_loss: 0.0580 - Output_17_loss: 0.0190 - Output_1_accuracy: 0.9888 - Output_2_accuracy: 0.9592 - Output_3_accuracy: 0.9763 - Output_4_accuracy: 0.9889 - Output_5_accuracy: 0.9564 - Output_6_accuracy: 0.9883 - Output_7_accuracy: 0.9404 - Output_8_accuracy: 0.9872 - Output_9_accuracy: 0.9042 - Output_10_accuracy: 0.9725 - Output_11_accuracy: 0.9943 - Output_12_accuracy: 0.9519 - Output_13_accuracy: 0.9885 - Output_14_accuracy: 0.9768 - Output_15_accuracy: 0.9570 - Output_16_accuracy: 0.9809  - ETA: 23s - loss: 1.4097 - Output_1_loss: 0.0376 - Output_2_loss: 0.1159 - Output_3_loss: 0.0798 - Output_4_loss: 0.0458 - Output_5_loss: 0.1164 - Output_6_loss: 0.0312 - Output_7_loss: 0.1597 - Output_8_loss: 0.0414 - Output_9_loss: 0.2487 - Output_10_loss: 0.0835 - Output_11_loss: 0.0223 - Output_12_loss: 0.1140 - Output_13_loss: 0.0425 - Output_14_loss: 0.0780 - Output_15_loss: 0.1158 - Output_16_loss: 0.0581 - Output_17_loss: 0.0190 - Output_1_accuracy: 0.9888 - Output_2_accuracy: 0.9592 - Output_3_accuracy: 0.9764 - Output_4_accuracy: 0.9889 - Output_5_accuracy: 0.9565 - Output_6_accuracy: 0.9883 - Output_7_accuracy: 0.9403 - Output_8_accuracy: 0.9872 - Output_9_accuracy: 0.9042 - Output_10_accu\n",
      "Epoch 10/15\n",
      "414/414 [==============================] - 75s 182ms/step - loss: 1.2928 - Output_1_loss: 0.0330 - Output_2_loss: 0.1079 - Output_3_loss: 0.0663 - Output_4_loss: 0.0439 - Output_5_loss: 0.0988 - Output_6_loss: 0.0286 - Output_7_loss: 0.1502 - Output_8_loss: 0.0384 - Output_9_loss: 0.2314 - Output_10_loss: 0.0758 - Output_11_loss: 0.0182 - Output_12_loss: 0.1060 - Output_13_loss: 0.0413 - Output_14_loss: 0.0711 - Output_15_loss: 0.1093 - Output_16_loss: 0.0554 - Output_17_loss: 0.0171 - Output_1_accuracy: 0.9903 - Output_2_accuracy: 0.9614 - Output_3_accuracy: 0.9798 - Output_4_accuracy: 0.9888 - Output_5_accuracy: 0.9646 - Output_6_accuracy: 0.9895 - Output_7_accuracy: 0.9444 - Output_8_accuracy: 0.9880 - Output_9_accuracy: 0.9116 - Output_10_accuracy: 0.9750 - Output_11_accuracy: 0.9956 - Output_12_accuracy: 0.9551 - Output_13_accuracy: 0.9881 - Output_14_accuracy: 0.9790 - Output_15_accuracy: 0.9585 - Output_16_accuracy: 0.9805 - Output_17_accuracy: 0.9970 - val_loss: 1.6410 - val_Output_1_loss: 0.0636 - val_Output_2_loss: 0.1298 - val_Output_3_loss: 0.1044 - val_Output_4_loss: 0.0466 - val_Output_5_loss: 0.1065 - val_Output_6_loss: 0.0467 - val_Output_7_loss: 0.2151 - val_Output_8_loss: 0.0395 - val_Output_9_loss: 0.2747 - val_Output_10_loss: 0.1017 - val_Output_11_loss: 0.0361 - val_Output_12_loss: 0.1314 - val_Output_13_loss: 0.0459 - val_Output_14_loss: 0.0836 - val_Output_15_loss: 0.1274 - val_Output_16_loss: 0.0628 - val_Output_17_loss: 0.0254 - val_Output_1_accuracy: 0.9793 - val_Output_2_accuracy: 0.9526 - val_Output_3_accuracy: 0.9670 - val_Output_4_accuracy: 0.9891 - val_Output_5_accuracy: 0.9616 - val_Output_6_accuracy: 0.9848 - val_Output_7_accuracy: 0.9161 - val_Output_8_accuracy: 0.9887 - val_Output_9_accuracy: 0.8916 - val_Output_10_accuracy: 0.9661 - val_Output_11_accuracy: 0.9889 - val_Output_12_accuracy: 0.9483 - val_Output_13_accuracy: 0.9883 - val_Output_14_accuracy: 0.9771 - val_Output_15_accuracy: 0.9556 - val_Output_16_accuracy: 0.9798 - val_Output_17_accuracy: 0.9947\n",
      "Epoch 11/15\n",
      "414/414 [==============================] - 76s 184ms/step - loss: 1.1905 - Output_1_loss: 0.0265 - Output_2_loss: 0.0991 - Output_3_loss: 0.0640 - Output_4_loss: 0.0430 - Output_5_loss: 0.0882 - Output_6_loss: 0.0243 - Output_7_loss: 0.1391 - Output_8_loss: 0.0337 - Output_9_loss: 0.2163 - Output_10_loss: 0.0682 - Output_11_loss: 0.0156 - Output_12_loss: 0.0998 - Output_13_loss: 0.0385 - Output_14_loss: 0.0639 - Output_15_loss: 0.1047 - Output_16_loss: 0.0513 - Output_17_loss: 0.0143 - Output_1_accuracy: 0.9925 - Output_2_accuracy: 0.9643 - Output_3_accuracy: 0.9810 - Output_4_accuracy: 0.9888 - Output_5_accuracy: 0.9686 - Output_6_accuracy: 0.9911 - Output_7_accuracy: 0.9477 - Output_8_accuracy: 0.9894 - Output_9_accuracy: 0.9180 - Output_10_accuracy: 0.9776 - Output_11_accuracy: 0.9960 - Output_12_accuracy: 0.9591 - Output_13_accuracy: 0.9885 - Output_14_accuracy: 0.9807 - Output_15_accuracy: 0.9607 - Output_16_accuracy: 0.9817 - Output_17_accuracy: 0.9974 - val_loss: 1.6365 - val_Output_1_loss: 0.0631 - val_Output_2_loss: 0.1302 - val_Output_3_loss: 0.1069 - val_Output_4_loss: 0.0462 - val_Output_5_loss: 0.1046 - val_Output_6_loss: 0.0452 - val_Output_7_loss: 0.2164 - val_Output_8_loss: 0.0377 - val_Output_9_loss: 0.2753 - val_Output_10_loss: 0.1027 - val_Output_11_loss: 0.0357 - val_Output_12_loss: 0.1332 - val_Output_13_loss: 0.0456 - val_Output_14_loss: 0.0799 - val_Output_15_loss: 0.1272 - val_Output_16_loss: 0.0629 - val_Output_17_loss: 0.0238 - val_Output_1_accuracy: 0.9794 - val_Output_2_accuracy: 0.9523 - val_Output_3_accuracy: 0.9660 - val_Output_4_accuracy: 0.9891 - val_Output_5_accuracy: 0.9616 - val_Output_6_accuracy: 0.9848 - val_Output_7_accuracy: 0.9171 - val_Output_8_accuracy: 0.9894 - val_Output_9_accuracy: 0.8912 - val_Output_10_accuracy: 0.9650 - val_Output_11_accuracy: 0.9890 - val_Output_12_accuracy: 0.9482 - val_Output_13_accuracy: 0.9883 - val_Output_14_accuracy: 0.9779 - val_Output_15_accuracy: 0.9551 - val_Output_16_accuracy: 0.9804 - val_Output_17_accuracy: 0.9949\n",
      "Epoch 12/15\n",
      "414/414 [==============================] - 76s 185ms/step - loss: 1.1056 - Output_1_loss: 0.0246 - Output_2_loss: 0.0932 - Output_3_loss: 0.0610 - Output_4_loss: 0.0413 - Output_5_loss: 0.0785 - Output_6_loss: 0.0222 - Output_7_loss: 0.1311 - Output_8_loss: 0.0315 - Output_9_loss: 0.2043 - Output_10_loss: 0.0620 - Output_11_loss: 0.0126 - Output_12_loss: 0.0947 - Output_13_loss: 0.0367 - Output_14_loss: 0.0578 - Output_15_loss: 0.0963 - Output_16_loss: 0.0459 - Output_17_loss: 0.0120 - Output_1_accuracy: 0.9932 - Output_2_accuracy: 0.9673 - Output_3_accuracy: 0.9817 - Output_4_accuracy: 0.9891 - Output_5_accuracy: 0.9724 - Output_6_accuracy: 0.9915 - Output_7_accuracy: 0.9511 - Output_8_accuracy: 0.9902 - Output_9_accuracy: 0.9227 - Output_10_accuracy: 0.9799 - Output_11_accuracy: 0.9971 - Output_12_accuracy: 0.9609 - Output_13_accuracy: 0.9887 - Output_14_accuracy: 0.9831 - Output_15_accuracy: 0.9633 - Output_16_accuracy: 0.9836 - Output_17_accuracy: 0.9976 - val_loss: 1.6718 - val_Output_1_loss: 0.0654 - val_Output_2_loss: 0.1303 - val_Output_3_loss: 0.1119 - val_Output_4_loss: 0.0460 - val_Output_5_loss: 0.1050 - val_Output_6_loss: 0.0477 - val_Output_7_loss: 0.2252 - val_Output_8_loss: 0.0374 - val_Output_9_loss: 0.2794 - val_Output_10_loss: 0.1025 - val_Output_11_loss: 0.0368 - val_Output_12_loss: 0.1372 - val_Output_13_loss: 0.0461 - val_Output_14_loss: 0.0813 - val_Output_15_loss: 0.1291 - val_Output_16_loss: 0.0645 - val_Output_17_loss: 0.0260 - val_Output_1_accuracy: 0.9794 - val_Output_2_accuracy: 0.9521 - val_Output_3_accuracy: 0.9670 - val_Output_4_accuracy: 0.9891 - val_Output_5_accuracy: 0.9634 - val_Output_6_accuracy: 0.9844 - val_Output_7_accuracy: 0.9154 - val_Output_8_accuracy: 0.9896 - val_Output_9_accuracy: 0.8902 - val_Output_10_accuracy: 0.9653 - val_Output_11_accuracy: 0.9883 - val_Output_12_accuracy: 0.9475 - val_Output_13_accuracy: 0.9883 - val_Output_14_accuracy: 0.9778 - val_Output_15_accuracy: 0.9528 - val_Output_16_accuracy: 0.9796 - val_Output_17_accuracy: 0.9947- Output_7_loss: 0.1311 - Output_8_loss: 0.0323 - Output_9_loss: 0.2073 - Output_10_loss: 0.0598 - Output_11_loss: 0.0113 - Output_12_loss: 0.0951 - Output_13_loss: 0.0346 - Output_14_loss: 0.0605 - Output_15_loss: 0.0944 - Output_16_loss: 0.0447 - Output - ETA: 13s - loss: 1.1030 - Output_1_loss: 0.0245 - Output_2_loss: 0.0930 - Output_3_loss: 0.0609 - Output_4_loss: 0.0412 - Output_5_loss: 0.0785 - Output_6_loss: 0.0221 - Output_7_loss: 0.1309 - Output_8_loss: 0.0316 - Output_9_loss: 0.2042 - Output_10_loss: 0.0617 - Output_11_loss: 0.0124 - Output_12_loss: 0.0945 - Output_13_loss: 0.0365 - Output_14_loss: 0.0579 - Output_15_loss: 0.0957 - Output_16_loss: 0.0457 - Output_17_loss: 0.0117 - Output_1_accuracy: 0.9933 - Output_2_accuracy: 0.9675 - Output_3_accuracy: 0.9817 - Output_4_accuracy: 0.9891 - Output_5_accuracy: 0.9725 - Output_6_accuracy: 0.9915 - Output_7_accuracy: 0.9512 - Output_8_accuracy: 0.9902 - Output_9_accuracy: 0.9227 - Output_10_accuracy: 0.9800 - Output_11_accuracy: 0.9971 - Output_12_accuracy: 0.9610 - Output_13_accuracy: 0.9887 - Output_14_accuracy:\n",
      "Epoch 13/15\n",
      "414/414 [==============================] - 75s 182ms/step - loss: 1.0384 - Output_1_loss: 0.0211 - Output_2_loss: 0.0859 - Output_3_loss: 0.0557 - Output_4_loss: 0.0422 - Output_5_loss: 0.0693 - Output_6_loss: 0.0203 - Output_7_loss: 0.1223 - Output_8_loss: 0.0294 - Output_9_loss: 0.1919 - Output_10_loss: 0.0579 - Output_11_loss: 0.0114 - Output_12_loss: 0.0902 - Output_13_loss: 0.0374 - Output_14_loss: 0.0533 - Output_15_loss: 0.0927 - Output_16_loss: 0.0456 - Output_17_loss: 0.0119 - Output_1_accuracy: 0.9941 - Output_2_accuracy: 0.9693 - Output_3_accuracy: 0.9831 - Output_4_accuracy: 0.9883 - Output_5_accuracy: 0.9755 - Output_6_accuracy: 0.9930 - Output_7_accuracy: 0.9555 - Output_8_accuracy: 0.9913 - Output_9_accuracy: 0.9283 - Output_10_accuracy: 0.9818 - Output_11_accuracy: 0.9973 - Output_12_accuracy: 0.9621 - Output_13_accuracy: 0.9880 - Output_14_accuracy: 0.9837 - Output_15_accuracy: 0.9653 - Output_16_accuracy: 0.9838 - Output_17_accuracy: 0.9977 - val_loss: 1.6904 - val_Output_1_loss: 0.0694 - val_Output_2_loss: 0.1333 - val_Output_3_loss: 0.1128 - val_Output_4_loss: 0.0466 - val_Output_5_loss: 0.1058 - val_Output_6_loss: 0.0487 - val_Output_7_loss: 0.2254 - val_Output_8_loss: 0.0368 - val_Output_9_loss: 0.2837 - val_Output_10_loss: 0.1048 - val_Output_11_loss: 0.0388 - val_Output_12_loss: 0.1387 - val_Output_13_loss: 0.0460 - val_Output_14_loss: 0.0799 - val_Output_15_loss: 0.1300 - val_Output_16_loss: 0.0633 - val_Output_17_loss: 0.0265 - val_Output_1_accuracy: 0.9790 - val_Output_2_accuracy: 0.9523 - val_Output_3_accuracy: 0.9656 - val_Output_4_accuracy: 0.9891 - val_Output_5_accuracy: 0.9629 - val_Output_6_accuracy: 0.9846 - val_Output_7_accuracy: 0.9167 - val_Output_8_accuracy: 0.9899 - val_Output_9_accuracy: 0.8875 - val_Output_10_accuracy: 0.9654 - val_Output_11_accuracy: 0.9891 - val_Output_12_accuracy: 0.9460 - val_Output_13_accuracy: 0.9883 - val_Output_14_accuracy: 0.9781 - val_Output_15_accuracy: 0.9539 - val_Output_16_accuracy: 0.9804 - val_Output_17_accuracy: 0.9946oss: 0.0907 - Output_13_loss: 0.0386 - Output_14_loss: 0.0528 - Output_15_loss: 0.0922 - Output_16_loss: 0.0467 - Output_17_loss: 0.0118 - Output_1_accuracy: 0.9942 - Output_2_accuracy: 0.9695 - Output_3_accuracy: 0.9831 - Output_4_accuracy: 0.9879 - Output_5_accuracy: 0.9769 - Output_6_accuracy: 0.9932 - Output_7_accuracy: 0.9569 - Outpu - ETA: 22s - loss: 1.0357 - Output_1_loss: 0.0208 - Output_2_loss: 0.0854 - Output_3_loss: 0.0556 - Output_4_loss: 0.0426 - Output_5_loss: 0.0683 - Output_6_loss: 0.0203 - Output_7_loss: 0.1214 - Output_8_loss: 0.0297 - Output_9_loss: 0.1917 - Output_10_loss: 0.0580 - Output_11_loss: 0.0113 - Output_12_loss: 0.0900 - Output_13_loss: 0.0377 - Output_14_loss: 0.0533 - Output_15_loss: 0.0920 - Output_16_loss: 0.0460 - Output_17_loss: 0.0118 - Output_1_accuracy: 0.9942 - Output_2_accuracy: 0.9695 - Output_3_accuracy: 0.9832 - Output_4_accuracy: 0.9881 - Output_5_accuracy: 0.9759 - Output_6_accuracy: 0.9931 - Output_7_accuracy: 0.9561 - Output_8_accuracy: 0.9913 - Output_9_accuracy: 0.9287 - Output_10_accuracy: 0.9820 - Output_11_accuracy: 0.9973 - Output_12_accuracy: 0.9618 - Output_13_accuracy: 0.9878 - Output_14_accuracy: 0.9836 - Output_15_accuracy: 0.9655 - Output_16_accuracy: 0.9837  - ETA: 20s - loss: 1.0359 - Output_1_loss: 0.0208 - Output_2_loss: 0.0854 - Output_3_loss: 0.0556 - Output_4_loss: 0.0425 - Output_5_loss: 0.0684 - Output_6_loss: 0.0203 - Output_7_loss: 0.1215 - Output_8_loss: 0.0296 - Output_9_loss: 0.1917 - Output_10_loss: 0.0580 - Output_11_loss: 0.0113 - Output_12_loss: 0.0900 - Output_13_loss: 0.0376 - Output_14_loss: 0.0534 - Output_15_loss: 0.0920 - Output_16_loss: 0.0459 - Output_17_loss: 0.0118 - Output_1_accuracy: 0.9942 - Output_2_accuracy: 0.9695 - Output_3_accuracy: 0.9832 - Output_4_accuracy: 0.9881 - Output_5_accuracy: 0.9758 - Output_6_accuracy: 0.9931 - Output_7_accuracy: 0.9560 - Output_8_accuracy: 0.9913 - Output_9_accuracy: 0.9286 - Output_10_accuracy: 0.9819 - Output_11_accuracy: 0.9974 \n",
      "Epoch 14/15\n",
      "414/414 [==============================] - 75s 182ms/step - loss: 0.9578 - Output_1_loss: 0.0179 - Output_2_loss: 0.0798 - Output_3_loss: 0.0515 - Output_4_loss: 0.0389 - Output_5_loss: 0.0648 - Output_6_loss: 0.0176 - Output_7_loss: 0.1131 - Output_8_loss: 0.0260 - Output_9_loss: 0.1782 - Output_10_loss: 0.0520 - Output_11_loss: 0.0106 - Output_12_loss: 0.0845 - Output_13_loss: 0.0350 - Output_14_loss: 0.0475 - Output_15_loss: 0.0884 - Output_16_loss: 0.0402 - Output_17_loss: 0.0118 - Output_1_accuracy: 0.9953 - Output_2_accuracy: 0.9715 - Output_3_accuracy: 0.9844 - Output_4_accuracy: 0.9890 - Output_5_accuracy: 0.9778 - Output_6_accuracy: 0.9939 - Output_7_accuracy: 0.9589 - Output_8_accuracy: 0.9924 - Output_9_accuracy: 0.9336 - Output_10_accuracy: 0.9835 - Output_11_accuracy: 0.9976 - Output_12_accuracy: 0.9657 - Output_13_accuracy: 0.9886 - Output_14_accuracy: 0.9854 - Output_15_accuracy: 0.9666 - Output_16_accuracy: 0.9859 - Output_17_accuracy: 0.9976 - val_loss: 1.7516 - val_Output_1_loss: 0.0729 - val_Output_2_loss: 0.1369 - val_Output_3_loss: 0.1217 - val_Output_4_loss: 0.0468 - val_Output_5_loss: 0.1112 - val_Output_6_loss: 0.0492 - val_Output_7_loss: 0.2400 - val_Output_8_loss: 0.0370 - val_Output_9_loss: 0.2923 - val_Output_10_loss: 0.1066 - val_Output_11_loss: 0.0394 - val_Output_12_loss: 0.1425 - val_Output_13_loss: 0.0469 - val_Output_14_loss: 0.0825 - val_Output_15_loss: 0.1339 - val_Output_16_loss: 0.0665 - val_Output_17_loss: 0.0253 - val_Output_1_accuracy: 0.9771 - val_Output_2_accuracy: 0.9516 - val_Output_3_accuracy: 0.9651 - val_Output_4_accuracy: 0.9891 - val_Output_5_accuracy: 0.9610 - val_Output_6_accuracy: 0.9836 - val_Output_7_accuracy: 0.9150 - val_Output_8_accuracy: 0.9893 - val_Output_9_accuracy: 0.8835 - val_Output_10_accuracy: 0.9655 - val_Output_11_accuracy: 0.9881 - val_Output_12_accuracy: 0.9449 - val_Output_13_accuracy: 0.9878 - val_Output_14_accuracy: 0.9780 - val_Output_15_accuracy: 0.9515 - val_Output_16_accuracy: 0.9789 - val_Output_17_accuracy: 0.9949\n",
      "Epoch 15/15\n",
      "414/414 [==============================] - 76s 183ms/step - loss: 0.8955 - Output_1_loss: 0.0173 - Output_2_loss: 0.0740 - Output_3_loss: 0.0473 - Output_4_loss: 0.0372 - Output_5_loss: 0.0591 - Output_6_loss: 0.0174 - Output_7_loss: 0.1051 - Output_8_loss: 0.0234 - Output_9_loss: 0.1655 - Output_10_loss: 0.0480 - Output_11_loss: 0.0091 - Output_12_loss: 0.0808 - Output_13_loss: 0.0334 - Output_14_loss: 0.0445 - Output_15_loss: 0.0838 - Output_16_loss: 0.0393 - Output_17_loss: 0.0102 - Output_1_accuracy: 0.9954 - Output_2_accuracy: 0.9737 - Output_3_accuracy: 0.9854 - Output_4_accuracy: 0.9892 - Output_5_accuracy: 0.9798 - Output_6_accuracy: 0.9938 - Output_7_accuracy: 0.9614 - Output_8_accuracy: 0.9928 - Output_9_accuracy: 0.9394 - Output_10_accuracy: 0.9845 - Output_11_accuracy: 0.9977 - Output_12_accuracy: 0.9675 - Output_13_accuracy: 0.9887 - Output_14_accuracy: 0.9872 - Output_15_accuracy: 0.9688 - Output_16_accuracy: 0.9862 - Output_17_accuracy: 0.9978 - val_loss: 1.7660 - val_Output_1_loss: 0.0737 - val_Output_2_loss: 0.1377 - val_Output_3_loss: 0.1187 - val_Output_4_loss: 0.0470 - val_Output_5_loss: 0.1111 - val_Output_6_loss: 0.0506 - val_Output_7_loss: 0.2397 - val_Output_8_loss: 0.0372 - val_Output_9_loss: 0.2956 - val_Output_10_loss: 0.1108 - val_Output_11_loss: 0.0427 - val_Output_12_loss: 0.1463 - val_Output_13_loss: 0.0482 - val_Output_14_loss: 0.0810 - val_Output_15_loss: 0.1343 - val_Output_16_loss: 0.0657 - val_Output_17_loss: 0.0258 - val_Output_1_accuracy: 0.9781 - val_Output_2_accuracy: 0.9517 - val_Output_3_accuracy: 0.9641 - val_Output_4_accuracy: 0.9891 - val_Output_5_accuracy: 0.9620 - val_Output_6_accuracy: 0.9848 - val_Output_7_accuracy: 0.9155 - val_Output_8_accuracy: 0.9894 - val_Output_9_accuracy: 0.8850 - val_Output_10_accuracy: 0.9652 - val_Output_11_accuracy: 0.9883 - val_Output_12_accuracy: 0.9435 - val_Output_13_accuracy: 0.9879 - val_Output_14_accuracy: 0.9783 - val_Output_15_accuracy: 0.9528 - val_Output_16_accuracy: 0.9801 - val_Output_17_accuracy: 0.9949\n",
      "Consume time :  6818.4471979141235\n"
     ]
    }
   ],
   "source": [
    "print('Start Time :', start_time )\n",
    "history_3 = model_3.fit(x=X_train, y=[y1_train, y2_train, y3_train, y4_train, y5_train, y6_train, y7_train, y8_train, y9_train, y10_train, y11_train, y12_train, y13_train, y14_train, y15_train, y16_train, y17_train], batch_size=256, epochs=15, verbose=1, validation_split=0.2)\n",
    "print('Consume time : ',(time.time() - start_time))"
   ]
  },
  {
   "cell_type": "code",
   "execution_count": 384,
   "metadata": {},
   "outputs": [
    {
     "name": "stdout",
     "output_type": "stream",
     "text": [
      "1771/1771 [==============================] - 29s 16ms/step - loss: 1.8015 - Output_1_loss: 0.0746 - Output_2_loss: 0.1483 - Output_3_loss: 0.1185 - Output_4_loss: 0.0483 - Output_5_loss: 0.1120 - Output_6_loss: 0.0533 - Output_7_loss: 0.2429 - Output_8_loss: 0.0398 - Output_9_loss: 0.3038 - Output_10_loss: 0.1102 - Output_11_loss: 0.0445 - Output_12_loss: 0.1427 - Output_13_loss: 0.0494 - Output_14_loss: 0.0795 - Output_15_loss: 0.1422 - Output_16_loss: 0.0651 - Output_17_loss: 0.0264 - Output_1_accuracy: 0.9781 - Output_2_accuracy: 0.9478 - Output_3_accuracy: 0.9635 - Output_4_accuracy: 0.9885 - Output_5_accuracy: 0.9614 - Output_6_accuracy: 0.9830 - Output_7_accuracy: 0.9154 - Output_8_accuracy: 0.9885 - Output_9_accuracy: 0.8823 - Output_10_accuracy: 0.9649 - Output_11_accuracy: 0.9880 - Output_12_accuracy: 0.9435 - Output_13_accuracy: 0.9874 - Output_14_accuracy: 0.9779 - Output_15_accuracy: 0.9496 - Output_16_accuracy: 0.9801 - Output_17_accuracy: 0.9943\n"
     ]
    }
   ],
   "source": [
    "score_3 = model_3.evaluate(x=X_test, y=[y1_test, y2_test, y3_test, y4_test, y5_test, y6_test, y7_test, y8_test, y9_test, y10_test, y11_test, y12_test, y13_test, y14_test, y15_test, y16_test, y17_test], verbose=1)"
   ]
  },
  {
   "cell_type": "code",
   "execution_count": 385,
   "metadata": {},
   "outputs": [],
   "source": [
    "pred_3 = model_3.predict(X_test)"
   ]
  },
  {
   "cell_type": "code",
   "execution_count": 383,
   "metadata": {},
   "outputs": [
    {
     "data": {
      "image/png": "[encoded data removed]",
      "text/plain": [
       "<Figure size 432x288 with 1 Axes>"
      ]
     },
     "metadata": {
      "needs_background": "light"
     },
     "output_type": "display_data"
    },
    {
     "data": {
      "image/png": "[encoded data removed]",
      "text/plain": [
       "<Figure size 432x288 with 1 Axes>"
      ]
     },
     "metadata": {
      "needs_background": "light"
     },
     "output_type": "display_data"
    }
   ],
   "source": [
    "plt.plot(history_3.history['Output_3_accuracy'])\n",
    "plt.plot(history_3.history['val_Output_3_accuracy'])\n",
    "\n",
    "plt.title('model accuracy')\n",
    "plt.ylabel('accuracy')\n",
    "plt.xlabel('epoch')\n",
    "plt.legend(['train','test'], loc='upper left')\n",
    "plt.show()\n",
    "\n",
    "plt.plot(history_3.history['Output_3_loss'])\n",
    "plt.plot(history_3.history['val_Output_3_loss'])\n",
    "\n",
    "plt.title('model loss')\n",
    "plt.ylabel('loss')\n",
    "plt.xlabel('epoch')\n",
    "plt.legend(['train','test'], loc='upper left')\n",
    "plt.show()"
   ]
  },
  {
   "cell_type": "code",
   "execution_count": 386,
   "metadata": {},
   "outputs": [],
   "source": [
    "dict_test_3 = {label[i] : [1 if k[0] >= 0.5 else 0 for k in pred_3[i] ] for i in range(len(label))}"
   ]
  },
  {
   "cell_type": "code",
   "execution_count": 387,
   "metadata": {},
   "outputs": [],
   "source": [
    "pred_3_df = pd.DataFrame(dict_test_3)"
   ]
  },
  {
   "cell_type": "code",
   "execution_count": 400,
   "metadata": {},
   "outputs": [],
   "source": [
    "predictions_3 = pred_3_df[['ไลฟ์สไตล์', 'เศรษฐกิจ', 'ต่างประเทศ', 'ความมั่นคง', 'สิ่งแวดล้อม', 'ผู้หญิง', 'การเมือง', 'แรงงาน', 'สังคม', 'อาชญากรรม', 'บันเทิง', 'สิทธิมนุษยชน', 'การศึกษา', 'วิทยาศาสตร์เทคโนโลยี', 'คุณภาพชีวิต', 'วัฒนธรรม', 'กีฬา']].values"
   ]
  },
  {
   "cell_type": "code",
   "execution_count": 401,
   "metadata": {},
   "outputs": [
    {
     "name": "stdout",
     "output_type": "stream",
     "text": [
      "              precision    recall  f1-score   support\n",
      "\n",
      "           0       0.74      0.70      0.72      2305\n",
      "           1       0.75      0.68      0.71      5437\n",
      "           2       0.85      0.82      0.84      6506\n",
      "           3       0.57      0.01      0.02       653\n",
      "           4       0.67      0.61      0.64      3168\n",
      "           5       0.63      0.56      0.59      1261\n",
      "           6       0.86      0.81      0.83     14636\n",
      "           7       0.67      0.39      0.50       814\n",
      "           8       0.65      0.55      0.59      8917\n",
      "           9       0.84      0.77      0.80      5219\n",
      "          10       0.93      0.88      0.90      3617\n",
      "          11       0.57      0.54      0.56      3703\n",
      "          12       0.31      0.02      0.03       701\n",
      "          13       0.76      0.47      0.58      1847\n",
      "          14       0.49      0.30      0.37      2812\n",
      "          15       0.51      0.28      0.36      1141\n",
      "          16       0.98      0.97      0.98      6587\n",
      "\n",
      "   micro avg       0.79      0.69      0.74     69324\n",
      "   macro avg       0.69      0.55      0.59     69324\n",
      "weighted avg       0.77      0.69      0.72     69324\n",
      " samples avg       0.76      0.75      0.74     69324\n",
      "\n"
     ]
    },
    {
     "name": "stderr",
     "output_type": "stream",
     "text": [
      "C:\\Users\\Cromagnon-PC\\anaconda3\\envs\\tf2.4gpu\\lib\\site-packages\\sklearn\\metrics\\_classification.py:1248: UndefinedMetricWarning: Precision and F-score are ill-defined and being set to 0.0 in samples with no predicted labels. Use `zero_division` parameter to control this behavior.\n",
      "  _warn_prf(average, modifier, msg_start, len(result))\n",
      "C:\\Users\\Cromagnon-PC\\anaconda3\\envs\\tf2.4gpu\\lib\\site-packages\\sklearn\\metrics\\_classification.py:1248: UndefinedMetricWarning: Recall and F-score are ill-defined and being set to 0.0 in samples with no true labels. Use `zero_division` parameter to control this behavior.\n",
      "  _warn_prf(average, modifier, msg_start, len(result))\n"
     ]
    }
   ],
   "source": [
    "print(classification_report(y_test, predictions_3))"
   ]
  },
  {
   "cell_type": "code",
   "execution_count": 436,
   "metadata": {},
   "outputs": [],
   "source": [
    "pred_3_df.to_csv(\"LSTM_Withoutpretrain_testing data.csv\")"
   ]
  },
  {
   "cell_type": "code",
   "execution_count": 437,
   "metadata": {},
   "outputs": [],
   "source": [
    "model_3.save('LSTM_Withoutpretrain_model.h5')\n",
    "model_3.save_weights(\"LSTM_Withoutpretrain_weight.h5\")"
   ]
  },
  {
   "cell_type": "code",
   "execution_count": null,
   "metadata": {},
   "outputs": [],
   "source": []
  },
  {
   "cell_type": "markdown",
   "metadata": {},
   "source": [
    "### - Bi-LSTM"
   ]
  },
  {
   "cell_type": "markdown",
   "metadata": {},
   "source": [
    "Apporch 1"
   ]
  },
  {
   "cell_type": "code",
   "execution_count": 278,
   "metadata": {},
   "outputs": [
    {
     "name": "stdout",
     "output_type": "stream",
     "text": [
      "Model: \"model_13\"\n",
      "_________________________________________________________________\n",
      "Layer (type)                 Output Shape              Param #   \n",
      "=================================================================\n",
      "input_18 (InputLayer)        [(None, 300)]             0         \n",
      "_________________________________________________________________\n",
      "embedding_23 (Embedding)     (None, 300, 200)          30094200  \n",
      "_________________________________________________________________\n",
      "bidirectional_4 (Bidirection (None, 300, 64)           59648     \n",
      "_________________________________________________________________\n",
      "global_max_pooling1d_3 (Glob (None, 64)                0         \n",
      "_________________________________________________________________\n",
      "dense_18 (Dense)             (None, 34)                2210      \n",
      "_________________________________________________________________\n",
      "dropout_3 (Dropout)          (None, 34)                0         \n",
      "_________________________________________________________________\n",
      "dense_19 (Dense)             (None, 17)                595       \n",
      "=================================================================\n",
      "Total params: 30,156,653\n",
      "Trainable params: 30,156,653\n",
      "Non-trainable params: 0\n",
      "_________________________________________________________________\n"
     ]
    }
   ],
   "source": [
    "embedding_dim = 200\n",
    "# The LSTM architecture\n",
    "input_1 = Input(shape=(maxlen,))\n",
    "embedding_layer = Embedding(vocab_size, embedding_dim)(input_1)\n",
    "bilstm_1 = Bidirectional(LSTM(units= 32, return_sequences=True))(embedding_layer)\n",
    "x = GlobalMaxPool1D()(bilstm_1)\n",
    "x = Dense(34, activation=\"relu\")(x)\n",
    "x = Dropout(0.5)(x)\n",
    "dense_1 = Dense(17, activation = 'sigmoid')(x)\n",
    "model_2 = Model(inputs=input_1, outputs=dense_1)\n",
    "model_2.summary()"
   ]
  },
  {
   "cell_type": "code",
   "execution_count": 279,
   "metadata": {},
   "outputs": [],
   "source": [
    "from tensorflow.keras.callbacks import ReduceLROnPlateau, EarlyStopping\n",
    "lr_reduction = ReduceLROnPlateau(monitor='val_accuracy', \n",
    "                                            patience=3, \n",
    "                                            verbose=1, \n",
    "                                            factor=0.5, \n",
    "                                            min_lr=0.00001)\n",
    "es = EarlyStopping(monitor='val_loss',\n",
    "                              min_delta=0,\n",
    "                              patience=5,\n",
    "                              verbose=0, mode='auto')"
   ]
  },
  {
   "cell_type": "code",
   "execution_count": 280,
   "metadata": {},
   "outputs": [],
   "source": [
    "model_2.compile(optimizer='adam',\n",
    "              loss='binary_crossentropy',\n",
    "              metrics=['accuracy'])\n",
    "callbacks_list = [es, lr_reduction]"
   ]
  },
  {
   "cell_type": "code",
   "execution_count": 281,
   "metadata": {},
   "outputs": [
    {
     "name": "stdout",
     "output_type": "stream",
     "text": [
      "Start Time : 1624131866.6119936\n",
      "Epoch 1/30\n",
      "414/414 [==============================] - 76s 176ms/step - loss: 0.3723 - accuracy: 0.1416 - val_loss: 0.1503 - val_accuracy: 0.6256\n",
      "Epoch 2/30\n",
      "414/414 [==============================] - 73s 177ms/step - loss: 0.1624 - accuracy: 0.5829 - val_loss: 0.1140 - val_accuracy: 0.7362\n",
      "Epoch 3/30\n",
      "414/414 [==============================] - 73s 177ms/step - loss: 0.1304 - accuracy: 0.6910 - val_loss: 0.1029 - val_accuracy: 0.7582\n",
      "Epoch 4/30\n",
      "414/414 [==============================] - 74s 178ms/step - loss: 0.1163 - accuracy: 0.7287 - val_loss: 0.0984 - val_accuracy: 0.7660\n",
      "Epoch 5/30\n",
      "414/414 [==============================] - 73s 177ms/step - loss: 0.1089 - accuracy: 0.7490 - val_loss: 0.0999 - val_accuracy: 0.7640\n",
      "Epoch 6/30\n",
      "414/414 [==============================] - 73s 178ms/step - loss: 0.1035 - accuracy: 0.7648 - val_loss: 0.0953 - val_accuracy: 0.7873\n",
      "Epoch 7/30\n",
      "414/414 [==============================] - 74s 178ms/step - loss: 0.0972 - accuracy: 0.7820 - val_loss: 0.0936 - val_accuracy: 0.7913\n",
      "Epoch 8/30\n",
      "414/414 [==============================] - 73s 177ms/step - loss: 0.0932 - accuracy: 0.7931 - val_loss: 0.0937 - val_accuracy: 0.7900\n",
      "Epoch 9/30\n",
      "414/414 [==============================] - 74s 178ms/step - loss: 0.0903 - accuracy: 0.8006 - val_loss: 0.0939 - val_accuracy: 0.7942\n",
      "Epoch 10/30\n",
      "414/414 [==============================] - 74s 178ms/step - loss: 0.0870 - accuracy: 0.8077 - val_loss: 0.0962 - val_accuracy: 0.7822\n",
      "Epoch 11/30\n",
      "414/414 [==============================] - 73s 177ms/step - loss: 0.0850 - accuracy: 0.8110 - val_loss: 0.0963 - val_accuracy: 0.7888\n",
      "Epoch 12/30\n",
      "414/414 [==============================] - 73s 177ms/step - loss: 0.0801 - accuracy: 0.8251 - val_loss: 0.0983 - val_accuracy: 0.7879\n",
      "\n",
      "Epoch 00012: ReduceLROnPlateau reducing learning rate to 0.0005000000237487257.\n",
      "Consume time :  4196.176584243774\n"
     ]
    }
   ],
   "source": [
    "print('Start Time :', start_time )\n",
    "history_2 = model_2.fit(X_train, y_train, batch_size=256, epochs=30, verbose=1, validation_split=0.2,callbacks=callbacks_list)\n",
    "print('Consume time : ',(time.time() - start_time))"
   ]
  },
  {
   "cell_type": "code",
   "execution_count": 422,
   "metadata": {},
   "outputs": [
    {
     "data": {
      "image/png": "[encoded data removed]",
      "text/plain": [
       "<Figure size 432x288 with 1 Axes>"
      ]
     },
     "metadata": {
      "needs_background": "light"
     },
     "output_type": "display_data"
    },
    {
     "data": {
      "image/png": "[encoded data removed]",
      "text/plain": [
       "<Figure size 432x288 with 1 Axes>"
      ]
     },
     "metadata": {
      "needs_background": "light"
     },
     "output_type": "display_data"
    }
   ],
   "source": [
    "plt.plot(history_2.history['accuracy'])\n",
    "plt.plot(history_2.history['val_accuracy'])\n",
    "\n",
    "plt.title('model accuracy')\n",
    "plt.ylabel('accuracy')\n",
    "plt.xlabel('epoch')\n",
    "plt.legend(['train','test'], loc='upper left')\n",
    "plt.show()\n",
    "\n",
    "plt.plot(history_2.history['loss'])\n",
    "plt.plot(history_2.history['val_loss'])\n",
    "\n",
    "plt.title('model loss')\n",
    "plt.ylabel('loss')\n",
    "plt.xlabel('epoch')\n",
    "plt.legend(['train','test'], loc='upper left')\n",
    "plt.show()"
   ]
  },
  {
   "cell_type": "code",
   "execution_count": 495,
   "metadata": {},
   "outputs": [
    {
     "name": "stdout",
     "output_type": "stream",
     "text": [
      "1771/1771 [==============================] - 16s 9ms/step - loss: 0.1013 - accuracy: 0.7823\n",
      "Test Score: 0.10132274776697159\n",
      "Test Accuracy: 0.7822832465171814\n"
     ]
    }
   ],
   "source": [
    "score_2 = model_2.evaluate(X_test, y_test, verbose=1)\n",
    "\n",
    "print(\"Test Score:\", score_2[0])\n",
    "print(\"Test Accuracy:\", score_2[1])"
   ]
  },
  {
   "cell_type": "code",
   "execution_count": 287,
   "metadata": {},
   "outputs": [],
   "source": [
    "model_2.save('model_2.h5')"
   ]
  },
  {
   "cell_type": "code",
   "execution_count": 288,
   "metadata": {},
   "outputs": [],
   "source": [
    "model_2.save_weights(\"model_2_weight.h5\")"
   ]
  },
  {
   "cell_type": "code",
   "execution_count": 343,
   "metadata": {},
   "outputs": [],
   "source": [
    "hist2_df = pd.DataFrame(history_2.history) "
   ]
  },
  {
   "cell_type": "code",
   "execution_count": 344,
   "metadata": {},
   "outputs": [],
   "source": [
    "hist2_df.to_csv(\"hist2_acc&loss.csv\")"
   ]
  },
  {
   "cell_type": "code",
   "execution_count": 424,
   "metadata": {},
   "outputs": [],
   "source": [
    "pred_2 = model_2.predict(X_test)"
   ]
  },
  {
   "cell_type": "code",
   "execution_count": 425,
   "metadata": {},
   "outputs": [],
   "source": [
    "pred2_bool = (pred_2 > 0.5)\n",
    "predictions_2 = pred2_bool.astype(int)"
   ]
  },
  {
   "cell_type": "code",
   "execution_count": 496,
   "metadata": {},
   "outputs": [
    {
     "data": {
      "text/plain": [
       "array([[0, 0, 0, ..., 0, 0, 0],\n",
       "       [0, 0, 0, ..., 0, 0, 0],\n",
       "       [1, 0, 0, ..., 0, 0, 0],\n",
       "       ...,\n",
       "       [0, 0, 0, ..., 0, 0, 0],\n",
       "       [0, 0, 0, ..., 0, 0, 1],\n",
       "       [0, 0, 0, ..., 0, 0, 1]])"
      ]
     },
     "execution_count": 496,
     "metadata": {},
     "output_type": "execute_result"
    }
   ],
   "source": [
    "predictions_2"
   ]
  },
  {
   "cell_type": "code",
   "execution_count": 426,
   "metadata": {
    "scrolled": true
   },
   "outputs": [
    {
     "name": "stdout",
     "output_type": "stream",
     "text": [
      "              precision    recall  f1-score   support\n",
      "\n",
      "           0       0.86      0.68      0.76      2305\n",
      "           1       0.80      0.64      0.71      5437\n",
      "           2       0.91      0.82      0.86      6506\n",
      "           3       0.00      0.00      0.00       653\n",
      "           4       0.79      0.47      0.59      3168\n",
      "           5       0.73      0.48      0.58      1261\n",
      "           6       0.88      0.80      0.84     14636\n",
      "           7       0.00      0.00      0.00       814\n",
      "           8       0.72      0.49      0.58      8917\n",
      "           9       0.87      0.76      0.81      5219\n",
      "          10       0.93      0.91      0.92      3617\n",
      "          11       0.71      0.22      0.33      3703\n",
      "          12       0.00      0.00      0.00       701\n",
      "          13       0.92      0.31      0.46      1847\n",
      "          14       0.46      0.01      0.01      2812\n",
      "          15       0.00      0.00      0.00      1141\n",
      "          16       0.99      0.97      0.98      6587\n",
      "\n",
      "   micro avg       0.86      0.63      0.73     69324\n",
      "   macro avg       0.62      0.44      0.50     69324\n",
      "weighted avg       0.79      0.63      0.68     69324\n",
      " samples avg       0.74      0.70      0.71     69324\n",
      "\n"
     ]
    },
    {
     "name": "stderr",
     "output_type": "stream",
     "text": [
      "C:\\Users\\Cromagnon-PC\\anaconda3\\envs\\tf2.4gpu\\lib\\site-packages\\sklearn\\metrics\\_classification.py:1248: UndefinedMetricWarning: Precision and F-score are ill-defined and being set to 0.0 in labels with no predicted samples. Use `zero_division` parameter to control this behavior.\n",
      "  _warn_prf(average, modifier, msg_start, len(result))\n",
      "C:\\Users\\Cromagnon-PC\\anaconda3\\envs\\tf2.4gpu\\lib\\site-packages\\sklearn\\metrics\\_classification.py:1248: UndefinedMetricWarning: Precision and F-score are ill-defined and being set to 0.0 in samples with no predicted labels. Use `zero_division` parameter to control this behavior.\n",
      "  _warn_prf(average, modifier, msg_start, len(result))\n",
      "C:\\Users\\Cromagnon-PC\\anaconda3\\envs\\tf2.4gpu\\lib\\site-packages\\sklearn\\metrics\\_classification.py:1248: UndefinedMetricWarning: Recall and F-score are ill-defined and being set to 0.0 in samples with no true labels. Use `zero_division` parameter to control this behavior.\n",
      "  _warn_prf(average, modifier, msg_start, len(result))\n"
     ]
    }
   ],
   "source": [
    "print(classification_report(y_test, predictions_2))"
   ]
  },
  {
   "cell_type": "code",
   "execution_count": 498,
   "metadata": {},
   "outputs": [],
   "source": [
    "Bi_Lstm_nopre_df =pd.DataFrame(predictions_2, columns = ['ไลฟ์สไตล์', 'เศรษฐกิจ', 'ต่างประเทศ', 'ความมั่นคง', 'สิ่งแวดล้อม', 'ผู้หญิง', 'การเมือง', 'แรงงาน', 'สังคม', 'อาชญากรรม', 'บันเทิง', 'สิทธิมนุษยชน', 'การศึกษา', 'วิทยาศาสตร์เทคโนโลยี', 'คุณภาพชีวิต', 'วัฒนธรรม', 'กีฬา'])"
   ]
  },
  {
   "cell_type": "code",
   "execution_count": 502,
   "metadata": {
    "scrolled": true
   },
   "outputs": [],
   "source": [
    "Bi_Lstm_nopre_df.to_csv(\"Bi-lstm_nopre.csv\")"
   ]
  },
  {
   "cell_type": "code",
   "execution_count": null,
   "metadata": {},
   "outputs": [],
   "source": []
  },
  {
   "cell_type": "markdown",
   "metadata": {},
   "source": [
    "Apporch 2"
   ]
  },
  {
   "cell_type": "code",
   "execution_count": 390,
   "metadata": {},
   "outputs": [
    {
     "name": "stdout",
     "output_type": "stream",
     "text": [
      "Model: \"model_26\"\n",
      "__________________________________________________________________________________________________\n",
      "Layer (type)                    Output Shape         Param #     Connected to                     \n",
      "==================================================================================================\n",
      "input_34 (InputLayer)           [(None, 300)]        0                                            \n",
      "__________________________________________________________________________________________________\n",
      "embedding_39 (Embedding)        (None, 300, 200)     30094200    input_34[0][0]                   \n",
      "__________________________________________________________________________________________________\n",
      "bidirectional_5 (Bidirectional) (None, 300, 64)      59648       embedding_39[0][0]               \n",
      "__________________________________________________________________________________________________\n",
      "global_max_pooling1d_10 (Global (None, 64)           0           bidirectional_5[0][0]            \n",
      "__________________________________________________________________________________________________\n",
      "dense_33 (Dense)                (None, 34)           2210        global_max_pooling1d_10[0][0]    \n",
      "__________________________________________________________________________________________________\n",
      "dropout_12 (Dropout)            (None, 34)           0           dense_33[0][0]                   \n",
      "__________________________________________________________________________________________________\n",
      "Output_1 (Dense)                (None, 1)            35          dropout_12[0][0]                 \n",
      "__________________________________________________________________________________________________\n",
      "Output_2 (Dense)                (None, 1)            35          dropout_12[0][0]                 \n",
      "__________________________________________________________________________________________________\n",
      "Output_3 (Dense)                (None, 1)            35          dropout_12[0][0]                 \n",
      "__________________________________________________________________________________________________\n",
      "Output_4 (Dense)                (None, 1)            35          dropout_12[0][0]                 \n",
      "__________________________________________________________________________________________________\n",
      "Output_5 (Dense)                (None, 1)            35          dropout_12[0][0]                 \n",
      "__________________________________________________________________________________________________\n",
      "Output_6 (Dense)                (None, 1)            35          dropout_12[0][0]                 \n",
      "__________________________________________________________________________________________________\n",
      "Output_7 (Dense)                (None, 1)            35          dropout_12[0][0]                 \n",
      "__________________________________________________________________________________________________\n",
      "Output_8 (Dense)                (None, 1)            35          dropout_12[0][0]                 \n",
      "__________________________________________________________________________________________________\n",
      "Output_9 (Dense)                (None, 1)            35          dropout_12[0][0]                 \n",
      "__________________________________________________________________________________________________\n",
      "Output_10 (Dense)               (None, 1)            35          dropout_12[0][0]                 \n",
      "__________________________________________________________________________________________________\n",
      "Output_11 (Dense)               (None, 1)            35          dropout_12[0][0]                 \n",
      "__________________________________________________________________________________________________\n",
      "Output_12 (Dense)               (None, 1)            35          dropout_12[0][0]                 \n",
      "__________________________________________________________________________________________________\n",
      "Output_13 (Dense)               (None, 1)            35          dropout_12[0][0]                 \n",
      "__________________________________________________________________________________________________\n",
      "Output_14 (Dense)               (None, 1)            35          dropout_12[0][0]                 \n",
      "__________________________________________________________________________________________________\n",
      "Output_15 (Dense)               (None, 1)            35          dropout_12[0][0]                 \n",
      "__________________________________________________________________________________________________\n",
      "Output_16 (Dense)               (None, 1)            35          dropout_12[0][0]                 \n",
      "__________________________________________________________________________________________________\n",
      "Output_17 (Dense)               (None, 1)            35          dropout_12[0][0]                 \n",
      "==================================================================================================\n",
      "Total params: 30,156,653\n",
      "Trainable params: 30,156,653\n",
      "Non-trainable params: 0\n",
      "__________________________________________________________________________________________________\n"
     ]
    }
   ],
   "source": [
    "input_1 = Input(shape=(maxlen,))\n",
    "embedding_layer = Embedding(vocab_size, embedding_dim)(input_1)\n",
    "bilstm_1 = Bidirectional(LSTM(units= 32, return_sequences=True))(embedding_layer)\n",
    "x = GlobalMaxPool1D()(bilstm_1)\n",
    "x = Dense(34, activation=\"relu\")(x)\n",
    "x = Dropout(0.5)(x)\n",
    "\n",
    "output1 = Dense(1, activation='sigmoid',name='Output_1')(x)\n",
    "output2 = Dense(1, activation='sigmoid',name='Output_2')(x)\n",
    "output3 = Dense(1, activation='sigmoid',name='Output_3')(x)\n",
    "output4 = Dense(1, activation='sigmoid',name='Output_4')(x)\n",
    "output5 = Dense(1, activation='sigmoid',name='Output_5')(x)\n",
    "output6 = Dense(1, activation='sigmoid',name='Output_6')(x)\n",
    "output7 = Dense(1, activation='sigmoid',name='Output_7')(x)\n",
    "output8 = Dense(1, activation='sigmoid',name='Output_8')(x)\n",
    "output9 = Dense(1, activation='sigmoid',name='Output_9')(x)\n",
    "output10 = Dense(1, activation='sigmoid',name='Output_10')(x)\n",
    "output11 = Dense(1, activation='sigmoid',name='Output_11')(x)\n",
    "output12 = Dense(1, activation='sigmoid',name='Output_12')(x)\n",
    "output13 = Dense(1, activation='sigmoid',name='Output_13')(x)\n",
    "output14 = Dense(1, activation='sigmoid',name='Output_14')(x)\n",
    "output15 = Dense(1, activation='sigmoid',name='Output_15')(x)\n",
    "output16 = Dense(1, activation='sigmoid',name='Output_16')(x)\n",
    "output17 = Dense(1, activation='sigmoid',name='Output_17')(x)\n",
    "\n",
    "model_4 = Model(inputs=input_1, outputs=[output1, output2, output3, output4, output5, output6,output7,output8,output9,output10,output11,output12,output13,output14,output15,output16,output17])\n",
    "model_4.summary()"
   ]
  },
  {
   "cell_type": "code",
   "execution_count": 391,
   "metadata": {},
   "outputs": [],
   "source": [
    "model_4.compile(optimizer='adam',\n",
    "              loss='binary_crossentropy',\n",
    "              metrics=['accuracy'])"
   ]
  },
  {
   "cell_type": "code",
   "execution_count": 392,
   "metadata": {},
   "outputs": [
    {
     "name": "stdout",
     "output_type": "stream",
     "text": [
      "Start Time : 1624157774.5816238\n",
      "Epoch 1/15\n",
      "414/414 [==============================] - 91s 199ms/step - loss: 6.0901 - Output_1_loss: 0.4016 - Output_2_loss: 0.4311 - Output_3_loss: 0.4487 - Output_4_loss: 0.2523 - Output_5_loss: 0.3516 - Output_6_loss: 0.2761 - Output_7_loss: 0.6037 - Output_8_loss: 0.1921 - Output_9_loss: 0.5129 - Output_10_loss: 0.4775 - Output_11_loss: 0.3683 - Output_12_loss: 0.3617 - Output_13_loss: 0.1895 - Output_14_loss: 0.2866 - Output_15_loss: 0.3128 - Output_16_loss: 0.2444 - Output_17_loss: 0.3790 - Output_1_accuracy: 0.7792 - Output_2_accuracy: 0.8524 - Output_3_accuracy: 0.8370 - Output_4_accuracy: 0.9304 - Output_5_accuracy: 0.8867 - Output_6_accuracy: 0.8875 - Output_7_accuracy: 0.6945 - Output_8_accuracy: 0.9749 - Output_9_accuracy: 0.8198 - Output_10_accuracy: 0.7190 - Output_11_accuracy: 0.8786 - Output_12_accuracy: 0.8925 - Output_13_accuracy: 0.9784 - Output_14_accuracy: 0.9182 - Output_15_accuracy: 0.9147 - Output_16_accuracy: 0.9662 - Output_17_accuracy: 0.8748 - val_loss: 2.4225 - val_Output_1_loss: 0.1017 - val_Output_2_loss: 0.2337 - val_Output_3_loss: 0.2055 - val_Output_4_loss: 0.0537 - val_Output_5_loss: 0.1924 - val_Output_6_loss: 0.0676 - val_Output_7_loss: 0.2550 - val_Output_8_loss: 0.0565 - val_Output_9_loss: 0.3684 - val_Output_10_loss: 0.1585 - val_Output_11_loss: 0.1140 - val_Output_12_loss: 0.1818 - val_Output_13_loss: 0.0523 - val_Output_14_loss: 0.1186 - val_Output_15_loss: 0.1510 - val_Output_16_loss: 0.0806 - val_Output_17_loss: 0.0312 - val_Output_1_accuracy: 0.9618 - val_Output_2_accuracy: 0.9045 - val_Output_3_accuracy: 0.8901 - val_Output_4_accuracy: 0.9891 - val_Output_5_accuracy: 0.9450 - val_Output_6_accuracy: 0.9803 - val_Output_7_accuracy: 0.9019 - val_Output_8_accuracy: 0.9869 - val_Output_9_accuracy: 0.8441 - val_Output_10_accuracy: 0.9304 - val_Output_11_accuracy: 0.9390 - val_Output_12_accuracy: 0.9352 - val_Output_13_accuracy: 0.9883 - val_Output_14_accuracy: 0.9673 - val_Output_15_accuracy: 0.9540 - val_Output_16_accuracy: 0.9801 - val_Output_17_accuracy: 0.9929\n",
      "Epoch 2/15\n",
      "414/414 [==============================] - 80s 194ms/step - loss: 2.6323 - Output_1_loss: 0.1115 - Output_2_loss: 0.2387 - Output_3_loss: 0.1980 - Output_4_loss: 0.0666 - Output_5_loss: 0.2063 - Output_6_loss: 0.0758 - Output_7_loss: 0.2959 - Output_8_loss: 0.0650 - Output_9_loss: 0.3700 - Output_10_loss: 0.1783 - Output_11_loss: 0.1225 - Output_12_loss: 0.1930 - Output_13_loss: 0.0613 - Output_14_loss: 0.1261 - Output_15_loss: 0.1680 - Output_16_loss: 0.0916 - Output_17_loss: 0.0635 - Output_1_accuracy: 0.9637 - Output_2_accuracy: 0.9057 - Output_3_accuracy: 0.9221 - Output_4_accuracy: 0.9887 - Output_5_accuracy: 0.9421 - Output_6_accuracy: 0.9803 - Output_7_accuracy: 0.8766 - Output_8_accuracy: 0.9868 - Output_9_accuracy: 0.8452 - Output_10_accuracy: 0.9350 - Output_11_accuracy: 0.9574 - Output_12_accuracy: 0.9326 - Output_13_accuracy: 0.9877 - Output_14_accuracy: 0.9682 - Output_15_accuracy: 0.9515 - Output_16_accuracy: 0.9795 - Output_17_accuracy: 0.9833 - val_loss: 1.9303 - val_Output_1_loss: 0.0812 - val_Output_2_loss: 0.1641 - val_Output_3_loss: 0.1169 - val_Output_4_loss: 0.0483 - val_Output_5_loss: 0.1584 - val_Output_6_loss: 0.0548 - val_Output_7_loss: 0.2187 - val_Output_8_loss: 0.0494 - val_Output_9_loss: 0.3296 - val_Output_10_loss: 0.1138 - val_Output_11_loss: 0.0656 - val_Output_12_loss: 0.1464 - val_Output_13_loss: 0.0474 - val_Output_14_loss: 0.1033 - val_Output_15_loss: 0.1346 - val_Output_16_loss: 0.0703 - val_Output_17_loss: 0.0275 - val_Output_1_accuracy: 0.9743 - val_Output_2_accuracy: 0.9342 - val_Output_3_accuracy: 0.9589 - val_Output_4_accuracy: 0.9891 - val_Output_5_accuracy: 0.9450 - val_Output_6_accuracy: 0.9803 - val_Output_7_accuracy: 0.9094 - val_Output_8_accuracy: 0.9869 - val_Output_9_accuracy: 0.8442 - val_Output_10_accuracy: 0.9619 - val_Output_11_accuracy: 0.9714 - val_Output_12_accuracy: 0.9352 - val_Output_13_accuracy: 0.9883 - val_Output_14_accuracy: 0.9673 - val_Output_15_accuracy: 0.9540 - val_Output_16_accuracy: 0.9801 - val_Output_17_accuracy: 0.992412_loss: 0.2002 - Output_13_loss: 0.0628 - Output_14_loss: 0.1258 - Output_15_loss: 0.1711 - Output_16_loss: 0.0956 - Output_17_loss: \n",
      "Epoch 3/15\n",
      "414/414 [==============================] - 80s 194ms/step - loss: 2.1922 - Output_1_loss: 0.0908 - Output_2_loss: 0.1893 - Output_3_loss: 0.1410 - Output_4_loss: 0.0572 - Output_5_loss: 0.1707 - Output_6_loss: 0.0628 - Output_7_loss: 0.2433 - Output_8_loss: 0.0589 - Output_9_loss: 0.3429 - Output_10_loss: 0.1411 - Output_11_loss: 0.0847 - Output_12_loss: 0.1630 - Output_13_loss: 0.0528 - Output_14_loss: 0.1159 - Output_15_loss: 0.1476 - Output_16_loss: 0.0792 - Output_17_loss: 0.0510 - Output_1_accuracy: 0.9667 - Output_2_accuracy: 0.9272 - Output_3_accuracy: 0.9526 - Output_4_accuracy: 0.9892 - Output_5_accuracy: 0.9435 - Output_6_accuracy: 0.9797 - Output_7_accuracy: 0.9029 - Output_8_accuracy: 0.9854 - Output_9_accuracy: 0.8484 - Output_10_accuracy: 0.9496 - Output_11_accuracy: 0.9683 - Output_12_accuracy: 0.9348 - Output_13_accuracy: 0.9884 - Output_14_accuracy: 0.9683 - Output_15_accuracy: 0.9518 - Output_16_accuracy: 0.9804 - Output_17_accuracy: 0.9871 - val_loss: 1.6877 - val_Output_1_loss: 0.0627 - val_Output_2_loss: 0.1349 - val_Output_3_loss: 0.1046 - val_Output_4_loss: 0.0469 - val_Output_5_loss: 0.1315 - val_Output_6_loss: 0.0446 - val_Output_7_loss: 0.1959 - val_Output_8_loss: 0.0413 - val_Output_9_loss: 0.3015 - val_Output_10_loss: 0.0991 - val_Output_11_loss: 0.0343 - val_Output_12_loss: 0.1370 - val_Output_13_loss: 0.0455 - val_Output_14_loss: 0.0940 - val_Output_15_loss: 0.1269 - val_Output_16_loss: 0.0661 - val_Output_17_loss: 0.0210 - val_Output_1_accuracy: 0.9794 - val_Output_2_accuracy: 0.9484 - val_Output_3_accuracy: 0.9654 - val_Output_4_accuracy: 0.9891 - val_Output_5_accuracy: 0.9454 - val_Output_6_accuracy: 0.9803 - val_Output_7_accuracy: 0.9227 - val_Output_8_accuracy: 0.9869 - val_Output_9_accuracy: 0.8498 - val_Output_10_accuracy: 0.9655 - val_Output_11_accuracy: 0.9879 - val_Output_12_accuracy: 0.9360 - val_Output_13_accuracy: 0.9883 - val_Output_14_accuracy: 0.9673 - val_Output_15_accuracy: 0.9540 - val_Output_16_accuracy: 0.9801 - val_Output_17_accuracy: 0.9949.2453 - Output_8_loss: 0.0603 - Output_9_loss: 0.3457 - Output_10_loss: 0.1433 - Output_11_loss: 0.0911 - Output_12_loss: 0.1632 - Output_13_loss: 0.0524 - Output_14_loss: 0.1173 - Output_15_loss: 0.1477 - Output_16_loss: 0.0799 - Output_17_loss: 0.0548 - Output_1_accuracy: 0.9654 - Output_2_accuracy: 0.9252 - Output_3_accuracy: 0.9513 - Output_4_accuracy: 0.9894 - Output_5_accuracy: 0.9435 - Output_6_accuracy: 0.9794 - Output_7_accuracy: 0.9015 - Output_8_accuracy: 0.9852 - Output_9_accuracy: 0.8474 - Output_10_accuracy: 0.9484 - Output_11_accuracy: 0.9655 - Output_12_accuracy: 0.9350 - Output - ETA: 13s - loss: 2.2091 - Output_1_loss: 0.0926 - Output_2_loss: 0.1912 - Output_3_loss: 0.1425 - Output_4_loss: 0.0570 - Output_5_loss: 0.1716 - Output_6_loss: 0.0639 - Output_7_loss: 0.2441 - Output_8_loss: 0.0596 - Output_9_loss: 0.3443 - Output_10_loss: 0.1422 - Output_11_loss: 0.0877 - Output_12_loss: 0.1631 - Output_13_loss: 0.0527 - Output_14_loss: 0.1167 - Output_15_loss: 0.1477 - Output_16_loss: 0.0795 - Output_17_loss: 0.0527 - Output_1_accuracy: 0.9661 - Output_2_accuracy: 0.9263 - Output_3_accuracy: 0.9520 - Output_4_accuracy: 0.9893 - Output_5_accuracy: 0.9435 - Output_6_accuracy: 0.9795 - Output_7_accuracy: 0.9023 - Output_8_accuracy: 0.9853 - Output_9_accuracy: 0.8479 - Output_10_accuracy: 0.9490 - Output_11_accuracy: 0.9669 - Output_12_accuracy: 0.9349 - Output_13_accuracy: 0.9884 - Output_14_accur\n",
      "Epoch 4/15\n",
      "414/414 [==============================] - 81s 195ms/step - loss: 1.9197 - Output_1_loss: 0.0699 - Output_2_loss: 0.1612 - Output_3_loss: 0.1182 - Output_4_loss: 0.0545 - Output_5_loss: 0.1494 - Output_6_loss: 0.0489 - Output_7_loss: 0.2221 - Output_8_loss: 0.0484 - Output_9_loss: 0.3160 - Output_10_loss: 0.1213 - Output_11_loss: 0.0561 - Output_12_loss: 0.1515 - Output_13_loss: 0.0509 - Output_14_loss: 0.1009 - Output_15_loss: 0.1389 - Output_16_loss: 0.0717 - Output_17_loss: 0.0396 - Output_1_accuracy: 0.9764 - Output_2_accuracy: 0.9391 - Output_3_accuracy: 0.9605 - Output_4_accuracy: 0.9886 - Output_5_accuracy: 0.9462 - Output_6_accuracy: 0.9819 - Output_7_accuracy: 0.9117 - Output_8_accuracy: 0.9863 - Output_9_accuracy: 0.8593 - Output_10_accuracy: 0.9584 - Output_11_accuracy: 0.9803 - Output_12_accuracy: 0.9355 - Output_13_accuracy: 0.9879 - Output_14_accuracy: 0.9708 - Output_15_accuracy: 0.9511 - Output_16_accuracy: 0.9806 - Output_17_accuracy: 0.9900 - val_loss: 1.6186 - val_Output_1_loss: 0.0609 - val_Output_2_loss: 0.1253 - val_Output_3_loss: 0.1019 - val_Output_4_loss: 0.0465 - val_Output_5_loss: 0.1203 - val_Output_6_loss: 0.0429 - val_Output_7_loss: 0.1930 - val_Output_8_loss: 0.0388 - val_Output_9_loss: 0.2826 - val_Output_10_loss: 0.0979 - val_Output_11_loss: 0.0302 - val_Output_12_loss: 0.1359 - val_Output_13_loss: 0.0460 - val_Output_14_loss: 0.0858 - val_Output_15_loss: 0.1243 - val_Output_16_loss: 0.0653 - val_Output_17_loss: 0.0210 - val_Output_1_accuracy: 0.9807 - val_Output_2_accuracy: 0.9516 - val_Output_3_accuracy: 0.9671 - val_Output_4_accuracy: 0.9891 - val_Output_5_accuracy: 0.9510 - val_Output_6_accuracy: 0.9835 - val_Output_7_accuracy: 0.9223 - val_Output_8_accuracy: 0.9870 - val_Output_9_accuracy: 0.8813 - val_Output_10_accuracy: 0.9661 - val_Output_11_accuracy: 0.9899 - val_Output_12_accuracy: 0.9362 - val_Output_13_accuracy: 0.9883 - val_Output_14_accuracy: 0.9724 - val_Output_15_accuracy: 0.9540 - val_Output_16_accuracy: 0.9801 - val_Output_17_accuracy: 0.9949\n",
      "Epoch 5/15\n",
      "414/414 [==============================] - 80s 194ms/step - loss: 1.7590 - Output_1_loss: 0.0588 - Output_2_loss: 0.1448 - Output_3_loss: 0.1132 - Output_4_loss: 0.0502 - Output_5_loss: 0.1322 - Output_6_loss: 0.0420 - Output_7_loss: 0.2055 - Output_8_loss: 0.0443 - Output_9_loss: 0.2946 - Output_10_loss: 0.1070 - Output_11_loss: 0.0443 - Output_12_loss: 0.1453 - Output_13_loss: 0.0496 - Output_14_loss: 0.0936 - Output_15_loss: 0.1340 - Output_16_loss: 0.0674 - Output_17_loss: 0.0322 - Output_1_accuracy: 0.9808 - Output_2_accuracy: 0.9474 - Output_3_accuracy: 0.9623 - Output_4_accuracy: 0.9888 - Output_5_accuracy: 0.9514 - Output_6_accuracy: 0.9828 - Output_7_accuracy: 0.9194 - Output_8_accuracy: 0.9875 - Output_9_accuracy: 0.8737 - Output_10_accuracy: 0.9640 - Output_11_accuracy: 0.9851 - Output_12_accuracy: 0.9353 - Output_13_accuracy: 0.9873 - Output_14_accuracy: 0.9726 - Output_15_accuracy: 0.9508 - Output_16_accuracy: 0.9803 - Output_17_accuracy: 0.9914 - val_loss: 1.5801 - val_Output_1_loss: 0.0561 - val_Output_2_loss: 0.1246 - val_Output_3_loss: 0.1024 - val_Output_4_loss: 0.0455 - val_Output_5_loss: 0.1143 - val_Output_6_loss: 0.0411 - val_Output_7_loss: 0.1945 - val_Output_8_loss: 0.0376 - val_Output_9_loss: 0.2722 - val_Output_10_loss: 0.0930 - val_Output_11_loss: 0.0277 - val_Output_12_loss: 0.1339 - val_Output_13_loss: 0.0447 - val_Output_14_loss: 0.0815 - val_Output_15_loss: 0.1232 - val_Output_16_loss: 0.0631 - val_Output_17_loss: 0.0246 - val_Output_1_accuracy: 0.9818 - val_Output_2_accuracy: 0.9517 - val_Output_3_accuracy: 0.9684 - val_Output_4_accuracy: 0.9891 - val_Output_5_accuracy: 0.9563 - val_Output_6_accuracy: 0.9848 - val_Output_7_accuracy: 0.9228 - val_Output_8_accuracy: 0.9871 - val_Output_9_accuracy: 0.8899 - val_Output_10_accuracy: 0.9659 - val_Output_11_accuracy: 0.9909 - val_Output_12_accuracy: 0.9365 - val_Output_13_accuracy: 0.9883 - val_Output_14_accuracy: 0.9735 - val_Output_15_accuracy: 0.9540 - val_Output_16_accuracy: 0.9801 - val_Output_17_accuracy: 0.9942.1320 - Output_6_loss: 0.0418 - Output_7_loss: 0.2069 - Output_8_loss: 0.0438 - Output_9_loss: 0.2966 - Output_10_loss: 0.1075 - Output_11_loss: 0.0456 - Output_12_loss: 0.1476 - Output_13_loss: 0.0506 - Output_14_loss: 0.0947 - Output_15_loss: 0.1371 - Output_16_loss: 0.0689 - Output_17_loss: 0.0331 - Output_1_accuracy: 0.9808 - Output_2_accuracy: 0.9474 - Output_3_accuracy: 0.9610 - Output_4_accuracy: 0.9887 - Output_5_accuracy: 0.9510 - Output_6_accuracy: 0.9827 - Output_7_accuracy: 0.9200 - Output_8_accuracy: 0.9881 - Output_9_accuracy: 0.8715 - Output_10_accuracy: 0.9638 - Output_11_accuracy: 0.9843 - Output_12_a - ETA: 34s - loss: 1.7688 - Output_1_loss: 0.0590 - Output_2_loss: 0.1448 - Output_3_loss: 0.1150 - Output_4_loss: 0.0502 - Output_5_loss: 0.1323 - Output_6_loss: 0.0418 - Output_7_loss: 0.2064 - Output_8_loss: 0.0437 - Output_9_loss: 0.2959 - Output_10_loss: 0.1070 - Output_11_loss: 0.0451 - Output_12_loss: 0.1466 - Output_13_loss: 0.0505 - Output_14_loss: 0.0943 - Output_15_loss: 0.1355 - Output_16_loss: 0.0681 - Output_17_loss: 0.0326 - Output_1_accuracy: 0.9808 - Output_2_accuracy: 0.9472 - Output_3_accuracy: 0.9617 - Output_4_accuracy: 0.9888 - Output_5_accuracy: 0.9510 - Output_6_accuracy: 0.9828 -\n",
      "Epoch 6/15\n",
      "414/414 [==============================] - 80s 194ms/step - loss: 1.6514 - Output_1_loss: 0.0522 - Output_2_loss: 0.1370 - Output_3_loss: 0.1014 - Output_4_loss: 0.0477 - Output_5_loss: 0.1244 - Output_6_loss: 0.0396 - Output_7_loss: 0.1933 - Output_8_loss: 0.0445 - Output_9_loss: 0.2803 - Output_10_loss: 0.0989 - Output_11_loss: 0.0394 - Output_12_loss: 0.1387 - Output_13_loss: 0.0462 - Output_14_loss: 0.0869 - Output_15_loss: 0.1264 - Output_16_loss: 0.0651 - Output_17_loss: 0.0295 - Output_1_accuracy: 0.9834 - Output_2_accuracy: 0.9500 - Output_3_accuracy: 0.9657 - Output_4_accuracy: 0.9888 - Output_5_accuracy: 0.9534 - Output_6_accuracy: 0.9839 - Output_7_accuracy: 0.9229 - Output_8_accuracy: 0.9871 - Output_9_accuracy: 0.8800 - Output_10_accuracy: 0.9665 - Output_11_accuracy: 0.9871 - Output_12_accuracy: 0.9356 - Output_13_accuracy: 0.9882 - Output_14_accuracy: 0.9733 - Output_15_accuracy: 0.9516 - Output_16_accuracy: 0.9799 - Output_17_accuracy: 0.9918 - val_loss: 1.6006 - val_Output_1_loss: 0.0609 - val_Output_2_loss: 0.1265 - val_Output_3_loss: 0.1047 - val_Output_4_loss: 0.0456 - val_Output_5_loss: 0.1165 - val_Output_6_loss: 0.0442 - val_Output_7_loss: 0.1944 - val_Output_8_loss: 0.0377 - val_Output_9_loss: 0.2712 - val_Output_10_loss: 0.0934 - val_Output_11_loss: 0.0337 - val_Output_12_loss: 0.1312 - val_Output_13_loss: 0.0456 - val_Output_14_loss: 0.0809 - val_Output_15_loss: 0.1246 - val_Output_16_loss: 0.0633 - val_Output_17_loss: 0.0263 - val_Output_1_accuracy: 0.9812 - val_Output_2_accuracy: 0.9526 - val_Output_3_accuracy: 0.9685 - val_Output_4_accuracy: 0.9891 - val_Output_5_accuracy: 0.9572 - val_Output_6_accuracy: 0.9838 - val_Output_7_accuracy: 0.9220 - val_Output_8_accuracy: 0.9872 - val_Output_9_accuracy: 0.8901 - val_Output_10_accuracy: 0.9665 - val_Output_11_accuracy: 0.9891 - val_Output_12_accuracy: 0.9395 - val_Output_13_accuracy: 0.9883 - val_Output_14_accuracy: 0.9749 - val_Output_15_accuracy: 0.9540 - val_Output_16_accuracy: 0.9801 - val_Output_17_accuracy: 0.99440.1273 - Output_6_loss: 0.0395 - Output_7_loss: 0.1932 - Output_8_loss: 0.0490 - Output_9_loss: 0.2759 - Output_10_loss: 0.0987 - Output_11_loss: 0.0430 - Output_12_loss: 0.1432 - Output_13_loss: 0.0419 - Output_14_l - ETA: 8s - loss: 1.6517 - Output_1_loss: 0.0521 - Output_2_loss: 0.1367 - Output_3_loss: 0.1012 - Output_4_loss: 0.0476 - Output_5_loss: 0.1247 - Output_6_loss: 0.0396 - Output_7_loss: 0.1933 - Output_8_loss: 0.0447 - Output_9_loss: 0.2805 - Output_10_loss: 0.0989 - Output_11_loss: 0.0395 - Output_12_loss: 0.1389 - Output_13_loss: 0.0461 - Output_14_loss: 0.0871 - Output_15_loss: 0.1262 - Output_16_loss: 0.0651 - Output_17_loss: 0.0295 - Output_1_accuracy: 0.9835 - Output_2_accuracy: 0.9503 - Output_3_accuracy: 0.9657 - Output_4_accuracy: 0.9888 - Output_5_accuracy: 0.9532 - Output_6_accuracy: 0.9839 - Output_7_accuracy: 0.9229 - Output_8_accuracy: 0.9871 - Output_9_accuracy: 0.8797 - Output_10_accuracy: 0.9665 - Output_11_accuracy: 0.9870 - Output_12_accuracy: 0.9355 - Output_13_accuracy: 0.9882 - Output_14_accuracy: 0.9733 - Output_15_accuracy: 0.9516 - Output_1\n",
      "Epoch 7/15\n",
      "414/414 [==============================] - 80s 194ms/step - loss: 1.5792 - Output_1_loss: 0.0456 - Output_2_loss: 0.1314 - Output_3_loss: 0.1023 - Output_4_loss: 0.0455 - Output_5_loss: 0.1148 - Output_6_loss: 0.0357 - Output_7_loss: 0.1823 - Output_8_loss: 0.0402 - Output_9_loss: 0.2702 - Output_10_loss: 0.1048 - Output_11_loss: 0.0330 - Output_12_loss: 0.1327 - Output_13_loss: 0.0451 - Output_14_loss: 0.0800 - Output_15_loss: 0.1241 - Output_16_loss: 0.0627 - Output_17_loss: 0.0288 - Output_1_accuracy: 0.9849 - Output_2_accuracy: 0.9519 - Output_3_accuracy: 0.9647 - Output_4_accuracy: 0.9893 - Output_5_accuracy: 0.9565 - Output_6_accuracy: 0.9854 - Output_7_accuracy: 0.9270 - Output_8_accuracy: 0.9874 - Output_9_accuracy: 0.8850 - Output_10_accuracy: 0.9628 - Output_11_accuracy: 0.9896 - Output_12_accuracy: 0.9377 - Output_13_accuracy: 0.9880 - Output_14_accuracy: 0.9743 - Output_15_accuracy: 0.9509 - Output_16_accuracy: 0.9809 - Output_17_accuracy: 0.9917 - val_loss: 1.5713 - val_Output_1_loss: 0.0570 - val_Output_2_loss: 0.1238 - val_Output_3_loss: 0.0957 - val_Output_4_loss: 0.0454 - val_Output_5_loss: 0.1061 - val_Output_6_loss: 0.0408 - val_Output_7_loss: 0.1994 - val_Output_8_loss: 0.0369 - val_Output_9_loss: 0.2631 - val_Output_10_loss: 0.0955 - val_Output_11_loss: 0.0343 - val_Output_12_loss: 0.1332 - val_Output_13_loss: 0.0453 - val_Output_14_loss: 0.0781 - val_Output_15_loss: 0.1216 - val_Output_16_loss: 0.0638 - val_Output_17_loss: 0.0316 - val_Output_1_accuracy: 0.9823 - val_Output_2_accuracy: 0.9532 - val_Output_3_accuracy: 0.9699 - val_Output_4_accuracy: 0.9891 - val_Output_5_accuracy: 0.9610 - val_Output_6_accuracy: 0.9854 - val_Output_7_accuracy: 0.9221 - val_Output_8_accuracy: 0.9876 - val_Output_9_accuracy: 0.8929 - val_Output_10_accuracy: 0.9672 - val_Output_11_accuracy: 0.9893 - val_Output_12_accuracy: 0.9375 - val_Output_13_accuracy: 0.9883 - val_Output_14_accuracy: 0.9752 - val_Output_15_accuracy: 0.9540 - val_Output_16_accuracy: 0.9801 - val_Output_17_accuracy: 0.9934\n",
      "Epoch 8/15\n",
      "414/414 [==============================] - 81s 196ms/step - loss: 1.4815 - Output_1_loss: 0.0429 - Output_2_loss: 0.1245 - Output_3_loss: 0.0917 - Output_4_loss: 0.0454 - Output_5_loss: 0.1054 - Output_6_loss: 0.0335 - Output_7_loss: 0.1743 - Output_8_loss: 0.0384 - Output_9_loss: 0.2554 - Output_10_loss: 0.0861 - Output_11_loss: 0.0312 - Output_12_loss: 0.1292 - Output_13_loss: 0.0428 - Output_14_loss: 0.0789 - Output_15_loss: 0.1168 - Output_16_loss: 0.0606 - Output_17_loss: 0.0245 - Output_1_accuracy: 0.9869 - Output_2_accuracy: 0.9536 - Output_3_accuracy: 0.9688 - Output_4_accuracy: 0.9885 - Output_5_accuracy: 0.9592 - Output_6_accuracy: 0.9857 - Output_7_accuracy: 0.9298 - Output_8_accuracy: 0.9880 - Output_9_accuracy: 0.8927 - Output_10_accuracy: 0.9702 - Output_11_accuracy: 0.9903 - Output_12_accuracy: 0.9366 - Output_13_accuracy: 0.9883 - Output_14_accuracy: 0.9750 - Output_15_accuracy: 0.9517 - Output_16_accuracy: 0.9809 - Output_17_accuracy: 0.9928 - val_loss: 1.5874 - val_Output_1_loss: 0.0606 - val_Output_2_loss: 0.1273 - val_Output_3_loss: 0.0941 - val_Output_4_loss: 0.0456 - val_Output_5_loss: 0.1090 - val_Output_6_loss: 0.0418 - val_Output_7_loss: 0.2027 - val_Output_8_loss: 0.0366 - val_Output_9_loss: 0.2739 - val_Output_10_loss: 0.0952 - val_Output_11_loss: 0.0309 - val_Output_12_loss: 0.1350 - val_Output_13_loss: 0.0455 - val_Output_14_loss: 0.0779 - val_Output_15_loss: 0.1237 - val_Output_16_loss: 0.0636 - val_Output_17_loss: 0.0239 - val_Output_1_accuracy: 0.9808 - val_Output_2_accuracy: 0.9532 - val_Output_3_accuracy: 0.9710 - val_Output_4_accuracy: 0.9891 - val_Output_5_accuracy: 0.9616 - val_Output_6_accuracy: 0.9851 - val_Output_7_accuracy: 0.9213 - val_Output_8_accuracy: 0.9878 - val_Output_9_accuracy: 0.8887 - val_Output_10_accuracy: 0.9664 - val_Output_11_accuracy: 0.9900 - val_Output_12_accuracy: 0.9378 - val_Output_13_accuracy: 0.9883 - val_Output_14_accuracy: 0.9755 - val_Output_15_accuracy: 0.9541 - val_Output_16_accuracy: 0.9801 - val_Output_17_accuracy: 0.9950_loss: 0.0302 - Output_12_loss: 0.1287 - Output_13_loss: 0.0417 - Output_14_loss: 0.0800 - Output_15_loss: 0.1126 - Output_16_loss: 0.0603 - Output_17_loss: 0.0251 - Output_1_accuracy: 0.9874 - Output_2_accuracy: 0.9538 - Output_3_accuracy: 0.9693 - Output_4_accuracy: 0.9885 - Output_5_accuracy: 0.9592 - Output_6_accuracy: 0.9857 - Output_7_accuracy: 0.9287 - Output_8_accuracy: 0.9885 - Output_9_accuracy: 0.8918 - Output_10_accuracy: 0.9710 - Output_11_accuracy: 0.9909 - Output_12_accuracy: 0.9361 - Output_13_accuracy - ETA: 38s - loss: 1.4715 - Output_1_loss: 0.0424 - Output_2_loss: 0.1239 - Output_3_loss: 0.0914 - Output_4_loss: 0.0449 - Output_5_loss: 0.1044 - Output_6_loss: 0.0330 - Output_7_loss: 0.1744 - Output_8_loss: 0.0376 - Output_9_loss: 0.2546 - Output_10_loss: 0.0844 - Output_11_loss: 0.0307 - Output_12_loss: 0.1291 - Output_13_loss: 0.0422 - Output_14_loss: 0.0793 - Output_15_loss: 0.1141 - Output_16_loss: 0.0603 - Output_17_loss: 0.0248 - Output_1_accuracy: 0.9873 - Output_2_accuracy: 0.9537 - Output_3_accuracy: 0.9691 - Output_4_accuracy: 0.9884 - Output_\n",
      "Epoch 9/15\n",
      "414/414 [==============================] - 82s 199ms/step - loss: 1.4437 - Output_1_loss: 0.0410 - Output_2_loss: 0.1197 - Output_3_loss: 0.0890 - Output_4_loss: 0.0451 - Output_5_loss: 0.1001 - Output_6_loss: 0.0320 - Output_7_loss: 0.1708 - Output_8_loss: 0.0371 - Output_9_loss: 0.2506 - Output_10_loss: 0.0817 - Output_11_loss: 0.0296 - Output_12_loss: 0.1260 - Output_13_loss: 0.0438 - Output_14_loss: 0.0766 - Output_15_loss: 0.1178 - Output_16_loss: 0.0597 - Output_17_loss: 0.0229 - Output_1_accuracy: 0.9862 - Output_2_accuracy: 0.9549 - Output_3_accuracy: 0.9701 - Output_4_accuracy: 0.9889 - Output_5_accuracy: 0.9621 - Output_6_accuracy: 0.9865 - Output_7_accuracy: 0.9324 - Output_8_accuracy: 0.9878 - Output_9_accuracy: 0.8958 - Output_10_accuracy: 0.9710 - Output_11_accuracy: 0.9908 - Output_12_accuracy: 0.9386 - Output_13_accuracy: 0.9877 - Output_14_accuracy: 0.9750 - Output_15_accuracy: 0.9503 - Output_16_accuracy: 0.9809 - Output_17_accuracy: 0.9931 - val_loss: 1.6049 - val_Output_1_loss: 0.0634 - val_Output_2_loss: 0.1220 - val_Output_3_loss: 0.1064 - val_Output_4_loss: 0.0455 - val_Output_5_loss: 0.1081 - val_Output_6_loss: 0.0444 - val_Output_7_loss: 0.2024 - val_Output_8_loss: 0.0355 - val_Output_9_loss: 0.2739 - val_Output_10_loss: 0.0995 - val_Output_11_loss: 0.0304 - val_Output_12_loss: 0.1366 - val_Output_13_loss: 0.0466 - val_Output_14_loss: 0.0756 - val_Output_15_loss: 0.1233 - val_Output_16_loss: 0.0643 - val_Output_17_loss: 0.0269 - val_Output_1_accuracy: 0.9819 - val_Output_2_accuracy: 0.9537 - val_Output_3_accuracy: 0.9668 - val_Output_4_accuracy: 0.9891 - val_Output_5_accuracy: 0.9617 - val_Output_6_accuracy: 0.9849 - val_Output_7_accuracy: 0.9225 - val_Output_8_accuracy: 0.9887 - val_Output_9_accuracy: 0.8893 - val_Output_10_accuracy: 0.9672 - val_Output_11_accuracy: 0.9904 - val_Output_12_accuracy: 0.9405 - val_Output_13_accuracy: 0.9883 - val_Output_14_accuracy: 0.9761 - val_Output_15_accuracy: 0.9538 - val_Output_16_accuracy: 0.9801 - val_Output_17_accuracy: 0.9948cy: 0.8954 - Output_10_accuracy: 0.9709 - Output_11_accuracy: 0.9908 - Output_12_accuracy: 0.9386 - Output_13_accuracy: 0.987\n",
      "Epoch 10/15\n",
      "414/414 [==============================] - 82s 199ms/step - loss: 1.3395 - Output_1_loss: 0.0370 - Output_2_loss: 0.1137 - Output_3_loss: 0.0790 - Output_4_loss: 0.0427 - Output_5_loss: 0.0970 - Output_6_loss: 0.0313 - Output_7_loss: 0.1566 - Output_8_loss: 0.0337 - Output_9_loss: 0.2317 - Output_10_loss: 0.0742 - Output_11_loss: 0.0247 - Output_12_loss: 0.1187 - Output_13_loss: 0.0409 - Output_14_loss: 0.0699 - Output_15_loss: 0.1090 - Output_16_loss: 0.0585 - Output_17_loss: 0.0209 - Output_1_accuracy: 0.9882 - Output_2_accuracy: 0.9579 - Output_3_accuracy: 0.9730 - Output_4_accuracy: 0.9890 - Output_5_accuracy: 0.9630 - Output_6_accuracy: 0.9860 - Output_7_accuracy: 0.9374 - Output_8_accuracy: 0.9884 - Output_9_accuracy: 0.9050 - Output_10_accuracy: 0.9747 - Output_11_accuracy: 0.9922 - Output_12_accuracy: 0.9408 - Output_13_accuracy: 0.9885 - Output_14_accuracy: 0.9771 - Output_15_accuracy: 0.9529 - Output_16_accuracy: 0.9804 - Output_17_accuracy: 0.9935 - val_loss: 1.6621 - val_Output_1_loss: 0.0737 - val_Output_2_loss: 0.1297 - val_Output_3_loss: 0.1010 - val_Output_4_loss: 0.0473 - val_Output_5_loss: 0.1127 - val_Output_6_loss: 0.0491 - val_Output_7_loss: 0.2146 - val_Output_8_loss: 0.0378 - val_Output_9_loss: 0.2723 - val_Output_10_loss: 0.1047 - val_Output_11_loss: 0.0348 - val_Output_12_loss: 0.1360 - val_Output_13_loss: 0.0469 - val_Output_14_loss: 0.0784 - val_Output_15_loss: 0.1271 - val_Output_16_loss: 0.0643 - val_Output_17_loss: 0.0315 - val_Output_1_accuracy: 0.9813 - val_Output_2_accuracy: 0.9537 - val_Output_3_accuracy: 0.9702 - val_Output_4_accuracy: 0.9891 - val_Output_5_accuracy: 0.9622 - val_Output_6_accuracy: 0.9857 - val_Output_7_accuracy: 0.9203 - val_Output_8_accuracy: 0.9885 - val_Output_9_accuracy: 0.8925 - val_Output_10_accuracy: 0.9653 - val_Output_11_accuracy: 0.9902 - val_Output_12_accuracy: 0.9453 - val_Output_13_accuracy: 0.9883 - val_Output_14_accuracy: 0.9772 - val_Output_15_accuracy: 0.9542 - val_Output_16_accuracy: 0.9801 - val_Output_17_accuracy: 0.9948\n",
      "Epoch 11/15\n",
      "414/414 [==============================] - 83s 199ms/step - loss: 1.2795 - Output_1_loss: 0.0329 - Output_2_loss: 0.1070 - Output_3_loss: 0.0770 - Output_4_loss: 0.0421 - Output_5_loss: 0.0876 - Output_6_loss: 0.0286 - Output_7_loss: 0.1480 - Output_8_loss: 0.0338 - Output_9_loss: 0.2198 - Output_10_loss: 0.0678 - Output_11_loss: 0.0209 - Output_12_loss: 0.1156 - Output_13_loss: 0.0409 - Output_14_loss: 0.0682 - Output_15_loss: 0.1108 - Output_16_loss: 0.0594 - Output_17_loss: 0.0191 - Output_1_accuracy: 0.9891 - Output_2_accuracy: 0.9598 - Output_3_accuracy: 0.9723 - Output_4_accuracy: 0.9892 - Output_5_accuracy: 0.9663 - Output_6_accuracy: 0.9870 - Output_7_accuracy: 0.9413 - Output_8_accuracy: 0.9884 - Output_9_accuracy: 0.9095 - Output_10_accuracy: 0.9771 - Output_11_accuracy: 0.9932 - Output_12_accuracy: 0.9429 - Output_13_accuracy: 0.9881 - Output_14_accuracy: 0.9765 - Output_15_accuracy: 0.9519 - Output_16_accuracy: 0.9799 - Output_17_accuracy: 0.9940 - val_loss: 1.6467 - val_Output_1_loss: 0.0685 - val_Output_2_loss: 0.1307 - val_Output_3_loss: 0.1107 - val_Output_4_loss: 0.0462 - val_Output_5_loss: 0.1100 - val_Output_6_loss: 0.0487 - val_Output_7_loss: 0.2137 - val_Output_8_loss: 0.0379 - val_Output_9_loss: 0.2692 - val_Output_10_loss: 0.1087 - val_Output_11_loss: 0.0301 - val_Output_12_loss: 0.1374 - val_Output_13_loss: 0.0472 - val_Output_14_loss: 0.0742 - val_Output_15_loss: 0.1257 - val_Output_16_loss: 0.0628 - val_Output_17_loss: 0.0251 - val_Output_1_accuracy: 0.9804 - val_Output_2_accuracy: 0.9534 - val_Output_3_accuracy: 0.9675 - val_Output_4_accuracy: 0.9891 - val_Output_5_accuracy: 0.9632 - val_Output_6_accuracy: 0.9845 - val_Output_7_accuracy: 0.9188 - val_Output_8_accuracy: 0.9886 - val_Output_9_accuracy: 0.8914 - val_Output_10_accuracy: 0.9656 - val_Output_11_accuracy: 0.9908 - val_Output_12_accuracy: 0.9451 - val_Output_13_accuracy: 0.9883 - val_Output_14_accuracy: 0.9777 - val_Output_15_accuracy: 0.9542 - val_Output_16_accuracy: 0.9801 - val_Output_17_accuracy: 0.9949utput_8_loss: 0.0351 - Output_9_loss: 0.2212 - Output_10_loss: 0.0658 - Output_11_loss: 0.0199 - Output_12_loss: 0.1134 - Output_13_loss: 0.0400 \n",
      "Epoch 12/15\n",
      "414/414 [==============================] - 82s 198ms/step - loss: 1.2165 - Output_1_loss: 0.0334 - Output_2_loss: 0.0999 - Output_3_loss: 0.0718 - Output_4_loss: 0.0422 - Output_5_loss: 0.0842 - Output_6_loss: 0.0291 - Output_7_loss: 0.1370 - Output_8_loss: 0.0324 - Output_9_loss: 0.2073 - Output_10_loss: 0.0627 - Output_11_loss: 0.0202 - Output_12_loss: 0.1119 - Output_13_loss: 0.0403 - Output_14_loss: 0.0638 - Output_15_loss: 0.1053 - Output_16_loss: 0.0563 - Output_17_loss: 0.0188 - Output_1_accuracy: 0.9887 - Output_2_accuracy: 0.9629 - Output_3_accuracy: 0.9740 - Output_4_accuracy: 0.9888 - Output_5_accuracy: 0.9679 - Output_6_accuracy: 0.9866 - Output_7_accuracy: 0.9439 - Output_8_accuracy: 0.9882 - Output_9_accuracy: 0.9151 - Output_10_accuracy: 0.9783 - Output_11_accuracy: 0.9938 - Output_12_accuracy: 0.9437 - Output_13_accuracy: 0.9880 - Output_14_accuracy: 0.9779 - Output_15_accuracy: 0.9522 - Output_16_accuracy: 0.9799 - Output_17_accuracy: 0.9941 - val_loss: 1.7194 - val_Output_1_loss: 0.0755 - val_Output_2_loss: 0.1294 - val_Output_3_loss: 0.1105 - val_Output_4_loss: 0.0472 - val_Output_5_loss: 0.1162 - val_Output_6_loss: 0.0500 - val_Output_7_loss: 0.2217 - val_Output_8_loss: 0.0390 - val_Output_9_loss: 0.2794 - val_Output_10_loss: 0.1119 - val_Output_11_loss: 0.0359 - val_Output_12_loss: 0.1451 - val_Output_13_loss: 0.0488 - val_Output_14_loss: 0.0815 - val_Output_15_loss: 0.1301 - val_Output_16_loss: 0.0656 - val_Output_17_loss: 0.0316 - val_Output_1_accuracy: 0.9810 - val_Output_2_accuracy: 0.9535 - val_Output_3_accuracy: 0.9685 - val_Output_4_accuracy: 0.9891 - val_Output_5_accuracy: 0.9623 - val_Output_6_accuracy: 0.9849 - val_Output_7_accuracy: 0.9203 - val_Output_8_accuracy: 0.9891 - val_Output_9_accuracy: 0.8923 - val_Output_10_accuracy: 0.9657 - val_Output_11_accuracy: 0.9905 - val_Output_12_accuracy: 0.9431 - val_Output_13_accuracy: 0.9883 - val_Output_14_accuracy: 0.9765 - val_Output_15_accuracy: 0.9543 - val_Output_16_accuracy: 0.9801 - val_Output_17_accuracy: 0.9949\n",
      "Epoch 13/15\n",
      "414/414 [==============================] - 80s 194ms/step - loss: 1.1623 - Output_1_loss: 0.0298 - Output_2_loss: 0.0977 - Output_3_loss: 0.0690 - Output_4_loss: 0.0420 - Output_5_loss: 0.0793 - Output_6_loss: 0.0265 - Output_7_loss: 0.1310 - Output_8_loss: 0.0305 - Output_9_loss: 0.1971 - Output_10_loss: 0.0596 - Output_11_loss: 0.0189 - Output_12_loss: 0.1086 - Output_13_loss: 0.0382 - Output_14_loss: 0.0605 - Output_15_loss: 0.1007 - Output_16_loss: 0.0554 - Output_17_loss: 0.0176 - Output_1_accuracy: 0.9900 - Output_2_accuracy: 0.9636 - Output_3_accuracy: 0.9749 - Output_4_accuracy: 0.9883 - Output_5_accuracy: 0.9686 - Output_6_accuracy: 0.9882 - Output_7_accuracy: 0.9473 - Output_8_accuracy: 0.9889 - Output_9_accuracy: 0.9203 - Output_10_accuracy: 0.9804 - Output_11_accuracy: 0.9941 - Output_12_accuracy: 0.9454 - Output_13_accuracy: 0.9883 - Output_14_accuracy: 0.9787 - Output_15_accuracy: 0.9536 - Output_16_accuracy: 0.9807 - Output_17_accuracy: 0.9946 - val_loss: 1.7565 - val_Output_1_loss: 0.0770 - val_Output_2_loss: 0.1397 - val_Output_3_loss: 0.1344 - val_Output_4_loss: 0.0473 - val_Output_5_loss: 0.1212 - val_Output_6_loss: 0.0524 - val_Output_7_loss: 0.2226 - val_Output_8_loss: 0.0397 - val_Output_9_loss: 0.2776 - val_Output_10_loss: 0.1121 - val_Output_11_loss: 0.0341 - val_Output_12_loss: 0.1444 - val_Output_13_loss: 0.0486 - val_Output_14_loss: 0.0789 - val_Output_15_loss: 0.1298 - val_Output_16_loss: 0.0647 - val_Output_17_loss: 0.0321 - val_Output_1_accuracy: 0.9807 - val_Output_2_accuracy: 0.9526 - val_Output_3_accuracy: 0.9660 - val_Output_4_accuracy: 0.9891 - val_Output_5_accuracy: 0.9631 - val_Output_6_accuracy: 0.9851 - val_Output_7_accuracy: 0.9183 - val_Output_8_accuracy: 0.9887 - val_Output_9_accuracy: 0.8901 - val_Output_10_accuracy: 0.9650 - val_Output_11_accuracy: 0.9904 - val_Output_12_accuracy: 0.9441 - val_Output_13_accuracy: 0.9883 - val_Output_14_accuracy: 0.9777 - val_Output_15_accuracy: 0.9534 - val_Output_16_accuracy: 0.9801 - val_Output_17_accuracy: 0.9946\n",
      "Epoch 14/15\n",
      "414/414 [==============================] - 81s 195ms/step - loss: 1.1192 - Output_1_loss: 0.0256 - Output_2_loss: 0.0925 - Output_3_loss: 0.0679 - Output_4_loss: 0.0403 - Output_5_loss: 0.0749 - Output_6_loss: 0.0251 - Output_7_loss: 0.1255 - Output_8_loss: 0.0304 - Output_9_loss: 0.1908 - Output_10_loss: 0.0563 - Output_11_loss: 0.0181 - Output_12_loss: 0.1076 - Output_13_loss: 0.0364 - Output_14_loss: 0.0597 - Output_15_loss: 0.0978 - Output_16_loss: 0.0538 - Output_17_loss: 0.0166 - Output_1_accuracy: 0.9919 - Output_2_accuracy: 0.9647 - Output_3_accuracy: 0.9746 - Output_4_accuracy: 0.9888 - Output_5_accuracy: 0.9708 - Output_6_accuracy: 0.9889 - Output_7_accuracy: 0.9479 - Output_8_accuracy: 0.9887 - Output_9_accuracy: 0.9227 - Output_10_accuracy: 0.9811 - Output_11_accuracy: 0.9941 - Output_12_accuracy: 0.9454 - Output_13_accuracy: 0.9891 - Output_14_accuracy: 0.9789 - Output_15_accuracy: 0.9542 - Output_16_accuracy: 0.9804 - Output_17_accuracy: 0.9944 - val_loss: 1.9337 - val_Output_1_loss: 0.0935 - val_Output_2_loss: 0.1471 - val_Output_3_loss: 0.1629 - val_Output_4_loss: 0.0493 - val_Output_5_loss: 0.1360 - val_Output_6_loss: 0.0647 - val_Output_7_loss: 0.2384 - val_Output_8_loss: 0.0435 - val_Output_9_loss: 0.2995 - val_Output_10_loss: 0.1177 - val_Output_11_loss: 0.0414 - val_Output_12_loss: 0.1583 - val_Output_13_loss: 0.0523 - val_Output_14_loss: 0.0859 - val_Output_15_loss: 0.1424 - val_Output_16_loss: 0.0682 - val_Output_17_loss: 0.0326 - val_Output_1_accuracy: 0.9806 - val_Output_2_accuracy: 0.9517 - val_Output_3_accuracy: 0.9630 - val_Output_4_accuracy: 0.9891 - val_Output_5_accuracy: 0.9620 - val_Output_6_accuracy: 0.9848 - val_Output_7_accuracy: 0.9189 - val_Output_8_accuracy: 0.9891 - val_Output_9_accuracy: 0.8884 - val_Output_10_accuracy: 0.9651 - val_Output_11_accuracy: 0.9901 - val_Output_12_accuracy: 0.9450 - val_Output_13_accuracy: 0.9883 - val_Output_14_accuracy: 0.9769 - val_Output_15_accuracy: 0.9540 - val_Output_16_accuracy: 0.9801 - val_Output_17_accuracy: 0.9915\n",
      "Epoch 15/15\n",
      "414/414 [==============================] - 83s 200ms/step - loss: 1.0851 - Output_1_loss: 0.0246 - Output_2_loss: 0.0896 - Output_3_loss: 0.0646 - Output_4_loss: 0.0396 - Output_5_loss: 0.0696 - Output_6_loss: 0.0246 - Output_7_loss: 0.1211 - Output_8_loss: 0.0291 - Output_9_loss: 0.1823 - Output_10_loss: 0.0517 - Output_11_loss: 0.0181 - Output_12_loss: 0.1044 - Output_13_loss: 0.0379 - Output_14_loss: 0.0606 - Output_15_loss: 0.0972 - Output_16_loss: 0.0529 - Output_17_loss: 0.0171 - Output_1_accuracy: 0.9918 - Output_2_accuracy: 0.9663 - Output_3_accuracy: 0.9763 - Output_4_accuracy: 0.9888 - Output_5_accuracy: 0.9728 - Output_6_accuracy: 0.9890 - Output_7_accuracy: 0.9512 - Output_8_accuracy: 0.9886 - Output_9_accuracy: 0.9264 - Output_10_accuracy: 0.9819 - Output_11_accuracy: 0.9942 - Output_12_accuracy: 0.9471 - Output_13_accuracy: 0.9886 - Output_14_accuracy: 0.9793 - Output_15_accuracy: 0.9545 - Output_16_accuracy: 0.9801 - Output_17_accuracy: 0.9945 - val_loss: 1.8765 - val_Output_1_loss: 0.0841 - val_Output_2_loss: 0.1456 - val_Output_3_loss: 0.1226 - val_Output_4_loss: 0.0486 - val_Output_5_loss: 0.1320 - val_Output_6_loss: 0.0559 - val_Output_7_loss: 0.2425 - val_Output_8_loss: 0.0409 - val_Output_9_loss: 0.3062 - val_Output_10_loss: 0.1378 - val_Output_11_loss: 0.0403 - val_Output_12_loss: 0.1539 - val_Output_13_loss: 0.0514 - val_Output_14_loss: 0.0789 - val_Output_15_loss: 0.1389 - val_Output_16_loss: 0.0661 - val_Output_17_loss: 0.0309 - val_Output_1_accuracy: 0.9812 - val_Output_2_accuracy: 0.9536 - val_Output_3_accuracy: 0.9688 - val_Output_4_accuracy: 0.9891 - val_Output_5_accuracy: 0.9631 - val_Output_6_accuracy: 0.9856 - val_Output_7_accuracy: 0.9190 - val_Output_8_accuracy: 0.9891 - val_Output_9_accuracy: 0.8908 - val_Output_10_accuracy: 0.9647 - val_Output_11_accuracy: 0.9899 - val_Output_12_accuracy: 0.9451 - val_Output_13_accuracy: 0.9883 - val_Output_14_accuracy: 0.9786 - val_Output_15_accuracy: 0.9543 - val_Output_16_accuracy: 0.9801 - val_Output_17_accuracy: 0.9950s: 0.0242 - Output_7_loss: 0.1220 - Output_8_loss: 0.0299 - Output_9_loss: 0.1802 - Output_10_loss: 0.0505 - Output_11_loss: 0.0193 - Output_12_loss: 0.1044 - Output_13_loss: 0.0382 - Output_14_loss: 0.0666 - Output_15_loss: 0.1003 - Output_16_loss: 0.0549 - Output_17_loss: 0.0175 - Output_1_accuracy: 0.9922 - Output_2_accuracy: 0.9671 - Output_3_accuracy: 0.9755 - Output_4_accuracy: 0.9890 - Output_5_accuracy: 0.9724 - Output_6_accuracy: 0.9893 - Output_7_accuracy: 0.9520 - Output_8_accuracy: 0.9878 - Output_9_accuracy: 0.9279 - Output_10_accuracy: 0.9824 - Output_11_accuracy: 0.9939 - Output_12_ - ETA: 45s - loss: 1.0885 - Output_1_loss: 0.0236 - Output_2_loss: 0.0907 - Output_3_loss: 0.0646 - Output_4_loss: 0.0394 - Output_5_loss: 0.0699 - Output_6_loss: 0.0241 - Output_7_loss: 0.1210 - Output_8_loss: 0.0298 - Output_9_loss: 0.1808 - Output_10_loss: 0.0506 - Output_11_loss: 0.0182 - Output_12_loss: 0.1043 - Output_13_loss: 0.0381 - Output_14_loss: 0.0636 - Output_15_loss: 0.0989 - Output_16_loss: 0.0540 - Output_17_loss: 0.0170 - Output_1_accuracy: 0.9923 - Output_2_accuracy: 0.9667 - Output_3_accuracy: 0.9763 - Output_4_accuracy: 0.9889 - Output_5_accuracy: 0.9728 - Output_6_accuracy: 0.9894 - Output_7_accuracy: 0.9516 - Output_8_accuracy: 0.9880 - Output_9_accuracy: 0.9272 - Out - ETA: 24s - loss: 1.0843 - Output_1_loss: 0.0240 - Output_2_loss: 0.0899 - Output_3_loss: 0.0643 - Output_4_loss: 0.0396 - Output_5_loss: 0.0693 - Output_6_loss: 0.0244 - Output_7_loss: 0.1210 - Output_8_loss: 0.0293 - Output_9_loss: 0.1818 - Output_10_loss: 0.0511 - Output_11_loss: 0.0180 - Output_12_loss: 0.1041 - Output_13_loss: 0.0378 - Output_14_loss: 0.0617 - Output_15_loss: 0.0976 - Output_16_loss: 0.0534 - Output_17_loss: 0.0169 - Output_1_accuracy: 0.9920 - Output_2_accuracy: 0.9665 - Output_3_accuracy: 0.9764 - Output_4_accuracy: 0.9889 - Output_5_accuracy: 0.9729 - Output_6_accuracy: 0.9892 - Output_7_accuracy: 0.9514 - Output_8_accuracy: 0.9884 - Output_9_accuracy: 0.9266 - Output_10_accur\n",
      "Consume time :  8295.436129808426\n"
     ]
    }
   ],
   "source": [
    "print('Start Time :', start_time )\n",
    "history_4 = model_4.fit(x=X_train, y=[y1_train, y2_train, y3_train, y4_train, y5_train, y6_train, y7_train, y8_train, y9_train, y10_train, y11_train, y12_train, y13_train, y14_train, y15_train, y16_train, y17_train], batch_size=256, epochs=15, verbose=1, validation_split=0.2)\n",
    "print('Consume time : ',(time.time() - start_time))"
   ]
  },
  {
   "cell_type": "code",
   "execution_count": 393,
   "metadata": {},
   "outputs": [
    {
     "name": "stdout",
     "output_type": "stream",
     "text": [
      "1771/1771 [==============================] - 39s 22ms/step - loss: 1.9185 - Output_1_loss: 0.0799 - Output_2_loss: 0.1600 - Output_3_loss: 0.1233 - Output_4_loss: 0.0508 - Output_5_loss: 0.1222 - Output_6_loss: 0.0596 - Output_7_loss: 0.2388 - Output_8_loss: 0.0478 - Output_9_loss: 0.3132 - Output_10_loss: 0.1387 - Output_11_loss: 0.0421 - Output_12_loss: 0.1574 - Output_13_loss: 0.0537 - Output_14_loss: 0.0783 - Output_15_loss: 0.1515 - Output_16_loss: 0.0679 - Output_17_loss: 0.0334 - Output_1_accuracy: 0.9814 - Output_2_accuracy: 0.9506 - Output_3_accuracy: 0.9676 - Output_4_accuracy: 0.9885 - Output_5_accuracy: 0.9642 - Output_6_accuracy: 0.9847 - Output_7_accuracy: 0.9187 - Output_8_accuracy: 0.9880 - Output_9_accuracy: 0.8888 - Output_10_accuracy: 0.9641 - Output_11_accuracy: 0.9898 - Output_12_accuracy: 0.9456 - Output_13_accuracy: 0.9876 - Output_14_accuracy: 0.9782 - Output_15_accuracy: 0.9515 - Output_16_accuracy: 0.9799 - Output_17_accuracy: 0.9943\n"
     ]
    }
   ],
   "source": [
    "score_4 = model_4.evaluate(x=X_test, y=[y1_test, y2_test, y3_test, y4_test, y5_test, y6_test, y7_test, y8_test, y9_test, y10_test, y11_test, y12_test, y13_test, y14_test, y15_test, y16_test, y17_test], verbose=1)"
   ]
  },
  {
   "cell_type": "code",
   "execution_count": 394,
   "metadata": {},
   "outputs": [],
   "source": [
    "pred_4 = model_4.predict(X_test)"
   ]
  },
  {
   "cell_type": "code",
   "execution_count": 395,
   "metadata": {},
   "outputs": [],
   "source": [
    "dict_test_4 = {label[i] : [1 if k[0] >= 0.5 else 0 for k in pred_4[i] ] for i in range(len(label))}"
   ]
  },
  {
   "cell_type": "code",
   "execution_count": 396,
   "metadata": {},
   "outputs": [],
   "source": [
    "pred_4_df = pd.DataFrame(dict_test_4)"
   ]
  },
  {
   "cell_type": "code",
   "execution_count": 397,
   "metadata": {},
   "outputs": [],
   "source": [
    "predictions_4 = pred_4_df[['ไลฟ์สไตล์', 'เศรษฐกิจ', 'ต่างประเทศ', 'ความมั่นคง', 'สิ่งแวดล้อม', 'ผู้หญิง', 'การเมือง', 'แรงงาน', 'สังคม', 'อาชญากรรม', 'บันเทิง', 'สิทธิมนุษยชน', 'การศึกษา', 'วิทยาศาสตร์เทคโนโลยี', 'คุณภาพชีวิต', 'วัฒนธรรม', 'กีฬา']].values"
   ]
  },
  {
   "cell_type": "code",
   "execution_count": 398,
   "metadata": {},
   "outputs": [
    {
     "name": "stdout",
     "output_type": "stream",
     "text": [
      "              precision    recall  f1-score   support\n",
      "\n",
      "           0       0.84      0.67      0.75      2305\n",
      "           1       0.81      0.64      0.71      5437\n",
      "           2       0.91      0.80      0.85      6506\n",
      "           3       0.00      0.00      0.00       653\n",
      "           4       0.74      0.55      0.63      3168\n",
      "           5       0.72      0.51      0.60      1261\n",
      "           6       0.85      0.83      0.84     14636\n",
      "           7       0.83      0.21      0.33       814\n",
      "           8       0.73      0.46      0.57      8917\n",
      "           9       0.83      0.77      0.80      5219\n",
      "          10       0.94      0.89      0.92      3617\n",
      "          11       0.66      0.35      0.46      3703\n",
      "          12       0.00      0.00      0.00       701\n",
      "          13       0.86      0.39      0.54      1847\n",
      "          14       0.56      0.10      0.17      2812\n",
      "          15       0.00      0.00      0.00      1141\n",
      "          16       0.98      0.97      0.98      6587\n",
      "\n",
      "   micro avg       0.84      0.65      0.73     69324\n",
      "   macro avg       0.66      0.48      0.54     69324\n",
      "weighted avg       0.79      0.65      0.70     69324\n",
      " samples avg       0.75      0.72      0.73     69324\n",
      "\n"
     ]
    },
    {
     "name": "stderr",
     "output_type": "stream",
     "text": [
      "C:\\Users\\Cromagnon-PC\\anaconda3\\envs\\tf2.4gpu\\lib\\site-packages\\sklearn\\metrics\\_classification.py:1248: UndefinedMetricWarning: Precision and F-score are ill-defined and being set to 0.0 in labels with no predicted samples. Use `zero_division` parameter to control this behavior.\n",
      "  _warn_prf(average, modifier, msg_start, len(result))\n",
      "C:\\Users\\Cromagnon-PC\\anaconda3\\envs\\tf2.4gpu\\lib\\site-packages\\sklearn\\metrics\\_classification.py:1248: UndefinedMetricWarning: Precision and F-score are ill-defined and being set to 0.0 in samples with no predicted labels. Use `zero_division` parameter to control this behavior.\n",
      "  _warn_prf(average, modifier, msg_start, len(result))\n",
      "C:\\Users\\Cromagnon-PC\\anaconda3\\envs\\tf2.4gpu\\lib\\site-packages\\sklearn\\metrics\\_classification.py:1248: UndefinedMetricWarning: Recall and F-score are ill-defined and being set to 0.0 in samples with no true labels. Use `zero_division` parameter to control this behavior.\n",
      "  _warn_prf(average, modifier, msg_start, len(result))\n"
     ]
    }
   ],
   "source": [
    "print(classification_report(y_test, predictions_4))"
   ]
  },
  {
   "cell_type": "code",
   "execution_count": 399,
   "metadata": {
    "scrolled": true
   },
   "outputs": [
    {
     "data": {
      "image/png": "[encoded data removed]",
      "text/plain": [
       "<Figure size 432x288 with 1 Axes>"
      ]
     },
     "metadata": {
      "needs_background": "light"
     },
     "output_type": "display_data"
    },
    {
     "data": {
      "image/png": "[encoded data removed]",
      "text/plain": [
       "<Figure size 432x288 with 1 Axes>"
      ]
     },
     "metadata": {
      "needs_background": "light"
     },
     "output_type": "display_data"
    }
   ],
   "source": [
    "plt.plot(history_4.history['Output_3_accuracy'])\n",
    "plt.plot(history_4.history['val_Output_3_accuracy'])\n",
    "\n",
    "plt.title('model accuracy')\n",
    "plt.ylabel('accuracy')\n",
    "plt.xlabel('epoch')\n",
    "plt.legend(['train','test'], loc='upper left')\n",
    "plt.show()\n",
    "\n",
    "plt.plot(history_4.history['Output_3_loss'])\n",
    "plt.plot(history_4.history['val_Output_3_loss'])\n",
    "\n",
    "plt.title('model loss')\n",
    "plt.ylabel('loss')\n",
    "plt.xlabel('epoch')\n",
    "plt.legend(['train','test'], loc='upper left')\n",
    "plt.show()"
   ]
  },
  {
   "cell_type": "code",
   "execution_count": 438,
   "metadata": {},
   "outputs": [],
   "source": [
    "pred_4_df.to_csv(\"Bi-LSTM_Withoutpretrain_testing data.csv\")"
   ]
  },
  {
   "cell_type": "code",
   "execution_count": 439,
   "metadata": {},
   "outputs": [],
   "source": [
    "model_4.save('Bi-LSTM_Withoutpretrain_model.h5')\n",
    "model_4.save_weights(\"Bi-LSTM_Withoutpretrain_weight.h5\")"
   ]
  },
  {
   "cell_type": "markdown",
   "metadata": {},
   "source": [
    "# Glove pretrain"
   ]
  },
  {
   "cell_type": "code",
   "execution_count": 403,
   "metadata": {},
   "outputs": [
    {
     "name": "stderr",
     "output_type": "stream",
     "text": [
      "2196018it [02:13, 16439.79it/s]\n"
     ]
    }
   ],
   "source": [
    "from tqdm import tqdm\n",
    "embedding_vector = {}\n",
    "f = open('glove.840B.300d.txt', encoding=\"utf8\")\n",
    "for line in tqdm(f):\n",
    "    value = line.split(' ')\n",
    "    word = value[0]\n",
    "    coef = np.array(value[1:],dtype = 'float32')\n",
    "    embedding_vector[word] = coef"
   ]
  },
  {
   "cell_type": "code",
   "execution_count": 405,
   "metadata": {},
   "outputs": [
    {
     "name": "stderr",
     "output_type": "stream",
     "text": [
      "100%|██████████████████████████████████████████████████████████████████████| 150470/150470 [00:00<00:00, 828872.68it/s]\n"
     ]
    }
   ],
   "source": [
    "embedding_matrix = np.zeros((vocab_size,300))\n",
    "for word,i in tqdm(tokenizer.word_index.items()):\n",
    "    embedding_value = embedding_vector.get(word)\n",
    "    if embedding_value is not None:\n",
    "        embedding_matrix[i] = embedding_value"
   ]
  },
  {
   "cell_type": "markdown",
   "metadata": {},
   "source": [
    "### - LSTM"
   ]
  },
  {
   "cell_type": "markdown",
   "metadata": {},
   "source": [
    "Apporch 1"
   ]
  },
  {
   "cell_type": "code",
   "execution_count": 432,
   "metadata": {},
   "outputs": [
    {
     "name": "stdout",
     "output_type": "stream",
     "text": [
      "Model: \"model_30\"\n",
      "_________________________________________________________________\n",
      "Layer (type)                 Output Shape              Param #   \n",
      "=================================================================\n",
      "input_40 (InputLayer)        [(None, 300)]             0         \n",
      "_________________________________________________________________\n",
      "embedding_44 (Embedding)     (None, 300, 300)          45141300  \n",
      "_________________________________________________________________\n",
      "lstm_43 (LSTM)               (None, 16)                20288     \n",
      "_________________________________________________________________\n",
      "dropout_15 (Dropout)         (None, 16)                0         \n",
      "_________________________________________________________________\n",
      "dense_37 (Dense)             (None, 17)                289       \n",
      "=================================================================\n",
      "Total params: 45,161,877\n",
      "Trainable params: 20,577\n",
      "Non-trainable params: 45,141,300\n",
      "_________________________________________________________________\n"
     ]
    }
   ],
   "source": [
    "# The LSTM architecture\n",
    "input_1 = Input(shape=(maxlen,))\n",
    "embedding_layer = Embedding(vocab_size, 300, weights=[embedding_matrix], trainable=False)(input_1)\n",
    "x = LSTM(units= 16)(embedding_layer)\n",
    "#x = Dense(8, activation=\"relu\")(lstm_1)\n",
    "x = Dropout(0.25)(x)\n",
    "dense_1 = Dense(17, activation = 'sigmoid')(x)\n",
    "model_8 = Model(inputs=input_1, outputs=dense_1)\n",
    "model_8.summary()"
   ]
  },
  {
   "cell_type": "code",
   "execution_count": 433,
   "metadata": {},
   "outputs": [],
   "source": [
    "from tensorflow.keras.callbacks import ReduceLROnPlateau, EarlyStopping\n",
    "lr_reduction = ReduceLROnPlateau(monitor='val_accuracy', \n",
    "                                            patience=3, \n",
    "                                            verbose=1, \n",
    "                                            factor=0.5, \n",
    "                                            min_lr=0.00001)\n",
    "es = EarlyStopping(monitor='val_loss',\n",
    "                              min_delta=0,\n",
    "                              patience=5,\n",
    "                              verbose=0, mode='auto')"
   ]
  },
  {
   "cell_type": "code",
   "execution_count": 434,
   "metadata": {},
   "outputs": [],
   "source": [
    "model_8.compile(optimizer='adam',\n",
    "              loss='binary_crossentropy',\n",
    "              metrics=['accuracy'])\n",
    "callbacks_list = [es, lr_reduction]"
   ]
  },
  {
   "cell_type": "code",
   "execution_count": 435,
   "metadata": {},
   "outputs": [
    {
     "name": "stdout",
     "output_type": "stream",
     "text": [
      "Start Time : 1624157774.5816238\n",
      "Epoch 1/30\n",
      "414/414 [==============================] - 15s 32ms/step - loss: 0.4166 - accuracy: 0.1505 - val_loss: 0.2310 - val_accuracy: 0.2363\n",
      "Epoch 2/30\n",
      "414/414 [==============================] - 13s 30ms/step - loss: 0.2400 - accuracy: 0.2235 - val_loss: 0.2301 - val_accuracy: 0.2365\n",
      "Epoch 3/30\n",
      "414/414 [==============================] - 12s 29ms/step - loss: 0.2371 - accuracy: 0.2279 - val_loss: 0.2298 - val_accuracy: 0.2363\n",
      "Epoch 4/30\n",
      "414/414 [==============================] - 12s 29ms/step - loss: 0.2358 - accuracy: 0.2348 - val_loss: 0.2294 - val_accuracy: 0.2409\n",
      "Epoch 5/30\n",
      "414/414 [==============================] - 12s 28ms/step - loss: 0.2351 - accuracy: 0.2391 - val_loss: 0.2289 - val_accuracy: 0.2420\n",
      "Epoch 6/30\n",
      "414/414 [==============================] - 12s 29ms/step - loss: 0.2338 - accuracy: 0.2415 - val_loss: 0.2285 - val_accuracy: 0.2421\n",
      "Epoch 7/30\n",
      "414/414 [==============================] - 13s 31ms/step - loss: 0.2326 - accuracy: 0.2404 - val_loss: 0.2272 - val_accuracy: 0.2431\n",
      "Epoch 8/30\n",
      "414/414 [==============================] - 13s 31ms/step - loss: 0.2320 - accuracy: 0.2432 - val_loss: 0.2268 - val_accuracy: 0.2463\n",
      "Epoch 9/30\n",
      "414/414 [==============================] - 13s 32ms/step - loss: 0.2317 - accuracy: 0.2443 - val_loss: 0.2267 - val_accuracy: 0.2478\n",
      "Epoch 10/30\n",
      "414/414 [==============================] - 12s 30ms/step - loss: 0.2313 - accuracy: 0.2488 - val_loss: 0.2264 - val_accuracy: 0.2490\n",
      "Epoch 11/30\n",
      "414/414 [==============================] - 13s 32ms/step - loss: 0.2307 - accuracy: 0.2473 - val_loss: 0.2261 - val_accuracy: 0.2502\n",
      "Epoch 12/30\n",
      "414/414 [==============================] - 13s 31ms/step - loss: 0.2304 - accuracy: 0.2502 - val_loss: 0.2261 - val_accuracy: 0.2505\n",
      "Epoch 13/30\n",
      "414/414 [==============================] - 12s 30ms/step - loss: 0.2300 - accuracy: 0.2531 - val_loss: 0.2259 - val_accuracy: 0.2510\n",
      "Epoch 14/30\n",
      "414/414 [==============================] - 12s 30ms/step - loss: 0.2299 - accuracy: 0.2517 - val_loss: 0.2256 - val_accuracy: 0.2519\n",
      "Epoch 15/30\n",
      "414/414 [==============================] - 13s 31ms/step - loss: 0.2293 - accuracy: 0.2520 - val_loss: 0.2254 - val_accuracy: 0.2533\n",
      "Epoch 16/30\n",
      "414/414 [==============================] - 12s 30ms/step - loss: 0.2294 - accuracy: 0.2537 - val_loss: 0.2253 - val_accuracy: 0.2550\n",
      "Epoch 17/30\n",
      "414/414 [==============================] - 12s 30ms/step - loss: 0.2280 - accuracy: 0.2558 - val_loss: 0.2250 - val_accuracy: 0.2553\n",
      "Epoch 18/30\n",
      "414/414 [==============================] - 12s 30ms/step - loss: 0.2292 - accuracy: 0.2542 - val_loss: 0.2246 - val_accuracy: 0.2552\n",
      "Epoch 19/30\n",
      "414/414 [==============================] - 13s 30ms/step - loss: 0.2278 - accuracy: 0.2572 - val_loss: 0.2256 - val_accuracy: 0.2532\n",
      "Epoch 20/30\n",
      "414/414 [==============================] - 13s 31ms/step - loss: 0.2287 - accuracy: 0.2504 - val_loss: 0.2252 - val_accuracy: 0.2534\n",
      "\n",
      "Epoch 00020: ReduceLROnPlateau reducing learning rate to 0.0005000000237487257.\n",
      "Epoch 21/30\n",
      "414/414 [==============================] - 13s 31ms/step - loss: 0.2279 - accuracy: 0.2553 - val_loss: 0.2251 - val_accuracy: 0.2539\n",
      "Epoch 22/30\n",
      "414/414 [==============================] - 13s 31ms/step - loss: 0.2277 - accuracy: 0.2528 - val_loss: 0.2250 - val_accuracy: 0.2541\n",
      "Epoch 23/30\n",
      "414/414 [==============================] - 13s 31ms/step - loss: 0.2274 - accuracy: 0.2546 - val_loss: 0.2249 - val_accuracy: 0.2550\n",
      "\n",
      "Epoch 00023: ReduceLROnPlateau reducing learning rate to 0.0002500000118743628.\n",
      "Consume time :  12195.408898591995\n"
     ]
    }
   ],
   "source": [
    "print('Start Time :', start_time )\n",
    "history_8 = model_8.fit(X_train, y_train, batch_size=256, epochs=30, verbose=1, validation_split=0.2,callbacks=callbacks_list)\n",
    "print('Consume time : ',(time.time() - start_time))"
   ]
  },
  {
   "cell_type": "markdown",
   "metadata": {},
   "source": [
    "Apporch 2"
   ]
  },
  {
   "cell_type": "code",
   "execution_count": 503,
   "metadata": {},
   "outputs": [
    {
     "name": "stdout",
     "output_type": "stream",
     "text": [
      "Model: \"model_32\"\n",
      "__________________________________________________________________________________________________\n",
      "Layer (type)                    Output Shape         Param #     Connected to                     \n",
      "==================================================================================================\n",
      "input_42 (InputLayer)           [(None, 300)]        0                                            \n",
      "__________________________________________________________________________________________________\n",
      "embedding_46 (Embedding)        (None, 300, 300)     45141300    input_42[0][0]                   \n",
      "__________________________________________________________________________________________________\n",
      "lstm_45 (LSTM)                  (None, 32)           42624       embedding_46[0][0]               \n",
      "__________________________________________________________________________________________________\n",
      "dense_55 (Dense)                (None, 1)            33          lstm_45[0][0]                    \n",
      "__________________________________________________________________________________________________\n",
      "dense_56 (Dense)                (None, 1)            33          lstm_45[0][0]                    \n",
      "__________________________________________________________________________________________________\n",
      "dense_57 (Dense)                (None, 1)            33          lstm_45[0][0]                    \n",
      "__________________________________________________________________________________________________\n",
      "dense_58 (Dense)                (None, 1)            33          lstm_45[0][0]                    \n",
      "__________________________________________________________________________________________________\n",
      "dense_59 (Dense)                (None, 1)            33          lstm_45[0][0]                    \n",
      "__________________________________________________________________________________________________\n",
      "dense_60 (Dense)                (None, 1)            33          lstm_45[0][0]                    \n",
      "__________________________________________________________________________________________________\n",
      "dense_61 (Dense)                (None, 1)            33          lstm_45[0][0]                    \n",
      "__________________________________________________________________________________________________\n",
      "dense_62 (Dense)                (None, 1)            33          lstm_45[0][0]                    \n",
      "__________________________________________________________________________________________________\n",
      "dense_63 (Dense)                (None, 1)            33          lstm_45[0][0]                    \n",
      "__________________________________________________________________________________________________\n",
      "dense_64 (Dense)                (None, 1)            33          lstm_45[0][0]                    \n",
      "__________________________________________________________________________________________________\n",
      "dense_65 (Dense)                (None, 1)            33          lstm_45[0][0]                    \n",
      "__________________________________________________________________________________________________\n",
      "dense_66 (Dense)                (None, 1)            33          lstm_45[0][0]                    \n",
      "__________________________________________________________________________________________________\n",
      "dense_67 (Dense)                (None, 1)            33          lstm_45[0][0]                    \n",
      "__________________________________________________________________________________________________\n",
      "dense_68 (Dense)                (None, 1)            33          lstm_45[0][0]                    \n",
      "__________________________________________________________________________________________________\n",
      "dense_69 (Dense)                (None, 1)            33          lstm_45[0][0]                    \n",
      "__________________________________________________________________________________________________\n",
      "dense_70 (Dense)                (None, 1)            33          lstm_45[0][0]                    \n",
      "__________________________________________________________________________________________________\n",
      "dense_71 (Dense)                (None, 1)            33          lstm_45[0][0]                    \n",
      "==================================================================================================\n",
      "Total params: 45,184,485\n",
      "Trainable params: 43,185\n",
      "Non-trainable params: 45,141,300\n",
      "__________________________________________________________________________________________________\n"
     ]
    }
   ],
   "source": [
    "\n",
    "# The LSTM architecture\n",
    "input_1 = Input(shape=(maxlen,))\n",
    "embedding_layer = Embedding(vocab_size, 300, weights=[embedding_matrix], trainable=False)(input_1)\n",
    "x = LSTM(32)(embedding_layer)\n",
    "output1 = Dense(1, activation='sigmoid')(x)\n",
    "output2 = Dense(1, activation='sigmoid')(x)\n",
    "output3 = Dense(1, activation='sigmoid')(x)\n",
    "output4 = Dense(1, activation='sigmoid')(x)\n",
    "output5 = Dense(1, activation='sigmoid')(x)\n",
    "output6 = Dense(1, activation='sigmoid')(x)\n",
    "output7 = Dense(1, activation='sigmoid')(x)\n",
    "output8 = Dense(1, activation='sigmoid')(x)\n",
    "output9 = Dense(1, activation='sigmoid')(x)\n",
    "output10 = Dense(1, activation='sigmoid')(x)\n",
    "output11 = Dense(1, activation='sigmoid')(x)\n",
    "output12 = Dense(1, activation='sigmoid')(x)\n",
    "output13 = Dense(1, activation='sigmoid')(x)\n",
    "output14 = Dense(1, activation='sigmoid')(x)\n",
    "output15 = Dense(1, activation='sigmoid')(x)\n",
    "output16 = Dense(1, activation='sigmoid')(x)\n",
    "output17 = Dense(1, activation='sigmoid')(x)\n",
    "\n",
    "model_5 = Model(inputs=input_1, outputs=[output1, output2, output3, output4, output5, output6,output7,output8,output9,output10,output11,output12,output13,output14,output15,output16,output17])\n",
    "model_5.summary()"
   ]
  },
  {
   "cell_type": "code",
   "execution_count": 504,
   "metadata": {},
   "outputs": [],
   "source": [
    "model_5.compile(optimizer='adam',\n",
    "              loss='binary_crossentropy',\n",
    "              metrics=['accuracy'])"
   ]
  },
  {
   "cell_type": "code",
   "execution_count": 505,
   "metadata": {},
   "outputs": [
    {
     "name": "stdout",
     "output_type": "stream",
     "text": [
      "Start Time : 1624157774.5816238\n",
      "Epoch 1/15\n",
      "414/414 [==============================] - 29s 53ms/step - loss: 6.1152 - dense_55_loss: 0.2701 - dense_56_loss: 0.4185 - dense_57_loss: 0.4244 - dense_58_loss: 0.1975 - dense_59_loss: 0.3708 - dense_60_loss: 0.3082 - dense_61_loss: 0.6241 - dense_62_loss: 0.2454 - dense_63_loss: 0.5255 - dense_64_loss: 0.3842 - dense_65_loss: 0.3834 - dense_66_loss: 0.3637 - dense_67_loss: 0.2491 - dense_68_loss: 0.2679 - dense_69_loss: 0.3964 - dense_70_loss: 0.2329 - dense_71_loss: 0.4530 - dense_55_accuracy: 0.9622 - dense_56_accuracy: 0.9014 - dense_57_accuracy: 0.8838 - dense_58_accuracy: 0.9874 - dense_59_accuracy: 0.9381 - dense_60_accuracy: 0.7503 - dense_61_accuracy: 0.5965 - dense_62_accuracy: 0.9844 - dense_63_accuracy: 0.7088 - dense_64_accuracy: 0.9059 - dense_65_accuracy: 0.9338 - dense_66_accuracy: 0.9300 - dense_67_accuracy: 0.9841 - dense_68_accuracy: 0.9677 - dense_69_accuracy: 0.8230 - dense_70_accuracy: 0.9798 - dense_71_accuracy: 0.8802 - val_loss: 3.9043 - val_dense_55_loss: 0.1569 - val_dense_56_loss: 0.3154 - val_dense_57_loss: 0.3601 - val_dense_58_loss: 0.0602 - val_dense_59_loss: 0.2147 - val_dense_60_loss: 0.0951 - val_dense_61_loss: 0.5725 - val_dense_62_loss: 0.0702 - val_dense_63_loss: 0.4325 - val_dense_64_loss: 0.3025 - val_dense_65_loss: 0.2462 - val_dense_66_loss: 0.2399 - val_dense_67_loss: 0.0640 - val_dense_68_loss: 0.1299 - val_dense_69_loss: 0.1868 - val_dense_70_loss: 0.0980 - val_dense_71_loss: 0.3594 - val_dense_55_accuracy: 0.9618 - val_dense_56_accuracy: 0.9045 - val_dense_57_accuracy: 0.8828 - val_dense_58_accuracy: 0.9891 - val_dense_59_accuracy: 0.9450 - val_dense_60_accuracy: 0.9803 - val_dense_61_accuracy: 0.7409 - val_dense_62_accuracy: 0.9869 - val_dense_63_accuracy: 0.8441 - val_dense_64_accuracy: 0.9100 - val_dense_65_accuracy: 0.9329 - val_dense_66_accuracy: 0.9352 - val_dense_67_accuracy: 0.9883 - val_dense_68_accuracy: 0.9673 - val_dense_69_accuracy: 0.9540 - val_dense_70_accuracy: 0.9801 - val_dense_71_accuracy: 0.8838\n",
      "Epoch 2/15\n",
      "414/414 [==============================] - 20s 48ms/step - loss: 3.9157 - dense_55_loss: 0.1571 - dense_56_loss: 0.3173 - dense_57_loss: 0.3563 - dense_58_loss: 0.0623 - dense_59_loss: 0.2247 - dense_60_loss: 0.0967 - dense_61_loss: 0.5739 - dense_62_loss: 0.0734 - dense_63_loss: 0.4260 - dense_64_loss: 0.3082 - dense_65_loss: 0.2385 - dense_66_loss: 0.2448 - dense_67_loss: 0.0659 - dense_68_loss: 0.1245 - dense_69_loss: 0.1943 - dense_70_loss: 0.0940 - dense_71_loss: 0.3579 - dense_55_accuracy: 0.9617 - dense_56_accuracy: 0.9037 - dense_57_accuracy: 0.8842 - dense_58_accuracy: 0.9886 - dense_59_accuracy: 0.9414 - dense_60_accuracy: 0.9799 - dense_61_accuracy: 0.7395 - dense_62_accuracy: 0.9861 - dense_63_accuracy: 0.8478 - dense_64_accuracy: 0.9074 - dense_65_accuracy: 0.9357 - dense_66_accuracy: 0.9328 - dense_67_accuracy: 0.9878 - dense_68_accuracy: 0.9683 - dense_69_accuracy: 0.9515 - dense_70_accuracy: 0.9810 - dense_71_accuracy: 0.8846 - val_loss: 3.8842 - val_dense_55_loss: 0.1558 - val_dense_56_loss: 0.3151 - val_dense_57_loss: 0.3561 - val_dense_58_loss: 0.0603 - val_dense_59_loss: 0.2151 - val_dense_60_loss: 0.0948 - val_dense_61_loss: 0.5718 - val_dense_62_loss: 0.0698 - val_dense_63_loss: 0.4321 - val_dense_64_loss: 0.3016 - val_dense_65_loss: 0.2458 - val_dense_66_loss: 0.2355 - val_dense_67_loss: 0.0641 - val_dense_68_loss: 0.1244 - val_dense_69_loss: 0.1859 - val_dense_70_loss: 0.0969 - val_dense_71_loss: 0.3591 - val_dense_55_accuracy: 0.9619 - val_dense_56_accuracy: 0.9045 - val_dense_57_accuracy: 0.8831 - val_dense_58_accuracy: 0.9891 - val_dense_59_accuracy: 0.9450 - val_dense_60_accuracy: 0.9803 - val_dense_61_accuracy: 0.7409 - val_dense_62_accuracy: 0.9869 - val_dense_63_accuracy: 0.8441 - val_dense_64_accuracy: 0.9100 - val_dense_65_accuracy: 0.9329 - val_dense_66_accuracy: 0.9351 - val_dense_67_accuracy: 0.9883 - val_dense_68_accuracy: 0.9720 - val_dense_69_accuracy: 0.9540 - val_dense_70_accuracy: 0.9801 - val_dense_71_accuracy: 0.8838\n",
      "Epoch 3/15\n",
      "414/414 [==============================] - 20s 48ms/step - loss: 3.8939 - dense_55_loss: 0.1534 - dense_56_loss: 0.3120 - dense_57_loss: 0.3526 - dense_58_loss: 0.0632 - dense_59_loss: 0.2205 - dense_60_loss: 0.0941 - dense_61_loss: 0.5743 - dense_62_loss: 0.0731 - dense_63_loss: 0.4318 - dense_64_loss: 0.3057 - dense_65_loss: 0.2394 - dense_66_loss: 0.2418 - dense_67_loss: 0.0651 - dense_68_loss: 0.1181 - dense_69_loss: 0.1941 - dense_70_loss: 0.0950 - dense_71_loss: 0.3598 - dense_55_accuracy: 0.9625 - dense_56_accuracy: 0.9059 - dense_57_accuracy: 0.8847 - dense_58_accuracy: 0.9884 - dense_59_accuracy: 0.9431 - dense_60_accuracy: 0.9804 - dense_61_accuracy: 0.7385 - dense_62_accuracy: 0.9862 - dense_63_accuracy: 0.8442 - dense_64_accuracy: 0.9081 - dense_65_accuracy: 0.9353 - dense_66_accuracy: 0.9329 - dense_67_accuracy: 0.9880 - dense_68_accuracy: 0.9737 - dense_69_accuracy: 0.9512 - dense_70_accuracy: 0.9805 - dense_71_accuracy: 0.8835 - val_loss: 3.8716 - val_dense_55_loss: 0.1534 - val_dense_56_loss: 0.3144 - val_dense_57_loss: 0.3545 - val_dense_58_loss: 0.0602 - val_dense_59_loss: 0.2150 - val_dense_60_loss: 0.0942 - val_dense_61_loss: 0.5705 - val_dense_62_loss: 0.0697 - val_dense_63_loss: 0.4320 - val_dense_64_loss: 0.3015 - val_dense_65_loss: 0.2456 - val_dense_66_loss: 0.2351 - val_dense_67_loss: 0.0639 - val_dense_68_loss: 0.1208 - val_dense_69_loss: 0.1860 - val_dense_70_loss: 0.0967 - val_dense_71_loss: 0.3582 - val_dense_55_accuracy: 0.9620 - val_dense_56_accuracy: 0.9045 - val_dense_57_accuracy: 0.8842 - val_dense_58_accuracy: 0.9891 - val_dense_59_accuracy: 0.9450 - val_dense_60_accuracy: 0.9803 - val_dense_61_accuracy: 0.7409 - val_dense_62_accuracy: 0.9869 - val_dense_63_accuracy: 0.8441 - val_dense_64_accuracy: 0.9100 - val_dense_65_accuracy: 0.9329 - val_dense_66_accuracy: 0.9352 - val_dense_67_accuracy: 0.9883 - val_dense_68_accuracy: 0.9729 - val_dense_69_accuracy: 0.9540 - val_dense_70_accuracy: 0.9801 - val_dense_71_accuracy: 0.8838\n",
      "Epoch 4/15\n",
      "414/414 [==============================] - 20s 48ms/step - loss: 3.8830 - dense_55_loss: 0.1529 - dense_56_loss: 0.3135 - dense_57_loss: 0.3562 - dense_58_loss: 0.0610 - dense_59_loss: 0.2182 - dense_60_loss: 0.0921 - dense_61_loss: 0.5708 - dense_62_loss: 0.0753 - dense_63_loss: 0.4278 - dense_64_loss: 0.3028 - dense_65_loss: 0.2382 - dense_66_loss: 0.2412 - dense_67_loss: 0.0636 - dense_68_loss: 0.1142 - dense_69_loss: 0.1953 - dense_70_loss: 0.0958 - dense_71_loss: 0.3640 - dense_55_accuracy: 0.9617 - dense_56_accuracy: 0.9046 - dense_57_accuracy: 0.8833 - dense_58_accuracy: 0.9889 - dense_59_accuracy: 0.9438 - dense_60_accuracy: 0.9805 - dense_61_accuracy: 0.7399 - dense_62_accuracy: 0.9856 - dense_63_accuracy: 0.8466 - dense_64_accuracy: 0.9087 - dense_65_accuracy: 0.9358 - dense_66_accuracy: 0.9327 - dense_67_accuracy: 0.9883 - dense_68_accuracy: 0.9740 - dense_69_accuracy: 0.9508 - dense_70_accuracy: 0.9802 - dense_71_accuracy: 0.8807 - val_loss: 3.8402 - val_dense_55_loss: 0.1493 - val_dense_56_loss: 0.3121 - val_dense_57_loss: 0.3533 - val_dense_58_loss: 0.0601 - val_dense_59_loss: 0.2145 - val_dense_60_loss: 0.0911 - val_dense_61_loss: 0.5671 - val_dense_62_loss: 0.0696 - val_dense_63_loss: 0.4319 - val_dense_64_loss: 0.2971 - val_dense_65_loss: 0.2444 - val_dense_66_loss: 0.2340 - val_dense_67_loss: 0.0644 - val_dense_68_loss: 0.1138 - val_dense_69_loss: 0.1850 - val_dense_70_loss: 0.0962 - val_dense_71_loss: 0.3563 - val_dense_55_accuracy: 0.9621 - val_dense_56_accuracy: 0.9045 - val_dense_57_accuracy: 0.8850 - val_dense_58_accuracy: 0.9891 - val_dense_59_accuracy: 0.9450 - val_dense_60_accuracy: 0.9803 - val_dense_61_accuracy: 0.7409 - val_dense_62_accuracy: 0.9869 - val_dense_63_accuracy: 0.8441 - val_dense_64_accuracy: 0.9100 - val_dense_65_accuracy: 0.9329 - val_dense_66_accuracy: 0.9352 - val_dense_67_accuracy: 0.9883 - val_dense_68_accuracy: 0.9722 - val_dense_69_accuracy: 0.9540 - val_dense_70_accuracy: 0.9801 - val_dense_71_accuracy: 0.8839\n",
      "Epoch 5/15\n",
      "414/414 [==============================] - 21s 51ms/step - loss: 3.8445 - dense_55_loss: 0.1479 - dense_56_loss: 0.3097 - dense_57_loss: 0.3498 - dense_58_loss: 0.0591 - dense_59_loss: 0.2206 - dense_60_loss: 0.0905 - dense_61_loss: 0.5694 - dense_62_loss: 0.0745 - dense_63_loss: 0.4293 - dense_64_loss: 0.2990 - dense_65_loss: 0.2348 - dense_66_loss: 0.2395 - dense_67_loss: 0.0628 - dense_68_loss: 0.1064 - dense_69_loss: 0.1941 - dense_70_loss: 0.0954 - dense_71_loss: 0.3616 - dense_55_accuracy: 0.9620 - dense_56_accuracy: 0.9054 - dense_57_accuracy: 0.8861 - dense_58_accuracy: 0.9892 - dense_59_accuracy: 0.9426 - dense_60_accuracy: 0.9800 - dense_61_accuracy: 0.7390 - dense_62_accuracy: 0.9858 - dense_63_accuracy: 0.8456 - dense_64_accuracy: 0.9086 - dense_65_accuracy: 0.9362 - dense_66_accuracy: 0.9328 - dense_67_accuracy: 0.9885 - dense_68_accuracy: 0.9743 - dense_69_accuracy: 0.9510 - dense_70_accuracy: 0.9802 - dense_71_accuracy: 0.8809 - val_loss: 3.8241 - val_dense_55_loss: 0.1476 - val_dense_56_loss: 0.3117 - val_dense_57_loss: 0.3514 - val_dense_58_loss: 0.0600 - val_dense_59_loss: 0.2127 - val_dense_60_loss: 0.0904 - val_dense_61_loss: 0.5662 - val_dense_62_loss: 0.0693 - val_dense_63_loss: 0.4323 - val_dense_64_loss: 0.2947 - val_dense_65_loss: 0.2428 - val_dense_66_loss: 0.2329 - val_dense_67_loss: 0.0639 - val_dense_68_loss: 0.1129 - val_dense_69_loss: 0.1848 - val_dense_70_loss: 0.0960 - val_dense_71_loss: 0.3545 - val_dense_55_accuracy: 0.9622 - val_dense_56_accuracy: 0.9045 - val_dense_57_accuracy: 0.8859 - val_dense_58_accuracy: 0.9891 - val_dense_59_accuracy: 0.9450 - val_dense_60_accuracy: 0.9803 - val_dense_61_accuracy: 0.7409 - val_dense_62_accuracy: 0.9869 - val_dense_63_accuracy: 0.8441 - val_dense_64_accuracy: 0.9100 - val_dense_65_accuracy: 0.9329 - val_dense_66_accuracy: 0.9352 - val_dense_67_accuracy: 0.9883 - val_dense_68_accuracy: 0.9726 - val_dense_69_accuracy: 0.9540 - val_dense_70_accuracy: 0.9801 - val_dense_71_accuracy: 0.8839\n",
      "Epoch 6/15\n",
      "414/414 [==============================] - 21s 52ms/step - loss: 3.8276 - dense_55_loss: 0.1456 - dense_56_loss: 0.3107 - dense_57_loss: 0.3486 - dense_58_loss: 0.0606 - dense_59_loss: 0.2162 - dense_60_loss: 0.0884 - dense_61_loss: 0.5678 - dense_62_loss: 0.0737 - dense_63_loss: 0.4303 - dense_64_loss: 0.3008 - dense_65_loss: 0.2373 - dense_66_loss: 0.2370 - dense_67_loss: 0.0657 - dense_68_loss: 0.1055 - dense_69_loss: 0.1929 - dense_70_loss: 0.0926 - dense_71_loss: 0.3540 - dense_55_accuracy: 0.9628 - dense_56_accuracy: 0.9049 - dense_57_accuracy: 0.8858 - dense_58_accuracy: 0.9889 - dense_59_accuracy: 0.9438 - dense_60_accuracy: 0.9803 - dense_61_accuracy: 0.7401 - dense_62_accuracy: 0.9859 - dense_63_accuracy: 0.8449 - dense_64_accuracy: 0.9072 - dense_65_accuracy: 0.9350 - dense_66_accuracy: 0.9334 - dense_67_accuracy: 0.9877 - dense_68_accuracy: 0.9745 - dense_69_accuracy: 0.9514 - dense_70_accuracy: 0.9808 - dense_71_accuracy: 0.8840 - val_loss: 3.8126 - val_dense_55_loss: 0.1475 - val_dense_56_loss: 0.3113 - val_dense_57_loss: 0.3500 - val_dense_58_loss: 0.0600 - val_dense_59_loss: 0.2119 - val_dense_60_loss: 0.0899 - val_dense_61_loss: 0.5660 - val_dense_62_loss: 0.0691 - val_dense_63_loss: 0.4315 - val_dense_64_loss: 0.2943 - val_dense_65_loss: 0.2414 - val_dense_66_loss: 0.2323 - val_dense_67_loss: 0.0635 - val_dense_68_loss: 0.1111 - val_dense_69_loss: 0.1849 - val_dense_70_loss: 0.0955 - val_dense_71_loss: 0.3522 - val_dense_55_accuracy: 0.9634 - val_dense_56_accuracy: 0.9045 - val_dense_57_accuracy: 0.8853 - val_dense_58_accuracy: 0.9891 - val_dense_59_accuracy: 0.9450 - val_dense_60_accuracy: 0.9803 - val_dense_61_accuracy: 0.7409 - val_dense_62_accuracy: 0.9869 - val_dense_63_accuracy: 0.8441 - val_dense_64_accuracy: 0.9100 - val_dense_65_accuracy: 0.9329 - val_dense_66_accuracy: 0.9352 - val_dense_67_accuracy: 0.9883 - val_dense_68_accuracy: 0.9731 - val_dense_69_accuracy: 0.9540 - val_dense_70_accuracy: 0.9801 - val_dense_71_accuracy: 0.8841\n",
      "Epoch 7/15\n",
      "414/414 [==============================] - 21s 52ms/step - loss: 3.8173 - dense_55_loss: 0.1451 - dense_56_loss: 0.3108 - dense_57_loss: 0.3437 - dense_58_loss: 0.0603 - dense_59_loss: 0.2230 - dense_60_loss: 0.0883 - dense_61_loss: 0.5659 - dense_62_loss: 0.0733 - dense_63_loss: 0.4277 - dense_64_loss: 0.3016 - dense_65_loss: 0.2323 - dense_66_loss: 0.2350 - dense_67_loss: 0.0643 - dense_68_loss: 0.1050 - dense_69_loss: 0.1947 - dense_70_loss: 0.0919 - dense_71_loss: 0.3546 - dense_55_accuracy: 0.9633 - dense_56_accuracy: 0.9045 - dense_57_accuracy: 0.8878 - dense_58_accuracy: 0.9890 - dense_59_accuracy: 0.9410 - dense_60_accuracy: 0.9801 - dense_61_accuracy: 0.7409 - dense_62_accuracy: 0.9859 - dense_63_accuracy: 0.8465 - dense_64_accuracy: 0.9066 - dense_65_accuracy: 0.9360 - dense_66_accuracy: 0.9344 - dense_67_accuracy: 0.9880 - dense_68_accuracy: 0.9752 - dense_69_accuracy: 0.9507 - dense_70_accuracy: 0.9810 - dense_71_accuracy: 0.8833 - val_loss: 3.8151 - val_dense_55_loss: 0.1484 - val_dense_56_loss: 0.3131 - val_dense_57_loss: 0.3496 - val_dense_58_loss: 0.0598 - val_dense_59_loss: 0.2121 - val_dense_60_loss: 0.0898 - val_dense_61_loss: 0.5667 - val_dense_62_loss: 0.0692 - val_dense_63_loss: 0.4323 - val_dense_64_loss: 0.2952 - val_dense_65_loss: 0.2388 - val_dense_66_loss: 0.2321 - val_dense_67_loss: 0.0631 - val_dense_68_loss: 0.1121 - val_dense_69_loss: 0.1850 - val_dense_70_loss: 0.0956 - val_dense_71_loss: 0.3522 - val_dense_55_accuracy: 0.9625 - val_dense_56_accuracy: 0.9045 - val_dense_57_accuracy: 0.8852 - val_dense_58_accuracy: 0.9891 - val_dense_59_accuracy: 0.9450 - val_dense_60_accuracy: 0.9803 - val_dense_61_accuracy: 0.7409 - val_dense_62_accuracy: 0.9869 - val_dense_63_accuracy: 0.8441 - val_dense_64_accuracy: 0.9100 - val_dense_65_accuracy: 0.9329 - val_dense_66_accuracy: 0.9351 - val_dense_67_accuracy: 0.9883 - val_dense_68_accuracy: 0.9726 - val_dense_69_accuracy: 0.9540 - val_dense_70_accuracy: 0.9801 - val_dense_71_accuracy: 0.8840\n",
      "Epoch 8/15\n",
      "414/414 [==============================] - 21s 51ms/step - loss: 3.8101 - dense_55_loss: 0.1465 - dense_56_loss: 0.3142 - dense_57_loss: 0.3442 - dense_58_loss: 0.0614 - dense_59_loss: 0.2209 - dense_60_loss: 0.0884 - dense_61_loss: 0.5654 - dense_62_loss: 0.0721 - dense_63_loss: 0.4278 - dense_64_loss: 0.2964 - dense_65_loss: 0.2293 - dense_66_loss: 0.2349 - dense_67_loss: 0.0625 - dense_68_loss: 0.1033 - dense_69_loss: 0.1932 - dense_70_loss: 0.0954 - dense_71_loss: 0.3541 - dense_55_accuracy: 0.9628 - dense_56_accuracy: 0.9032 - dense_57_accuracy: 0.8872 - dense_58_accuracy: 0.9887 - dense_59_accuracy: 0.9417 - dense_60_accuracy: 0.9798 - dense_61_accuracy: 0.7405 - dense_62_accuracy: 0.9862 - dense_63_accuracy: 0.8464 - dense_64_accuracy: 0.9092 - dense_65_accuracy: 0.9363 - dense_66_accuracy: 0.9337 - dense_67_accuracy: 0.9883 - dense_68_accuracy: 0.9750 - dense_69_accuracy: 0.9512 - dense_70_accuracy: 0.9800 - dense_71_accuracy: 0.8826 - val_loss: 3.7944 - val_dense_55_loss: 0.1467 - val_dense_56_loss: 0.3112 - val_dense_57_loss: 0.3489 - val_dense_58_loss: 0.0598 - val_dense_59_loss: 0.2115 - val_dense_60_loss: 0.0891 - val_dense_61_loss: 0.5634 - val_dense_62_loss: 0.0688 - val_dense_63_loss: 0.4313 - val_dense_64_loss: 0.2941 - val_dense_65_loss: 0.2358 - val_dense_66_loss: 0.2311 - val_dense_67_loss: 0.0629 - val_dense_68_loss: 0.1096 - val_dense_69_loss: 0.1848 - val_dense_70_loss: 0.0953 - val_dense_71_loss: 0.3501 - val_dense_55_accuracy: 0.9630 - val_dense_56_accuracy: 0.9045 - val_dense_57_accuracy: 0.8855 - val_dense_58_accuracy: 0.9891 - val_dense_59_accuracy: 0.9450 - val_dense_60_accuracy: 0.9803 - val_dense_61_accuracy: 0.7411 - val_dense_62_accuracy: 0.9869 - val_dense_63_accuracy: 0.8441 - val_dense_64_accuracy: 0.9100 - val_dense_65_accuracy: 0.9329 - val_dense_66_accuracy: 0.9354 - val_dense_67_accuracy: 0.9883 - val_dense_68_accuracy: 0.9736 - val_dense_69_accuracy: 0.9540 - val_dense_70_accuracy: 0.9801 - val_dense_71_accuracy: 0.8843\n",
      "Epoch 9/15\n",
      "414/414 [==============================] - 20s 48ms/step - loss: 3.7910 - dense_55_loss: 0.1446 - dense_56_loss: 0.3111 - dense_57_loss: 0.3442 - dense_58_loss: 0.0586 - dense_59_loss: 0.2170 - dense_60_loss: 0.0872 - dense_61_loss: 0.5625 - dense_62_loss: 0.0746 - dense_63_loss: 0.4280 - dense_64_loss: 0.2985 - dense_65_loss: 0.2280 - dense_66_loss: 0.2352 - dense_67_loss: 0.0610 - dense_68_loss: 0.1030 - dense_69_loss: 0.1900 - dense_70_loss: 0.0944 - dense_71_loss: 0.3530 - dense_55_accuracy: 0.9631 - dense_56_accuracy: 0.9040 - dense_57_accuracy: 0.8868 - dense_58_accuracy: 0.9893 - dense_59_accuracy: 0.9430 - dense_60_accuracy: 0.9802 - dense_61_accuracy: 0.7415 - dense_62_accuracy: 0.9856 - dense_63_accuracy: 0.8458 - dense_64_accuracy: 0.9082 - dense_65_accuracy: 0.9361 - dense_66_accuracy: 0.9336 - dense_67_accuracy: 0.9887 - dense_68_accuracy: 0.9756 - dense_69_accuracy: 0.9522 - dense_70_accuracy: 0.9802 - dense_71_accuracy: 0.8822 - val_loss: 3.7890 - val_dense_55_loss: 0.1474 - val_dense_56_loss: 0.3095 - val_dense_57_loss: 0.3485 - val_dense_58_loss: 0.0600 - val_dense_59_loss: 0.2115 - val_dense_60_loss: 0.0895 - val_dense_61_loss: 0.5626 - val_dense_62_loss: 0.0685 - val_dense_63_loss: 0.4309 - val_dense_64_loss: 0.2947 - val_dense_65_loss: 0.2351 - val_dense_66_loss: 0.2307 - val_dense_67_loss: 0.0629 - val_dense_68_loss: 0.1099 - val_dense_69_loss: 0.1843 - val_dense_70_loss: 0.0952 - val_dense_71_loss: 0.3478 - val_dense_55_accuracy: 0.9626 - val_dense_56_accuracy: 0.9045 - val_dense_57_accuracy: 0.8855 - val_dense_58_accuracy: 0.9891 - val_dense_59_accuracy: 0.9450 - val_dense_60_accuracy: 0.9804 - val_dense_61_accuracy: 0.7409 - val_dense_62_accuracy: 0.9869 - val_dense_63_accuracy: 0.8441 - val_dense_64_accuracy: 0.9100 - val_dense_65_accuracy: 0.9329 - val_dense_66_accuracy: 0.9352 - val_dense_67_accuracy: 0.9883 - val_dense_68_accuracy: 0.9737 - val_dense_69_accuracy: 0.9540 - val_dense_70_accuracy: 0.9801 - val_dense_71_accuracy: 0.8841\n",
      "Epoch 10/15\n",
      "414/414 [==============================] - 20s 48ms/step - loss: 3.7833 - dense_55_loss: 0.1467 - dense_56_loss: 0.3077 - dense_57_loss: 0.3459 - dense_58_loss: 0.0611 - dense_59_loss: 0.2154 - dense_60_loss: 0.0871 - dense_61_loss: 0.5642 - dense_62_loss: 0.0713 - dense_63_loss: 0.4268 - dense_64_loss: 0.3000 - dense_65_loss: 0.2279 - dense_66_loss: 0.2320 - dense_67_loss: 0.0628 - dense_68_loss: 0.1000 - dense_69_loss: 0.1890 - dense_70_loss: 0.0943 - dense_71_loss: 0.3514 - dense_55_accuracy: 0.9621 - dense_56_accuracy: 0.9049 - dense_57_accuracy: 0.8863 - dense_58_accuracy: 0.9887 - dense_59_accuracy: 0.9436 - dense_60_accuracy: 0.9804 - dense_61_accuracy: 0.7399 - dense_62_accuracy: 0.9863 - dense_63_accuracy: 0.8463 - dense_64_accuracy: 0.9076 - dense_65_accuracy: 0.9354 - dense_66_accuracy: 0.9345 - dense_67_accuracy: 0.9882 - dense_68_accuracy: 0.9759 - dense_69_accuracy: 0.9523 - dense_70_accuracy: 0.9804 - dense_71_accuracy: 0.8826 - val_loss: 3.7816 - val_dense_55_loss: 0.1466 - val_dense_56_loss: 0.3088 - val_dense_57_loss: 0.3493 - val_dense_58_loss: 0.0597 - val_dense_59_loss: 0.2112 - val_dense_60_loss: 0.0892 - val_dense_61_loss: 0.5626 - val_dense_62_loss: 0.0682 - val_dense_63_loss: 0.4303 - val_dense_64_loss: 0.2939 - val_dense_65_loss: 0.2340 - val_dense_66_loss: 0.2306 - val_dense_67_loss: 0.0626 - val_dense_68_loss: 0.1090 - val_dense_69_loss: 0.1840 - val_dense_70_loss: 0.0953 - val_dense_71_loss: 0.3461 - val_dense_55_accuracy: 0.9629 - val_dense_56_accuracy: 0.9045 - val_dense_57_accuracy: 0.8857 - val_dense_58_accuracy: 0.9891 - val_dense_59_accuracy: 0.9450 - val_dense_60_accuracy: 0.9804 - val_dense_61_accuracy: 0.7411 - val_dense_62_accuracy: 0.9869 - val_dense_63_accuracy: 0.8441 - val_dense_64_accuracy: 0.9100 - val_dense_65_accuracy: 0.9329 - val_dense_66_accuracy: 0.9352 - val_dense_67_accuracy: 0.9883 - val_dense_68_accuracy: 0.9735 - val_dense_69_accuracy: 0.9540 - val_dense_70_accuracy: 0.9801 - val_dense_71_accuracy: 0.8846\n",
      "Epoch 11/15\n",
      "414/414 [==============================] - 20s 49ms/step - loss: 3.7844 - dense_55_loss: 0.1445 - dense_56_loss: 0.3072 - dense_57_loss: 0.3443 - dense_58_loss: 0.0622 - dense_59_loss: 0.2186 - dense_60_loss: 0.0891 - dense_61_loss: 0.5629 - dense_62_loss: 0.0708 - dense_63_loss: 0.4274 - dense_64_loss: 0.2940 - dense_65_loss: 0.2276 - dense_66_loss: 0.2373 - dense_67_loss: 0.0638 - dense_68_loss: 0.1011 - dense_69_loss: 0.1915 - dense_70_loss: 0.0932 - dense_71_loss: 0.3490 - dense_55_accuracy: 0.9627 - dense_56_accuracy: 0.9049 - dense_57_accuracy: 0.8871 - dense_58_accuracy: 0.9885 - dense_59_accuracy: 0.9423 - dense_60_accuracy: 0.9796 - dense_61_accuracy: 0.7403 - dense_62_accuracy: 0.9864 - dense_63_accuracy: 0.8457 - dense_64_accuracy: 0.9102 - dense_65_accuracy: 0.9352 - dense_66_accuracy: 0.9327 - dense_67_accuracy: 0.9879 - dense_68_accuracy: 0.9756 - dense_69_accuracy: 0.9516 - dense_70_accuracy: 0.9805 - dense_71_accuracy: 0.8838 - val_loss: 3.7754 - val_dense_55_loss: 0.1465 - val_dense_56_loss: 0.3074 - val_dense_57_loss: 0.3483 - val_dense_58_loss: 0.0596 - val_dense_59_loss: 0.2111 - val_dense_60_loss: 0.0891 - val_dense_61_loss: 0.5616 - val_dense_62_loss: 0.0680 - val_dense_63_loss: 0.4299 - val_dense_64_loss: 0.2940 - val_dense_65_loss: 0.2342 - val_dense_66_loss: 0.2302 - val_dense_67_loss: 0.0626 - val_dense_68_loss: 0.1090 - val_dense_69_loss: 0.1839 - val_dense_70_loss: 0.0952 - val_dense_71_loss: 0.3448 - val_dense_55_accuracy: 0.9630 - val_dense_56_accuracy: 0.9045 - val_dense_57_accuracy: 0.8860 - val_dense_58_accuracy: 0.9891 - val_dense_59_accuracy: 0.9450 - val_dense_60_accuracy: 0.9804 - val_dense_61_accuracy: 0.7409 - val_dense_62_accuracy: 0.9869 - val_dense_63_accuracy: 0.8441 - val_dense_64_accuracy: 0.9100 - val_dense_65_accuracy: 0.9329 - val_dense_66_accuracy: 0.9355 - val_dense_67_accuracy: 0.9883 - val_dense_68_accuracy: 0.9735 - val_dense_69_accuracy: 0.9540 - val_dense_70_accuracy: 0.9801 - val_dense_71_accuracy: 0.8857\n",
      "Epoch 12/15\n",
      "414/414 [==============================] - 20s 48ms/step - loss: 3.7723 - dense_55_loss: 0.1420 - dense_56_loss: 0.3079 - dense_57_loss: 0.3477 - dense_58_loss: 0.0623 - dense_59_loss: 0.2157 - dense_60_loss: 0.0850 - dense_61_loss: 0.5601 - dense_62_loss: 0.0705 - dense_63_loss: 0.4253 - dense_64_loss: 0.2988 - dense_65_loss: 0.2250 - dense_66_loss: 0.2357 - dense_67_loss: 0.0619 - dense_68_loss: 0.1014 - dense_69_loss: 0.1908 - dense_70_loss: 0.0914 - dense_71_loss: 0.3508 - dense_55_accuracy: 0.9631 - dense_56_accuracy: 0.9039 - dense_57_accuracy: 0.8858 - dense_58_accuracy: 0.9885 - dense_59_accuracy: 0.9433 - dense_60_accuracy: 0.9805 - dense_61_accuracy: 0.7420 - dense_62_accuracy: 0.9864 - dense_63_accuracy: 0.8468 - dense_64_accuracy: 0.9075 - dense_65_accuracy: 0.9359 - dense_66_accuracy: 0.9330 - dense_67_accuracy: 0.9883 - dense_68_accuracy: 0.9754 - dense_69_accuracy: 0.9515 - dense_70_accuracy: 0.9809 - dense_71_accuracy: 0.8835 - val_loss: 3.7721 - val_dense_55_loss: 0.1465 - val_dense_56_loss: 0.3064 - val_dense_57_loss: 0.3479 - val_dense_58_loss: 0.0598 - val_dense_59_loss: 0.2107 - val_dense_60_loss: 0.0887 - val_dense_61_loss: 0.5626 - val_dense_62_loss: 0.0678 - val_dense_63_loss: 0.4308 - val_dense_64_loss: 0.2950 - val_dense_65_loss: 0.2324 - val_dense_66_loss: 0.2300 - val_dense_67_loss: 0.0625 - val_dense_68_loss: 0.1083 - val_dense_69_loss: 0.1838 - val_dense_70_loss: 0.0952 - val_dense_71_loss: 0.3437 - val_dense_55_accuracy: 0.9632 - val_dense_56_accuracy: 0.9045 - val_dense_57_accuracy: 0.8859 - val_dense_58_accuracy: 0.9891 - val_dense_59_accuracy: 0.9450 - val_dense_60_accuracy: 0.9804 - val_dense_61_accuracy: 0.7412 - val_dense_62_accuracy: 0.9869 - val_dense_63_accuracy: 0.8441 - val_dense_64_accuracy: 0.9100 - val_dense_65_accuracy: 0.9329 - val_dense_66_accuracy: 0.9352 - val_dense_67_accuracy: 0.9883 - val_dense_68_accuracy: 0.9739 - val_dense_69_accuracy: 0.9541 - val_dense_70_accuracy: 0.9801 - val_dense_71_accuracy: 0.8864\n",
      "Epoch 13/15\n",
      "414/414 [==============================] - 20s 48ms/step - loss: 3.7734 - dense_55_loss: 0.1417 - dense_56_loss: 0.3022 - dense_57_loss: 0.3494 - dense_58_loss: 0.0605 - dense_59_loss: 0.2170 - dense_60_loss: 0.0859 - dense_61_loss: 0.5613 - dense_62_loss: 0.0727 - dense_63_loss: 0.4225 - dense_64_loss: 0.2976 - dense_65_loss: 0.2271 - dense_66_loss: 0.2371 - dense_67_loss: 0.0628 - dense_68_loss: 0.1010 - dense_69_loss: 0.1900 - dense_70_loss: 0.0939 - dense_71_loss: 0.3506 - dense_55_accuracy: 0.9635 - dense_56_accuracy: 0.9061 - dense_57_accuracy: 0.8844 - dense_58_accuracy: 0.9888 - dense_59_accuracy: 0.9427 - dense_60_accuracy: 0.9804 - dense_61_accuracy: 0.7406 - dense_62_accuracy: 0.9858 - dense_63_accuracy: 0.8483 - dense_64_accuracy: 0.9084 - dense_65_accuracy: 0.9352 - dense_66_accuracy: 0.9324 - dense_67_accuracy: 0.9881 - dense_68_accuracy: 0.9757 - dense_69_accuracy: 0.9517 - dense_70_accuracy: 0.9803 - dense_71_accuracy: 0.8836 - val_loss: 3.7685 - val_dense_55_loss: 0.1456 - val_dense_56_loss: 0.3064 - val_dense_57_loss: 0.3479 - val_dense_58_loss: 0.0596 - val_dense_59_loss: 0.2108 - val_dense_60_loss: 0.0887 - val_dense_61_loss: 0.5627 - val_dense_62_loss: 0.0677 - val_dense_63_loss: 0.4302 - val_dense_64_loss: 0.2936 - val_dense_65_loss: 0.2322 - val_dense_66_loss: 0.2294 - val_dense_67_loss: 0.0627 - val_dense_68_loss: 0.1088 - val_dense_69_loss: 0.1843 - val_dense_70_loss: 0.0951 - val_dense_71_loss: 0.3430 - val_dense_55_accuracy: 0.9633 - val_dense_56_accuracy: 0.9050 - val_dense_57_accuracy: 0.8860 - val_dense_58_accuracy: 0.9891 - val_dense_59_accuracy: 0.9450 - val_dense_60_accuracy: 0.9803 - val_dense_61_accuracy: 0.7409 - val_dense_62_accuracy: 0.9869 - val_dense_63_accuracy: 0.8441 - val_dense_64_accuracy: 0.9100 - val_dense_65_accuracy: 0.9334 - val_dense_66_accuracy: 0.9354 - val_dense_67_accuracy: 0.9883 - val_dense_68_accuracy: 0.9737 - val_dense_69_accuracy: 0.9541 - val_dense_70_accuracy: 0.9801 - val_dense_71_accuracy: 0.8874\n",
      "Epoch 14/15\n",
      "414/414 [==============================] - 20s 49ms/step - loss: 3.7678 - dense_55_loss: 0.1435 - dense_56_loss: 0.3038 - dense_57_loss: 0.3409 - dense_58_loss: 0.0632 - dense_59_loss: 0.2173 - dense_60_loss: 0.0845 - dense_61_loss: 0.5637 - dense_62_loss: 0.0725 - dense_63_loss: 0.4236 - dense_64_loss: 0.2994 - dense_65_loss: 0.2211 - dense_66_loss: 0.2365 - dense_67_loss: 0.0628 - dense_68_loss: 0.1037 - dense_69_loss: 0.1897 - dense_70_loss: 0.0940 - dense_71_loss: 0.3473 - dense_55_accuracy: 0.9629 - dense_56_accuracy: 0.9056 - dense_57_accuracy: 0.8887 - dense_58_accuracy: 0.9882 - dense_59_accuracy: 0.9425 - dense_60_accuracy: 0.9808 - dense_61_accuracy: 0.7387 - dense_62_accuracy: 0.9858 - dense_63_accuracy: 0.8474 - dense_64_accuracy: 0.9074 - dense_65_accuracy: 0.9378 - dense_66_accuracy: 0.9322 - dense_67_accuracy: 0.9882 - dense_68_accuracy: 0.9750 - dense_69_accuracy: 0.9518 - dense_70_accuracy: 0.9803 - dense_71_accuracy: 0.8847 - val_loss: 3.7635 - val_dense_55_loss: 0.1454 - val_dense_56_loss: 0.3056 - val_dense_57_loss: 0.3475 - val_dense_58_loss: 0.0596 - val_dense_59_loss: 0.2105 - val_dense_60_loss: 0.0885 - val_dense_61_loss: 0.5611 - val_dense_62_loss: 0.0676 - val_dense_63_loss: 0.4298 - val_dense_64_loss: 0.2935 - val_dense_65_loss: 0.2331 - val_dense_66_loss: 0.2291 - val_dense_67_loss: 0.0625 - val_dense_68_loss: 0.1085 - val_dense_69_loss: 0.1838 - val_dense_70_loss: 0.0951 - val_dense_71_loss: 0.3426 - val_dense_55_accuracy: 0.9632 - val_dense_56_accuracy: 0.9051 - val_dense_57_accuracy: 0.8860 - val_dense_58_accuracy: 0.9891 - val_dense_59_accuracy: 0.9450 - val_dense_60_accuracy: 0.9804 - val_dense_61_accuracy: 0.7411 - val_dense_62_accuracy: 0.9869 - val_dense_63_accuracy: 0.8441 - val_dense_64_accuracy: 0.9100 - val_dense_65_accuracy: 0.9344 - val_dense_66_accuracy: 0.9355 - val_dense_67_accuracy: 0.9883 - val_dense_68_accuracy: 0.9740 - val_dense_69_accuracy: 0.9541 - val_dense_70_accuracy: 0.9801 - val_dense_71_accuracy: 0.8878\n",
      "Epoch 15/15\n",
      "414/414 [==============================] - 20s 48ms/step - loss: 3.7590 - dense_55_loss: 0.1398 - dense_56_loss: 0.3055 - dense_57_loss: 0.3445 - dense_58_loss: 0.0598 - dense_59_loss: 0.2183 - dense_60_loss: 0.0843 - dense_61_loss: 0.5614 - dense_62_loss: 0.0729 - dense_63_loss: 0.4258 - dense_64_loss: 0.2962 - dense_65_loss: 0.2224 - dense_66_loss: 0.2334 - dense_67_loss: 0.0637 - dense_68_loss: 0.1004 - dense_69_loss: 0.1890 - dense_70_loss: 0.0964 - dense_71_loss: 0.3454 - dense_55_accuracy: 0.9644 - dense_56_accuracy: 0.9039 - dense_57_accuracy: 0.8868 - dense_58_accuracy: 0.9889 - dense_59_accuracy: 0.9422 - dense_60_accuracy: 0.9808 - dense_61_accuracy: 0.7405 - dense_62_accuracy: 0.9857 - dense_63_accuracy: 0.8464 - dense_64_accuracy: 0.9086 - dense_65_accuracy: 0.9376 - dense_66_accuracy: 0.9334 - dense_67_accuracy: 0.9879 - dense_68_accuracy: 0.9759 - dense_69_accuracy: 0.9520 - dense_70_accuracy: 0.9797 - dense_71_accuracy: 0.8854 - val_loss: 3.7618 - val_dense_55_loss: 0.1457 - val_dense_56_loss: 0.3054 - val_dense_57_loss: 0.3474 - val_dense_58_loss: 0.0596 - val_dense_59_loss: 0.2107 - val_dense_60_loss: 0.0883 - val_dense_61_loss: 0.5607 - val_dense_62_loss: 0.0673 - val_dense_63_loss: 0.4302 - val_dense_64_loss: 0.2936 - val_dense_65_loss: 0.2316 - val_dense_66_loss: 0.2291 - val_dense_67_loss: 0.0624 - val_dense_68_loss: 0.1078 - val_dense_69_loss: 0.1834 - val_dense_70_loss: 0.0953 - val_dense_71_loss: 0.3432 - val_dense_55_accuracy: 0.9629 - val_dense_56_accuracy: 0.9052 - val_dense_57_accuracy: 0.8858 - val_dense_58_accuracy: 0.9891 - val_dense_59_accuracy: 0.9450 - val_dense_60_accuracy: 0.9803 - val_dense_61_accuracy: 0.7413 - val_dense_62_accuracy: 0.9869 - val_dense_63_accuracy: 0.8441 - val_dense_64_accuracy: 0.9100 - val_dense_65_accuracy: 0.9344 - val_dense_66_accuracy: 0.9354 - val_dense_67_accuracy: 0.9883 - val_dense_68_accuracy: 0.9741 - val_dense_69_accuracy: 0.9541 - val_dense_70_accuracy: 0.9801 - val_dense_71_accuracy: 0.8876\n",
      "Consume time :  16009.916600704193\n"
     ]
    }
   ],
   "source": [
    "print('Start Time :', start_time )\n",
    "history_5 = model_5.fit(x=X_train, y=[y1_train, y2_train, y3_train, y4_train, y5_train, y6_train, y7_train, y8_train, y9_train, y10_train, y11_train, y12_train, y13_train, y14_train, y15_train, y16_train, y17_train], batch_size=256, epochs=15, verbose=1, validation_split=0.2)\n",
    "print('Consume time : ',(time.time() - start_time))"
   ]
  },
  {
   "cell_type": "code",
   "execution_count": 410,
   "metadata": {},
   "outputs": [
    {
     "name": "stdout",
     "output_type": "stream",
     "text": [
      "1771/1771 [==============================] - 29s 17ms/step - loss: 3.7938 - Output_1_loss: 0.1488 - Output_2_loss: 0.3074 - Output_3_loss: 0.3418 - Output_4_loss: 0.0622 - Output_5_loss: 0.2115 - Output_6_loss: 0.0947 - Output_7_loss: 0.5602 - Output_8_loss: 0.0729 - Output_9_loss: 0.4323 - Output_10_loss: 0.2986 - Output_11_loss: 0.2249 - Output_12_loss: 0.2292 - Output_13_loss: 0.0659 - Output_14_loss: 0.1088 - Output_15_loss: 0.1944 - Output_16_loss: 0.0963 - Output_17_loss: 0.3439 - Output_1_accuracy: 0.9616 - Output_2_accuracy: 0.9044 - Output_3_accuracy: 0.8892 - Output_4_accuracy: 0.9885 - Output_5_accuracy: 0.9441 - Output_6_accuracy: 0.9784 - Output_7_accuracy: 0.7419 - Output_8_accuracy: 0.9856 - Output_9_accuracy: 0.8426 - Output_10_accuracy: 0.9079 - Output_11_accuracy: 0.9372 - Output_12_accuracy: 0.9350 - Output_13_accuracy: 0.9876 - Output_14_accuracy: 0.9742 - Output_15_accuracy: 0.9504 - Output_16_accuracy: 0.9799 - Output_17_accuracy: 0.8862\n"
     ]
    }
   ],
   "source": [
    "score_5 = model_5.evaluate(x=X_test, y=[y1_test, y2_test, y3_test, y4_test, y5_test, y6_test, y7_test, y8_test, y9_test, y10_test, y11_test, y12_test, y13_test, y14_test, y15_test, y16_test, y17_test], verbose=1)"
   ]
  },
  {
   "cell_type": "code",
   "execution_count": 507,
   "metadata": {},
   "outputs": [
    {
     "data": {
      "image/png": "[encoded data removed]",
      "text/plain": [
       "<Figure size 432x288 with 1 Axes>"
      ]
     },
     "metadata": {
      "needs_background": "light"
     },
     "output_type": "display_data"
    },
    {
     "data": {
      "image/png": "[encoded data removed]",
      "text/plain": [
       "<Figure size 432x288 with 1 Axes>"
      ]
     },
     "metadata": {
      "needs_background": "light"
     },
     "output_type": "display_data"
    }
   ],
   "source": [
    "plt.plot(history_5.history['dense_62_accuracy'])\n",
    "plt.plot(history_5.history['val_dense_62_accuracy'])\n",
    "\n",
    "plt.title('model accuracy')\n",
    "plt.ylabel('accuracy')\n",
    "plt.xlabel('epoch')\n",
    "plt.legend(['train','test'], loc='upper left')\n",
    "plt.show()\n",
    "\n",
    "plt.plot(history_5.history['dense_62_loss'])\n",
    "plt.plot(history_5.history['val_dense_62_loss'])\n",
    "\n",
    "plt.title('model loss')\n",
    "plt.ylabel('loss')\n",
    "plt.xlabel('epoch')\n",
    "plt.legend(['train','test'], loc='upper left')\n",
    "plt.show()"
   ]
  },
  {
   "cell_type": "code",
   "execution_count": 508,
   "metadata": {},
   "outputs": [],
   "source": [
    "pred_5 = model_4.predict(X_test)\n",
    "dict_test_5 = {label[i] : [1 if k[0] >= 0.5 else 0 for k in pred_5[i] ] for i in range(len(label))}\n",
    "pred_5_df = pd.DataFrame(dict_test_5)\n",
    "predictions_5 = pred_5_df[['ไลฟ์สไตล์', 'เศรษฐกิจ', 'ต่างประเทศ', 'ความมั่นคง', 'สิ่งแวดล้อม', 'ผู้หญิง', 'การเมือง', 'แรงงาน', 'สังคม', 'อาชญากรรม', 'บันเทิง', 'สิทธิมนุษยชน', 'การศึกษา', 'วิทยาศาสตร์เทคโนโลยี', 'คุณภาพชีวิต', 'วัฒนธรรม', 'กีฬา']].values"
   ]
  },
  {
   "cell_type": "code",
   "execution_count": 509,
   "metadata": {
    "scrolled": false
   },
   "outputs": [
    {
     "name": "stdout",
     "output_type": "stream",
     "text": [
      "              precision    recall  f1-score   support\n",
      "\n",
      "           0       0.84      0.67      0.75      2305\n",
      "           1       0.81      0.64      0.71      5437\n",
      "           2       0.91      0.80      0.85      6506\n",
      "           3       0.00      0.00      0.00       653\n",
      "           4       0.74      0.55      0.63      3168\n",
      "           5       0.72      0.51      0.60      1261\n",
      "           6       0.85      0.83      0.84     14636\n",
      "           7       0.83      0.21      0.33       814\n",
      "           8       0.73      0.46      0.57      8917\n",
      "           9       0.83      0.77      0.80      5219\n",
      "          10       0.94      0.89      0.92      3617\n",
      "          11       0.66      0.35      0.46      3703\n",
      "          12       0.00      0.00      0.00       701\n",
      "          13       0.86      0.39      0.54      1847\n",
      "          14       0.56      0.10      0.17      2812\n",
      "          15       0.00      0.00      0.00      1141\n",
      "          16       0.98      0.97      0.98      6587\n",
      "\n",
      "   micro avg       0.84      0.65      0.73     69324\n",
      "   macro avg       0.66      0.48      0.54     69324\n",
      "weighted avg       0.79      0.65      0.70     69324\n",
      " samples avg       0.75      0.72      0.73     69324\n",
      "\n"
     ]
    },
    {
     "name": "stderr",
     "output_type": "stream",
     "text": [
      "C:\\Users\\Cromagnon-PC\\anaconda3\\envs\\tf2.4gpu\\lib\\site-packages\\sklearn\\metrics\\_classification.py:1248: UndefinedMetricWarning: Precision and F-score are ill-defined and being set to 0.0 in labels with no predicted samples. Use `zero_division` parameter to control this behavior.\n",
      "  _warn_prf(average, modifier, msg_start, len(result))\n",
      "C:\\Users\\Cromagnon-PC\\anaconda3\\envs\\tf2.4gpu\\lib\\site-packages\\sklearn\\metrics\\_classification.py:1248: UndefinedMetricWarning: Precision and F-score are ill-defined and being set to 0.0 in samples with no predicted labels. Use `zero_division` parameter to control this behavior.\n",
      "  _warn_prf(average, modifier, msg_start, len(result))\n",
      "C:\\Users\\Cromagnon-PC\\anaconda3\\envs\\tf2.4gpu\\lib\\site-packages\\sklearn\\metrics\\_classification.py:1248: UndefinedMetricWarning: Recall and F-score are ill-defined and being set to 0.0 in samples with no true labels. Use `zero_division` parameter to control this behavior.\n",
      "  _warn_prf(average, modifier, msg_start, len(result))\n"
     ]
    }
   ],
   "source": [
    "print(classification_report(y_test, predictions_5))"
   ]
  },
  {
   "cell_type": "code",
   "execution_count": 511,
   "metadata": {},
   "outputs": [],
   "source": [
    "pred_5_df.to_csv(\"LSTM_Glove_testing data_new.csv\")"
   ]
  },
  {
   "cell_type": "code",
   "execution_count": 441,
   "metadata": {},
   "outputs": [],
   "source": [
    "model_5.save('LSTM_Glove_model.h5')\n",
    "model_5.save_weights(\"LSTM_Glove_weight.h5\")"
   ]
  },
  {
   "cell_type": "markdown",
   "metadata": {},
   "source": [
    "## - Bi - LSTM"
   ]
  },
  {
   "cell_type": "markdown",
   "metadata": {},
   "source": [
    "Apporch 1"
   ]
  },
  {
   "cell_type": "code",
   "execution_count": 427,
   "metadata": {
    "scrolled": false
   },
   "outputs": [
    {
     "name": "stdout",
     "output_type": "stream",
     "text": [
      "Model: \"model_29\"\n",
      "_________________________________________________________________\n",
      "Layer (type)                 Output Shape              Param #   \n",
      "=================================================================\n",
      "input_39 (InputLayer)        [(None, 300)]             0         \n",
      "_________________________________________________________________\n",
      "embedding_43 (Embedding)     (None, 300, 300)          45141300  \n",
      "_________________________________________________________________\n",
      "bidirectional_7 (Bidirection (None, 300, 64)           85248     \n",
      "_________________________________________________________________\n",
      "global_max_pooling1d_12 (Glo (None, 64)                0         \n",
      "_________________________________________________________________\n",
      "dense_35 (Dense)             (None, 34)                2210      \n",
      "_________________________________________________________________\n",
      "dropout_14 (Dropout)         (None, 34)                0         \n",
      "_________________________________________________________________\n",
      "dense_36 (Dense)             (None, 17)                595       \n",
      "=================================================================\n",
      "Total params: 45,229,353\n",
      "Trainable params: 88,053\n",
      "Non-trainable params: 45,141,300\n",
      "_________________________________________________________________\n"
     ]
    }
   ],
   "source": [
    "input_1 = Input(shape=(maxlen,))\n",
    "embedding_layer = Embedding(vocab_size, 300, weights=[embedding_matrix], trainable=False)(input_1)\n",
    "bilstm_1 = Bidirectional(LSTM(units= 32, return_sequences=True))(embedding_layer)\n",
    "x = GlobalMaxPool1D()(bilstm_1)\n",
    "x = Dense(34, activation=\"relu\")(x)\n",
    "x = Dropout(0.5)(x)\n",
    "dense_1 = Dense(17, activation = 'sigmoid')(x)\n",
    "model_7 = Model(inputs=input_1, outputs=dense_1)\n",
    "model_7.summary()"
   ]
  },
  {
   "cell_type": "code",
   "execution_count": 428,
   "metadata": {},
   "outputs": [],
   "source": [
    "from tensorflow.keras.callbacks import ReduceLROnPlateau, EarlyStopping\n",
    "lr_reduction = ReduceLROnPlateau(monitor='val_accuracy', \n",
    "                                            patience=3, \n",
    "                                            verbose=1, \n",
    "                                            factor=0.5, \n",
    "                                            min_lr=0.00001)\n",
    "es = EarlyStopping(monitor='val_loss',\n",
    "                              min_delta=0,\n",
    "                              patience=5,\n",
    "                              verbose=0, mode='auto')"
   ]
  },
  {
   "cell_type": "code",
   "execution_count": 430,
   "metadata": {},
   "outputs": [],
   "source": [
    "model_7.compile(optimizer='adam',\n",
    "              loss='binary_crossentropy',\n",
    "              metrics=['accuracy'])"
   ]
  },
  {
   "cell_type": "code",
   "execution_count": 431,
   "metadata": {
    "scrolled": true
   },
   "outputs": [
    {
     "name": "stdout",
     "output_type": "stream",
     "text": [
      "Start Time : 1624157774.5816238\n",
      "Epoch 1/30\n",
      "414/414 [==============================] - 26s 54ms/step - loss: 0.4085 - accuracy: 0.1041 - val_loss: 0.2291 - val_accuracy: 0.2361\n",
      "Epoch 2/30\n",
      "414/414 [==============================] - 22s 53ms/step - loss: 0.2512 - accuracy: 0.2243 - val_loss: 0.2277 - val_accuracy: 0.2393\n",
      "Epoch 3/30\n",
      "414/414 [==============================] - 23s 56ms/step - loss: 0.2441 - accuracy: 0.2402 - val_loss: 0.2261 - val_accuracy: 0.2480\n",
      "Epoch 4/30\n",
      "414/414 [==============================] - 20s 49ms/step - loss: 0.2408 - accuracy: 0.2423 - val_loss: 0.2256 - val_accuracy: 0.2493\n",
      "Epoch 5/30\n",
      "414/414 [==============================] - 21s 52ms/step - loss: 0.2370 - accuracy: 0.2490 - val_loss: 0.2245 - val_accuracy: 0.2533\n",
      "Epoch 6/30\n",
      "414/414 [==============================] - 22s 52ms/step - loss: 0.2360 - accuracy: 0.2481 - val_loss: 0.2237 - val_accuracy: 0.2544\n",
      "Epoch 7/30\n",
      "414/414 [==============================] - 22s 53ms/step - loss: 0.2340 - accuracy: 0.2531 - val_loss: 0.2233 - val_accuracy: 0.2568\n",
      "Epoch 8/30\n",
      "414/414 [==============================] - 22s 52ms/step - loss: 0.2328 - accuracy: 0.2545 - val_loss: 0.2229 - val_accuracy: 0.2620\n",
      "Epoch 9/30\n",
      "414/414 [==============================] - 20s 49ms/step - loss: 0.2316 - accuracy: 0.2535 - val_loss: 0.2227 - val_accuracy: 0.2622\n",
      "Epoch 10/30\n",
      "414/414 [==============================] - 20s 49ms/step - loss: 0.2306 - accuracy: 0.2551 - val_loss: 0.2224 - val_accuracy: 0.2637\n",
      "Epoch 11/30\n",
      "414/414 [==============================] - 21s 51ms/step - loss: 0.2292 - accuracy: 0.2566 - val_loss: 0.2221 - val_accuracy: 0.2663\n",
      "Epoch 12/30\n",
      "414/414 [==============================] - 20s 49ms/step - loss: 0.2276 - accuracy: 0.2593 - val_loss: 0.2218 - val_accuracy: 0.2671\n",
      "Epoch 13/30\n",
      "414/414 [==============================] - 20s 49ms/step - loss: 0.2273 - accuracy: 0.2639 - val_loss: 0.2212 - val_accuracy: 0.2696\n",
      "Epoch 14/30\n",
      "414/414 [==============================] - 21s 50ms/step - loss: 0.2259 - accuracy: 0.2652 - val_loss: 0.2211 - val_accuracy: 0.2721\n",
      "Epoch 15/30\n",
      "414/414 [==============================] - 21s 50ms/step - loss: 0.2259 - accuracy: 0.2674 - val_loss: 0.2207 - val_accuracy: 0.2749\n",
      "Epoch 16/30\n",
      "414/414 [==============================] - 20s 49ms/step - loss: 0.2249 - accuracy: 0.2681 - val_loss: 0.2206 - val_accuracy: 0.2747\n",
      "Epoch 17/30\n",
      "414/414 [==============================] - 22s 52ms/step - loss: 0.2245 - accuracy: 0.2716 - val_loss: 0.2205 - val_accuracy: 0.2747\n",
      "Epoch 18/30\n",
      "414/414 [==============================] - 21s 51ms/step - loss: 0.2244 - accuracy: 0.2700 - val_loss: 0.2203 - val_accuracy: 0.2750\n",
      "Epoch 19/30\n",
      "414/414 [==============================] - 22s 52ms/step - loss: 0.2232 - accuracy: 0.2679 - val_loss: 0.2202 - val_accuracy: 0.2756\n",
      "Epoch 20/30\n",
      "414/414 [==============================] - 21s 50ms/step - loss: 0.2234 - accuracy: 0.2696 - val_loss: 0.2202 - val_accuracy: 0.2773\n",
      "Epoch 21/30\n",
      "414/414 [==============================] - 22s 53ms/step - loss: 0.2231 - accuracy: 0.2709 - val_loss: 0.2200 - val_accuracy: 0.2770\n",
      "Epoch 22/30\n",
      "414/414 [==============================] - 20s 49ms/step - loss: 0.2233 - accuracy: 0.2703 - val_loss: 0.2198 - val_accuracy: 0.2773\n",
      "Epoch 23/30\n",
      "414/414 [==============================] - 22s 52ms/step - loss: 0.2220 - accuracy: 0.2719 - val_loss: 0.2199 - val_accuracy: 0.2776\n",
      "Epoch 24/30\n",
      "414/414 [==============================] - 22s 54ms/step - loss: 0.2226 - accuracy: 0.2711 - val_loss: 0.2197 - val_accuracy: 0.2786\n",
      "Epoch 25/30\n",
      "414/414 [==============================] - 20s 49ms/step - loss: 0.2221 - accuracy: 0.2739 - val_loss: 0.2196 - val_accuracy: 0.2789\n",
      "Epoch 26/30\n",
      "414/414 [==============================] - 21s 51ms/step - loss: 0.2221 - accuracy: 0.2741 - val_loss: 0.2195 - val_accuracy: 0.2807\n",
      "Epoch 27/30\n",
      "414/414 [==============================] - 22s 53ms/step - loss: 0.2212 - accuracy: 0.2773 - val_loss: 0.2195 - val_accuracy: 0.2812\n",
      "Epoch 28/30\n",
      "414/414 [==============================] - 23s 55ms/step - loss: 0.2218 - accuracy: 0.2758 - val_loss: 0.2197 - val_accuracy: 0.2791\n",
      "Epoch 29/30\n",
      "414/414 [==============================] - 21s 51ms/step - loss: 0.2214 - accuracy: 0.2774 - val_loss: 0.2194 - val_accuracy: 0.2813\n",
      "Epoch 30/30\n",
      "414/414 [==============================] - 21s 50ms/step - loss: 0.2212 - accuracy: 0.2784 - val_loss: 0.2193 - val_accuracy: 0.2804\n",
      "Consume time :  11739.775939941406\n"
     ]
    }
   ],
   "source": [
    "print('Start Time :', start_time )\n",
    "history_7 = model_7.fit(X_train, y_train, batch_size=256, epochs=30, verbose=1, validation_split=0.2,callbacks=callbacks_list)\n",
    "print('Consume time : ',(time.time() - start_time))"
   ]
  },
  {
   "cell_type": "markdown",
   "metadata": {},
   "source": [
    "Apporch 2"
   ]
  },
  {
   "cell_type": "code",
   "execution_count": 512,
   "metadata": {},
   "outputs": [
    {
     "name": "stdout",
     "output_type": "stream",
     "text": [
      "Model: \"model_33\"\n",
      "__________________________________________________________________________________________________\n",
      "Layer (type)                    Output Shape         Param #     Connected to                     \n",
      "==================================================================================================\n",
      "input_43 (InputLayer)           [(None, 300)]        0                                            \n",
      "__________________________________________________________________________________________________\n",
      "embedding_47 (Embedding)        (None, 300, 300)     45141300    input_43[0][0]                   \n",
      "__________________________________________________________________________________________________\n",
      "bidirectional_8 (Bidirectional) (None, 300, 64)      85248       embedding_47[0][0]               \n",
      "__________________________________________________________________________________________________\n",
      "global_max_pooling1d_13 (Global (None, 64)           0           bidirectional_8[0][0]            \n",
      "__________________________________________________________________________________________________\n",
      "dense_72 (Dense)                (None, 34)           2210        global_max_pooling1d_13[0][0]    \n",
      "__________________________________________________________________________________________________\n",
      "dropout_16 (Dropout)            (None, 34)           0           dense_72[0][0]                   \n",
      "__________________________________________________________________________________________________\n",
      "dense_73 (Dense)                (None, 1)            35          dropout_16[0][0]                 \n",
      "__________________________________________________________________________________________________\n",
      "dense_74 (Dense)                (None, 1)            35          dropout_16[0][0]                 \n",
      "__________________________________________________________________________________________________\n",
      "dense_75 (Dense)                (None, 1)            35          dropout_16[0][0]                 \n",
      "__________________________________________________________________________________________________\n",
      "dense_76 (Dense)                (None, 1)            35          dropout_16[0][0]                 \n",
      "__________________________________________________________________________________________________\n",
      "dense_77 (Dense)                (None, 1)            35          dropout_16[0][0]                 \n",
      "__________________________________________________________________________________________________\n",
      "dense_78 (Dense)                (None, 1)            35          dropout_16[0][0]                 \n",
      "__________________________________________________________________________________________________\n",
      "dense_79 (Dense)                (None, 1)            35          dropout_16[0][0]                 \n",
      "__________________________________________________________________________________________________\n",
      "dense_80 (Dense)                (None, 1)            35          dropout_16[0][0]                 \n",
      "__________________________________________________________________________________________________\n",
      "dense_81 (Dense)                (None, 1)            35          dropout_16[0][0]                 \n",
      "__________________________________________________________________________________________________\n",
      "dense_82 (Dense)                (None, 1)            35          dropout_16[0][0]                 \n",
      "__________________________________________________________________________________________________\n",
      "dense_83 (Dense)                (None, 1)            35          dropout_16[0][0]                 \n",
      "__________________________________________________________________________________________________\n",
      "dense_84 (Dense)                (None, 1)            35          dropout_16[0][0]                 \n",
      "__________________________________________________________________________________________________\n",
      "dense_85 (Dense)                (None, 1)            35          dropout_16[0][0]                 \n",
      "__________________________________________________________________________________________________\n",
      "dense_86 (Dense)                (None, 1)            35          dropout_16[0][0]                 \n",
      "__________________________________________________________________________________________________\n",
      "dense_87 (Dense)                (None, 1)            35          dropout_16[0][0]                 \n",
      "__________________________________________________________________________________________________\n",
      "dense_88 (Dense)                (None, 1)            35          dropout_16[0][0]                 \n",
      "__________________________________________________________________________________________________\n",
      "dense_89 (Dense)                (None, 1)            35          dropout_16[0][0]                 \n",
      "==================================================================================================\n",
      "Total params: 45,229,353\n",
      "Trainable params: 88,053\n",
      "Non-trainable params: 45,141,300\n",
      "__________________________________________________________________________________________________\n"
     ]
    }
   ],
   "source": [
    "input_1 = Input(shape=(maxlen,))\n",
    "embedding_layer = Embedding(vocab_size, 300, weights=[embedding_matrix], trainable=False)(input_1)\n",
    "bilstm_1 = Bidirectional(LSTM(units= 32, return_sequences=True))(embedding_layer)\n",
    "x = GlobalMaxPool1D()(bilstm_1)\n",
    "x = Dense(34, activation=\"relu\")(x)\n",
    "x = Dropout(0.5)(x)\n",
    "output1 = Dense(1, activation='sigmoid')(x)\n",
    "output2 = Dense(1, activation='sigmoid')(x)\n",
    "output3 = Dense(1, activation='sigmoid')(x)\n",
    "output4 = Dense(1, activation='sigmoid')(x)\n",
    "output5 = Dense(1, activation='sigmoid')(x)\n",
    "output6 = Dense(1, activation='sigmoid')(x)\n",
    "output7 = Dense(1, activation='sigmoid')(x)\n",
    "output8 = Dense(1, activation='sigmoid')(x)\n",
    "output9 = Dense(1, activation='sigmoid')(x)\n",
    "output10 = Dense(1, activation='sigmoid')(x)\n",
    "output11 = Dense(1, activation='sigmoid')(x)\n",
    "output12 = Dense(1, activation='sigmoid')(x)\n",
    "output13 = Dense(1, activation='sigmoid')(x)\n",
    "output14 = Dense(1, activation='sigmoid')(x)\n",
    "output15 = Dense(1, activation='sigmoid')(x)\n",
    "output16 = Dense(1, activation='sigmoid')(x)\n",
    "output17 = Dense(1, activation='sigmoid')(x)\n",
    "\n",
    "model_6 = Model(inputs=input_1, outputs=[output1, output2, output3, output4, output5, output6,output7,output8,output9,output10,output11,output12,output13,output14,output15,output16,output17])\n",
    "model_6.summary()"
   ]
  },
  {
   "cell_type": "code",
   "execution_count": 513,
   "metadata": {},
   "outputs": [],
   "source": [
    "model_6.compile(optimizer='adam',\n",
    "              loss='binary_crossentropy',\n",
    "              metrics=['accuracy'])"
   ]
  },
  {
   "cell_type": "code",
   "execution_count": 514,
   "metadata": {},
   "outputs": [
    {
     "name": "stdout",
     "output_type": "stream",
     "text": [
      "Start Time : 1624157774.5816238\n",
      "Epoch 1/15\n",
      "414/414 [==============================] - 45s 84ms/step - loss: 6.8057 - dense_73_loss: 0.3280 - dense_74_loss: 0.4451 - dense_75_loss: 0.4868 - dense_76_loss: 0.3032 - dense_77_loss: 0.3745 - dense_78_loss: 0.2953 - dense_79_loss: 0.7094 - dense_80_loss: 0.2582 - dense_81_loss: 0.5300 - dense_82_loss: 0.4240 - dense_83_loss: 0.4032 - dense_84_loss: 0.3729 - dense_85_loss: 0.3140 - dense_86_loss: 0.4420 - dense_87_loss: 0.3458 - dense_88_loss: 0.2837 - dense_89_loss: 0.4898 - dense_73_accuracy: 0.9247 - dense_74_accuracy: 0.8836 - dense_75_accuracy: 0.8296 - dense_76_accuracy: 0.8990 - dense_77_accuracy: 0.9076 - dense_78_accuracy: 0.9408 - dense_79_accuracy: 0.5711 - dense_80_accuracy: 0.9712 - dense_81_accuracy: 0.8205 - dense_82_accuracy: 0.8886 - dense_83_accuracy: 0.8847 - dense_84_accuracy: 0.9263 - dense_85_accuracy: 0.8830 - dense_86_accuracy: 0.7653 - dense_87_accuracy: 0.9306 - dense_88_accuracy: 0.9559 - dense_89_accuracy: 0.8498 - val_loss: 3.8622 - val_dense_73_loss: 0.1517 - val_dense_74_loss: 0.3134 - val_dense_75_loss: 0.3553 - val_dense_76_loss: 0.0600 - val_dense_77_loss: 0.2150 - val_dense_78_loss: 0.0910 - val_dense_79_loss: 0.5660 - val_dense_80_loss: 0.0685 - val_dense_81_loss: 0.4317 - val_dense_82_loss: 0.3005 - val_dense_83_loss: 0.2461 - val_dense_84_loss: 0.2358 - val_dense_85_loss: 0.0633 - val_dense_86_loss: 0.1232 - val_dense_87_loss: 0.1848 - val_dense_88_loss: 0.0962 - val_dense_89_loss: 0.3597 - val_dense_73_accuracy: 0.9618 - val_dense_74_accuracy: 0.9045 - val_dense_75_accuracy: 0.8828 - val_dense_76_accuracy: 0.9891 - val_dense_77_accuracy: 0.9450 - val_dense_78_accuracy: 0.9803 - val_dense_79_accuracy: 0.7409 - val_dense_80_accuracy: 0.9869 - val_dense_81_accuracy: 0.8441 - val_dense_82_accuracy: 0.9100 - val_dense_83_accuracy: 0.9329 - val_dense_84_accuracy: 0.9352 - val_dense_85_accuracy: 0.9883 - val_dense_86_accuracy: 0.9673 - val_dense_87_accuracy: 0.9540 - val_dense_88_accuracy: 0.9801 - val_dense_89_accuracy: 0.8838\n",
      "Epoch 2/15\n",
      "414/414 [==============================] - 33s 80ms/step - loss: 4.1556 - dense_73_loss: 0.1714 - dense_74_loss: 0.3313 - dense_75_loss: 0.3720 - dense_76_loss: 0.0792 - dense_77_loss: 0.2362 - dense_78_loss: 0.1051 - dense_79_loss: 0.5879 - dense_80_loss: 0.0845 - dense_81_loss: 0.4441 - dense_82_loss: 0.3153 - dense_83_loss: 0.2569 - dense_84_loss: 0.2571 - dense_85_loss: 0.0774 - dense_86_loss: 0.1365 - dense_87_loss: 0.2102 - dense_88_loss: 0.1101 - dense_89_loss: 0.3804 - dense_73_accuracy: 0.9613 - dense_74_accuracy: 0.9044 - dense_75_accuracy: 0.8828 - dense_76_accuracy: 0.9884 - dense_77_accuracy: 0.9426 - dense_78_accuracy: 0.9804 - dense_79_accuracy: 0.7329 - dense_80_accuracy: 0.9858 - dense_81_accuracy: 0.8441 - dense_82_accuracy: 0.9091 - dense_83_accuracy: 0.9364 - dense_84_accuracy: 0.9328 - dense_85_accuracy: 0.9885 - dense_86_accuracy: 0.9707 - dense_87_accuracy: 0.9508 - dense_88_accuracy: 0.9803 - dense_89_accuracy: 0.8827 - val_loss: 3.8307 - val_dense_73_loss: 0.1488 - val_dense_74_loss: 0.3125 - val_dense_75_loss: 0.3531 - val_dense_76_loss: 0.0601 - val_dense_77_loss: 0.2123 - val_dense_78_loss: 0.0901 - val_dense_79_loss: 0.5639 - val_dense_80_loss: 0.0672 - val_dense_81_loss: 0.4316 - val_dense_82_loss: 0.2985 - val_dense_83_loss: 0.2437 - val_dense_84_loss: 0.2342 - val_dense_85_loss: 0.0630 - val_dense_86_loss: 0.1132 - val_dense_87_loss: 0.1836 - val_dense_88_loss: 0.0955 - val_dense_89_loss: 0.3594 - val_dense_73_accuracy: 0.9618 - val_dense_74_accuracy: 0.9045 - val_dense_75_accuracy: 0.8828 - val_dense_76_accuracy: 0.9891 - val_dense_77_accuracy: 0.9450 - val_dense_78_accuracy: 0.9803 - val_dense_79_accuracy: 0.7409 - val_dense_80_accuracy: 0.9869 - val_dense_81_accuracy: 0.8441 - val_dense_82_accuracy: 0.9100 - val_dense_83_accuracy: 0.9329 - val_dense_84_accuracy: 0.9352 - val_dense_85_accuracy: 0.9883 - val_dense_86_accuracy: 0.9721 - val_dense_87_accuracy: 0.9540 - val_dense_88_accuracy: 0.9801 - val_dense_89_accuracy: 0.8838\n",
      "Epoch 3/15\n",
      "414/414 [==============================] - 34s 82ms/step - loss: 4.0411 - dense_73_loss: 0.1647 - dense_74_loss: 0.3251 - dense_75_loss: 0.3637 - dense_76_loss: 0.0718 - dense_77_loss: 0.2309 - dense_78_loss: 0.1018 - dense_79_loss: 0.5744 - dense_80_loss: 0.0798 - dense_81_loss: 0.4371 - dense_82_loss: 0.3135 - dense_83_loss: 0.2489 - dense_84_loss: 0.2550 - dense_85_loss: 0.0730 - dense_86_loss: 0.1244 - dense_87_loss: 0.2025 - dense_88_loss: 0.1016 - dense_89_loss: 0.3728 - dense_73_accuracy: 0.9616 - dense_74_accuracy: 0.9045 - dense_75_accuracy: 0.8828 - dense_76_accuracy: 0.9889 - dense_77_accuracy: 0.9430 - dense_78_accuracy: 0.9799 - dense_79_accuracy: 0.7410 - dense_80_accuracy: 0.9862 - dense_81_accuracy: 0.8454 - dense_82_accuracy: 0.9083 - dense_83_accuracy: 0.9360 - dense_84_accuracy: 0.9317 - dense_85_accuracy: 0.9884 - dense_86_accuracy: 0.9723 - dense_87_accuracy: 0.9523 - dense_88_accuracy: 0.9812 - dense_89_accuracy: 0.8820 - val_loss: 3.8049 - val_dense_73_loss: 0.1464 - val_dense_74_loss: 0.3118 - val_dense_75_loss: 0.3516 - val_dense_76_loss: 0.0599 - val_dense_77_loss: 0.2113 - val_dense_78_loss: 0.0894 - val_dense_79_loss: 0.5617 - val_dense_80_loss: 0.0671 - val_dense_81_loss: 0.4307 - val_dense_82_loss: 0.2968 - val_dense_83_loss: 0.2392 - val_dense_84_loss: 0.2318 - val_dense_85_loss: 0.0631 - val_dense_86_loss: 0.1113 - val_dense_87_loss: 0.1836 - val_dense_88_loss: 0.0951 - val_dense_89_loss: 0.3543 - val_dense_73_accuracy: 0.9618 - val_dense_74_accuracy: 0.9045 - val_dense_75_accuracy: 0.8828 - val_dense_76_accuracy: 0.9891 - val_dense_77_accuracy: 0.9450 - val_dense_78_accuracy: 0.9803 - val_dense_79_accuracy: 0.7409 - val_dense_80_accuracy: 0.9869 - val_dense_81_accuracy: 0.8441 - val_dense_82_accuracy: 0.9100 - val_dense_83_accuracy: 0.9329 - val_dense_84_accuracy: 0.9352 - val_dense_85_accuracy: 0.9883 - val_dense_86_accuracy: 0.9731 - val_dense_87_accuracy: 0.9540 - val_dense_88_accuracy: 0.9801 - val_dense_89_accuracy: 0.8838\n",
      "Epoch 4/15\n",
      "414/414 [==============================] - 33s 80ms/step - loss: 3.9879 - dense_73_loss: 0.1585 - dense_74_loss: 0.3201 - dense_75_loss: 0.3593 - dense_76_loss: 0.0710 - dense_77_loss: 0.2299 - dense_78_loss: 0.0967 - dense_79_loss: 0.5701 - dense_80_loss: 0.0775 - dense_81_loss: 0.4339 - dense_82_loss: 0.3133 - dense_83_loss: 0.2439 - dense_84_loss: 0.2452 - dense_85_loss: 0.0715 - dense_86_loss: 0.1194 - dense_87_loss: 0.2020 - dense_88_loss: 0.1061 - dense_89_loss: 0.3697 - dense_73_accuracy: 0.9620 - dense_74_accuracy: 0.9051 - dense_75_accuracy: 0.8839 - dense_76_accuracy: 0.9886 - dense_77_accuracy: 0.9423 - dense_78_accuracy: 0.9803 - dense_79_accuracy: 0.7397 - dense_80_accuracy: 0.9866 - dense_81_accuracy: 0.8466 - dense_82_accuracy: 0.9078 - dense_83_accuracy: 0.9361 - dense_84_accuracy: 0.9336 - dense_85_accuracy: 0.9884 - dense_86_accuracy: 0.9735 - dense_87_accuracy: 0.9516 - dense_88_accuracy: 0.9800 - dense_89_accuracy: 0.8819 - val_loss: 3.7848 - val_dense_73_loss: 0.1452 - val_dense_74_loss: 0.3098 - val_dense_75_loss: 0.3495 - val_dense_76_loss: 0.0595 - val_dense_77_loss: 0.2105 - val_dense_78_loss: 0.0881 - val_dense_79_loss: 0.5609 - val_dense_80_loss: 0.0663 - val_dense_81_loss: 0.4298 - val_dense_82_loss: 0.2970 - val_dense_83_loss: 0.2367 - val_dense_84_loss: 0.2303 - val_dense_85_loss: 0.0628 - val_dense_86_loss: 0.1103 - val_dense_87_loss: 0.1831 - val_dense_88_loss: 0.0951 - val_dense_89_loss: 0.3499 - val_dense_73_accuracy: 0.9618 - val_dense_74_accuracy: 0.9045 - val_dense_75_accuracy: 0.8830 - val_dense_76_accuracy: 0.9891 - val_dense_77_accuracy: 0.9450 - val_dense_78_accuracy: 0.9803 - val_dense_79_accuracy: 0.7409 - val_dense_80_accuracy: 0.9869 - val_dense_81_accuracy: 0.8441 - val_dense_82_accuracy: 0.9100 - val_dense_83_accuracy: 0.9329 - val_dense_84_accuracy: 0.9352 - val_dense_85_accuracy: 0.9883 - val_dense_86_accuracy: 0.9739 - val_dense_87_accuracy: 0.9540 - val_dense_88_accuracy: 0.9801 - val_dense_89_accuracy: 0.8838\n",
      "Epoch 5/15\n",
      "414/414 [==============================] - 33s 80ms/step - loss: 3.9450 - dense_73_loss: 0.1539 - dense_74_loss: 0.3196 - dense_75_loss: 0.3589 - dense_76_loss: 0.0699 - dense_77_loss: 0.2235 - dense_78_loss: 0.0944 - dense_79_loss: 0.5677 - dense_80_loss: 0.0740 - dense_81_loss: 0.4297 - dense_82_loss: 0.3129 - dense_83_loss: 0.2410 - dense_84_loss: 0.2459 - dense_85_loss: 0.0719 - dense_86_loss: 0.1149 - dense_87_loss: 0.1980 - dense_88_loss: 0.1034 - dense_89_loss: 0.3656 - dense_73_accuracy: 0.9628 - dense_74_accuracy: 0.9044 - dense_75_accuracy: 0.8837 - dense_76_accuracy: 0.9887 - dense_77_accuracy: 0.9435 - dense_78_accuracy: 0.9805 - dense_79_accuracy: 0.7396 - dense_80_accuracy: 0.9868 - dense_81_accuracy: 0.8480 - dense_82_accuracy: 0.9064 - dense_83_accuracy: 0.9353 - dense_84_accuracy: 0.9326 - dense_85_accuracy: 0.9880 - dense_86_accuracy: 0.9744 - dense_87_accuracy: 0.9521 - dense_88_accuracy: 0.9802 - dense_89_accuracy: 0.8819 - val_loss: 3.7759 - val_dense_73_loss: 0.1446 - val_dense_74_loss: 0.3093 - val_dense_75_loss: 0.3488 - val_dense_76_loss: 0.0595 - val_dense_77_loss: 0.2101 - val_dense_78_loss: 0.0876 - val_dense_79_loss: 0.5603 - val_dense_80_loss: 0.0667 - val_dense_81_loss: 0.4297 - val_dense_82_loss: 0.2954 - val_dense_83_loss: 0.2359 - val_dense_84_loss: 0.2290 - val_dense_85_loss: 0.0631 - val_dense_86_loss: 0.1095 - val_dense_87_loss: 0.1831 - val_dense_88_loss: 0.0951 - val_dense_89_loss: 0.3483 - val_dense_73_accuracy: 0.9618 - val_dense_74_accuracy: 0.9045 - val_dense_75_accuracy: 0.8833 - val_dense_76_accuracy: 0.9891 - val_dense_77_accuracy: 0.9450 - val_dense_78_accuracy: 0.9803 - val_dense_79_accuracy: 0.7409 - val_dense_80_accuracy: 0.9869 - val_dense_81_accuracy: 0.8441 - val_dense_82_accuracy: 0.9100 - val_dense_83_accuracy: 0.9329 - val_dense_84_accuracy: 0.9352 - val_dense_85_accuracy: 0.9883 - val_dense_86_accuracy: 0.9739 - val_dense_87_accuracy: 0.9540 - val_dense_88_accuracy: 0.9801 - val_dense_89_accuracy: 0.8838\n",
      "Epoch 6/15\n",
      "414/414 [==============================] - 33s 80ms/step - loss: 3.9299 - dense_73_loss: 0.1544 - dense_74_loss: 0.3165 - dense_75_loss: 0.3588 - dense_76_loss: 0.0686 - dense_77_loss: 0.2272 - dense_78_loss: 0.0936 - dense_79_loss: 0.5688 - dense_80_loss: 0.0762 - dense_81_loss: 0.4295 - dense_82_loss: 0.3099 - dense_83_loss: 0.2404 - dense_84_loss: 0.2453 - dense_85_loss: 0.0711 - dense_86_loss: 0.1137 - dense_87_loss: 0.1999 - dense_88_loss: 0.1001 - dense_89_loss: 0.3559 - dense_73_accuracy: 0.9623 - dense_74_accuracy: 0.9046 - dense_75_accuracy: 0.8838 - dense_76_accuracy: 0.9887 - dense_77_accuracy: 0.9417 - dense_78_accuracy: 0.9802 - dense_79_accuracy: 0.7382 - dense_80_accuracy: 0.9862 - dense_81_accuracy: 0.8470 - dense_82_accuracy: 0.9072 - dense_83_accuracy: 0.9355 - dense_84_accuracy: 0.9324 - dense_85_accuracy: 0.9879 - dense_86_accuracy: 0.9746 - dense_87_accuracy: 0.9511 - dense_88_accuracy: 0.9806 - dense_89_accuracy: 0.8853 - val_loss: 3.7695 - val_dense_73_loss: 0.1446 - val_dense_74_loss: 0.3088 - val_dense_75_loss: 0.3479 - val_dense_76_loss: 0.0598 - val_dense_77_loss: 0.2098 - val_dense_78_loss: 0.0876 - val_dense_79_loss: 0.5598 - val_dense_80_loss: 0.0668 - val_dense_81_loss: 0.4298 - val_dense_82_loss: 0.2948 - val_dense_83_loss: 0.2352 - val_dense_84_loss: 0.2283 - val_dense_85_loss: 0.0631 - val_dense_86_loss: 0.1087 - val_dense_87_loss: 0.1828 - val_dense_88_loss: 0.0953 - val_dense_89_loss: 0.3463 - val_dense_73_accuracy: 0.9618 - val_dense_74_accuracy: 0.9045 - val_dense_75_accuracy: 0.8846 - val_dense_76_accuracy: 0.9891 - val_dense_77_accuracy: 0.9450 - val_dense_78_accuracy: 0.9803 - val_dense_79_accuracy: 0.7409 - val_dense_80_accuracy: 0.9869 - val_dense_81_accuracy: 0.8441 - val_dense_82_accuracy: 0.9100 - val_dense_83_accuracy: 0.9329 - val_dense_84_accuracy: 0.9352 - val_dense_85_accuracy: 0.9883 - val_dense_86_accuracy: 0.9741 - val_dense_87_accuracy: 0.9540 - val_dense_88_accuracy: 0.9801 - val_dense_89_accuracy: 0.8845\n",
      "Epoch 7/15\n",
      "414/414 [==============================] - 32s 78ms/step - loss: 3.9167 - dense_73_loss: 0.1563 - dense_74_loss: 0.3151 - dense_75_loss: 0.3535 - dense_76_loss: 0.0641 - dense_77_loss: 0.2285 - dense_78_loss: 0.0952 - dense_79_loss: 0.5665 - dense_80_loss: 0.0771 - dense_81_loss: 0.4270 - dense_82_loss: 0.3068 - dense_83_loss: 0.2365 - dense_84_loss: 0.2436 - dense_85_loss: 0.0712 - dense_86_loss: 0.1147 - dense_87_loss: 0.1982 - dense_88_loss: 0.1009 - dense_89_loss: 0.3616 - dense_73_accuracy: 0.9611 - dense_74_accuracy: 0.9048 - dense_75_accuracy: 0.8850 - dense_76_accuracy: 0.9894 - dense_77_accuracy: 0.9415 - dense_78_accuracy: 0.9798 - dense_79_accuracy: 0.7403 - dense_80_accuracy: 0.9859 - dense_81_accuracy: 0.8480 - dense_82_accuracy: 0.9081 - dense_83_accuracy: 0.9362 - dense_84_accuracy: 0.9328 - dense_85_accuracy: 0.9879 - dense_86_accuracy: 0.9750 - dense_87_accuracy: 0.9515 - dense_88_accuracy: 0.9803 - dense_89_accuracy: 0.8823 - val_loss: 3.7601 - val_dense_73_loss: 0.1432 - val_dense_74_loss: 0.3079 - val_dense_75_loss: 0.3475 - val_dense_76_loss: 0.0592 - val_dense_77_loss: 0.2099 - val_dense_78_loss: 0.0869 - val_dense_79_loss: 0.5600 - val_dense_80_loss: 0.0665 - val_dense_81_loss: 0.4291 - val_dense_82_loss: 0.2941 - val_dense_83_loss: 0.2350 - val_dense_84_loss: 0.2280 - val_dense_85_loss: 0.0625 - val_dense_86_loss: 0.1082 - val_dense_87_loss: 0.1825 - val_dense_88_loss: 0.0948 - val_dense_89_loss: 0.3447 - val_dense_73_accuracy: 0.9628 - val_dense_74_accuracy: 0.9045 - val_dense_75_accuracy: 0.8846 - val_dense_76_accuracy: 0.9891 - val_dense_77_accuracy: 0.9450 - val_dense_78_accuracy: 0.9803 - val_dense_79_accuracy: 0.7409 - val_dense_80_accuracy: 0.9869 - val_dense_81_accuracy: 0.8441 - val_dense_82_accuracy: 0.9100 - val_dense_83_accuracy: 0.9329 - val_dense_84_accuracy: 0.9352 - val_dense_85_accuracy: 0.9883 - val_dense_86_accuracy: 0.9740 - val_dense_87_accuracy: 0.9540 - val_dense_88_accuracy: 0.9801 - val_dense_89_accuracy: 0.8854\n",
      "Epoch 8/15\n",
      "414/414 [==============================] - 32s 77ms/step - loss: 3.9012 - dense_73_loss: 0.1531 - dense_74_loss: 0.3165 - dense_75_loss: 0.3546 - dense_76_loss: 0.0670 - dense_77_loss: 0.2208 - dense_78_loss: 0.0955 - dense_79_loss: 0.5665 - dense_80_loss: 0.0766 - dense_81_loss: 0.4312 - dense_82_loss: 0.3068 - dense_83_loss: 0.2346 - dense_84_loss: 0.2442 - dense_85_loss: 0.0679 - dense_86_loss: 0.1141 - dense_87_loss: 0.1965 - dense_88_loss: 0.0997 - dense_89_loss: 0.3555 - dense_73_accuracy: 0.9619 - dense_74_accuracy: 0.9038 - dense_75_accuracy: 0.8841 - dense_76_accuracy: 0.9885 - dense_77_accuracy: 0.9436 - dense_78_accuracy: 0.9794 - dense_79_accuracy: 0.7397 - dense_80_accuracy: 0.9858 - dense_81_accuracy: 0.8455 - dense_82_accuracy: 0.9074 - dense_83_accuracy: 0.9369 - dense_84_accuracy: 0.9320 - dense_85_accuracy: 0.9883 - dense_86_accuracy: 0.9744 - dense_87_accuracy: 0.9515 - dense_88_accuracy: 0.9806 - dense_89_accuracy: 0.8847 - val_loss: 3.7587 - val_dense_73_loss: 0.1433 - val_dense_74_loss: 0.3072 - val_dense_75_loss: 0.3473 - val_dense_76_loss: 0.0595 - val_dense_77_loss: 0.2097 - val_dense_78_loss: 0.0867 - val_dense_79_loss: 0.5599 - val_dense_80_loss: 0.0664 - val_dense_81_loss: 0.4293 - val_dense_82_loss: 0.2942 - val_dense_83_loss: 0.2340 - val_dense_84_loss: 0.2281 - val_dense_85_loss: 0.0627 - val_dense_86_loss: 0.1086 - val_dense_87_loss: 0.1823 - val_dense_88_loss: 0.0949 - val_dense_89_loss: 0.3445 - val_dense_73_accuracy: 0.9619 - val_dense_74_accuracy: 0.9045 - val_dense_75_accuracy: 0.8841 - val_dense_76_accuracy: 0.9891 - val_dense_77_accuracy: 0.9450 - val_dense_78_accuracy: 0.9803 - val_dense_79_accuracy: 0.7409 - val_dense_80_accuracy: 0.9869 - val_dense_81_accuracy: 0.8441 - val_dense_82_accuracy: 0.9100 - val_dense_83_accuracy: 0.9329 - val_dense_84_accuracy: 0.9352 - val_dense_85_accuracy: 0.9883 - val_dense_86_accuracy: 0.9740 - val_dense_87_accuracy: 0.9540 - val_dense_88_accuracy: 0.9801 - val_dense_89_accuracy: 0.8853\n",
      "Epoch 9/15\n",
      "414/414 [==============================] - 31s 76ms/step - loss: 3.8805 - dense_73_loss: 0.1508 - dense_74_loss: 0.3159 - dense_75_loss: 0.3523 - dense_76_loss: 0.0653 - dense_77_loss: 0.2196 - dense_78_loss: 0.0922 - dense_79_loss: 0.5643 - dense_80_loss: 0.0785 - dense_81_loss: 0.4289 - dense_82_loss: 0.3046 - dense_83_loss: 0.2383 - dense_84_loss: 0.2375 - dense_85_loss: 0.0669 - dense_86_loss: 0.1140 - dense_87_loss: 0.1968 - dense_88_loss: 0.0988 - dense_89_loss: 0.3555 - dense_73_accuracy: 0.9622 - dense_74_accuracy: 0.9042 - dense_75_accuracy: 0.8852 - dense_76_accuracy: 0.9888 - dense_77_accuracy: 0.9436 - dense_78_accuracy: 0.9798 - dense_79_accuracy: 0.7404 - dense_80_accuracy: 0.9854 - dense_81_accuracy: 0.8461 - dense_82_accuracy: 0.9081 - dense_83_accuracy: 0.9350 - dense_84_accuracy: 0.9336 - dense_85_accuracy: 0.9884 - dense_86_accuracy: 0.9747 - dense_87_accuracy: 0.9509 - dense_88_accuracy: 0.9807 - dense_89_accuracy: 0.8836 - val_loss: 3.7546 - val_dense_73_loss: 0.1434 - val_dense_74_loss: 0.3072 - val_dense_75_loss: 0.3471 - val_dense_76_loss: 0.0592 - val_dense_77_loss: 0.2098 - val_dense_78_loss: 0.0867 - val_dense_79_loss: 0.5592 - val_dense_80_loss: 0.0665 - val_dense_81_loss: 0.4291 - val_dense_82_loss: 0.2939 - val_dense_83_loss: 0.2337 - val_dense_84_loss: 0.2283 - val_dense_85_loss: 0.0624 - val_dense_86_loss: 0.1076 - val_dense_87_loss: 0.1827 - val_dense_88_loss: 0.0945 - val_dense_89_loss: 0.3432 - val_dense_73_accuracy: 0.9622 - val_dense_74_accuracy: 0.9045 - val_dense_75_accuracy: 0.8843 - val_dense_76_accuracy: 0.9891 - val_dense_77_accuracy: 0.9450 - val_dense_78_accuracy: 0.9803 - val_dense_79_accuracy: 0.7409 - val_dense_80_accuracy: 0.9869 - val_dense_81_accuracy: 0.8441 - val_dense_82_accuracy: 0.9100 - val_dense_83_accuracy: 0.9329 - val_dense_84_accuracy: 0.9352 - val_dense_85_accuracy: 0.9883 - val_dense_86_accuracy: 0.9743 - val_dense_87_accuracy: 0.9540 - val_dense_88_accuracy: 0.9801 - val_dense_89_accuracy: 0.8861\n",
      "Epoch 10/15\n",
      "414/414 [==============================] - 34s 82ms/step - loss: 3.8764 - dense_73_loss: 0.1480 - dense_74_loss: 0.3126 - dense_75_loss: 0.3529 - dense_76_loss: 0.0694 - dense_77_loss: 0.2238 - dense_78_loss: 0.0894 - dense_79_loss: 0.5637 - dense_80_loss: 0.0750 - dense_81_loss: 0.4289 - dense_82_loss: 0.3066 - dense_83_loss: 0.2382 - dense_84_loss: 0.2401 - dense_85_loss: 0.0685 - dense_86_loss: 0.1119 - dense_87_loss: 0.1958 - dense_88_loss: 0.1006 - dense_89_loss: 0.3509 - dense_73_accuracy: 0.9630 - dense_74_accuracy: 0.9049 - dense_75_accuracy: 0.8846 - dense_76_accuracy: 0.9881 - dense_77_accuracy: 0.9421 - dense_78_accuracy: 0.9806 - dense_79_accuracy: 0.7411 - dense_80_accuracy: 0.9860 - dense_81_accuracy: 0.8460 - dense_82_accuracy: 0.9068 - dense_83_accuracy: 0.9343 - dense_84_accuracy: 0.9328 - dense_85_accuracy: 0.9878 - dense_86_accuracy: 0.9746 - dense_87_accuracy: 0.9512 - dense_88_accuracy: 0.9800 - dense_89_accuracy: 0.8855 - val_loss: 3.7502 - val_dense_73_loss: 0.1425 - val_dense_74_loss: 0.3061 - val_dense_75_loss: 0.3469 - val_dense_76_loss: 0.0591 - val_dense_77_loss: 0.2100 - val_dense_78_loss: 0.0863 - val_dense_79_loss: 0.5598 - val_dense_80_loss: 0.0663 - val_dense_81_loss: 0.4294 - val_dense_82_loss: 0.2937 - val_dense_83_loss: 0.2332 - val_dense_84_loss: 0.2281 - val_dense_85_loss: 0.0625 - val_dense_86_loss: 0.1076 - val_dense_87_loss: 0.1824 - val_dense_88_loss: 0.0945 - val_dense_89_loss: 0.3418 - val_dense_73_accuracy: 0.9634 - val_dense_74_accuracy: 0.9045 - val_dense_75_accuracy: 0.8851 - val_dense_76_accuracy: 0.9891 - val_dense_77_accuracy: 0.9450 - val_dense_78_accuracy: 0.9803 - val_dense_79_accuracy: 0.7409 - val_dense_80_accuracy: 0.9869 - val_dense_81_accuracy: 0.8441 - val_dense_82_accuracy: 0.9100 - val_dense_83_accuracy: 0.9329 - val_dense_84_accuracy: 0.9352 - val_dense_85_accuracy: 0.9883 - val_dense_86_accuracy: 0.9743 - val_dense_87_accuracy: 0.9540 - val_dense_88_accuracy: 0.9801 - val_dense_89_accuracy: 0.8868\n",
      "Epoch 11/15\n",
      "414/414 [==============================] - 32s 78ms/step - loss: 3.8529 - dense_73_loss: 0.1468 - dense_74_loss: 0.3144 - dense_75_loss: 0.3497 - dense_76_loss: 0.0621 - dense_77_loss: 0.2211 - dense_78_loss: 0.0885 - dense_79_loss: 0.5627 - dense_80_loss: 0.0767 - dense_81_loss: 0.4275 - dense_82_loss: 0.3079 - dense_83_loss: 0.2326 - dense_84_loss: 0.2415 - dense_85_loss: 0.0683 - dense_86_loss: 0.1080 - dense_87_loss: 0.1936 - dense_88_loss: 0.0986 - dense_89_loss: 0.3527 - dense_73_accuracy: 0.9634 - dense_74_accuracy: 0.9039 - dense_75_accuracy: 0.8855 - dense_76_accuracy: 0.9895 - dense_77_accuracy: 0.9427 - dense_78_accuracy: 0.9804 - dense_79_accuracy: 0.7407 - dense_80_accuracy: 0.9856 - dense_81_accuracy: 0.8466 - dense_82_accuracy: 0.9059 - dense_83_accuracy: 0.9363 - dense_84_accuracy: 0.9318 - dense_85_accuracy: 0.9878 - dense_86_accuracy: 0.9752 - dense_87_accuracy: 0.9518 - dense_88_accuracy: 0.9802 - dense_89_accuracy: 0.8845 - val_loss: 3.7436 - val_dense_73_loss: 0.1424 - val_dense_74_loss: 0.3062 - val_dense_75_loss: 0.3461 - val_dense_76_loss: 0.0591 - val_dense_77_loss: 0.2096 - val_dense_78_loss: 0.0860 - val_dense_79_loss: 0.5588 - val_dense_80_loss: 0.0665 - val_dense_81_loss: 0.4293 - val_dense_82_loss: 0.2934 - val_dense_83_loss: 0.2322 - val_dense_84_loss: 0.2276 - val_dense_85_loss: 0.0624 - val_dense_86_loss: 0.1069 - val_dense_87_loss: 0.1824 - val_dense_88_loss: 0.0943 - val_dense_89_loss: 0.3406 - val_dense_73_accuracy: 0.9637 - val_dense_74_accuracy: 0.9045 - val_dense_75_accuracy: 0.8852 - val_dense_76_accuracy: 0.9891 - val_dense_77_accuracy: 0.9450 - val_dense_78_accuracy: 0.9803 - val_dense_79_accuracy: 0.7409 - val_dense_80_accuracy: 0.9869 - val_dense_81_accuracy: 0.8441 - val_dense_82_accuracy: 0.9100 - val_dense_83_accuracy: 0.9329 - val_dense_84_accuracy: 0.9351 - val_dense_85_accuracy: 0.9883 - val_dense_86_accuracy: 0.9742 - val_dense_87_accuracy: 0.9540 - val_dense_88_accuracy: 0.9801 - val_dense_89_accuracy: 0.8869\n",
      "Epoch 12/15\n",
      "414/414 [==============================] - 34s 83ms/step - loss: 3.8380 - dense_73_loss: 0.1471 - dense_74_loss: 0.3089 - dense_75_loss: 0.3486 - dense_76_loss: 0.0663 - dense_77_loss: 0.2204 - dense_78_loss: 0.0894 - dense_79_loss: 0.5615 - dense_80_loss: 0.0767 - dense_81_loss: 0.4248 - dense_82_loss: 0.3007 - dense_83_loss: 0.2348 - dense_84_loss: 0.2384 - dense_85_loss: 0.0669 - dense_86_loss: 0.1094 - dense_87_loss: 0.1931 - dense_88_loss: 0.0968 - dense_89_loss: 0.3544 - dense_73_accuracy: 0.9628 - dense_74_accuracy: 0.9058 - dense_75_accuracy: 0.8857 - dense_76_accuracy: 0.9887 - dense_77_accuracy: 0.9427 - dense_78_accuracy: 0.9800 - dense_79_accuracy: 0.7408 - dense_80_accuracy: 0.9856 - dense_81_accuracy: 0.8479 - dense_82_accuracy: 0.9086 - dense_83_accuracy: 0.9347 - dense_84_accuracy: 0.9331 - dense_85_accuracy: 0.9883 - dense_86_accuracy: 0.9756 - dense_87_accuracy: 0.9521 - dense_88_accuracy: 0.9807 - dense_89_accuracy: 0.8825 - val_loss: 3.7411 - val_dense_73_loss: 0.1423 - val_dense_74_loss: 0.3058 - val_dense_75_loss: 0.3456 - val_dense_76_loss: 0.0591 - val_dense_77_loss: 0.2094 - val_dense_78_loss: 0.0862 - val_dense_79_loss: 0.5587 - val_dense_80_loss: 0.0664 - val_dense_81_loss: 0.4294 - val_dense_82_loss: 0.2932 - val_dense_83_loss: 0.2313 - val_dense_84_loss: 0.2275 - val_dense_85_loss: 0.0625 - val_dense_86_loss: 0.1069 - val_dense_87_loss: 0.1824 - val_dense_88_loss: 0.0943 - val_dense_89_loss: 0.3401 - val_dense_73_accuracy: 0.9635 - val_dense_74_accuracy: 0.9045 - val_dense_75_accuracy: 0.8853 - val_dense_76_accuracy: 0.9891 - val_dense_77_accuracy: 0.9450 - val_dense_78_accuracy: 0.9803 - val_dense_79_accuracy: 0.7409 - val_dense_80_accuracy: 0.9869 - val_dense_81_accuracy: 0.8441 - val_dense_82_accuracy: 0.9100 - val_dense_83_accuracy: 0.9329 - val_dense_84_accuracy: 0.9351 - val_dense_85_accuracy: 0.9883 - val_dense_86_accuracy: 0.9742 - val_dense_87_accuracy: 0.9540 - val_dense_88_accuracy: 0.9801 - val_dense_89_accuracy: 0.8870\n",
      "Epoch 13/15\n",
      "414/414 [==============================] - 32s 77ms/step - loss: 3.8181 - dense_73_loss: 0.1445 - dense_74_loss: 0.3105 - dense_75_loss: 0.3477 - dense_76_loss: 0.0634 - dense_77_loss: 0.2220 - dense_78_loss: 0.0879 - dense_79_loss: 0.5630 - dense_80_loss: 0.0730 - dense_81_loss: 0.4286 - dense_82_loss: 0.3008 - dense_83_loss: 0.2285 - dense_84_loss: 0.2356 - dense_85_loss: 0.0674 - dense_86_loss: 0.1065 - dense_87_loss: 0.1960 - dense_88_loss: 0.0962 - dense_89_loss: 0.3465 - dense_73_accuracy: 0.9632 - dense_74_accuracy: 0.9044 - dense_75_accuracy: 0.8860 - dense_76_accuracy: 0.9890 - dense_77_accuracy: 0.9419 - dense_78_accuracy: 0.9804 - dense_79_accuracy: 0.7394 - dense_80_accuracy: 0.9863 - dense_81_accuracy: 0.8452 - dense_82_accuracy: 0.9081 - dense_83_accuracy: 0.9370 - dense_84_accuracy: 0.9336 - dense_85_accuracy: 0.9880 - dense_86_accuracy: 0.9758 - dense_87_accuracy: 0.9508 - dense_88_accuracy: 0.9808 - dense_89_accuracy: 0.8863 - val_loss: 3.7414 - val_dense_73_loss: 0.1423 - val_dense_74_loss: 0.3052 - val_dense_75_loss: 0.3460 - val_dense_76_loss: 0.0592 - val_dense_77_loss: 0.2095 - val_dense_78_loss: 0.0862 - val_dense_79_loss: 0.5586 - val_dense_80_loss: 0.0663 - val_dense_81_loss: 0.4292 - val_dense_82_loss: 0.2934 - val_dense_83_loss: 0.2310 - val_dense_84_loss: 0.2280 - val_dense_85_loss: 0.0624 - val_dense_86_loss: 0.1075 - val_dense_87_loss: 0.1822 - val_dense_88_loss: 0.0947 - val_dense_89_loss: 0.3397 - val_dense_73_accuracy: 0.9633 - val_dense_74_accuracy: 0.9045 - val_dense_75_accuracy: 0.8853 - val_dense_76_accuracy: 0.9891 - val_dense_77_accuracy: 0.9450 - val_dense_78_accuracy: 0.9803 - val_dense_79_accuracy: 0.7409 - val_dense_80_accuracy: 0.9869 - val_dense_81_accuracy: 0.8441 - val_dense_82_accuracy: 0.9100 - val_dense_83_accuracy: 0.9330 - val_dense_84_accuracy: 0.9351 - val_dense_85_accuracy: 0.9883 - val_dense_86_accuracy: 0.9734 - val_dense_87_accuracy: 0.9540 - val_dense_88_accuracy: 0.9801 - val_dense_89_accuracy: 0.8872\n",
      "Epoch 14/15\n",
      "414/414 [==============================] - 32s 78ms/step - loss: 3.8216 - dense_73_loss: 0.1460 - dense_74_loss: 0.3117 - dense_75_loss: 0.3476 - dense_76_loss: 0.0647 - dense_77_loss: 0.2196 - dense_78_loss: 0.0877 - dense_79_loss: 0.5635 - dense_80_loss: 0.0739 - dense_81_loss: 0.4271 - dense_82_loss: 0.3000 - dense_83_loss: 0.2302 - dense_84_loss: 0.2357 - dense_85_loss: 0.0668 - dense_86_loss: 0.1093 - dense_87_loss: 0.1930 - dense_88_loss: 0.0963 - dense_89_loss: 0.3485 - dense_73_accuracy: 0.9626 - dense_74_accuracy: 0.9039 - dense_75_accuracy: 0.8859 - dense_76_accuracy: 0.9887 - dense_77_accuracy: 0.9424 - dense_78_accuracy: 0.9804 - dense_79_accuracy: 0.7387 - dense_80_accuracy: 0.9863 - dense_81_accuracy: 0.8466 - dense_82_accuracy: 0.9084 - dense_83_accuracy: 0.9361 - dense_84_accuracy: 0.9336 - dense_85_accuracy: 0.9881 - dense_86_accuracy: 0.9747 - dense_87_accuracy: 0.9515 - dense_88_accuracy: 0.9806 - dense_89_accuracy: 0.8849 - val_loss: 3.7380 - val_dense_73_loss: 0.1424 - val_dense_74_loss: 0.3049 - val_dense_75_loss: 0.3457 - val_dense_76_loss: 0.0591 - val_dense_77_loss: 0.2094 - val_dense_78_loss: 0.0862 - val_dense_79_loss: 0.5583 - val_dense_80_loss: 0.0662 - val_dense_81_loss: 0.4292 - val_dense_82_loss: 0.2932 - val_dense_83_loss: 0.2310 - val_dense_84_loss: 0.2273 - val_dense_85_loss: 0.0624 - val_dense_86_loss: 0.1070 - val_dense_87_loss: 0.1818 - val_dense_88_loss: 0.0942 - val_dense_89_loss: 0.3396 - val_dense_73_accuracy: 0.9633 - val_dense_74_accuracy: 0.9045 - val_dense_75_accuracy: 0.8854 - val_dense_76_accuracy: 0.9891 - val_dense_77_accuracy: 0.9450 - val_dense_78_accuracy: 0.9803 - val_dense_79_accuracy: 0.7409 - val_dense_80_accuracy: 0.9869 - val_dense_81_accuracy: 0.8441 - val_dense_82_accuracy: 0.9100 - val_dense_83_accuracy: 0.9332 - val_dense_84_accuracy: 0.9351 - val_dense_85_accuracy: 0.9883 - val_dense_86_accuracy: 0.9734 - val_dense_87_accuracy: 0.9540 - val_dense_88_accuracy: 0.9801 - val_dense_89_accuracy: 0.8874- dense_78_loss: 0.0873 - dense_79_loss: 0.5639 - dense_80_loss: 0.0737 - dense_81_loss: 0.4271 - dense_82_loss: 0.2998 - dense_83_loss: 0.2305 - dense_84_loss: 0.2351 - dense_85_loss: 0.0669 - dense_86_loss: 0.1098 - dense_87_loss: 0.1927 - dense_88_loss: 0.0962 - dense_89_loss: 0.3487 - dense_73_accuracy: 0.9625 - dense_74_accuracy: 0.9039 - dense_75_accuracy: 0.8859 - dense_76_accuracy: 0.9887 - dense_77_accuracy: 0.9422 - dense_78_accuracy: 0.9805 - dense_79_accuracy: 0.7384 - dense_80_accuracy: 0.9863 - dense_81_accuracy: 0.8466 - dense_82_accuracy: 0.9086 - dense_83_accuracy: 0.9360 - dense_84_accuracy: 0.9338 - dense_85_accuracy: 0.9881 - dense_\n",
      "Epoch 15/15\n",
      "414/414 [==============================] - 34s 82ms/step - loss: 3.8076 - dense_73_loss: 0.1467 - dense_74_loss: 0.3092 - dense_75_loss: 0.3511 - dense_76_loss: 0.0639 - dense_77_loss: 0.2183 - dense_78_loss: 0.0869 - dense_79_loss: 0.5628 - dense_80_loss: 0.0756 - dense_81_loss: 0.4252 - dense_82_loss: 0.2966 - dense_83_loss: 0.2306 - dense_84_loss: 0.2354 - dense_85_loss: 0.0649 - dense_86_loss: 0.1050 - dense_87_loss: 0.1900 - dense_88_loss: 0.0975 - dense_89_loss: 0.3476 - dense_73_accuracy: 0.9626 - dense_74_accuracy: 0.9045 - dense_75_accuracy: 0.8839 - dense_76_accuracy: 0.9890 - dense_77_accuracy: 0.9433 - dense_78_accuracy: 0.9805 - dense_79_accuracy: 0.7395 - dense_80_accuracy: 0.9855 - dense_81_accuracy: 0.8468 - dense_82_accuracy: 0.9094 - dense_83_accuracy: 0.9362 - dense_84_accuracy: 0.9335 - dense_85_accuracy: 0.9884 - dense_86_accuracy: 0.9758 - dense_87_accuracy: 0.9520 - dense_88_accuracy: 0.9801 - dense_89_accuracy: 0.8851 - val_loss: 3.7357 - val_dense_73_loss: 0.1422 - val_dense_74_loss: 0.3043 - val_dense_75_loss: 0.3461 - val_dense_76_loss: 0.0591 - val_dense_77_loss: 0.2094 - val_dense_78_loss: 0.0861 - val_dense_79_loss: 0.5582 - val_dense_80_loss: 0.0664 - val_dense_81_loss: 0.4291 - val_dense_82_loss: 0.2930 - val_dense_83_loss: 0.2300 - val_dense_84_loss: 0.2274 - val_dense_85_loss: 0.0624 - val_dense_86_loss: 0.1066 - val_dense_87_loss: 0.1821 - val_dense_88_loss: 0.0943 - val_dense_89_loss: 0.3388 - val_dense_73_accuracy: 0.9635 - val_dense_74_accuracy: 0.9045 - val_dense_75_accuracy: 0.8856 - val_dense_76_accuracy: 0.9891 - val_dense_77_accuracy: 0.9450 - val_dense_78_accuracy: 0.9803 - val_dense_79_accuracy: 0.7409 - val_dense_80_accuracy: 0.9869 - val_dense_81_accuracy: 0.8441 - val_dense_82_accuracy: 0.9100 - val_dense_83_accuracy: 0.9336 - val_dense_84_accuracy: 0.9351 - val_dense_85_accuracy: 0.9883 - val_dense_86_accuracy: 0.9742 - val_dense_87_accuracy: 0.9540 - val_dense_88_accuracy: 0.9801 - val_dense_89_accuracy: 0.8873\n",
      "Consume time :  16775.636686086655\n"
     ]
    }
   ],
   "source": [
    "print('Start Time :', start_time )\n",
    "history_6 = model_6.fit(x=X_train, y=[y1_train, y2_train, y3_train, y4_train, y5_train, y6_train, y7_train, y8_train, y9_train, y10_train, y11_train, y12_train, y13_train, y14_train, y15_train, y16_train, y17_train], batch_size=256, epochs=15, verbose=1, validation_split=0.2)\n",
    "print('Consume time : ',(time.time() - start_time))"
   ]
  },
  {
   "cell_type": "code",
   "execution_count": 418,
   "metadata": {},
   "outputs": [
    {
     "name": "stdout",
     "output_type": "stream",
     "text": [
      "1771/1771 [==============================] - 40s 23ms/step - loss: 3.7722 - Output_1_loss: 0.1463 - Output_2_loss: 0.3055 - Output_3_loss: 0.3408 - Output_4_loss: 0.0621 - Output_5_loss: 0.2113 - Output_6_loss: 0.0931 - Output_7_loss: 0.5591 - Output_8_loss: 0.0723 - Output_9_loss: 0.4320 - Output_10_loss: 0.2967 - Output_11_loss: 0.2230 - Output_12_loss: 0.2288 - Output_13_loss: 0.0654 - Output_14_loss: 0.1070 - Output_15_loss: 0.1932 - Output_16_loss: 0.0955 - Output_17_loss: 0.3400 - Output_1_accuracy: 0.9617 - Output_2_accuracy: 0.9041 - Output_3_accuracy: 0.8878 - Output_4_accuracy: 0.9885 - Output_5_accuracy: 0.9441 - Output_6_accuracy: 0.9784 - Output_7_accuracy: 0.7416 - Output_8_accuracy: 0.9856 - Output_9_accuracy: 0.8426 - Output_10_accuracy: 0.9079 - Output_11_accuracy: 0.9371 - Output_12_accuracy: 0.9347 - Output_13_accuracy: 0.9876 - Output_14_accuracy: 0.9744 - Output_15_accuracy: 0.9504 - Output_16_accuracy: 0.9799 - Output_17_accuracy: 0.8865 1s - loss: 3.7714 - Output_1_loss: 0.1459 - Output_2_loss: 0.3053 - Output_3_loss: 0.3413 - Output_4_loss: 0.0625 - Output_5_loss: 0.2108 - Output_6_loss: 0.0923 - Output_7_loss: 0.5590 - Output_8_loss: 0.0724 - Output_9_loss: 0.4325 - Output_10_loss: 0.2968 - Output_11_loss: 0.2220 - Output_12_loss: 0.2286 - Output_13_loss: 0.0658 - Output_14_loss: 0.1070 - Output_15_loss: 0.1934 - Output_16_loss: 0.0952 - Output_17_loss: 0.3406 - Output_1_accuracy: 0.9619 - Output_2_accuracy: 0.9042 - Output_3_accuracy: 0.8875 - Output_4_accuracy: 0.9884 - Output_5_accuracy: 0.9443 - Output_6_accuracy: 0.9785 - Output_7_accuracy: 0.7417 - Output_8_accuracy: 0.9856 - Output_9_accuracy: 0.8424 - Output_10_accuracy: 0.9078 - Output_11_accuracy: 0.9375 - Output_12_accuracy: 0.9349 - Output_13_accuracy: 0.9875 - Output_14_accuracy: 0.9743 - Output_15_accuracy: 0.9503 - Output_16_accuracy: 0.9799 - Out\n"
     ]
    }
   ],
   "source": [
    "score_6 = model_6.evaluate(x=X_test, y=[y1_test, y2_test, y3_test, y4_test, y5_test, y6_test, y7_test, y8_test, y9_test, y10_test, y11_test, y12_test, y13_test, y14_test, y15_test, y16_test, y17_test], verbose=1)"
   ]
  },
  {
   "cell_type": "code",
   "execution_count": 515,
   "metadata": {},
   "outputs": [
    {
     "data": {
      "image/png": "[encoded data removed]",
      "text/plain": [
       "<Figure size 432x288 with 1 Axes>"
      ]
     },
     "metadata": {
      "needs_background": "light"
     },
     "output_type": "display_data"
    },
    {
     "data": {
      "image/png": "[encoded data removed]",
      "text/plain": [
       "<Figure size 432x288 with 1 Axes>"
      ]
     },
     "metadata": {
      "needs_background": "light"
     },
     "output_type": "display_data"
    }
   ],
   "source": [
    "plt.plot(history_6.history['dense_88_accuracy'])\n",
    "plt.plot(history_6.history['val_dense_88_accuracy'])\n",
    "\n",
    "plt.title('model accuracy')\n",
    "plt.ylabel('accuracy')\n",
    "plt.xlabel('epoch')\n",
    "plt.legend(['train','test'], loc='upper left')\n",
    "plt.show()\n",
    "\n",
    "plt.plot(history_6.history['dense_88_loss'])\n",
    "plt.plot(history_6.history['val_dense_88_loss'])\n",
    "\n",
    "plt.title('model loss')\n",
    "plt.ylabel('loss')\n",
    "plt.xlabel('epoch')\n",
    "plt.legend(['train','test'], loc='upper left')\n",
    "plt.show()"
   ]
  },
  {
   "cell_type": "code",
   "execution_count": 516,
   "metadata": {},
   "outputs": [],
   "source": [
    "pred_6 = model_6.predict(X_test)\n",
    "dict_test_6 = {label[i] : [1 if k[0] >= 0.5 else 0 for k in pred_5[i] ] for i in range(len(label))}\n",
    "pred_6_df = pd.DataFrame(dict_test_6)\n",
    "predictions_6 = pred_6_df[['ไลฟ์สไตล์', 'เศรษฐกิจ', 'ต่างประเทศ', 'ความมั่นคง', 'สิ่งแวดล้อม', 'ผู้หญิง', 'การเมือง', 'แรงงาน', 'สังคม', 'อาชญากรรม', 'บันเทิง', 'สิทธิมนุษยชน', 'การศึกษา', 'วิทยาศาสตร์เทคโนโลยี', 'คุณภาพชีวิต', 'วัฒนธรรม', 'กีฬา']].values"
   ]
  },
  {
   "cell_type": "code",
   "execution_count": 517,
   "metadata": {
    "scrolled": false
   },
   "outputs": [
    {
     "name": "stdout",
     "output_type": "stream",
     "text": [
      "              precision    recall  f1-score   support\n",
      "\n",
      "           0       0.84      0.67      0.75      2305\n",
      "           1       0.81      0.64      0.71      5437\n",
      "           2       0.91      0.80      0.85      6506\n",
      "           3       0.00      0.00      0.00       653\n",
      "           4       0.74      0.55      0.63      3168\n",
      "           5       0.72      0.51      0.60      1261\n",
      "           6       0.85      0.83      0.84     14636\n",
      "           7       0.83      0.21      0.33       814\n",
      "           8       0.73      0.46      0.57      8917\n",
      "           9       0.83      0.77      0.80      5219\n",
      "          10       0.94      0.89      0.92      3617\n",
      "          11       0.66      0.35      0.46      3703\n",
      "          12       0.00      0.00      0.00       701\n",
      "          13       0.86      0.39      0.54      1847\n",
      "          14       0.56      0.10      0.17      2812\n",
      "          15       0.00      0.00      0.00      1141\n",
      "          16       0.98      0.97      0.98      6587\n",
      "\n",
      "   micro avg       0.84      0.65      0.73     69324\n",
      "   macro avg       0.66      0.48      0.54     69324\n",
      "weighted avg       0.79      0.65      0.70     69324\n",
      " samples avg       0.75      0.72      0.73     69324\n",
      "\n"
     ]
    },
    {
     "name": "stderr",
     "output_type": "stream",
     "text": [
      "C:\\Users\\Cromagnon-PC\\anaconda3\\envs\\tf2.4gpu\\lib\\site-packages\\sklearn\\metrics\\_classification.py:1248: UndefinedMetricWarning: Precision and F-score are ill-defined and being set to 0.0 in labels with no predicted samples. Use `zero_division` parameter to control this behavior.\n",
      "  _warn_prf(average, modifier, msg_start, len(result))\n",
      "C:\\Users\\Cromagnon-PC\\anaconda3\\envs\\tf2.4gpu\\lib\\site-packages\\sklearn\\metrics\\_classification.py:1248: UndefinedMetricWarning: Precision and F-score are ill-defined and being set to 0.0 in samples with no predicted labels. Use `zero_division` parameter to control this behavior.\n",
      "  _warn_prf(average, modifier, msg_start, len(result))\n",
      "C:\\Users\\Cromagnon-PC\\anaconda3\\envs\\tf2.4gpu\\lib\\site-packages\\sklearn\\metrics\\_classification.py:1248: UndefinedMetricWarning: Recall and F-score are ill-defined and being set to 0.0 in samples with no true labels. Use `zero_division` parameter to control this behavior.\n",
      "  _warn_prf(average, modifier, msg_start, len(result))\n"
     ]
    }
   ],
   "source": [
    "print(classification_report(y_test, predictions_6))"
   ]
  },
  {
   "cell_type": "code",
   "execution_count": 454,
   "metadata": {},
   "outputs": [],
   "source": [
    "actual_df = pd.DataFrame(y_test, columns = ['ไลฟ์สไตล์', 'เศรษฐกิจ', 'ต่างประเทศ', 'ความมั่นคง', 'สิ่งแวดล้อม', 'ผู้หญิง', 'การเมือง', 'แรงงาน', 'สังคม', 'อาชญากรรม', 'บันเทิง', 'สิทธิมนุษยชน', 'การศึกษา', 'วิทยาศาสตร์เทคโนโลยี', 'คุณภาพชีวิต', 'วัฒนธรรม', 'กีฬา'])"
   ]
  },
  {
   "cell_type": "code",
   "execution_count": 457,
   "metadata": {},
   "outputs": [],
   "source": [
    "actual_df.to_csv(\"Actual_testing data.csv\")"
   ]
  },
  {
   "cell_type": "code",
   "execution_count": 518,
   "metadata": {},
   "outputs": [],
   "source": [
    "pred_6_df.to_csv(\"Bi-LSTM_Glove_testing data_new.csv\")"
   ]
  },
  {
   "cell_type": "code",
   "execution_count": 443,
   "metadata": {},
   "outputs": [],
   "source": [
    "model_6.save('Bi-LSTM_Glove_model.h5')\n",
    "model_6.save_weights(\"Bi-LSTM_Glove_weight.h5\")"
   ]
  },
  {
   "cell_type": "markdown",
   "metadata": {},
   "source": [
    "# Show Case"
   ]
  },
  {
   "cell_type": "code",
   "execution_count": 459,
   "metadata": {},
   "outputs": [],
   "source": [
    "# import result data\n",
    "result_data = pd.read_csv('data_for_result_DL.csv')"
   ]
  },
  {
   "cell_type": "code",
   "execution_count": 460,
   "metadata": {},
   "outputs": [
    {
     "data": {
      "text/html": [
       "<div>\n",
       "<style scoped>\n",
       "    .dataframe tbody tr th:only-of-type {\n",
       "        vertical-align: middle;\n",
       "    }\n",
       "\n",
       "    .dataframe tbody tr th {\n",
       "        vertical-align: top;\n",
       "    }\n",
       "\n",
       "    .dataframe thead th {\n",
       "        text-align: right;\n",
       "    }\n",
       "</style>\n",
       "<table border=\"1\" class=\"dataframe\">\n",
       "  <thead>\n",
       "    <tr style=\"text-align: right;\">\n",
       "      <th></th>\n",
       "      <th>type</th>\n",
       "      <th>body_cln</th>\n",
       "      <th>Text_Tkn</th>\n",
       "      <th>ต่างประเทศ</th>\n",
       "      <th>เศรษฐกิจ</th>\n",
       "      <th>วัฒนธรรม</th>\n",
       "      <th>การศึกษา</th>\n",
       "      <th>ความมั่นคง</th>\n",
       "      <th>คุณภาพชีวิต</th>\n",
       "      <th>อาชญากรรม</th>\n",
       "      <th>สิทธิมนุษยชน</th>\n",
       "      <th>สิ่งแวดล้อม</th>\n",
       "      <th>กีฬา</th>\n",
       "      <th>สังคม</th>\n",
       "      <th>บันเทิง</th>\n",
       "      <th>การเมือง</th>\n",
       "      <th>filter</th>\n",
       "    </tr>\n",
       "  </thead>\n",
       "  <tbody>\n",
       "    <tr>\n",
       "      <th>0</th>\n",
       "      <td>สิทธิมนุษยชน,ไอซีที</td>\n",
       "      <td>โดยล่าสุดถูกปั่นว่าเรียกร้องให้สังคมให้อภัยเป...</td>\n",
       "      <td>โดย ล่าสุด ถูก ปั่น ว่า เรียกร้อง ให้ สังคม ให...</td>\n",
       "      <td>0</td>\n",
       "      <td>0</td>\n",
       "      <td>0</td>\n",
       "      <td>0</td>\n",
       "      <td>0</td>\n",
       "      <td>0</td>\n",
       "      <td>0</td>\n",
       "      <td>1</td>\n",
       "      <td>0</td>\n",
       "      <td>0</td>\n",
       "      <td>0</td>\n",
       "      <td>0</td>\n",
       "      <td>0</td>\n",
       "      <td>1</td>\n",
       "    </tr>\n",
       "    <tr>\n",
       "      <th>1</th>\n",
       "      <td>กีฬา,ฟุตบอลยุโรป</td>\n",
       "      <td>สำนักข่าวต่างประเทศรายงานวันที่ ก ย ว่า หลังจา...</td>\n",
       "      <td>สำนัก ข่าวต่างประเทศ รายงาน วันที่ ก ย ว่า หลั...</td>\n",
       "      <td>0</td>\n",
       "      <td>0</td>\n",
       "      <td>0</td>\n",
       "      <td>0</td>\n",
       "      <td>0</td>\n",
       "      <td>0</td>\n",
       "      <td>0</td>\n",
       "      <td>0</td>\n",
       "      <td>0</td>\n",
       "      <td>1</td>\n",
       "      <td>0</td>\n",
       "      <td>0</td>\n",
       "      <td>0</td>\n",
       "      <td>1</td>\n",
       "    </tr>\n",
       "    <tr>\n",
       "      <th>2</th>\n",
       "      <td>ข่าว,อาชญากรรม</td>\n",
       "      <td>ชาวบ้านหมู่ ต บ้านกลาง อ อ่าวลึก จ กระบี่ ออกม...</td>\n",
       "      <td>ชาวบ้าน หมู่ ต บ้าน กลาง อ อ่าว ลึก จ กระบี่ อ...</td>\n",
       "      <td>0</td>\n",
       "      <td>0</td>\n",
       "      <td>0</td>\n",
       "      <td>0</td>\n",
       "      <td>0</td>\n",
       "      <td>0</td>\n",
       "      <td>1</td>\n",
       "      <td>0</td>\n",
       "      <td>0</td>\n",
       "      <td>0</td>\n",
       "      <td>0</td>\n",
       "      <td>0</td>\n",
       "      <td>0</td>\n",
       "      <td>1</td>\n",
       "    </tr>\n",
       "    <tr>\n",
       "      <th>3</th>\n",
       "      <td>การเมือง,สังคม</td>\n",
       "      <td>ชี้ถ้าไม่ยกเลิกองค์ประกอบอย่างมาตรา ไทยก็ไม่ม...</td>\n",
       "      <td>ชี้ ถ้า ไม่ ยกเลิก องค์ประกอบ อย่าง มาตรา ไทย ...</td>\n",
       "      <td>0</td>\n",
       "      <td>0</td>\n",
       "      <td>0</td>\n",
       "      <td>0</td>\n",
       "      <td>0</td>\n",
       "      <td>0</td>\n",
       "      <td>0</td>\n",
       "      <td>0</td>\n",
       "      <td>0</td>\n",
       "      <td>0</td>\n",
       "      <td>1</td>\n",
       "      <td>0</td>\n",
       "      <td>1</td>\n",
       "      <td>2</td>\n",
       "    </tr>\n",
       "    <tr>\n",
       "      <th>4</th>\n",
       "      <td>เศรษฐกิจ</td>\n",
       "      <td>นายนิพนธ์ วงษ์ตระหง่าน อดีตผู้อำนวยการองค์การค...</td>\n",
       "      <td>นาย นิพนธ์ วงษ์ ตระหง่าน อดีต ผู้อำนวยการ องค์...</td>\n",
       "      <td>0</td>\n",
       "      <td>1</td>\n",
       "      <td>0</td>\n",
       "      <td>0</td>\n",
       "      <td>0</td>\n",
       "      <td>0</td>\n",
       "      <td>0</td>\n",
       "      <td>0</td>\n",
       "      <td>0</td>\n",
       "      <td>0</td>\n",
       "      <td>0</td>\n",
       "      <td>0</td>\n",
       "      <td>0</td>\n",
       "      <td>1</td>\n",
       "    </tr>\n",
       "    <tr>\n",
       "      <th>5</th>\n",
       "      <td>ข่าว,อาชญากรรม</td>\n",
       "      <td>เมื่อเวลา น วันที่ มิ ย ร ต อ อิสระ แสงสว่าง ร...</td>\n",
       "      <td>เมื่อ เวลา น วันที่ มิ ย ร ต อ อิสระ แสงสว่าง ...</td>\n",
       "      <td>0</td>\n",
       "      <td>0</td>\n",
       "      <td>0</td>\n",
       "      <td>0</td>\n",
       "      <td>0</td>\n",
       "      <td>0</td>\n",
       "      <td>1</td>\n",
       "      <td>0</td>\n",
       "      <td>0</td>\n",
       "      <td>0</td>\n",
       "      <td>0</td>\n",
       "      <td>0</td>\n",
       "      <td>0</td>\n",
       "      <td>1</td>\n",
       "    </tr>\n",
       "    <tr>\n",
       "      <th>6</th>\n",
       "      <td>สิ่งแวดล้อม,สังคม</td>\n",
       "      <td>มาปลูกพืชผลและไม้ยืนต้นสารพัดในที่ดิน ไร่ ที่...</td>\n",
       "      <td>มา ปลูก พืชผล และ ไม้ยืนต้น สารพัด ใน ที่ดิน ไ...</td>\n",
       "      <td>0</td>\n",
       "      <td>0</td>\n",
       "      <td>0</td>\n",
       "      <td>0</td>\n",
       "      <td>0</td>\n",
       "      <td>0</td>\n",
       "      <td>0</td>\n",
       "      <td>0</td>\n",
       "      <td>1</td>\n",
       "      <td>0</td>\n",
       "      <td>1</td>\n",
       "      <td>0</td>\n",
       "      <td>0</td>\n",
       "      <td>2</td>\n",
       "    </tr>\n",
       "    <tr>\n",
       "      <th>7</th>\n",
       "      <td>บันเทิง,ข่าวบันเทิง</td>\n",
       "      <td>แอริน ยุกตะทัต หลังเลิกรากับแฟนหนุ่ม นาฑี โอสถ...</td>\n",
       "      <td>แอ ริน ยุ ก ตะ ทัต หลัง เลิกรา กับ แฟน หนุ่ม น...</td>\n",
       "      <td>0</td>\n",
       "      <td>0</td>\n",
       "      <td>0</td>\n",
       "      <td>0</td>\n",
       "      <td>0</td>\n",
       "      <td>0</td>\n",
       "      <td>0</td>\n",
       "      <td>0</td>\n",
       "      <td>0</td>\n",
       "      <td>0</td>\n",
       "      <td>0</td>\n",
       "      <td>1</td>\n",
       "      <td>0</td>\n",
       "      <td>1</td>\n",
       "    </tr>\n",
       "    <tr>\n",
       "      <th>8</th>\n",
       "      <td>ข่าว,การเมือง</td>\n",
       "      <td>วันที่ ก พ ที่บ้านชิดชอบ เลขที่ หมู่ ต อิสาณ อ...</td>\n",
       "      <td>วันที่ ก พ ที่ บ้าน ชิด ชอบ เลขที่ หมู่ ต อิ ส...</td>\n",
       "      <td>0</td>\n",
       "      <td>0</td>\n",
       "      <td>0</td>\n",
       "      <td>0</td>\n",
       "      <td>0</td>\n",
       "      <td>0</td>\n",
       "      <td>0</td>\n",
       "      <td>0</td>\n",
       "      <td>0</td>\n",
       "      <td>0</td>\n",
       "      <td>0</td>\n",
       "      <td>0</td>\n",
       "      <td>1</td>\n",
       "      <td>1</td>\n",
       "    </tr>\n",
       "    <tr>\n",
       "      <th>9</th>\n",
       "      <td>ข่าว,อาชญากรรม</td>\n",
       "      <td>วานนี้ ส ค พ ต อ เชาว์ศิลป์ บุญประดิษฐ์ รอง ผบ...</td>\n",
       "      <td>วาน นี้ ส ค พ ต อ เชาว์ ศิลป์ บุญ ประดิษฐ์ รอง...</td>\n",
       "      <td>0</td>\n",
       "      <td>0</td>\n",
       "      <td>0</td>\n",
       "      <td>0</td>\n",
       "      <td>0</td>\n",
       "      <td>0</td>\n",
       "      <td>1</td>\n",
       "      <td>0</td>\n",
       "      <td>0</td>\n",
       "      <td>0</td>\n",
       "      <td>0</td>\n",
       "      <td>0</td>\n",
       "      <td>0</td>\n",
       "      <td>1</td>\n",
       "    </tr>\n",
       "    <tr>\n",
       "      <th>10</th>\n",
       "      <td>การเมือง,การศึกษา,ความมั่นคง</td>\n",
       "      <td>พร้อมคำถามสำคัญการสร้างมวลชนนำอุดมการณ์แบบของ...</td>\n",
       "      <td>พร้อม คำถาม สำคัญ การ สร้าง มวลชน นำ อุดมการณ์...</td>\n",
       "      <td>0</td>\n",
       "      <td>0</td>\n",
       "      <td>0</td>\n",
       "      <td>1</td>\n",
       "      <td>1</td>\n",
       "      <td>0</td>\n",
       "      <td>0</td>\n",
       "      <td>0</td>\n",
       "      <td>0</td>\n",
       "      <td>0</td>\n",
       "      <td>0</td>\n",
       "      <td>0</td>\n",
       "      <td>1</td>\n",
       "      <td>3</td>\n",
       "    </tr>\n",
       "    <tr>\n",
       "      <th>11</th>\n",
       "      <td>การเมือง,สังคม,คุณภาพชีวิต</td>\n",
       "      <td>ทำงานต่อไปคือคำตอบ มิ ย ดร นพดล กรรณิกา ผอ สำ...</td>\n",
       "      <td>ทำงาน ต่อไป คือ คำตอบ มิ ย ดร นพดล กรรณิกา ผอ ...</td>\n",
       "      <td>0</td>\n",
       "      <td>0</td>\n",
       "      <td>0</td>\n",
       "      <td>0</td>\n",
       "      <td>0</td>\n",
       "      <td>1</td>\n",
       "      <td>0</td>\n",
       "      <td>0</td>\n",
       "      <td>0</td>\n",
       "      <td>0</td>\n",
       "      <td>1</td>\n",
       "      <td>0</td>\n",
       "      <td>1</td>\n",
       "      <td>3</td>\n",
       "    </tr>\n",
       "    <tr>\n",
       "      <th>12</th>\n",
       "      <td>การเมือง,วัฒนธรรม</td>\n",
       "      <td>ที่ให้สัมภาษณ์ถึงแนวคิดปฎิรูปคณะสงฆ์ของพุทธะอ...</td>\n",
       "      <td>ที่ ให้ สัมภาษณ์ ถึง แนวคิด ปฎิรูป คณะสงฆ์ ของ...</td>\n",
       "      <td>0</td>\n",
       "      <td>0</td>\n",
       "      <td>1</td>\n",
       "      <td>0</td>\n",
       "      <td>0</td>\n",
       "      <td>0</td>\n",
       "      <td>0</td>\n",
       "      <td>0</td>\n",
       "      <td>0</td>\n",
       "      <td>0</td>\n",
       "      <td>0</td>\n",
       "      <td>0</td>\n",
       "      <td>1</td>\n",
       "      <td>2</td>\n",
       "    </tr>\n",
       "    <tr>\n",
       "      <th>13</th>\n",
       "      <td>อาชญากรรม</td>\n",
       "      <td>วันนี้ มิ ย ฝ่ายปกครองและตำรวจภูธรอุทุมพรพิสัย...</td>\n",
       "      <td>วันนี้ มิ ย ฝ่ายปกครอง และ ตำรวจภูธร อุทุมพร พ...</td>\n",
       "      <td>0</td>\n",
       "      <td>0</td>\n",
       "      <td>0</td>\n",
       "      <td>0</td>\n",
       "      <td>0</td>\n",
       "      <td>0</td>\n",
       "      <td>1</td>\n",
       "      <td>0</td>\n",
       "      <td>0</td>\n",
       "      <td>0</td>\n",
       "      <td>0</td>\n",
       "      <td>0</td>\n",
       "      <td>0</td>\n",
       "      <td>1</td>\n",
       "    </tr>\n",
       "    <tr>\n",
       "      <th>14</th>\n",
       "      <td>ข่าว,อาชญากรรม</td>\n",
       "      <td>ดำเนินคดีเมื่อเวลา น วันที่ ส ค ผู้สื่อข่าวราย...</td>\n",
       "      <td>ดำเนินคดี เมื่อ เวลา น วันที่ ส ค ผู้สื่อข่าว ...</td>\n",
       "      <td>0</td>\n",
       "      <td>0</td>\n",
       "      <td>0</td>\n",
       "      <td>0</td>\n",
       "      <td>0</td>\n",
       "      <td>0</td>\n",
       "      <td>1</td>\n",
       "      <td>0</td>\n",
       "      <td>0</td>\n",
       "      <td>0</td>\n",
       "      <td>0</td>\n",
       "      <td>0</td>\n",
       "      <td>0</td>\n",
       "      <td>1</td>\n",
       "    </tr>\n",
       "    <tr>\n",
       "      <th>15</th>\n",
       "      <td>ข่าว,อาชญากรรม</td>\n",
       "      <td>ผบช น นำ สืบ บก น สืบ สน ทองหล่อ ทลายโกดังปลูก...</td>\n",
       "      <td>ผบ ช น นำ สืบ บก น สืบ สน ทอง หล่อ ทลาย โกดัง ...</td>\n",
       "      <td>0</td>\n",
       "      <td>0</td>\n",
       "      <td>0</td>\n",
       "      <td>0</td>\n",
       "      <td>0</td>\n",
       "      <td>0</td>\n",
       "      <td>1</td>\n",
       "      <td>0</td>\n",
       "      <td>0</td>\n",
       "      <td>0</td>\n",
       "      <td>0</td>\n",
       "      <td>0</td>\n",
       "      <td>0</td>\n",
       "      <td>1</td>\n",
       "    </tr>\n",
       "    <tr>\n",
       "      <th>16</th>\n",
       "      <td>คุณภาพชีวิต</td>\n",
       "      <td>เผยหากไม่มีบัตรทอง บาทคงตายไปแล้วเมื่อวันที่ ...</td>\n",
       "      <td>เผย หาก ไม่ มี บัตร ทอง บาท คง ตาย ไป แล้ว เมื...</td>\n",
       "      <td>0</td>\n",
       "      <td>0</td>\n",
       "      <td>0</td>\n",
       "      <td>0</td>\n",
       "      <td>0</td>\n",
       "      <td>1</td>\n",
       "      <td>0</td>\n",
       "      <td>0</td>\n",
       "      <td>0</td>\n",
       "      <td>0</td>\n",
       "      <td>0</td>\n",
       "      <td>0</td>\n",
       "      <td>0</td>\n",
       "      <td>1</td>\n",
       "    </tr>\n",
       "    <tr>\n",
       "      <th>17</th>\n",
       "      <td>ข่าว,อาชญากรรม</td>\n",
       "      <td>วันที่ ก ค พล ต อ จักรทิพย์ ชัยจินดา ผบ ตร เปิ...</td>\n",
       "      <td>วันที่ ก ค พล ต อ จักร ทิพย์ ชัย จินดา ผบ ตร เ...</td>\n",
       "      <td>0</td>\n",
       "      <td>0</td>\n",
       "      <td>0</td>\n",
       "      <td>0</td>\n",
       "      <td>0</td>\n",
       "      <td>0</td>\n",
       "      <td>1</td>\n",
       "      <td>0</td>\n",
       "      <td>0</td>\n",
       "      <td>0</td>\n",
       "      <td>0</td>\n",
       "      <td>0</td>\n",
       "      <td>0</td>\n",
       "      <td>1</td>\n",
       "    </tr>\n",
       "    <tr>\n",
       "      <th>18</th>\n",
       "      <td>กีฬา</td>\n",
       "      <td>ริคาร์โด้ เตเซร่า ที่เพิ่งประกาศลาออกจากตำแหน่...</td>\n",
       "      <td>ริ คาร์ โด้ เต เซ ร่า ที่ เพิ่ง ประกาศ ลา ออกจ...</td>\n",
       "      <td>0</td>\n",
       "      <td>0</td>\n",
       "      <td>0</td>\n",
       "      <td>0</td>\n",
       "      <td>0</td>\n",
       "      <td>0</td>\n",
       "      <td>0</td>\n",
       "      <td>0</td>\n",
       "      <td>0</td>\n",
       "      <td>1</td>\n",
       "      <td>0</td>\n",
       "      <td>0</td>\n",
       "      <td>0</td>\n",
       "      <td>1</td>\n",
       "    </tr>\n",
       "    <tr>\n",
       "      <th>19</th>\n",
       "      <td>ข่าว,เศรษฐกิจ</td>\n",
       "      <td>เหตุโครงการจำนำข้าวรัฐสูญหายเสื่อมนายเลิศวิโรจ...</td>\n",
       "      <td>เหตุ โครงการ จำนำ ข้าว รัฐ สูญหาย เสื่อม นาย เ...</td>\n",
       "      <td>0</td>\n",
       "      <td>1</td>\n",
       "      <td>0</td>\n",
       "      <td>0</td>\n",
       "      <td>0</td>\n",
       "      <td>0</td>\n",
       "      <td>0</td>\n",
       "      <td>0</td>\n",
       "      <td>0</td>\n",
       "      <td>0</td>\n",
       "      <td>0</td>\n",
       "      <td>0</td>\n",
       "      <td>0</td>\n",
       "      <td>1</td>\n",
       "    </tr>\n",
       "    <tr>\n",
       "      <th>20</th>\n",
       "      <td>กีฬา,กีฬาอื่นๆ</td>\n",
       "      <td>การแข่งขันเทนนิสออสเตรเลียน โอเพ่น แกรนด์สแลมร...</td>\n",
       "      <td>การแข่งขัน เทนนิส ออสเตรเลีย น โอเพ่น แกรนด์ ส...</td>\n",
       "      <td>0</td>\n",
       "      <td>0</td>\n",
       "      <td>0</td>\n",
       "      <td>0</td>\n",
       "      <td>0</td>\n",
       "      <td>0</td>\n",
       "      <td>0</td>\n",
       "      <td>0</td>\n",
       "      <td>0</td>\n",
       "      <td>1</td>\n",
       "      <td>0</td>\n",
       "      <td>0</td>\n",
       "      <td>0</td>\n",
       "      <td>1</td>\n",
       "    </tr>\n",
       "    <tr>\n",
       "      <th>21</th>\n",
       "      <td>สังคม</td>\n",
       "      <td>วันนี้ ต ค พล ท สรรเสริญ แก้วกำเนิด โฆษกประจำส...</td>\n",
       "      <td>วันนี้ ต ค พล ท สรรเสริญ แก้ว กำเนิด โฆษก ประจ...</td>\n",
       "      <td>0</td>\n",
       "      <td>0</td>\n",
       "      <td>0</td>\n",
       "      <td>0</td>\n",
       "      <td>0</td>\n",
       "      <td>0</td>\n",
       "      <td>0</td>\n",
       "      <td>0</td>\n",
       "      <td>0</td>\n",
       "      <td>0</td>\n",
       "      <td>1</td>\n",
       "      <td>0</td>\n",
       "      <td>0</td>\n",
       "      <td>1</td>\n",
       "    </tr>\n",
       "    <tr>\n",
       "      <th>22</th>\n",
       "      <td>เศรษฐกิจ</td>\n",
       "      <td>จากสถานการณ์การใช้ไฟที่มีปริมาณใช้ไฟฟ้าสูงสุดอ...</td>\n",
       "      <td>จาก สถานการณ์ การ ใช้ ไฟ ที่ มี ปริมาณ ใช้ ไฟฟ...</td>\n",
       "      <td>0</td>\n",
       "      <td>1</td>\n",
       "      <td>0</td>\n",
       "      <td>0</td>\n",
       "      <td>0</td>\n",
       "      <td>0</td>\n",
       "      <td>0</td>\n",
       "      <td>0</td>\n",
       "      <td>0</td>\n",
       "      <td>0</td>\n",
       "      <td>0</td>\n",
       "      <td>0</td>\n",
       "      <td>0</td>\n",
       "      <td>1</td>\n",
       "    </tr>\n",
       "    <tr>\n",
       "      <th>23</th>\n",
       "      <td>สังคม</td>\n",
       "      <td>ตามที่สํานักงานการบินพลเรือนแห่งประเทศไทยได้ยื...</td>\n",
       "      <td>ตามที่ สํา นัก งานการ บิน พลเรือน แห่ง ประเทศ ...</td>\n",
       "      <td>0</td>\n",
       "      <td>0</td>\n",
       "      <td>0</td>\n",
       "      <td>0</td>\n",
       "      <td>0</td>\n",
       "      <td>0</td>\n",
       "      <td>0</td>\n",
       "      <td>0</td>\n",
       "      <td>0</td>\n",
       "      <td>0</td>\n",
       "      <td>1</td>\n",
       "      <td>0</td>\n",
       "      <td>0</td>\n",
       "      <td>1</td>\n",
       "    </tr>\n",
       "    <tr>\n",
       "      <th>24</th>\n",
       "      <td>เศรษฐกิจ</td>\n",
       "      <td>เมื่อวานนี้ ม ค ผศ ธนวรรธน์ พลวิชัย ผู้อำนวยกา...</td>\n",
       "      <td>เมื่อวาน นี้ ม ค ผศ ธน วร รธน์ พล วิชัย ผู้อำน...</td>\n",
       "      <td>0</td>\n",
       "      <td>1</td>\n",
       "      <td>0</td>\n",
       "      <td>0</td>\n",
       "      <td>0</td>\n",
       "      <td>0</td>\n",
       "      <td>0</td>\n",
       "      <td>0</td>\n",
       "      <td>0</td>\n",
       "      <td>0</td>\n",
       "      <td>0</td>\n",
       "      <td>0</td>\n",
       "      <td>0</td>\n",
       "      <td>1</td>\n",
       "    </tr>\n",
       "    <tr>\n",
       "      <th>25</th>\n",
       "      <td>สังคม</td>\n",
       "      <td>ตามที่ สมเด็จพระเจ้าน้องนางเธอ เจ้าฟ้าจุฬาภรณว...</td>\n",
       "      <td>ตามที่ สมเด็จ พระเจ้า น้อง นาง เธอ เจ้าฟ้า จุฬ...</td>\n",
       "      <td>0</td>\n",
       "      <td>0</td>\n",
       "      <td>0</td>\n",
       "      <td>0</td>\n",
       "      <td>0</td>\n",
       "      <td>0</td>\n",
       "      <td>0</td>\n",
       "      <td>0</td>\n",
       "      <td>0</td>\n",
       "      <td>0</td>\n",
       "      <td>1</td>\n",
       "      <td>0</td>\n",
       "      <td>0</td>\n",
       "      <td>1</td>\n",
       "    </tr>\n",
       "    <tr>\n",
       "      <th>26</th>\n",
       "      <td>การเมือง,สิทธิมนุษยชน</td>\n",
       "      <td>คอยเป็นธุระและเป็นที่พึ่งสุดท้ายให้กับญาติพี่...</td>\n",
       "      <td>คอย เป็นธุระ และ เป็น ที่พึ่งสุดท้าย ให้ กับ ญ...</td>\n",
       "      <td>0</td>\n",
       "      <td>0</td>\n",
       "      <td>0</td>\n",
       "      <td>0</td>\n",
       "      <td>0</td>\n",
       "      <td>0</td>\n",
       "      <td>0</td>\n",
       "      <td>1</td>\n",
       "      <td>0</td>\n",
       "      <td>0</td>\n",
       "      <td>0</td>\n",
       "      <td>0</td>\n",
       "      <td>1</td>\n",
       "      <td>2</td>\n",
       "    </tr>\n",
       "    <tr>\n",
       "      <th>27</th>\n",
       "      <td>การเมือง</td>\n",
       "      <td>รวมทั้งทำหน้าที่เป็นประธานชั่วคราวในการประชุม...</td>\n",
       "      <td>รวมทั้ง ทำหน้าที่ เป็น ประธาน ชั่วคราว ใน การป...</td>\n",
       "      <td>0</td>\n",
       "      <td>0</td>\n",
       "      <td>0</td>\n",
       "      <td>0</td>\n",
       "      <td>0</td>\n",
       "      <td>0</td>\n",
       "      <td>0</td>\n",
       "      <td>0</td>\n",
       "      <td>0</td>\n",
       "      <td>0</td>\n",
       "      <td>0</td>\n",
       "      <td>0</td>\n",
       "      <td>1</td>\n",
       "      <td>1</td>\n",
       "    </tr>\n",
       "    <tr>\n",
       "      <th>28</th>\n",
       "      <td>ข่าว,เศรษฐกิจ</td>\n",
       "      <td>ภายหลัง รัฐบาลเปิดมาตรการเยียวยาลูกจ้างชั่วครา...</td>\n",
       "      <td>ภายหลัง รัฐบาล เปิด มาตร การเยียวยา ลูกจ้างชั่...</td>\n",
       "      <td>0</td>\n",
       "      <td>1</td>\n",
       "      <td>0</td>\n",
       "      <td>0</td>\n",
       "      <td>0</td>\n",
       "      <td>0</td>\n",
       "      <td>0</td>\n",
       "      <td>0</td>\n",
       "      <td>0</td>\n",
       "      <td>0</td>\n",
       "      <td>0</td>\n",
       "      <td>0</td>\n",
       "      <td>0</td>\n",
       "      <td>1</td>\n",
       "    </tr>\n",
       "    <tr>\n",
       "      <th>29</th>\n",
       "      <td>เศรษฐกิจ</td>\n",
       "      <td>วันนี้ พ ค นางอรรชกา สีบุญเรือง รัฐมนตรีว่าการ...</td>\n",
       "      <td>วันนี้ พ ค นา งอ รร ชกา สี บุญ เรือง รัฐมนตรี ...</td>\n",
       "      <td>0</td>\n",
       "      <td>1</td>\n",
       "      <td>0</td>\n",
       "      <td>0</td>\n",
       "      <td>0</td>\n",
       "      <td>0</td>\n",
       "      <td>0</td>\n",
       "      <td>0</td>\n",
       "      <td>0</td>\n",
       "      <td>0</td>\n",
       "      <td>0</td>\n",
       "      <td>0</td>\n",
       "      <td>0</td>\n",
       "      <td>1</td>\n",
       "    </tr>\n",
       "    <tr>\n",
       "      <th>30</th>\n",
       "      <td>ข่าว,ต่างประเทศ</td>\n",
       "      <td>เมื่อ มิ ย สำนักข่าวต่างประเทศรายงาน ประธานาธิ...</td>\n",
       "      <td>เมื่อ มิ ย สำนัก ข่าวต่างประเทศ รายงาน ประธานา...</td>\n",
       "      <td>1</td>\n",
       "      <td>0</td>\n",
       "      <td>0</td>\n",
       "      <td>0</td>\n",
       "      <td>0</td>\n",
       "      <td>0</td>\n",
       "      <td>0</td>\n",
       "      <td>0</td>\n",
       "      <td>0</td>\n",
       "      <td>0</td>\n",
       "      <td>0</td>\n",
       "      <td>0</td>\n",
       "      <td>0</td>\n",
       "      <td>1</td>\n",
       "    </tr>\n",
       "    <tr>\n",
       "      <th>31</th>\n",
       "      <td>ข่าว,ต่างประเทศ</td>\n",
       "      <td>สำนักข่าวรอยเตอร์ส รายงานเมื่อวันที่ มี ค ว่า ...</td>\n",
       "      <td>สำนักข่าว รอยเตอร์ ส รายงาน เมื่อ วันที่ มี ค ...</td>\n",
       "      <td>1</td>\n",
       "      <td>0</td>\n",
       "      <td>0</td>\n",
       "      <td>0</td>\n",
       "      <td>0</td>\n",
       "      <td>0</td>\n",
       "      <td>0</td>\n",
       "      <td>0</td>\n",
       "      <td>0</td>\n",
       "      <td>0</td>\n",
       "      <td>0</td>\n",
       "      <td>0</td>\n",
       "      <td>0</td>\n",
       "      <td>1</td>\n",
       "    </tr>\n",
       "    <tr>\n",
       "      <th>32</th>\n",
       "      <td>การเมือง</td>\n",
       "      <td>วราวิทย์ ฉิมมณี ผู้สื่อข่าวผู้ประกาศข่าว ไทยพี...</td>\n",
       "      <td>ว รา วิทย์ ฉิม มณี ผู้สื่อข่าว ผู้ประกาศข่าว ไ...</td>\n",
       "      <td>0</td>\n",
       "      <td>0</td>\n",
       "      <td>0</td>\n",
       "      <td>0</td>\n",
       "      <td>0</td>\n",
       "      <td>0</td>\n",
       "      <td>0</td>\n",
       "      <td>0</td>\n",
       "      <td>0</td>\n",
       "      <td>0</td>\n",
       "      <td>0</td>\n",
       "      <td>0</td>\n",
       "      <td>1</td>\n",
       "      <td>1</td>\n",
       "    </tr>\n",
       "    <tr>\n",
       "      <th>33</th>\n",
       "      <td>ต่างประเทศ</td>\n",
       "      <td>พายุฝนและลมกระโชกแรงทำให้บ้านเรือนในรัฐนิวเซาธ...</td>\n",
       "      <td>พายุฝน และ ลมกระโชก แรง ทำให้ บ้านเรือน ใน รัฐ...</td>\n",
       "      <td>1</td>\n",
       "      <td>0</td>\n",
       "      <td>0</td>\n",
       "      <td>0</td>\n",
       "      <td>0</td>\n",
       "      <td>0</td>\n",
       "      <td>0</td>\n",
       "      <td>0</td>\n",
       "      <td>0</td>\n",
       "      <td>0</td>\n",
       "      <td>0</td>\n",
       "      <td>0</td>\n",
       "      <td>0</td>\n",
       "      <td>1</td>\n",
       "    </tr>\n",
       "    <tr>\n",
       "      <th>34</th>\n",
       "      <td>การเมือง</td>\n",
       "      <td>นปช รุกจี้ปล่อยเสื้อแดงอีก กว่าคน จตุพร เผยรอส...</td>\n",
       "      <td>นปช รุก จี้ ปล่อย เสื้อ แดง อีก กว่า คน จตุพร ...</td>\n",
       "      <td>0</td>\n",
       "      <td>0</td>\n",
       "      <td>0</td>\n",
       "      <td>0</td>\n",
       "      <td>0</td>\n",
       "      <td>0</td>\n",
       "      <td>0</td>\n",
       "      <td>0</td>\n",
       "      <td>0</td>\n",
       "      <td>0</td>\n",
       "      <td>0</td>\n",
       "      <td>0</td>\n",
       "      <td>1</td>\n",
       "      <td>1</td>\n",
       "    </tr>\n",
       "    <tr>\n",
       "      <th>35</th>\n",
       "      <td>อาชญากรรม</td>\n",
       "      <td>วันนี้ มี ค นายวิชัย คัมภีรปรีชา โยธาธิการและผ...</td>\n",
       "      <td>วันนี้ มี ค นาย วิชัย คัมภีร ปรีชา โยธา ธิ การ...</td>\n",
       "      <td>0</td>\n",
       "      <td>0</td>\n",
       "      <td>0</td>\n",
       "      <td>0</td>\n",
       "      <td>0</td>\n",
       "      <td>0</td>\n",
       "      <td>1</td>\n",
       "      <td>0</td>\n",
       "      <td>0</td>\n",
       "      <td>0</td>\n",
       "      <td>0</td>\n",
       "      <td>0</td>\n",
       "      <td>0</td>\n",
       "      <td>1</td>\n",
       "    </tr>\n",
       "    <tr>\n",
       "      <th>36</th>\n",
       "      <td>การเมือง</td>\n",
       "      <td>บรรยากาศการชุมนุมที่อนุสาวรีย์ประชาธิปไตย ถนนร...</td>\n",
       "      <td>บรรยากาศ การ ชุมนุม ที่ อนุสาวรีย์ ประชาธิปไตย...</td>\n",
       "      <td>0</td>\n",
       "      <td>0</td>\n",
       "      <td>0</td>\n",
       "      <td>0</td>\n",
       "      <td>0</td>\n",
       "      <td>0</td>\n",
       "      <td>0</td>\n",
       "      <td>0</td>\n",
       "      <td>0</td>\n",
       "      <td>0</td>\n",
       "      <td>0</td>\n",
       "      <td>0</td>\n",
       "      <td>1</td>\n",
       "      <td>1</td>\n",
       "    </tr>\n",
       "    <tr>\n",
       "      <th>37</th>\n",
       "      <td>บันเทิง,ข่าวบันเทิง</td>\n",
       "      <td>หลังจากที่สาวมาด เมกะแดนซ์ ออกมาแฉอดีตสามี กรุ...</td>\n",
       "      <td>หลังจากที่ สาว มาด เมกะ แดนซ์ ออกมา แฉ อดีต สา...</td>\n",
       "      <td>0</td>\n",
       "      <td>0</td>\n",
       "      <td>0</td>\n",
       "      <td>0</td>\n",
       "      <td>0</td>\n",
       "      <td>0</td>\n",
       "      <td>0</td>\n",
       "      <td>0</td>\n",
       "      <td>0</td>\n",
       "      <td>0</td>\n",
       "      <td>0</td>\n",
       "      <td>1</td>\n",
       "      <td>0</td>\n",
       "      <td>1</td>\n",
       "    </tr>\n",
       "    <tr>\n",
       "      <th>38</th>\n",
       "      <td>กีฬา,ไทยรัฐเชียร์ไทยแลนด์</td>\n",
       "      <td>วันที่ ก ค การแข่งขันกอล์ฟหญิง แอลพีจีเอ ทัวร์...</td>\n",
       "      <td>วันที่ ก ค การแข่งขัน กอล์ฟ หญิง แอลพีจี เอ ทั...</td>\n",
       "      <td>0</td>\n",
       "      <td>0</td>\n",
       "      <td>0</td>\n",
       "      <td>0</td>\n",
       "      <td>0</td>\n",
       "      <td>0</td>\n",
       "      <td>0</td>\n",
       "      <td>0</td>\n",
       "      <td>0</td>\n",
       "      <td>1</td>\n",
       "      <td>0</td>\n",
       "      <td>0</td>\n",
       "      <td>0</td>\n",
       "      <td>1</td>\n",
       "    </tr>\n",
       "    <tr>\n",
       "      <th>39</th>\n",
       "      <td>การเมือง</td>\n",
       "      <td>หลังมีกระแสข่าว กกต ยื่นต่อศาลรัฐธรรมนูญให้พิจ...</td>\n",
       "      <td>หลัง มี กระแสข่าว กก ต ยื่น ต่อ ศาลรัฐธรรมนูญ ...</td>\n",
       "      <td>0</td>\n",
       "      <td>0</td>\n",
       "      <td>0</td>\n",
       "      <td>0</td>\n",
       "      <td>0</td>\n",
       "      <td>0</td>\n",
       "      <td>0</td>\n",
       "      <td>0</td>\n",
       "      <td>0</td>\n",
       "      <td>0</td>\n",
       "      <td>0</td>\n",
       "      <td>0</td>\n",
       "      <td>1</td>\n",
       "      <td>1</td>\n",
       "    </tr>\n",
       "    <tr>\n",
       "      <th>40</th>\n",
       "      <td>ข่าว,อาชญากรรม</td>\n",
       "      <td>แล้วโผล่ร่วมงานศพเมื่อเวลา น วันที่ มี ค ผู้ส...</td>\n",
       "      <td>แล้ว โผล่ ร่วม งานศพ เมื่อ เวลา น วันที่ มี ค ...</td>\n",
       "      <td>0</td>\n",
       "      <td>0</td>\n",
       "      <td>0</td>\n",
       "      <td>0</td>\n",
       "      <td>0</td>\n",
       "      <td>0</td>\n",
       "      <td>1</td>\n",
       "      <td>0</td>\n",
       "      <td>0</td>\n",
       "      <td>0</td>\n",
       "      <td>0</td>\n",
       "      <td>0</td>\n",
       "      <td>0</td>\n",
       "      <td>1</td>\n",
       "    </tr>\n",
       "    <tr>\n",
       "      <th>41</th>\n",
       "      <td>เศรษฐกิจ</td>\n",
       "      <td>นายชาครีย์ บูรณกานนท์ รองกรรมการผู้จัดการใหญ่ ...</td>\n",
       "      <td>นาย ชา ค รี ย์ บูรณ กา นนท์ รอง กรรมการผู้จัดก...</td>\n",
       "      <td>0</td>\n",
       "      <td>1</td>\n",
       "      <td>0</td>\n",
       "      <td>0</td>\n",
       "      <td>0</td>\n",
       "      <td>0</td>\n",
       "      <td>0</td>\n",
       "      <td>0</td>\n",
       "      <td>0</td>\n",
       "      <td>0</td>\n",
       "      <td>0</td>\n",
       "      <td>0</td>\n",
       "      <td>0</td>\n",
       "      <td>1</td>\n",
       "    </tr>\n",
       "    <tr>\n",
       "      <th>42</th>\n",
       "      <td>กีฬา,ฟุตบอลยุโรป</td>\n",
       "      <td>สำนักข่าวต่างประเทศ รายงานวันที่ พ ย ว่า โยอาค...</td>\n",
       "      <td>สำนัก ข่าวต่างประเทศ รายงาน วันที่ พ ย ว่า โย ...</td>\n",
       "      <td>0</td>\n",
       "      <td>0</td>\n",
       "      <td>0</td>\n",
       "      <td>0</td>\n",
       "      <td>0</td>\n",
       "      <td>0</td>\n",
       "      <td>0</td>\n",
       "      <td>0</td>\n",
       "      <td>0</td>\n",
       "      <td>1</td>\n",
       "      <td>0</td>\n",
       "      <td>0</td>\n",
       "      <td>0</td>\n",
       "      <td>1</td>\n",
       "    </tr>\n",
       "    <tr>\n",
       "      <th>43</th>\n",
       "      <td>ข่าว,สังคม</td>\n",
       "      <td>คำถาม อะไรคือจุดเริ่มต้นของการเปิดเพจรีวิวอาหา...</td>\n",
       "      <td>คำถาม อะไร คือ จุดเริ่มต้น ของ การ เปิด เพจ รี...</td>\n",
       "      <td>0</td>\n",
       "      <td>0</td>\n",
       "      <td>0</td>\n",
       "      <td>0</td>\n",
       "      <td>0</td>\n",
       "      <td>0</td>\n",
       "      <td>0</td>\n",
       "      <td>0</td>\n",
       "      <td>0</td>\n",
       "      <td>0</td>\n",
       "      <td>1</td>\n",
       "      <td>0</td>\n",
       "      <td>0</td>\n",
       "      <td>1</td>\n",
       "    </tr>\n",
       "    <tr>\n",
       "      <th>44</th>\n",
       "      <td>สังคม</td>\n",
       "      <td>ความสูงของประตูระบายน้ำคลองพระยาสุเรนทร์ ย่านส...</td>\n",
       "      <td>ความสูง ของ ประตูระบายน้ำ คลอง พระยา สุเรนทร์ ...</td>\n",
       "      <td>0</td>\n",
       "      <td>0</td>\n",
       "      <td>0</td>\n",
       "      <td>0</td>\n",
       "      <td>0</td>\n",
       "      <td>0</td>\n",
       "      <td>0</td>\n",
       "      <td>0</td>\n",
       "      <td>0</td>\n",
       "      <td>0</td>\n",
       "      <td>1</td>\n",
       "      <td>0</td>\n",
       "      <td>0</td>\n",
       "      <td>1</td>\n",
       "    </tr>\n",
       "    <tr>\n",
       "      <th>45</th>\n",
       "      <td>กีฬา,ฟุตบอลยุโรป</td>\n",
       "      <td>สำนักข่าวต่างประเทศรายงาน วันที่ ต ค ว่า จอร์จ...</td>\n",
       "      <td>สำนัก ข่าวต่างประเทศ รายงาน วันที่ ต ค ว่า จอ ...</td>\n",
       "      <td>0</td>\n",
       "      <td>0</td>\n",
       "      <td>0</td>\n",
       "      <td>0</td>\n",
       "      <td>0</td>\n",
       "      <td>0</td>\n",
       "      <td>0</td>\n",
       "      <td>0</td>\n",
       "      <td>0</td>\n",
       "      <td>1</td>\n",
       "      <td>0</td>\n",
       "      <td>0</td>\n",
       "      <td>0</td>\n",
       "      <td>1</td>\n",
       "    </tr>\n",
       "    <tr>\n",
       "      <th>46</th>\n",
       "      <td>บันเทิง,ข่าวบันเทิง</td>\n",
       "      <td>งานเข้าอีกแล้ว สำหรับ ดีเจภูมิ ภูมิใจ ตั้งสง่า...</td>\n",
       "      <td>งาน เข้า อีกแล้ว สำหรับ ดีเจ ภูมิ ภูมิใจ ตั้ง ...</td>\n",
       "      <td>0</td>\n",
       "      <td>0</td>\n",
       "      <td>0</td>\n",
       "      <td>0</td>\n",
       "      <td>0</td>\n",
       "      <td>0</td>\n",
       "      <td>0</td>\n",
       "      <td>0</td>\n",
       "      <td>0</td>\n",
       "      <td>0</td>\n",
       "      <td>0</td>\n",
       "      <td>1</td>\n",
       "      <td>0</td>\n",
       "      <td>1</td>\n",
       "    </tr>\n",
       "    <tr>\n",
       "      <th>47</th>\n",
       "      <td>กีฬา</td>\n",
       "      <td>ฟุตบอลลีกเอิงฝรั่งเศส ที่สนามสตาด เวโลโดรม โอล...</td>\n",
       "      <td>ฟุตบอล ลีก เอิง ฝรั่งเศส ที่ สนาม ส ตาด เว โล ...</td>\n",
       "      <td>0</td>\n",
       "      <td>0</td>\n",
       "      <td>0</td>\n",
       "      <td>0</td>\n",
       "      <td>0</td>\n",
       "      <td>0</td>\n",
       "      <td>0</td>\n",
       "      <td>0</td>\n",
       "      <td>0</td>\n",
       "      <td>1</td>\n",
       "      <td>0</td>\n",
       "      <td>0</td>\n",
       "      <td>0</td>\n",
       "      <td>1</td>\n",
       "    </tr>\n",
       "    <tr>\n",
       "      <th>48</th>\n",
       "      <td>สังคม</td>\n",
       "      <td>ผลสำรวจ จากการเสวนา เจาะลึกพนันบอล ผลประโยชน์ ...</td>\n",
       "      <td>ผลสำรวจ จาก การ เสวนา เจาะลึก พนัน บอล ผลประโย...</td>\n",
       "      <td>0</td>\n",
       "      <td>0</td>\n",
       "      <td>0</td>\n",
       "      <td>0</td>\n",
       "      <td>0</td>\n",
       "      <td>0</td>\n",
       "      <td>0</td>\n",
       "      <td>0</td>\n",
       "      <td>0</td>\n",
       "      <td>0</td>\n",
       "      <td>1</td>\n",
       "      <td>0</td>\n",
       "      <td>0</td>\n",
       "      <td>1</td>\n",
       "    </tr>\n",
       "    <tr>\n",
       "      <th>49</th>\n",
       "      <td>ข่าว,การเมือง</td>\n",
       "      <td>วันที่ ม ค ที่ห้องประชุมวิวัฒนไชย อาคารไทยซัมม...</td>\n",
       "      <td>วันที่ ม ค ที่ ห้องประชุม วิวัฒน ไชย อาคาร ไทย...</td>\n",
       "      <td>0</td>\n",
       "      <td>0</td>\n",
       "      <td>0</td>\n",
       "      <td>0</td>\n",
       "      <td>0</td>\n",
       "      <td>0</td>\n",
       "      <td>0</td>\n",
       "      <td>0</td>\n",
       "      <td>0</td>\n",
       "      <td>0</td>\n",
       "      <td>0</td>\n",
       "      <td>0</td>\n",
       "      <td>1</td>\n",
       "      <td>1</td>\n",
       "    </tr>\n",
       "    <tr>\n",
       "      <th>50</th>\n",
       "      <td>การเมือง</td>\n",
       "      <td>จะไม่เป็นนักการเมืองอีกแล้ว ก พ จากกรณีวานนี้...</td>\n",
       "      <td>จะ ไม่ เป็น นักการเมือง อีกแล้ว ก พ จาก กรณี ว...</td>\n",
       "      <td>0</td>\n",
       "      <td>0</td>\n",
       "      <td>0</td>\n",
       "      <td>0</td>\n",
       "      <td>0</td>\n",
       "      <td>0</td>\n",
       "      <td>0</td>\n",
       "      <td>0</td>\n",
       "      <td>0</td>\n",
       "      <td>0</td>\n",
       "      <td>0</td>\n",
       "      <td>0</td>\n",
       "      <td>1</td>\n",
       "      <td>1</td>\n",
       "    </tr>\n",
       "    <tr>\n",
       "      <th>51</th>\n",
       "      <td>ข่าว,สังคม</td>\n",
       "      <td>ให้ขายยาซุปเปอร์มาร์เกต ร้านอาหารห่อกลับกินบ้า...</td>\n",
       "      <td>ให้ ขาย ยา ซุปเปอร์มาร์เกต ร้านอาหาร ห่อ กลับ ...</td>\n",
       "      <td>0</td>\n",
       "      <td>0</td>\n",
       "      <td>0</td>\n",
       "      <td>0</td>\n",
       "      <td>0</td>\n",
       "      <td>0</td>\n",
       "      <td>0</td>\n",
       "      <td>0</td>\n",
       "      <td>0</td>\n",
       "      <td>0</td>\n",
       "      <td>1</td>\n",
       "      <td>0</td>\n",
       "      <td>0</td>\n",
       "      <td>1</td>\n",
       "    </tr>\n",
       "    <tr>\n",
       "      <th>52</th>\n",
       "      <td>ข่าว,อาชญากรรม</td>\n",
       "      <td>จากกรณี พล ต ต กมล เหรียญราชา ผบก ปป เป็นประธา...</td>\n",
       "      <td>จาก กรณี พล ต ต กมล เหรียญ ราชา ผบ ก ปป เป็น ป...</td>\n",
       "      <td>0</td>\n",
       "      <td>0</td>\n",
       "      <td>0</td>\n",
       "      <td>0</td>\n",
       "      <td>0</td>\n",
       "      <td>0</td>\n",
       "      <td>1</td>\n",
       "      <td>0</td>\n",
       "      <td>0</td>\n",
       "      <td>0</td>\n",
       "      <td>0</td>\n",
       "      <td>0</td>\n",
       "      <td>0</td>\n",
       "      <td>1</td>\n",
       "    </tr>\n",
       "    <tr>\n",
       "      <th>53</th>\n",
       "      <td>ข่าว,อาชญากรรม</td>\n",
       "      <td>เมื่อเวลาประมาณ น ของวันที่ ธันวาคม พ ต ท สมชา...</td>\n",
       "      <td>เมื่อ เวลา ประมาณ น ของ วันที่ ธันวาคม พ ต ท ส...</td>\n",
       "      <td>0</td>\n",
       "      <td>0</td>\n",
       "      <td>0</td>\n",
       "      <td>0</td>\n",
       "      <td>0</td>\n",
       "      <td>0</td>\n",
       "      <td>1</td>\n",
       "      <td>0</td>\n",
       "      <td>0</td>\n",
       "      <td>0</td>\n",
       "      <td>0</td>\n",
       "      <td>0</td>\n",
       "      <td>0</td>\n",
       "      <td>1</td>\n",
       "    </tr>\n",
       "    <tr>\n",
       "      <th>54</th>\n",
       "      <td>ข่าว,ต่างประเทศ</td>\n",
       "      <td>ภาพจาก twitter royalfocus สื่อผู้ดีจับจ้อง เจ้...</td>\n",
       "      <td>ภาพ จาก twitter royalfocus สื่อ ผู้ดี จับจ้อง ...</td>\n",
       "      <td>1</td>\n",
       "      <td>0</td>\n",
       "      <td>0</td>\n",
       "      <td>0</td>\n",
       "      <td>0</td>\n",
       "      <td>0</td>\n",
       "      <td>0</td>\n",
       "      <td>0</td>\n",
       "      <td>0</td>\n",
       "      <td>0</td>\n",
       "      <td>0</td>\n",
       "      <td>0</td>\n",
       "      <td>0</td>\n",
       "      <td>1</td>\n",
       "    </tr>\n",
       "    <tr>\n",
       "      <th>55</th>\n",
       "      <td>ข่าว,อาชญากรรม</td>\n",
       "      <td>เมื่อวันที่ เม ย ที่กองบังคับการปราบปราม บก ป ...</td>\n",
       "      <td>เมื่อ วันที่ เม ย ที่ กอง บังคับการ ปราบปราม บ...</td>\n",
       "      <td>0</td>\n",
       "      <td>0</td>\n",
       "      <td>0</td>\n",
       "      <td>0</td>\n",
       "      <td>0</td>\n",
       "      <td>0</td>\n",
       "      <td>1</td>\n",
       "      <td>0</td>\n",
       "      <td>0</td>\n",
       "      <td>0</td>\n",
       "      <td>0</td>\n",
       "      <td>0</td>\n",
       "      <td>0</td>\n",
       "      <td>1</td>\n",
       "    </tr>\n",
       "    <tr>\n",
       "      <th>56</th>\n",
       "      <td>การเมือง,สิทธิมนุษยชน</td>\n",
       "      <td>ปชส หวังผลทางจิตวิทยา ทนายความยืนยันการตรวจค้...</td>\n",
       "      <td>ปชส หวังผล ทางจิตวิทยา ทนายความ ยืนยัน การ ตรว...</td>\n",
       "      <td>0</td>\n",
       "      <td>0</td>\n",
       "      <td>0</td>\n",
       "      <td>0</td>\n",
       "      <td>0</td>\n",
       "      <td>0</td>\n",
       "      <td>0</td>\n",
       "      <td>1</td>\n",
       "      <td>0</td>\n",
       "      <td>0</td>\n",
       "      <td>0</td>\n",
       "      <td>0</td>\n",
       "      <td>1</td>\n",
       "      <td>2</td>\n",
       "    </tr>\n",
       "    <tr>\n",
       "      <th>57</th>\n",
       "      <td>กีฬา,ฟุตบอลยุโรป</td>\n",
       "      <td>สำนักข่าวต่างประเทศรายงานวันที่ พ ย ว่าอาร์แซน...</td>\n",
       "      <td>สำนัก ข่าวต่างประเทศ รายงาน วันที่ พ ย ว่า อาร...</td>\n",
       "      <td>0</td>\n",
       "      <td>0</td>\n",
       "      <td>0</td>\n",
       "      <td>0</td>\n",
       "      <td>0</td>\n",
       "      <td>0</td>\n",
       "      <td>0</td>\n",
       "      <td>0</td>\n",
       "      <td>0</td>\n",
       "      <td>1</td>\n",
       "      <td>0</td>\n",
       "      <td>0</td>\n",
       "      <td>0</td>\n",
       "      <td>1</td>\n",
       "    </tr>\n",
       "  </tbody>\n",
       "</table>\n",
       "</div>"
      ],
      "text/plain": [
       "                            type  \\\n",
       "0            สิทธิมนุษยชน,ไอซีที   \n",
       "1               กีฬา,ฟุตบอลยุโรป   \n",
       "2                 ข่าว,อาชญากรรม   \n",
       "3                 การเมือง,สังคม   \n",
       "4                       เศรษฐกิจ   \n",
       "5                 ข่าว,อาชญากรรม   \n",
       "6              สิ่งแวดล้อม,สังคม   \n",
       "7            บันเทิง,ข่าวบันเทิง   \n",
       "8                  ข่าว,การเมือง   \n",
       "9                 ข่าว,อาชญากรรม   \n",
       "10  การเมือง,การศึกษา,ความมั่นคง   \n",
       "11    การเมือง,สังคม,คุณภาพชีวิต   \n",
       "12             การเมือง,วัฒนธรรม   \n",
       "13                     อาชญากรรม   \n",
       "14                ข่าว,อาชญากรรม   \n",
       "15                ข่าว,อาชญากรรม   \n",
       "16                   คุณภาพชีวิต   \n",
       "17                ข่าว,อาชญากรรม   \n",
       "18                          กีฬา   \n",
       "19                 ข่าว,เศรษฐกิจ   \n",
       "20                กีฬา,กีฬาอื่นๆ   \n",
       "21                         สังคม   \n",
       "22                      เศรษฐกิจ   \n",
       "23                         สังคม   \n",
       "24                      เศรษฐกิจ   \n",
       "25                         สังคม   \n",
       "26         การเมือง,สิทธิมนุษยชน   \n",
       "27                      การเมือง   \n",
       "28                 ข่าว,เศรษฐกิจ   \n",
       "29                      เศรษฐกิจ   \n",
       "30               ข่าว,ต่างประเทศ   \n",
       "31               ข่าว,ต่างประเทศ   \n",
       "32                      การเมือง   \n",
       "33                    ต่างประเทศ   \n",
       "34                      การเมือง   \n",
       "35                     อาชญากรรม   \n",
       "36                      การเมือง   \n",
       "37           บันเทิง,ข่าวบันเทิง   \n",
       "38     กีฬา,ไทยรัฐเชียร์ไทยแลนด์   \n",
       "39                      การเมือง   \n",
       "40                ข่าว,อาชญากรรม   \n",
       "41                      เศรษฐกิจ   \n",
       "42              กีฬา,ฟุตบอลยุโรป   \n",
       "43                    ข่าว,สังคม   \n",
       "44                         สังคม   \n",
       "45              กีฬา,ฟุตบอลยุโรป   \n",
       "46           บันเทิง,ข่าวบันเทิง   \n",
       "47                          กีฬา   \n",
       "48                         สังคม   \n",
       "49                 ข่าว,การเมือง   \n",
       "50                      การเมือง   \n",
       "51                    ข่าว,สังคม   \n",
       "52                ข่าว,อาชญากรรม   \n",
       "53                ข่าว,อาชญากรรม   \n",
       "54               ข่าว,ต่างประเทศ   \n",
       "55                ข่าว,อาชญากรรม   \n",
       "56         การเมือง,สิทธิมนุษยชน   \n",
       "57              กีฬา,ฟุตบอลยุโรป   \n",
       "\n",
       "                                             body_cln  \\\n",
       "0    โดยล่าสุดถูกปั่นว่าเรียกร้องให้สังคมให้อภัยเป...   \n",
       "1   สำนักข่าวต่างประเทศรายงานวันที่ ก ย ว่า หลังจา...   \n",
       "2   ชาวบ้านหมู่ ต บ้านกลาง อ อ่าวลึก จ กระบี่ ออกม...   \n",
       "3    ชี้ถ้าไม่ยกเลิกองค์ประกอบอย่างมาตรา ไทยก็ไม่ม...   \n",
       "4   นายนิพนธ์ วงษ์ตระหง่าน อดีตผู้อำนวยการองค์การค...   \n",
       "5   เมื่อเวลา น วันที่ มิ ย ร ต อ อิสระ แสงสว่าง ร...   \n",
       "6    มาปลูกพืชผลและไม้ยืนต้นสารพัดในที่ดิน ไร่ ที่...   \n",
       "7   แอริน ยุกตะทัต หลังเลิกรากับแฟนหนุ่ม นาฑี โอสถ...   \n",
       "8   วันที่ ก พ ที่บ้านชิดชอบ เลขที่ หมู่ ต อิสาณ อ...   \n",
       "9   วานนี้ ส ค พ ต อ เชาว์ศิลป์ บุญประดิษฐ์ รอง ผบ...   \n",
       "10   พร้อมคำถามสำคัญการสร้างมวลชนนำอุดมการณ์แบบของ...   \n",
       "11   ทำงานต่อไปคือคำตอบ มิ ย ดร นพดล กรรณิกา ผอ สำ...   \n",
       "12   ที่ให้สัมภาษณ์ถึงแนวคิดปฎิรูปคณะสงฆ์ของพุทธะอ...   \n",
       "13  วันนี้ มิ ย ฝ่ายปกครองและตำรวจภูธรอุทุมพรพิสัย...   \n",
       "14  ดำเนินคดีเมื่อเวลา น วันที่ ส ค ผู้สื่อข่าวราย...   \n",
       "15  ผบช น นำ สืบ บก น สืบ สน ทองหล่อ ทลายโกดังปลูก...   \n",
       "16   เผยหากไม่มีบัตรทอง บาทคงตายไปแล้วเมื่อวันที่ ...   \n",
       "17  วันที่ ก ค พล ต อ จักรทิพย์ ชัยจินดา ผบ ตร เปิ...   \n",
       "18  ริคาร์โด้ เตเซร่า ที่เพิ่งประกาศลาออกจากตำแหน่...   \n",
       "19  เหตุโครงการจำนำข้าวรัฐสูญหายเสื่อมนายเลิศวิโรจ...   \n",
       "20  การแข่งขันเทนนิสออสเตรเลียน โอเพ่น แกรนด์สแลมร...   \n",
       "21  วันนี้ ต ค พล ท สรรเสริญ แก้วกำเนิด โฆษกประจำส...   \n",
       "22  จากสถานการณ์การใช้ไฟที่มีปริมาณใช้ไฟฟ้าสูงสุดอ...   \n",
       "23  ตามที่สํานักงานการบินพลเรือนแห่งประเทศไทยได้ยื...   \n",
       "24  เมื่อวานนี้ ม ค ผศ ธนวรรธน์ พลวิชัย ผู้อำนวยกา...   \n",
       "25  ตามที่ สมเด็จพระเจ้าน้องนางเธอ เจ้าฟ้าจุฬาภรณว...   \n",
       "26   คอยเป็นธุระและเป็นที่พึ่งสุดท้ายให้กับญาติพี่...   \n",
       "27   รวมทั้งทำหน้าที่เป็นประธานชั่วคราวในการประชุม...   \n",
       "28  ภายหลัง รัฐบาลเปิดมาตรการเยียวยาลูกจ้างชั่วครา...   \n",
       "29  วันนี้ พ ค นางอรรชกา สีบุญเรือง รัฐมนตรีว่าการ...   \n",
       "30  เมื่อ มิ ย สำนักข่าวต่างประเทศรายงาน ประธานาธิ...   \n",
       "31  สำนักข่าวรอยเตอร์ส รายงานเมื่อวันที่ มี ค ว่า ...   \n",
       "32  วราวิทย์ ฉิมมณี ผู้สื่อข่าวผู้ประกาศข่าว ไทยพี...   \n",
       "33  พายุฝนและลมกระโชกแรงทำให้บ้านเรือนในรัฐนิวเซาธ...   \n",
       "34  นปช รุกจี้ปล่อยเสื้อแดงอีก กว่าคน จตุพร เผยรอส...   \n",
       "35  วันนี้ มี ค นายวิชัย คัมภีรปรีชา โยธาธิการและผ...   \n",
       "36  บรรยากาศการชุมนุมที่อนุสาวรีย์ประชาธิปไตย ถนนร...   \n",
       "37  หลังจากที่สาวมาด เมกะแดนซ์ ออกมาแฉอดีตสามี กรุ...   \n",
       "38  วันที่ ก ค การแข่งขันกอล์ฟหญิง แอลพีจีเอ ทัวร์...   \n",
       "39  หลังมีกระแสข่าว กกต ยื่นต่อศาลรัฐธรรมนูญให้พิจ...   \n",
       "40   แล้วโผล่ร่วมงานศพเมื่อเวลา น วันที่ มี ค ผู้ส...   \n",
       "41  นายชาครีย์ บูรณกานนท์ รองกรรมการผู้จัดการใหญ่ ...   \n",
       "42  สำนักข่าวต่างประเทศ รายงานวันที่ พ ย ว่า โยอาค...   \n",
       "43  คำถาม อะไรคือจุดเริ่มต้นของการเปิดเพจรีวิวอาหา...   \n",
       "44  ความสูงของประตูระบายน้ำคลองพระยาสุเรนทร์ ย่านส...   \n",
       "45  สำนักข่าวต่างประเทศรายงาน วันที่ ต ค ว่า จอร์จ...   \n",
       "46  งานเข้าอีกแล้ว สำหรับ ดีเจภูมิ ภูมิใจ ตั้งสง่า...   \n",
       "47  ฟุตบอลลีกเอิงฝรั่งเศส ที่สนามสตาด เวโลโดรม โอล...   \n",
       "48  ผลสำรวจ จากการเสวนา เจาะลึกพนันบอล ผลประโยชน์ ...   \n",
       "49  วันที่ ม ค ที่ห้องประชุมวิวัฒนไชย อาคารไทยซัมม...   \n",
       "50   จะไม่เป็นนักการเมืองอีกแล้ว ก พ จากกรณีวานนี้...   \n",
       "51  ให้ขายยาซุปเปอร์มาร์เกต ร้านอาหารห่อกลับกินบ้า...   \n",
       "52  จากกรณี พล ต ต กมล เหรียญราชา ผบก ปป เป็นประธา...   \n",
       "53  เมื่อเวลาประมาณ น ของวันที่ ธันวาคม พ ต ท สมชา...   \n",
       "54  ภาพจาก twitter royalfocus สื่อผู้ดีจับจ้อง เจ้...   \n",
       "55  เมื่อวันที่ เม ย ที่กองบังคับการปราบปราม บก ป ...   \n",
       "56   ปชส หวังผลทางจิตวิทยา ทนายความยืนยันการตรวจค้...   \n",
       "57  สำนักข่าวต่างประเทศรายงานวันที่ พ ย ว่าอาร์แซน...   \n",
       "\n",
       "                                             Text_Tkn  ต่างประเทศ  เศรษฐกิจ  \\\n",
       "0   โดย ล่าสุด ถูก ปั่น ว่า เรียกร้อง ให้ สังคม ให...           0         0   \n",
       "1   สำนัก ข่าวต่างประเทศ รายงาน วันที่ ก ย ว่า หลั...           0         0   \n",
       "2   ชาวบ้าน หมู่ ต บ้าน กลาง อ อ่าว ลึก จ กระบี่ อ...           0         0   \n",
       "3   ชี้ ถ้า ไม่ ยกเลิก องค์ประกอบ อย่าง มาตรา ไทย ...           0         0   \n",
       "4   นาย นิพนธ์ วงษ์ ตระหง่าน อดีต ผู้อำนวยการ องค์...           0         1   \n",
       "5   เมื่อ เวลา น วันที่ มิ ย ร ต อ อิสระ แสงสว่าง ...           0         0   \n",
       "6   มา ปลูก พืชผล และ ไม้ยืนต้น สารพัด ใน ที่ดิน ไ...           0         0   \n",
       "7   แอ ริน ยุ ก ตะ ทัต หลัง เลิกรา กับ แฟน หนุ่ม น...           0         0   \n",
       "8   วันที่ ก พ ที่ บ้าน ชิด ชอบ เลขที่ หมู่ ต อิ ส...           0         0   \n",
       "9   วาน นี้ ส ค พ ต อ เชาว์ ศิลป์ บุญ ประดิษฐ์ รอง...           0         0   \n",
       "10  พร้อม คำถาม สำคัญ การ สร้าง มวลชน นำ อุดมการณ์...           0         0   \n",
       "11  ทำงาน ต่อไป คือ คำตอบ มิ ย ดร นพดล กรรณิกา ผอ ...           0         0   \n",
       "12  ที่ ให้ สัมภาษณ์ ถึง แนวคิด ปฎิรูป คณะสงฆ์ ของ...           0         0   \n",
       "13  วันนี้ มิ ย ฝ่ายปกครอง และ ตำรวจภูธร อุทุมพร พ...           0         0   \n",
       "14  ดำเนินคดี เมื่อ เวลา น วันที่ ส ค ผู้สื่อข่าว ...           0         0   \n",
       "15  ผบ ช น นำ สืบ บก น สืบ สน ทอง หล่อ ทลาย โกดัง ...           0         0   \n",
       "16  เผย หาก ไม่ มี บัตร ทอง บาท คง ตาย ไป แล้ว เมื...           0         0   \n",
       "17  วันที่ ก ค พล ต อ จักร ทิพย์ ชัย จินดา ผบ ตร เ...           0         0   \n",
       "18  ริ คาร์ โด้ เต เซ ร่า ที่ เพิ่ง ประกาศ ลา ออกจ...           0         0   \n",
       "19  เหตุ โครงการ จำนำ ข้าว รัฐ สูญหาย เสื่อม นาย เ...           0         1   \n",
       "20  การแข่งขัน เทนนิส ออสเตรเลีย น โอเพ่น แกรนด์ ส...           0         0   \n",
       "21  วันนี้ ต ค พล ท สรรเสริญ แก้ว กำเนิด โฆษก ประจ...           0         0   \n",
       "22  จาก สถานการณ์ การ ใช้ ไฟ ที่ มี ปริมาณ ใช้ ไฟฟ...           0         1   \n",
       "23  ตามที่ สํา นัก งานการ บิน พลเรือน แห่ง ประเทศ ...           0         0   \n",
       "24  เมื่อวาน นี้ ม ค ผศ ธน วร รธน์ พล วิชัย ผู้อำน...           0         1   \n",
       "25  ตามที่ สมเด็จ พระเจ้า น้อง นาง เธอ เจ้าฟ้า จุฬ...           0         0   \n",
       "26  คอย เป็นธุระ และ เป็น ที่พึ่งสุดท้าย ให้ กับ ญ...           0         0   \n",
       "27  รวมทั้ง ทำหน้าที่ เป็น ประธาน ชั่วคราว ใน การป...           0         0   \n",
       "28  ภายหลัง รัฐบาล เปิด มาตร การเยียวยา ลูกจ้างชั่...           0         1   \n",
       "29  วันนี้ พ ค นา งอ รร ชกา สี บุญ เรือง รัฐมนตรี ...           0         1   \n",
       "30  เมื่อ มิ ย สำนัก ข่าวต่างประเทศ รายงาน ประธานา...           1         0   \n",
       "31  สำนักข่าว รอยเตอร์ ส รายงาน เมื่อ วันที่ มี ค ...           1         0   \n",
       "32  ว รา วิทย์ ฉิม มณี ผู้สื่อข่าว ผู้ประกาศข่าว ไ...           0         0   \n",
       "33  พายุฝน และ ลมกระโชก แรง ทำให้ บ้านเรือน ใน รัฐ...           1         0   \n",
       "34  นปช รุก จี้ ปล่อย เสื้อ แดง อีก กว่า คน จตุพร ...           0         0   \n",
       "35  วันนี้ มี ค นาย วิชัย คัมภีร ปรีชา โยธา ธิ การ...           0         0   \n",
       "36  บรรยากาศ การ ชุมนุม ที่ อนุสาวรีย์ ประชาธิปไตย...           0         0   \n",
       "37  หลังจากที่ สาว มาด เมกะ แดนซ์ ออกมา แฉ อดีต สา...           0         0   \n",
       "38  วันที่ ก ค การแข่งขัน กอล์ฟ หญิง แอลพีจี เอ ทั...           0         0   \n",
       "39  หลัง มี กระแสข่าว กก ต ยื่น ต่อ ศาลรัฐธรรมนูญ ...           0         0   \n",
       "40  แล้ว โผล่ ร่วม งานศพ เมื่อ เวลา น วันที่ มี ค ...           0         0   \n",
       "41  นาย ชา ค รี ย์ บูรณ กา นนท์ รอง กรรมการผู้จัดก...           0         1   \n",
       "42  สำนัก ข่าวต่างประเทศ รายงาน วันที่ พ ย ว่า โย ...           0         0   \n",
       "43  คำถาม อะไร คือ จุดเริ่มต้น ของ การ เปิด เพจ รี...           0         0   \n",
       "44  ความสูง ของ ประตูระบายน้ำ คลอง พระยา สุเรนทร์ ...           0         0   \n",
       "45  สำนัก ข่าวต่างประเทศ รายงาน วันที่ ต ค ว่า จอ ...           0         0   \n",
       "46  งาน เข้า อีกแล้ว สำหรับ ดีเจ ภูมิ ภูมิใจ ตั้ง ...           0         0   \n",
       "47  ฟุตบอล ลีก เอิง ฝรั่งเศส ที่ สนาม ส ตาด เว โล ...           0         0   \n",
       "48  ผลสำรวจ จาก การ เสวนา เจาะลึก พนัน บอล ผลประโย...           0         0   \n",
       "49  วันที่ ม ค ที่ ห้องประชุม วิวัฒน ไชย อาคาร ไทย...           0         0   \n",
       "50  จะ ไม่ เป็น นักการเมือง อีกแล้ว ก พ จาก กรณี ว...           0         0   \n",
       "51  ให้ ขาย ยา ซุปเปอร์มาร์เกต ร้านอาหาร ห่อ กลับ ...           0         0   \n",
       "52  จาก กรณี พล ต ต กมล เหรียญ ราชา ผบ ก ปป เป็น ป...           0         0   \n",
       "53  เมื่อ เวลา ประมาณ น ของ วันที่ ธันวาคม พ ต ท ส...           0         0   \n",
       "54  ภาพ จาก twitter royalfocus สื่อ ผู้ดี จับจ้อง ...           1         0   \n",
       "55  เมื่อ วันที่ เม ย ที่ กอง บังคับการ ปราบปราม บ...           0         0   \n",
       "56  ปชส หวังผล ทางจิตวิทยา ทนายความ ยืนยัน การ ตรว...           0         0   \n",
       "57  สำนัก ข่าวต่างประเทศ รายงาน วันที่ พ ย ว่า อาร...           0         0   \n",
       "\n",
       "    วัฒนธรรม  การศึกษา  ความมั่นคง  คุณภาพชีวิต  อาชญากรรม  สิทธิมนุษยชน  \\\n",
       "0          0         0           0            0          0             1   \n",
       "1          0         0           0            0          0             0   \n",
       "2          0         0           0            0          1             0   \n",
       "3          0         0           0            0          0             0   \n",
       "4          0         0           0            0          0             0   \n",
       "5          0         0           0            0          1             0   \n",
       "6          0         0           0            0          0             0   \n",
       "7          0         0           0            0          0             0   \n",
       "8          0         0           0            0          0             0   \n",
       "9          0         0           0            0          1             0   \n",
       "10         0         1           1            0          0             0   \n",
       "11         0         0           0            1          0             0   \n",
       "12         1         0           0            0          0             0   \n",
       "13         0         0           0            0          1             0   \n",
       "14         0         0           0            0          1             0   \n",
       "15         0         0           0            0          1             0   \n",
       "16         0         0           0            1          0             0   \n",
       "17         0         0           0            0          1             0   \n",
       "18         0         0           0            0          0             0   \n",
       "19         0         0           0            0          0             0   \n",
       "20         0         0           0            0          0             0   \n",
       "21         0         0           0            0          0             0   \n",
       "22         0         0           0            0          0             0   \n",
       "23         0         0           0            0          0             0   \n",
       "24         0         0           0            0          0             0   \n",
       "25         0         0           0            0          0             0   \n",
       "26         0         0           0            0          0             1   \n",
       "27         0         0           0            0          0             0   \n",
       "28         0         0           0            0          0             0   \n",
       "29         0         0           0            0          0             0   \n",
       "30         0         0           0            0          0             0   \n",
       "31         0         0           0            0          0             0   \n",
       "32         0         0           0            0          0             0   \n",
       "33         0         0           0            0          0             0   \n",
       "34         0         0           0            0          0             0   \n",
       "35         0         0           0            0          1             0   \n",
       "36         0         0           0            0          0             0   \n",
       "37         0         0           0            0          0             0   \n",
       "38         0         0           0            0          0             0   \n",
       "39         0         0           0            0          0             0   \n",
       "40         0         0           0            0          1             0   \n",
       "41         0         0           0            0          0             0   \n",
       "42         0         0           0            0          0             0   \n",
       "43         0         0           0            0          0             0   \n",
       "44         0         0           0            0          0             0   \n",
       "45         0         0           0            0          0             0   \n",
       "46         0         0           0            0          0             0   \n",
       "47         0         0           0            0          0             0   \n",
       "48         0         0           0            0          0             0   \n",
       "49         0         0           0            0          0             0   \n",
       "50         0         0           0            0          0             0   \n",
       "51         0         0           0            0          0             0   \n",
       "52         0         0           0            0          1             0   \n",
       "53         0         0           0            0          1             0   \n",
       "54         0         0           0            0          0             0   \n",
       "55         0         0           0            0          1             0   \n",
       "56         0         0           0            0          0             1   \n",
       "57         0         0           0            0          0             0   \n",
       "\n",
       "    สิ่งแวดล้อม  กีฬา  สังคม  บันเทิง  การเมือง  filter  \n",
       "0             0     0      0        0         0       1  \n",
       "1             0     1      0        0         0       1  \n",
       "2             0     0      0        0         0       1  \n",
       "3             0     0      1        0         1       2  \n",
       "4             0     0      0        0         0       1  \n",
       "5             0     0      0        0         0       1  \n",
       "6             1     0      1        0         0       2  \n",
       "7             0     0      0        1         0       1  \n",
       "8             0     0      0        0         1       1  \n",
       "9             0     0      0        0         0       1  \n",
       "10            0     0      0        0         1       3  \n",
       "11            0     0      1        0         1       3  \n",
       "12            0     0      0        0         1       2  \n",
       "13            0     0      0        0         0       1  \n",
       "14            0     0      0        0         0       1  \n",
       "15            0     0      0        0         0       1  \n",
       "16            0     0      0        0         0       1  \n",
       "17            0     0      0        0         0       1  \n",
       "18            0     1      0        0         0       1  \n",
       "19            0     0      0        0         0       1  \n",
       "20            0     1      0        0         0       1  \n",
       "21            0     0      1        0         0       1  \n",
       "22            0     0      0        0         0       1  \n",
       "23            0     0      1        0         0       1  \n",
       "24            0     0      0        0         0       1  \n",
       "25            0     0      1        0         0       1  \n",
       "26            0     0      0        0         1       2  \n",
       "27            0     0      0        0         1       1  \n",
       "28            0     0      0        0         0       1  \n",
       "29            0     0      0        0         0       1  \n",
       "30            0     0      0        0         0       1  \n",
       "31            0     0      0        0         0       1  \n",
       "32            0     0      0        0         1       1  \n",
       "33            0     0      0        0         0       1  \n",
       "34            0     0      0        0         1       1  \n",
       "35            0     0      0        0         0       1  \n",
       "36            0     0      0        0         1       1  \n",
       "37            0     0      0        1         0       1  \n",
       "38            0     1      0        0         0       1  \n",
       "39            0     0      0        0         1       1  \n",
       "40            0     0      0        0         0       1  \n",
       "41            0     0      0        0         0       1  \n",
       "42            0     1      0        0         0       1  \n",
       "43            0     0      1        0         0       1  \n",
       "44            0     0      1        0         0       1  \n",
       "45            0     1      0        0         0       1  \n",
       "46            0     0      0        1         0       1  \n",
       "47            0     1      0        0         0       1  \n",
       "48            0     0      1        0         0       1  \n",
       "49            0     0      0        0         1       1  \n",
       "50            0     0      0        0         1       1  \n",
       "51            0     0      1        0         0       1  \n",
       "52            0     0      0        0         0       1  \n",
       "53            0     0      0        0         0       1  \n",
       "54            0     0      0        0         0       1  \n",
       "55            0     0      0        0         0       1  \n",
       "56            0     0      0        0         1       2  \n",
       "57            0     1      0        0         0       1  "
      ]
     },
     "execution_count": 460,
     "metadata": {},
     "output_type": "execute_result"
    }
   ],
   "source": [
    "result_data"
   ]
  },
  {
   "cell_type": "code",
   "execution_count": 462,
   "metadata": {},
   "outputs": [],
   "source": [
    "X_result = result_data['Text_Tkn'].values"
   ]
  },
  {
   "cell_type": "code",
   "execution_count": 466,
   "metadata": {},
   "outputs": [
    {
     "data": {
      "text/plain": [
       "Index(['type', 'body_cln', 'Text_Tkn', 'ต่างประเทศ', 'เศรษฐกิจ', 'วัฒนธรรม',\n",
       "       'การศึกษา', 'ความมั่นคง', 'คุณภาพชีวิต', 'อาชญากรรม', 'สิทธิมนุษยชน',\n",
       "       'สิ่งแวดล้อม', 'กีฬา', 'สังคม', 'บันเทิง', 'การเมือง', 'filter'],\n",
       "      dtype='object')"
      ]
     },
     "execution_count": 466,
     "metadata": {},
     "output_type": "execute_result"
    }
   ],
   "source": [
    "result_data.columns"
   ]
  },
  {
   "cell_type": "code",
   "execution_count": 471,
   "metadata": {},
   "outputs": [],
   "source": [
    "lable_result = ['ต่างประเทศ', 'เศรษฐกิจ', 'วัฒนธรรม',\n",
    "       'การศึกษา', 'ความมั่นคง', 'คุณภาพชีวิต', 'อาชญากรรม', 'สิทธิมนุษยชน',\n",
    "       'สิ่งแวดล้อม', 'กีฬา', 'สังคม', 'บันเทิง', 'การเมือง']"
   ]
  },
  {
   "cell_type": "code",
   "execution_count": 525,
   "metadata": {},
   "outputs": [],
   "source": [
    "y_result = result_data[['ต่างประเทศ', 'เศรษฐกิจ', 'วัฒนธรรม',\n",
    "       'การศึกษา', 'ความมั่นคง', 'คุณภาพชีวิต', 'อาชญากรรม', 'สิทธิมนุษยชน',\n",
    "       'สิ่งแวดล้อม', 'กีฬา', 'สังคม', 'บันเทิง', 'การเมือง']]"
   ]
  },
  {
   "cell_type": "code",
   "execution_count": 530,
   "metadata": {},
   "outputs": [
    {
     "data": {
      "text/plain": [
       "(58, 13)"
      ]
     },
     "execution_count": 530,
     "metadata": {},
     "output_type": "execute_result"
    }
   ],
   "source": [
    "y_result.shape"
   ]
  },
  {
   "cell_type": "code",
   "execution_count": 468,
   "metadata": {},
   "outputs": [],
   "source": [
    "X_result = tokenizer.texts_to_sequences(X_result)\n",
    "X_result = pad_sequences(X_result, padding='post', maxlen=maxlen)"
   ]
  },
  {
   "cell_type": "code",
   "execution_count": 481,
   "metadata": {},
   "outputs": [],
   "source": [
    "pred_result = model_1.predict(X_result)\n"
   ]
  },
  {
   "cell_type": "code",
   "execution_count": 519,
   "metadata": {
    "scrolled": true
   },
   "outputs": [],
   "source": [
    "pred_result_bool = pred_result > 0.5\n"
   ]
  },
  {
   "cell_type": "code",
   "execution_count": 524,
   "metadata": {},
   "outputs": [],
   "source": [
    "predictions_result = pred_result_bool.astype(int)"
   ]
  },
  {
   "cell_type": "code",
   "execution_count": null,
   "metadata": {},
   "outputs": [],
   "source": [
    "from keras.models import load_model\n",
    "\n",
    "# load model\n",
    "model = load_model('.h5')\n",
    "# summarize model.\n",
    "model.summary()"
   ]
  },
  {
   "cell_type": "code",
   "execution_count": null,
   "metadata": {},
   "outputs": [],
   "source": [
    "lstm_nopretrain.load(\"\")"
   ]
  },
  {
   "cell_type": "code",
   "execution_count": 532,
   "metadata": {},
   "outputs": [],
   "source": [
    "# import result data\n",
    "showcase_data = pd.read_csv('data_for_showcase_DL.csv')"
   ]
  },
  {
   "cell_type": "code",
   "execution_count": 533,
   "metadata": {
    "scrolled": true
   },
   "outputs": [
    {
     "data": {
      "text/html": [
       "<div>\n",
       "<style scoped>\n",
       "    .dataframe tbody tr th:only-of-type {\n",
       "        vertical-align: middle;\n",
       "    }\n",
       "\n",
       "    .dataframe tbody tr th {\n",
       "        vertical-align: top;\n",
       "    }\n",
       "\n",
       "    .dataframe thead th {\n",
       "        text-align: right;\n",
       "    }\n",
       "</style>\n",
       "<table border=\"1\" class=\"dataframe\">\n",
       "  <thead>\n",
       "    <tr style=\"text-align: right;\">\n",
       "      <th></th>\n",
       "      <th>title</th>\n",
       "      <th>body</th>\n",
       "      <th>url</th>\n",
       "      <th>body_cln</th>\n",
       "      <th>Text_Tkn</th>\n",
       "    </tr>\n",
       "  </thead>\n",
       "  <tbody>\n",
       "    <tr>\n",
       "      <th>0</th>\n",
       "      <td>วิษณุ ยันโรดแม็ปเดิม ตอบไม่ถูกเวลาเลือกตั้ง ต...</td>\n",
       "      <td>เมื่อวันที่ 6 ม.ค.60 ที่ทำเนียบรัฐบาล นายวิษณุ...</td>\n",
       "      <td>https://www.thairath.co.th/content/829502</td>\n",
       "      <td>เมื่อวันที่ ม ค ที่ทำเนียบรัฐบาล นายวิษณุ เครื...</td>\n",
       "      <td>เมื่อ วันที่ ม ค ที่ ทำเนียบรัฐบาล นาย วิษณุ เ...</td>\n",
       "    </tr>\n",
       "    <tr>\n",
       "      <th>1</th>\n",
       "      <td>แชมป์โลก 2018</td>\n",
       "      <td>พ่ายสวีเดนด้วยประตูรวม 0–1 ตกรอบเพลย์ออฟไปอย่...</td>\n",
       "      <td>https://www.thairath.co.th/sport/eurofootball/...</td>\n",
       "      <td>พ่ายสวีเดนด้วยประตูรวม  ตกรอบเพลย์ออฟไปอย่างน...</td>\n",
       "      <td>พ่าย สวีเดน ด้วย ประตู รวม ตกรอบ เพลย์ ออฟ ไป ...</td>\n",
       "    </tr>\n",
       "    <tr>\n",
       "      <th>2</th>\n",
       "      <td>ลุยเจาะไข่แดงตลาดใหม่ พาณิชย์ การันตีปนี้ส่งออ...</td>\n",
       "      <td>ด้านฮาลาล ธนาคารพาณิชย์ร่วมมือกันดันส่งออก,นาง...</td>\n",
       "      <td>https://www.thairath.co.th/content/594241</td>\n",
       "      <td>ด้านฮาลาล ธนาคารพาณิชย์ร่วมมือกันดันส่งออกนางอ...</td>\n",
       "      <td>ด้าน ฮาลาล ธนาคารพาณิชย์ ร่วมมือ กัน ดัน ส่งออ...</td>\n",
       "    </tr>\n",
       "    <tr>\n",
       "      <th>3</th>\n",
       "      <td>เกร็ดข่าวลูกหนัง 16/05/58</td>\n",
       "      <td>เซบีญา ยังคงโชว์ฟอร์มยอดเยี่ยมสมราคาแชมป์เก่า ...</td>\n",
       "      <td>https://www.thairath.co.th/content/499085</td>\n",
       "      <td>เซบีญา ยังคงโชว์ฟอร์มยอดเยี่ยมสมราคาแชมป์เก่า ...</td>\n",
       "      <td>เซ บี ญา ยังคง โชว์ ฟอร์ม ยอดเยี่ยม สมราคา แชม...</td>\n",
       "    </tr>\n",
       "    <tr>\n",
       "      <th>4</th>\n",
       "      <td>MERCEDES BENZ เปิดตัว MAYBACH S500 2015 รถหรู...</td>\n",
       "      <td>6 สิงหาคม 2558 Mercedes Benz ตอกย้ำภาพลักษณ์คว...</td>\n",
       "      <td>https://www.thairath.co.th/content/516621</td>\n",
       "      <td>สิงหาคม Mercedes Benz ตอกย้ำภาพลักษณ์ความเป็น...</td>\n",
       "      <td>สิงหาคม Mercedes Benz ตอกย้ำ ภาพลักษณ์ ความเป็...</td>\n",
       "    </tr>\n",
       "    <tr>\n",
       "      <th>...</th>\n",
       "      <td>...</td>\n",
       "      <td>...</td>\n",
       "      <td>...</td>\n",
       "      <td>...</td>\n",
       "      <td>...</td>\n",
       "    </tr>\n",
       "    <tr>\n",
       "      <th>98</th>\n",
       "      <td>นายกฯ ยัน ไม่พบอุยกูร์ดอดเข้าไทย โยก พล.ท.นักร...</td>\n",
       "      <td>เมื่อเวลา 11.00 น. วันที่ 21 เมษายน ที่ทำเนียบ...</td>\n",
       "      <td>https://www.thairath.co.th/content/608927</td>\n",
       "      <td>เมื่อเวลา น วันที่ เมษายน ที่ทำเนียบรัฐบาล พล ...</td>\n",
       "      <td>เมื่อ เวลา น วันที่ เมษายน ที่ ทำเนียบรัฐบาล พ...</td>\n",
       "    </tr>\n",
       "    <tr>\n",
       "      <th>99</th>\n",
       "      <td>สมบัติ ยัน ไร้ทาบนั่ง ปธ.กมธ.ยกร่างรธน.ชุดใหม่...</td>\n",
       "      <td>วันที่ 9 ก.ย. ศาสตราจารย์ ดร.สมบัติ ธำรงธัญวงศ...</td>\n",
       "      <td>https://www.thairath.co.th/content/524125</td>\n",
       "      <td>วันที่ ก ย ศาสตราจารย์ ดร สมบัติ ธำรงธัญวงศ์ อ...</td>\n",
       "      <td>วันที่ ก ย ศาสตราจารย์ ดร สมบัติ ธำรง ธัญ วงศ์...</td>\n",
       "    </tr>\n",
       "    <tr>\n",
       "      <th>100</th>\n",
       "      <td>ประเทศกูมี</td>\n",
       "      <td>ประเทศที่เสือดำหน้าคะมำเพราะไรเฟิล\\nประเทศที่พ...</td>\n",
       "      <td>https://www.musicsupport.shop/article/49/%E0%B...</td>\n",
       "      <td>ประเทศที่เสือดำหน้าคะมำเพราะไรเฟิลประเทศที่พล่...</td>\n",
       "      <td>ประเทศ ที่ เสือดำ หน้า คะมำ เพราะ ไรเฟิล ประเท...</td>\n",
       "    </tr>\n",
       "    <tr>\n",
       "      <th>101</th>\n",
       "      <td>พ่อฉันเป็นกรรมกร</td>\n",
       "      <td>ทุกครั้งที่ท้องหยุดหิว\\nทุกครั้งที่หิว ฉันคิดถ...</td>\n",
       "      <td>https://www.google.com/search?q=%E0%B8%9E%E0%B...</td>\n",
       "      <td>ทุกครั้งที่ท้องหยุดหิวทุกครั้งที่หิว ฉันคิดถึง...</td>\n",
       "      <td>ทุกครั้งที่ ท้อง หยุด หิว ทุกครั้งที่ หิว ฉัน ...</td>\n",
       "    </tr>\n",
       "    <tr>\n",
       "      <th>102</th>\n",
       "      <td>เราจะทำตามสัญญา</td>\n",
       "      <td>วันที่ชาติและองค์ราชา มวลประชาอยู่มาพ้นภัย ขอด...</td>\n",
       "      <td>NaN</td>\n",
       "      <td>วันที่ชาติและองค์ราชา มวลประชาอยู่มาพ้นภัย ขอด...</td>\n",
       "      <td>วันที่ ชาติ และ องค์ ราชา มวล ประชา อยู่ มา พ้...</td>\n",
       "    </tr>\n",
       "  </tbody>\n",
       "</table>\n",
       "<p>103 rows × 5 columns</p>\n",
       "</div>"
      ],
      "text/plain": [
       "                                                 title  \\\n",
       "0     วิษณุ ยันโรดแม็ปเดิม ตอบไม่ถูกเวลาเลือกตั้ง ต...   \n",
       "1                                        แชมป์โลก 2018   \n",
       "2    ลุยเจาะไข่แดงตลาดใหม่ พาณิชย์ การันตีปนี้ส่งออ...   \n",
       "3                            เกร็ดข่าวลูกหนัง 16/05/58   \n",
       "4     MERCEDES BENZ เปิดตัว MAYBACH S500 2015 รถหรู...   \n",
       "..                                                 ...   \n",
       "98   นายกฯ ยัน ไม่พบอุยกูร์ดอดเข้าไทย โยก พล.ท.นักร...   \n",
       "99   สมบัติ ยัน ไร้ทาบนั่ง ปธ.กมธ.ยกร่างรธน.ชุดใหม่...   \n",
       "100                                         ประเทศกูมี   \n",
       "101                                   พ่อฉันเป็นกรรมกร   \n",
       "102                                    เราจะทำตามสัญญา   \n",
       "\n",
       "                                                  body  \\\n",
       "0    เมื่อวันที่ 6 ม.ค.60 ที่ทำเนียบรัฐบาล นายวิษณุ...   \n",
       "1     พ่ายสวีเดนด้วยประตูรวม 0–1 ตกรอบเพลย์ออฟไปอย่...   \n",
       "2    ด้านฮาลาล ธนาคารพาณิชย์ร่วมมือกันดันส่งออก,นาง...   \n",
       "3    เซบีญา ยังคงโชว์ฟอร์มยอดเยี่ยมสมราคาแชมป์เก่า ...   \n",
       "4    6 สิงหาคม 2558 Mercedes Benz ตอกย้ำภาพลักษณ์คว...   \n",
       "..                                                 ...   \n",
       "98   เมื่อเวลา 11.00 น. วันที่ 21 เมษายน ที่ทำเนียบ...   \n",
       "99   วันที่ 9 ก.ย. ศาสตราจารย์ ดร.สมบัติ ธำรงธัญวงศ...   \n",
       "100  ประเทศที่เสือดำหน้าคะมำเพราะไรเฟิล\\nประเทศที่พ...   \n",
       "101  ทุกครั้งที่ท้องหยุดหิว\\nทุกครั้งที่หิว ฉันคิดถ...   \n",
       "102  วันที่ชาติและองค์ราชา มวลประชาอยู่มาพ้นภัย ขอด...   \n",
       "\n",
       "                                                   url  \\\n",
       "0            https://www.thairath.co.th/content/829502   \n",
       "1    https://www.thairath.co.th/sport/eurofootball/...   \n",
       "2            https://www.thairath.co.th/content/594241   \n",
       "3            https://www.thairath.co.th/content/499085   \n",
       "4            https://www.thairath.co.th/content/516621   \n",
       "..                                                 ...   \n",
       "98           https://www.thairath.co.th/content/608927   \n",
       "99           https://www.thairath.co.th/content/524125   \n",
       "100  https://www.musicsupport.shop/article/49/%E0%B...   \n",
       "101  https://www.google.com/search?q=%E0%B8%9E%E0%B...   \n",
       "102                                                NaN   \n",
       "\n",
       "                                              body_cln  \\\n",
       "0    เมื่อวันที่ ม ค ที่ทำเนียบรัฐบาล นายวิษณุ เครื...   \n",
       "1     พ่ายสวีเดนด้วยประตูรวม  ตกรอบเพลย์ออฟไปอย่างน...   \n",
       "2    ด้านฮาลาล ธนาคารพาณิชย์ร่วมมือกันดันส่งออกนางอ...   \n",
       "3    เซบีญา ยังคงโชว์ฟอร์มยอดเยี่ยมสมราคาแชมป์เก่า ...   \n",
       "4     สิงหาคม Mercedes Benz ตอกย้ำภาพลักษณ์ความเป็น...   \n",
       "..                                                 ...   \n",
       "98   เมื่อเวลา น วันที่ เมษายน ที่ทำเนียบรัฐบาล พล ...   \n",
       "99   วันที่ ก ย ศาสตราจารย์ ดร สมบัติ ธำรงธัญวงศ์ อ...   \n",
       "100  ประเทศที่เสือดำหน้าคะมำเพราะไรเฟิลประเทศที่พล่...   \n",
       "101  ทุกครั้งที่ท้องหยุดหิวทุกครั้งที่หิว ฉันคิดถึง...   \n",
       "102  วันที่ชาติและองค์ราชา มวลประชาอยู่มาพ้นภัย ขอด...   \n",
       "\n",
       "                                              Text_Tkn  \n",
       "0    เมื่อ วันที่ ม ค ที่ ทำเนียบรัฐบาล นาย วิษณุ เ...  \n",
       "1    พ่าย สวีเดน ด้วย ประตู รวม ตกรอบ เพลย์ ออฟ ไป ...  \n",
       "2    ด้าน ฮาลาล ธนาคารพาณิชย์ ร่วมมือ กัน ดัน ส่งออ...  \n",
       "3    เซ บี ญา ยังคง โชว์ ฟอร์ม ยอดเยี่ยม สมราคา แชม...  \n",
       "4    สิงหาคม Mercedes Benz ตอกย้ำ ภาพลักษณ์ ความเป็...  \n",
       "..                                                 ...  \n",
       "98   เมื่อ เวลา น วันที่ เมษายน ที่ ทำเนียบรัฐบาล พ...  \n",
       "99   วันที่ ก ย ศาสตราจารย์ ดร สมบัติ ธำรง ธัญ วงศ์...  \n",
       "100  ประเทศ ที่ เสือดำ หน้า คะมำ เพราะ ไรเฟิล ประเท...  \n",
       "101  ทุกครั้งที่ ท้อง หยุด หิว ทุกครั้งที่ หิว ฉัน ...  \n",
       "102  วันที่ ชาติ และ องค์ ราชา มวล ประชา อยู่ มา พ้...  \n",
       "\n",
       "[103 rows x 5 columns]"
      ]
     },
     "execution_count": 533,
     "metadata": {},
     "output_type": "execute_result"
    }
   ],
   "source": [
    "showcase_data"
   ]
  },
  {
   "cell_type": "code",
   "execution_count": 534,
   "metadata": {},
   "outputs": [],
   "source": [
    "X_showcase = showcase_data['Text_Tkn'].values"
   ]
  },
  {
   "cell_type": "code",
   "execution_count": 535,
   "metadata": {},
   "outputs": [],
   "source": [
    "X_showcase = tokenizer.texts_to_sequences(X_showcase)\n",
    "X_showcase = pad_sequences(X_showcase, padding='post', maxlen=maxlen)"
   ]
  },
  {
   "cell_type": "code",
   "execution_count": 559,
   "metadata": {
    "scrolled": true
   },
   "outputs": [
    {
     "ename": "TypeError",
     "evalue": "'>' not supported between instances of 'list' and 'float'",
     "output_type": "error",
     "traceback": [
      "\u001b[1;31m---------------------------------------------------------------------------\u001b[0m",
      "\u001b[1;31mTypeError\u001b[0m                                 Traceback (most recent call last)",
      "\u001b[1;32m<ipython-input-559-d08085c23230>\u001b[0m in \u001b[0;36m<module>\u001b[1;34m\u001b[0m\n\u001b[0;32m      1\u001b[0m \u001b[0mpred_showcase\u001b[0m \u001b[1;33m=\u001b[0m \u001b[0mmodel_6\u001b[0m\u001b[1;33m.\u001b[0m\u001b[0mpredict\u001b[0m\u001b[1;33m(\u001b[0m\u001b[0mX_showcase\u001b[0m\u001b[1;33m)\u001b[0m\u001b[1;33m\u001b[0m\u001b[1;33m\u001b[0m\u001b[0m\n\u001b[1;32m----> 2\u001b[1;33m \u001b[0mpred_showcase_bool\u001b[0m \u001b[1;33m=\u001b[0m \u001b[0mpred_showcase\u001b[0m \u001b[1;33m>\u001b[0m \u001b[1;36m0.5\u001b[0m\u001b[1;33m\u001b[0m\u001b[1;33m\u001b[0m\u001b[0m\n\u001b[0m\u001b[0;32m      3\u001b[0m \u001b[0mpredictions_showcase\u001b[0m \u001b[1;33m=\u001b[0m \u001b[0mpred_showcase_bool\u001b[0m\u001b[1;33m.\u001b[0m\u001b[0mastype\u001b[0m\u001b[1;33m(\u001b[0m\u001b[0mint\u001b[0m\u001b[1;33m)\u001b[0m\u001b[1;33m\u001b[0m\u001b[1;33m\u001b[0m\u001b[0m\n",
      "\u001b[1;31mTypeError\u001b[0m: '>' not supported between instances of 'list' and 'float'"
     ]
    }
   ],
   "source": [
    "pred_showcase = model_1.predict(X_showcase)\n",
    "pred_showcase_bool = pred_showcase > 0.5\n",
    "predictions_showcase = pred_showcase_bool.astype(int)"
   ]
  },
  {
   "cell_type": "code",
   "execution_count": 538,
   "metadata": {},
   "outputs": [],
   "source": [
    "predictions_showcase_df = pd.DataFrame(predictions_showcase, columns = ['ไลฟ์สไตล์', 'เศรษฐกิจ', 'ต่างประเทศ', 'ความมั่นคง', 'สิ่งแวดล้อม', 'ผู้หญิง', 'การเมือง', 'แรงงาน', 'สังคม', 'อาชญากรรม', 'บันเทิง', 'สิทธิมนุษยชน', 'การศึกษา', 'วิทยาศาสตร์เทคโนโลยี', 'คุณภาพชีวิต', 'วัฒนธรรม', 'กีฬา'])"
   ]
  },
  {
   "cell_type": "code",
   "execution_count": 539,
   "metadata": {
    "scrolled": false
   },
   "outputs": [
    {
     "data": {
      "text/html": [
       "<div>\n",
       "<style scoped>\n",
       "    .dataframe tbody tr th:only-of-type {\n",
       "        vertical-align: middle;\n",
       "    }\n",
       "\n",
       "    .dataframe tbody tr th {\n",
       "        vertical-align: top;\n",
       "    }\n",
       "\n",
       "    .dataframe thead th {\n",
       "        text-align: right;\n",
       "    }\n",
       "</style>\n",
       "<table border=\"1\" class=\"dataframe\">\n",
       "  <thead>\n",
       "    <tr style=\"text-align: right;\">\n",
       "      <th></th>\n",
       "      <th>ไลฟ์สไตล์</th>\n",
       "      <th>เศรษฐกิจ</th>\n",
       "      <th>ต่างประเทศ</th>\n",
       "      <th>ความมั่นคง</th>\n",
       "      <th>สิ่งแวดล้อม</th>\n",
       "      <th>ผู้หญิง</th>\n",
       "      <th>การเมือง</th>\n",
       "      <th>แรงงาน</th>\n",
       "      <th>สังคม</th>\n",
       "      <th>อาชญากรรม</th>\n",
       "      <th>บันเทิง</th>\n",
       "      <th>สิทธิมนุษยชน</th>\n",
       "      <th>การศึกษา</th>\n",
       "      <th>วิทยาศาสตร์เทคโนโลยี</th>\n",
       "      <th>คุณภาพชีวิต</th>\n",
       "      <th>วัฒนธรรม</th>\n",
       "      <th>กีฬา</th>\n",
       "    </tr>\n",
       "  </thead>\n",
       "  <tbody>\n",
       "    <tr>\n",
       "      <th>0</th>\n",
       "      <td>0</td>\n",
       "      <td>0</td>\n",
       "      <td>0</td>\n",
       "      <td>0</td>\n",
       "      <td>0</td>\n",
       "      <td>0</td>\n",
       "      <td>1</td>\n",
       "      <td>0</td>\n",
       "      <td>0</td>\n",
       "      <td>0</td>\n",
       "      <td>0</td>\n",
       "      <td>0</td>\n",
       "      <td>0</td>\n",
       "      <td>0</td>\n",
       "      <td>0</td>\n",
       "      <td>0</td>\n",
       "      <td>0</td>\n",
       "    </tr>\n",
       "    <tr>\n",
       "      <th>1</th>\n",
       "      <td>0</td>\n",
       "      <td>0</td>\n",
       "      <td>0</td>\n",
       "      <td>0</td>\n",
       "      <td>0</td>\n",
       "      <td>0</td>\n",
       "      <td>0</td>\n",
       "      <td>0</td>\n",
       "      <td>0</td>\n",
       "      <td>0</td>\n",
       "      <td>0</td>\n",
       "      <td>0</td>\n",
       "      <td>0</td>\n",
       "      <td>0</td>\n",
       "      <td>0</td>\n",
       "      <td>0</td>\n",
       "      <td>1</td>\n",
       "    </tr>\n",
       "    <tr>\n",
       "      <th>2</th>\n",
       "      <td>0</td>\n",
       "      <td>1</td>\n",
       "      <td>0</td>\n",
       "      <td>0</td>\n",
       "      <td>0</td>\n",
       "      <td>0</td>\n",
       "      <td>0</td>\n",
       "      <td>0</td>\n",
       "      <td>0</td>\n",
       "      <td>0</td>\n",
       "      <td>0</td>\n",
       "      <td>0</td>\n",
       "      <td>0</td>\n",
       "      <td>0</td>\n",
       "      <td>0</td>\n",
       "      <td>0</td>\n",
       "      <td>0</td>\n",
       "    </tr>\n",
       "    <tr>\n",
       "      <th>3</th>\n",
       "      <td>0</td>\n",
       "      <td>0</td>\n",
       "      <td>0</td>\n",
       "      <td>0</td>\n",
       "      <td>0</td>\n",
       "      <td>0</td>\n",
       "      <td>0</td>\n",
       "      <td>0</td>\n",
       "      <td>0</td>\n",
       "      <td>0</td>\n",
       "      <td>0</td>\n",
       "      <td>0</td>\n",
       "      <td>0</td>\n",
       "      <td>0</td>\n",
       "      <td>0</td>\n",
       "      <td>0</td>\n",
       "      <td>1</td>\n",
       "    </tr>\n",
       "    <tr>\n",
       "      <th>4</th>\n",
       "      <td>0</td>\n",
       "      <td>0</td>\n",
       "      <td>0</td>\n",
       "      <td>0</td>\n",
       "      <td>0</td>\n",
       "      <td>0</td>\n",
       "      <td>0</td>\n",
       "      <td>0</td>\n",
       "      <td>0</td>\n",
       "      <td>0</td>\n",
       "      <td>0</td>\n",
       "      <td>0</td>\n",
       "      <td>0</td>\n",
       "      <td>1</td>\n",
       "      <td>0</td>\n",
       "      <td>0</td>\n",
       "      <td>0</td>\n",
       "    </tr>\n",
       "    <tr>\n",
       "      <th>...</th>\n",
       "      <td>...</td>\n",
       "      <td>...</td>\n",
       "      <td>...</td>\n",
       "      <td>...</td>\n",
       "      <td>...</td>\n",
       "      <td>...</td>\n",
       "      <td>...</td>\n",
       "      <td>...</td>\n",
       "      <td>...</td>\n",
       "      <td>...</td>\n",
       "      <td>...</td>\n",
       "      <td>...</td>\n",
       "      <td>...</td>\n",
       "      <td>...</td>\n",
       "      <td>...</td>\n",
       "      <td>...</td>\n",
       "      <td>...</td>\n",
       "    </tr>\n",
       "    <tr>\n",
       "      <th>98</th>\n",
       "      <td>0</td>\n",
       "      <td>0</td>\n",
       "      <td>0</td>\n",
       "      <td>0</td>\n",
       "      <td>0</td>\n",
       "      <td>0</td>\n",
       "      <td>1</td>\n",
       "      <td>0</td>\n",
       "      <td>0</td>\n",
       "      <td>0</td>\n",
       "      <td>0</td>\n",
       "      <td>1</td>\n",
       "      <td>0</td>\n",
       "      <td>0</td>\n",
       "      <td>0</td>\n",
       "      <td>0</td>\n",
       "      <td>0</td>\n",
       "    </tr>\n",
       "    <tr>\n",
       "      <th>99</th>\n",
       "      <td>0</td>\n",
       "      <td>0</td>\n",
       "      <td>0</td>\n",
       "      <td>0</td>\n",
       "      <td>0</td>\n",
       "      <td>0</td>\n",
       "      <td>1</td>\n",
       "      <td>0</td>\n",
       "      <td>0</td>\n",
       "      <td>0</td>\n",
       "      <td>0</td>\n",
       "      <td>0</td>\n",
       "      <td>0</td>\n",
       "      <td>0</td>\n",
       "      <td>0</td>\n",
       "      <td>0</td>\n",
       "      <td>0</td>\n",
       "    </tr>\n",
       "    <tr>\n",
       "      <th>100</th>\n",
       "      <td>0</td>\n",
       "      <td>0</td>\n",
       "      <td>0</td>\n",
       "      <td>0</td>\n",
       "      <td>0</td>\n",
       "      <td>0</td>\n",
       "      <td>1</td>\n",
       "      <td>0</td>\n",
       "      <td>0</td>\n",
       "      <td>0</td>\n",
       "      <td>0</td>\n",
       "      <td>0</td>\n",
       "      <td>0</td>\n",
       "      <td>0</td>\n",
       "      <td>0</td>\n",
       "      <td>0</td>\n",
       "      <td>0</td>\n",
       "    </tr>\n",
       "    <tr>\n",
       "      <th>101</th>\n",
       "      <td>0</td>\n",
       "      <td>0</td>\n",
       "      <td>0</td>\n",
       "      <td>0</td>\n",
       "      <td>0</td>\n",
       "      <td>0</td>\n",
       "      <td>1</td>\n",
       "      <td>0</td>\n",
       "      <td>0</td>\n",
       "      <td>0</td>\n",
       "      <td>0</td>\n",
       "      <td>0</td>\n",
       "      <td>0</td>\n",
       "      <td>0</td>\n",
       "      <td>0</td>\n",
       "      <td>0</td>\n",
       "      <td>0</td>\n",
       "    </tr>\n",
       "    <tr>\n",
       "      <th>102</th>\n",
       "      <td>0</td>\n",
       "      <td>0</td>\n",
       "      <td>0</td>\n",
       "      <td>0</td>\n",
       "      <td>0</td>\n",
       "      <td>0</td>\n",
       "      <td>0</td>\n",
       "      <td>0</td>\n",
       "      <td>0</td>\n",
       "      <td>0</td>\n",
       "      <td>0</td>\n",
       "      <td>0</td>\n",
       "      <td>0</td>\n",
       "      <td>0</td>\n",
       "      <td>0</td>\n",
       "      <td>0</td>\n",
       "      <td>0</td>\n",
       "    </tr>\n",
       "  </tbody>\n",
       "</table>\n",
       "<p>103 rows × 17 columns</p>\n",
       "</div>"
      ],
      "text/plain": [
       "     ไลฟ์สไตล์  เศรษฐกิจ  ต่างประเทศ  ความมั่นคง  สิ่งแวดล้อม  ผู้หญิง  \\\n",
       "0            0         0           0           0            0        0   \n",
       "1            0         0           0           0            0        0   \n",
       "2            0         1           0           0            0        0   \n",
       "3            0         0           0           0            0        0   \n",
       "4            0         0           0           0            0        0   \n",
       "..         ...       ...         ...         ...          ...      ...   \n",
       "98           0         0           0           0            0        0   \n",
       "99           0         0           0           0            0        0   \n",
       "100          0         0           0           0            0        0   \n",
       "101          0         0           0           0            0        0   \n",
       "102          0         0           0           0            0        0   \n",
       "\n",
       "     การเมือง  แรงงาน  สังคม  อาชญากรรม  บันเทิง  สิทธิมนุษยชน  การศึกษา  \\\n",
       "0           1       0      0          0        0             0         0   \n",
       "1           0       0      0          0        0             0         0   \n",
       "2           0       0      0          0        0             0         0   \n",
       "3           0       0      0          0        0             0         0   \n",
       "4           0       0      0          0        0             0         0   \n",
       "..        ...     ...    ...        ...      ...           ...       ...   \n",
       "98          1       0      0          0        0             1         0   \n",
       "99          1       0      0          0        0             0         0   \n",
       "100         1       0      0          0        0             0         0   \n",
       "101         1       0      0          0        0             0         0   \n",
       "102         0       0      0          0        0             0         0   \n",
       "\n",
       "     วิทยาศาสตร์เทคโนโลยี  คุณภาพชีวิต  วัฒนธรรม  กีฬา  \n",
       "0                       0            0         0     0  \n",
       "1                       0            0         0     1  \n",
       "2                       0            0         0     0  \n",
       "3                       0            0         0     1  \n",
       "4                       1            0         0     0  \n",
       "..                    ...          ...       ...   ...  \n",
       "98                      0            0         0     0  \n",
       "99                      0            0         0     0  \n",
       "100                     0            0         0     0  \n",
       "101                     0            0         0     0  \n",
       "102                     0            0         0     0  \n",
       "\n",
       "[103 rows x 17 columns]"
      ]
     },
     "execution_count": 539,
     "metadata": {},
     "output_type": "execute_result"
    }
   ],
   "source": [
    "predictions_showcase_df"
   ]
  },
  {
   "cell_type": "code",
   "execution_count": 574,
   "metadata": {},
   "outputs": [],
   "source": [
    "# import result data\n",
    "showcase_data_ml = pd.read_csv('result_showcase_cvt.csv')"
   ]
  },
  {
   "cell_type": "code",
   "execution_count": 575,
   "metadata": {},
   "outputs": [
    {
     "data": {
      "text/html": [
       "<div>\n",
       "<style scoped>\n",
       "    .dataframe tbody tr th:only-of-type {\n",
       "        vertical-align: middle;\n",
       "    }\n",
       "\n",
       "    .dataframe tbody tr th {\n",
       "        vertical-align: top;\n",
       "    }\n",
       "\n",
       "    .dataframe thead th {\n",
       "        text-align: right;\n",
       "    }\n",
       "</style>\n",
       "<table border=\"1\" class=\"dataframe\">\n",
       "  <thead>\n",
       "    <tr style=\"text-align: right;\">\n",
       "      <th></th>\n",
       "      <th>Unnamed: 0</th>\n",
       "      <th>body</th>\n",
       "      <th>Predict</th>\n",
       "    </tr>\n",
       "  </thead>\n",
       "  <tbody>\n",
       "    <tr>\n",
       "      <th>0</th>\n",
       "      <td>0</td>\n",
       "      <td>เมื่อวันที่ 6 ม.ค.60 ที่ทำเนียบรัฐบาล นายวิษณุ...</td>\n",
       "      <td>การเมือง</td>\n",
       "    </tr>\n",
       "    <tr>\n",
       "      <th>1</th>\n",
       "      <td>1</td>\n",
       "      <td>พ่ายสวีเดนด้วยประตูรวม 0–1 ตกรอบเพลย์ออฟไปอย่...</td>\n",
       "      <td>กีฬา</td>\n",
       "    </tr>\n",
       "    <tr>\n",
       "      <th>2</th>\n",
       "      <td>2</td>\n",
       "      <td>ด้านฮาลาล ธนาคารพาณิชย์ร่วมมือกันดันส่งออก,นาง...</td>\n",
       "      <td>เศรษฐกิจ</td>\n",
       "    </tr>\n",
       "    <tr>\n",
       "      <th>3</th>\n",
       "      <td>3</td>\n",
       "      <td>เซบีญา ยังคงโชว์ฟอร์มยอดเยี่ยมสมราคาแชมป์เก่า ...</td>\n",
       "      <td>กีฬา</td>\n",
       "    </tr>\n",
       "    <tr>\n",
       "      <th>4</th>\n",
       "      <td>4</td>\n",
       "      <td>6 สิงหาคม 2558 Mercedes Benz ตอกย้ำภาพลักษณ์คว...</td>\n",
       "      <td>วิทยาศาสตร์เทคโนโลยี</td>\n",
       "    </tr>\n",
       "    <tr>\n",
       "      <th>...</th>\n",
       "      <td>...</td>\n",
       "      <td>...</td>\n",
       "      <td>...</td>\n",
       "    </tr>\n",
       "    <tr>\n",
       "      <th>98</th>\n",
       "      <td>98</td>\n",
       "      <td>เมื่อเวลา 11.00 น. วันที่ 21 เมษายน ที่ทำเนียบ...</td>\n",
       "      <td>การเมือง</td>\n",
       "    </tr>\n",
       "    <tr>\n",
       "      <th>99</th>\n",
       "      <td>99</td>\n",
       "      <td>วันที่ 9 ก.ย. ศาสตราจารย์ ดร.สมบัติ ธำรงธัญวงศ...</td>\n",
       "      <td>การเมือง</td>\n",
       "    </tr>\n",
       "    <tr>\n",
       "      <th>100</th>\n",
       "      <td>100</td>\n",
       "      <td>ประเทศที่เสือดำหน้าคะมำเพราะไรเฟิล\\nประเทศที่พ...</td>\n",
       "      <td>การเมือง</td>\n",
       "    </tr>\n",
       "    <tr>\n",
       "      <th>101</th>\n",
       "      <td>101</td>\n",
       "      <td>ทุกครั้งที่ท้องหยุดหิว\\nทุกครั้งที่หิว ฉันคิดถ...</td>\n",
       "      <td>การเมือง</td>\n",
       "    </tr>\n",
       "    <tr>\n",
       "      <th>102</th>\n",
       "      <td>102</td>\n",
       "      <td>วันที่ชาติและองค์ราชา มวลประชาอยู่มาพ้นภัย ขอด...</td>\n",
       "      <td>NaN</td>\n",
       "    </tr>\n",
       "  </tbody>\n",
       "</table>\n",
       "<p>103 rows × 3 columns</p>\n",
       "</div>"
      ],
      "text/plain": [
       "     Unnamed: 0                                               body  \\\n",
       "0             0  เมื่อวันที่ 6 ม.ค.60 ที่ทำเนียบรัฐบาล นายวิษณุ...   \n",
       "1             1   พ่ายสวีเดนด้วยประตูรวม 0–1 ตกรอบเพลย์ออฟไปอย่...   \n",
       "2             2  ด้านฮาลาล ธนาคารพาณิชย์ร่วมมือกันดันส่งออก,นาง...   \n",
       "3             3  เซบีญา ยังคงโชว์ฟอร์มยอดเยี่ยมสมราคาแชมป์เก่า ...   \n",
       "4             4  6 สิงหาคม 2558 Mercedes Benz ตอกย้ำภาพลักษณ์คว...   \n",
       "..          ...                                                ...   \n",
       "98           98  เมื่อเวลา 11.00 น. วันที่ 21 เมษายน ที่ทำเนียบ...   \n",
       "99           99  วันที่ 9 ก.ย. ศาสตราจารย์ ดร.สมบัติ ธำรงธัญวงศ...   \n",
       "100         100  ประเทศที่เสือดำหน้าคะมำเพราะไรเฟิล\\nประเทศที่พ...   \n",
       "101         101  ทุกครั้งที่ท้องหยุดหิว\\nทุกครั้งที่หิว ฉันคิดถ...   \n",
       "102         102  วันที่ชาติและองค์ราชา มวลประชาอยู่มาพ้นภัย ขอด...   \n",
       "\n",
       "                  Predict  \n",
       "0                การเมือง  \n",
       "1                    กีฬา  \n",
       "2                เศรษฐกิจ  \n",
       "3                    กีฬา  \n",
       "4    วิทยาศาสตร์เทคโนโลยี  \n",
       "..                    ...  \n",
       "98               การเมือง  \n",
       "99               การเมือง  \n",
       "100              การเมือง  \n",
       "101              การเมือง  \n",
       "102                   NaN  \n",
       "\n",
       "[103 rows x 3 columns]"
      ]
     },
     "execution_count": 575,
     "metadata": {},
     "output_type": "execute_result"
    }
   ],
   "source": [
    "showcase_data_ml"
   ]
  },
  {
   "cell_type": "code",
   "execution_count": 588,
   "metadata": {},
   "outputs": [],
   "source": [
    "def thai_tokenizer(text):\n",
    "    from pythainlp.tokenize import word_tokenize\n",
    "    return word_tokenize(text, keep_whitespace=False)\n",
    "\n",
    "def remove_repettition(text):\n",
    "    token_list = list(text)\n",
    "    if len(token_list) > 2:\n",
    "        filter_list = [True, True]\n",
    "        n = len(token_list)\n",
    "        for i in range(2, n):\n",
    "            if (token_list[i] == token_list[i-1]) and (token_list[i] == token_list[i-2]):\n",
    "                filter_list.append(False)\n",
    "            else:\n",
    "                filter_list.append(True)\n",
    "\n",
    "        output = ''.join(np.array(token_list)[filter_list])\n",
    "    else:\n",
    "        output = text\n",
    "    return output\n",
    "\n",
    "def cleansing(text):\n",
    "    # \\t, \\n, \\xa0 and other special characters. Replace by blank string\n",
    "    text = re.sub('[\\t\\n\\xa0\\\"\\'!?\\/\\(\\)%\\:\\=\\-\\+\\*\\_ๆ#$&,<>]', '', text)\n",
    "    \n",
    "    # Numbers. Replace by space\n",
    "    text = re.sub('[0-9]', ' ', text)\n",
    "    \n",
    "    # Dot. Replace by space\n",
    "    text = re.sub('[\\.]', ' ', text)\n",
    "    \n",
    "    # One or more consecutive space. Replace by single space\n",
    "    text = re.sub('\\s+',' ',text)\n",
    "    \n",
    "    # Remove 2 or more repettition\n",
    "    text = remove_repettition(text)\n",
    "    test_string = text\n",
    "    pattern = re.compile(r\"[^\\u0E00-\\u0E7Fa-zA-Z' ]|^'|'$|''\")\n",
    "    char_to_remove = re.findall(pattern, test_string)\n",
    "    list_with_char_removed = [char for char in test_string if not char in char_to_remove]\n",
    "    result_string = ''.join(list_with_char_removed)\n",
    "    return result_string"
   ]
  },
  {
   "cell_type": "code",
   "execution_count": 589,
   "metadata": {},
   "outputs": [],
   "source": [
    "from pythainlp.tokenize import word_tokenize\n",
    "def tknzt(wrd) :\n",
    "  ttkn =  word_tokenize(wrd,engine=\"newmm\")\n",
    "  return \" \".join([i for i in ttkn if i.strip() != \"\"])"
   ]
  },
  {
   "cell_type": "code",
   "execution_count": 638,
   "metadata": {},
   "outputs": [],
   "source": [
    "tt = \"ประเทศที่แจกเก้าอี้เป็นคำตอบ\""
   ]
  },
  {
   "cell_type": "code",
   "execution_count": 639,
   "metadata": {},
   "outputs": [],
   "source": [
    "tj = tknzt(tt)"
   ]
  },
  {
   "cell_type": "code",
   "execution_count": 640,
   "metadata": {},
   "outputs": [],
   "source": [
    "list_tj = [tj]\n",
    "tj "
   ]
  },
  {
   "cell_type": "code",
   "execution_count": 641,
   "metadata": {},
   "outputs": [
    {
     "data": {
      "text/plain": [
       "['ประเทศ ที่ แจก เก้าอี้ เป็น คำตอบ']"
      ]
     },
     "execution_count": 641,
     "metadata": {},
     "output_type": "execute_result"
    }
   ],
   "source": [
    "list_tj"
   ]
  },
  {
   "cell_type": "code",
   "execution_count": 642,
   "metadata": {},
   "outputs": [],
   "source": [
    "X_showcase_r = tokenizer.texts_to_sequences(list_tj)\n",
    "X_showcase_r = pad_sequences(X_showcase_r, padding='post', maxlen=maxlen)"
   ]
  },
  {
   "cell_type": "code",
   "execution_count": 643,
   "metadata": {},
   "outputs": [
    {
     "data": {
      "text/plain": [
       "array([[  42,    2, 1568, 2616,   11, 1434,    0,    0,    0,    0,    0,\n",
       "           0,    0,    0,    0,    0,    0,    0,    0,    0,    0,    0,\n",
       "           0,    0,    0,    0,    0,    0,    0,    0,    0,    0,    0,\n",
       "           0,    0,    0,    0,    0,    0,    0,    0,    0,    0,    0,\n",
       "           0,    0,    0,    0,    0,    0,    0,    0,    0,    0,    0,\n",
       "           0,    0,    0,    0,    0,    0,    0,    0,    0,    0,    0,\n",
       "           0,    0,    0,    0,    0,    0,    0,    0,    0,    0,    0,\n",
       "           0,    0,    0,    0,    0,    0,    0,    0,    0,    0,    0,\n",
       "           0,    0,    0,    0,    0,    0,    0,    0,    0,    0,    0,\n",
       "           0,    0,    0,    0,    0,    0,    0,    0,    0,    0,    0,\n",
       "           0,    0,    0,    0,    0,    0,    0,    0,    0,    0,    0,\n",
       "           0,    0,    0,    0,    0,    0,    0,    0,    0,    0,    0,\n",
       "           0,    0,    0,    0,    0,    0,    0,    0,    0,    0,    0,\n",
       "           0,    0,    0,    0,    0,    0,    0,    0,    0,    0,    0,\n",
       "           0,    0,    0,    0,    0,    0,    0,    0,    0,    0,    0,\n",
       "           0,    0,    0,    0,    0,    0,    0,    0,    0,    0,    0,\n",
       "           0,    0,    0,    0,    0,    0,    0,    0,    0,    0,    0,\n",
       "           0,    0,    0,    0,    0,    0,    0,    0,    0,    0,    0,\n",
       "           0,    0,    0,    0,    0,    0,    0,    0,    0,    0,    0,\n",
       "           0,    0,    0,    0,    0,    0,    0,    0,    0,    0,    0,\n",
       "           0,    0,    0,    0,    0,    0,    0,    0,    0,    0,    0,\n",
       "           0,    0,    0,    0,    0,    0,    0,    0,    0,    0,    0,\n",
       "           0,    0,    0,    0,    0,    0,    0,    0,    0,    0,    0,\n",
       "           0,    0,    0,    0,    0,    0,    0,    0,    0,    0,    0,\n",
       "           0,    0,    0,    0,    0,    0,    0,    0,    0,    0,    0,\n",
       "           0,    0,    0,    0,    0,    0,    0,    0,    0,    0,    0,\n",
       "           0,    0,    0,    0,    0,    0,    0,    0,    0,    0,    0,\n",
       "           0,    0,    0]])"
      ]
     },
     "execution_count": 643,
     "metadata": {},
     "output_type": "execute_result"
    }
   ],
   "source": [
    "X_showcase_r"
   ]
  },
  {
   "cell_type": "code",
   "execution_count": 644,
   "metadata": {},
   "outputs": [],
   "source": [
    "pred_showcase_r = model_1.predict(X_showcase_r)\n",
    "pred_showcase_bool_r = pred_showcase_r > 0.5\n",
    "predictions_showcase_r = pred_showcase_bool_r.astype(int)"
   ]
  },
  {
   "cell_type": "code",
   "execution_count": 645,
   "metadata": {},
   "outputs": [
    {
     "data": {
      "text/plain": [
       "array([[0, 0, 0, 0, 0, 0, 0, 0, 0, 0, 0, 0, 0, 0, 0, 0, 0]])"
      ]
     },
     "execution_count": 645,
     "metadata": {},
     "output_type": "execute_result"
    }
   ],
   "source": [
    "predictions_showcase_r "
   ]
  },
  {
   "cell_type": "code",
   "execution_count": 629,
   "metadata": {},
   "outputs": [
    {
     "name": "stdout",
     "output_type": "stream",
     "text": [
      "เมื่อวันที่ 6 ม.ค.60 ที่ทำเนียบรัฐบาล นายวิษณุ เครืองาม รองนายกรัฐมนตรี กล่าวถึงกรณี ที่ นายสุรชัย เลี้ยงบุญเลิศชัย รองประธานสภานิติบัญญัติแห่งชาติ (สนช.) ออกมาระบุว่า การเลือกตั้งจะถูกเลื่อนออกไปถึงปี 2561 ว่า ขอให้ไปสอบถามกับ สนช. แต่เชื่อว่าคงไม่กล้าพูดอีก เพราะทำให้คนเข้าใจผิด ซึ่งที่ สนช.พูดเนื่องจากผูกกับกฎหมายของกรรมการร่างรัฐธรรมนูญ(กรธ.) ตนจึงไม่ขอวิพากษ์วิจารณ์ แต่รัฐบาลยืนยันว่ายังเดินตามโรดแม็ป ซึ่งโรดแม็ปมองได้สองแบบ คือ มีลำดับขั้นตอนและการกำหนดช่วงเวลา โดยเริ่มต้นจากการประกาศใช้รัฐธรรมนูญ แต่ขณะนี้รัฐธรรมนูญยังไม่ประกาศใช้ จึงยังเริ่มนับหนึ่งไม่ถูก จากนั้นเข้าสู่ขั้นตอนการร่างกฎหมายประกอบร่างรัฐธรรมนูญหรือกฎหมายลูก ภายใน 240 วัน ก่อนจะส่งกลับให้ สนช.พิจารณา ภายใน 2 เดือน ,นายวิษณุ กล่าวต่อว่า หากมีการแก้ไขก็จะมีการพิจารณาร่วมกับ กรธ.อีก 1 เดือน ก่อนนำขึ้นทูลเกล้าฯ ทรงลงพระปรมาภิไธย ภายใน 90 วัน และจะเข้าสู่การเลือกตั้งภายในระยะเวลา 5 เดือน ซึ่งทั้งหมดนี้คือโรดแม็ปที่ยังเป็นแบบเดิมอยู่ ส่วนเดิมที่กำหนดวันเลือกตั้งไว้ภายในปี 60 นั้น เพราะมาจากสมมติฐานของขั้นตอนเดิมทั้งหมด แต่เมื่อมีเหตุสวรรคตทุกอย่างจึงต้องเลื่อนออกไป ส่วนการพิจารณากฎหมายลูกทั้งหมด 4 ฉบับ ขณะนี้กรธ.พิจารณาแล้วเสร็จ 2 ฉบับ คือ พ.ร.ป.พรรคการเมือง และพ.ร.ป. คณะกรรมการการเลือกตั้ง แต่ พ.ร.ป.การเลือกตั้งควรจะพิจารณาได้เร็วกลับล่าช้า ดังนั้น กรธ.จะต้องออกชี้แจงถึงเหตุผลว่าทำไมพิจารณากฎหมายดังกล่าวล่าช้ากว่ากำหนด ส่งผลให้เกิดข้อสงสัยจนถึงทุกวันนี้ ส่วนกรณีที่ สนช. ระบุว่า มีกฎหมายเข้าสู่การพิจารณาของ สนช.เป็นจำนวนมาก ทำให้ส่งผลกระทบต่อโรดแม็ปนั้น รัฐบาลเคยบอกไว้แล้วว่าในช่วงนี้ของโรดแม็ปกฎหมายจะเยอะกว่าที่ผ่านมา ดังนั้น สนช.จะต้องบริหารจัดการกันเอง เพราะได้มีการเพิ่มสมาชิก สนช.ให้แล้ว.\n",
      ".................................................\n",
      "ML prediction\n",
      "0    การเมือง\n",
      "Name: Predict, dtype: object\n",
      ".................................................\n",
      "DL prediction\n"
     ]
    },
    {
     "data": {
      "text/html": [
       "<div>\n",
       "<style scoped>\n",
       "    .dataframe tbody tr th:only-of-type {\n",
       "        vertical-align: middle;\n",
       "    }\n",
       "\n",
       "    .dataframe tbody tr th {\n",
       "        vertical-align: top;\n",
       "    }\n",
       "\n",
       "    .dataframe thead th {\n",
       "        text-align: right;\n",
       "    }\n",
       "</style>\n",
       "<table border=\"1\" class=\"dataframe\">\n",
       "  <thead>\n",
       "    <tr style=\"text-align: right;\">\n",
       "      <th></th>\n",
       "      <th>ไลฟ์สไตล์</th>\n",
       "      <th>เศรษฐกิจ</th>\n",
       "      <th>ต่างประเทศ</th>\n",
       "      <th>ความมั่นคง</th>\n",
       "      <th>สิ่งแวดล้อม</th>\n",
       "      <th>ผู้หญิง</th>\n",
       "      <th>การเมือง</th>\n",
       "      <th>แรงงาน</th>\n",
       "      <th>สังคม</th>\n",
       "      <th>อาชญากรรม</th>\n",
       "      <th>บันเทิง</th>\n",
       "      <th>สิทธิมนุษยชน</th>\n",
       "      <th>การศึกษา</th>\n",
       "      <th>วิทยาศาสตร์เทคโนโลยี</th>\n",
       "      <th>คุณภาพชีวิต</th>\n",
       "      <th>วัฒนธรรม</th>\n",
       "      <th>กีฬา</th>\n",
       "    </tr>\n",
       "  </thead>\n",
       "  <tbody>\n",
       "    <tr>\n",
       "      <th>0</th>\n",
       "      <td>0</td>\n",
       "      <td>0</td>\n",
       "      <td>0</td>\n",
       "      <td>0</td>\n",
       "      <td>0</td>\n",
       "      <td>0</td>\n",
       "      <td>1</td>\n",
       "      <td>0</td>\n",
       "      <td>0</td>\n",
       "      <td>0</td>\n",
       "      <td>0</td>\n",
       "      <td>0</td>\n",
       "      <td>0</td>\n",
       "      <td>0</td>\n",
       "      <td>0</td>\n",
       "      <td>0</td>\n",
       "      <td>0</td>\n",
       "    </tr>\n",
       "  </tbody>\n",
       "</table>\n",
       "</div>"
      ],
      "text/plain": [
       "   ไลฟ์สไตล์  เศรษฐกิจ  ต่างประเทศ  ความมั่นคง  สิ่งแวดล้อม  ผู้หญิง  \\\n",
       "0          0         0           0           0            0        0   \n",
       "\n",
       "   การเมือง  แรงงาน  สังคม  อาชญากรรม  บันเทิง  สิทธิมนุษยชน  การศึกษา  \\\n",
       "0         1       0      0          0        0             0         0   \n",
       "\n",
       "   วิทยาศาสตร์เทคโนโลยี  คุณภาพชีวิต  วัฒนธรรม  กีฬา  \n",
       "0                     0            0         0     0  "
      ]
     },
     "execution_count": 629,
     "metadata": {},
     "output_type": "execute_result"
    }
   ],
   "source": [
    "i = 0\n",
    "print(showcase_data[\"body\"][i])\n",
    "print(\".................................................\")\n",
    "predictions_showcase_df.iloc[predictions_showcase_df.index==i]\n",
    "print(\"ML prediction\")\n",
    "print(showcase_data_ml[\"Predict\"].iloc[showcase_data_ml.index==i])\n",
    "print(\".................................................\")\n",
    "print(\"DL prediction\")\n",
    "predictions_showcase_df.iloc[predictions_showcase_df.index==i]"
   ]
  }
 ],
 "metadata": {
  "accelerator": "TPU",
  "colab": {
   "collapsed_sections": [],
   "machine_shape": "hm",
   "name": "Project Deep.ipynb",
   "provenance": []
  },
  "kernelspec": {
   "display_name": "tf2.4gpu",
   "language": "python",
   "name": "tf2.4gpu"
  },
  "language_info": {
   "codemirror_mode": {
    "name": "ipython",
    "version": 3
   },
   "file_extension": ".py",
   "mimetype": "text/x-python",
   "name": "python",
   "nbconvert_exporter": "python",
   "pygments_lexer": "ipython3",
   "version": "3.8.10"
  }
 },
 "nbformat": 4,
 "nbformat_minor": 1
}
