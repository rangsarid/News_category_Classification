{
  "nbformat": 4,
  "nbformat_minor": 0,
  "metadata": {
    "colab": {
      "name": "nida_ML_text_classification.ipynb",
      "provenance": [],
      "collapsed_sections": []
    },
    "kernelspec": {
      "display_name": "Python 3",
      "name": "python3"
    },
    "language_info": {
      "name": "python"
    }
  },
  "cells": [
    {
      "cell_type": "code",
      "metadata": {
        "colab": {
          "base_uri": "https://localhost:8080/"
        },
        "id": "JI4S4F4PyKd0",
        "outputId": "d7e79fd0-6617-4fc0-b70d-34f3f1746a53"
      },
      "source": [
        "!pip install scikit-multilearn"
      ],
      "execution_count": null,
      "outputs": [
        {
          "output_type": "stream",
          "text": [
            "Collecting scikit-multilearn\n",
            "\u001b[?25l  Downloading https://files.pythonhosted.org/packages/bb/1f/e6ff649c72a1cdf2c7a1d31eb21705110ce1c5d3e7e26b2cc300e1637272/scikit_multilearn-0.2.0-py3-none-any.whl (89kB)\n",
            "\r\u001b[K     |███▊                            | 10kB 15.2MB/s eta 0:00:01\r\u001b[K     |███████▍                        | 20kB 20.3MB/s eta 0:00:01\r\u001b[K     |███████████                     | 30kB 10.8MB/s eta 0:00:01\r\u001b[K     |██████████████▊                 | 40kB 8.4MB/s eta 0:00:01\r\u001b[K     |██████████████████▍             | 51kB 5.4MB/s eta 0:00:01\r\u001b[K     |██████████████████████          | 61kB 5.5MB/s eta 0:00:01\r\u001b[K     |█████████████████████████▊      | 71kB 5.9MB/s eta 0:00:01\r\u001b[K     |█████████████████████████████▍  | 81kB 6.2MB/s eta 0:00:01\r\u001b[K     |████████████████████████████████| 92kB 4.5MB/s \n",
            "\u001b[?25hInstalling collected packages: scikit-multilearn\n",
            "Successfully installed scikit-multilearn-0.2.0\n"
          ],
          "name": "stdout"
        }
      ]
    },
    {
      "cell_type": "code",
      "metadata": {
        "id": "PAOkcS9yi-Ja"
      },
      "source": [
        "# import framework \n",
        "import numpy as np\n",
        "import pandas as pd\n",
        "import glob \n",
        "import re\n",
        " \n",
        " # Models\n",
        "from sklearn.linear_model import LogisticRegression\n",
        "from sklearn.naive_bayes import MultinomialNB\n",
        "from sklearn.multiclass import OneVsRestClassifier\n",
        "from sklearn.svm import SVC, LinearSVC\n",
        "from sklearn.tree import DecisionTreeClassifier\n",
        "from sklearn.ensemble import RandomForestClassifier, ExtraTreesClassifier, VotingClassifier, AdaBoostClassifier, BaggingRegressor, GradientBoostingClassifier,BaggingClassifier\n",
        "from sklearn.naive_bayes import GaussianNB\n",
        "\n",
        "from sklearn.neighbors import NearestNeighbors, KNeighborsClassifier\n",
        "from sklearn import model_selection\n",
        "from sklearn.model_selection import GridSearchCV, RandomizedSearchCV\n",
        "from sklearn.metrics.pairwise import linear_kernel\n",
        "\n",
        "# Performance metrics\n",
        "from sklearn.metrics import confusion_matrix, f1_score\n",
        "from sklearn.model_selection import cross_val_score, KFold\n",
        "from sklearn.model_selection import train_test_split\n",
        "from sklearn.metrics import accuracy_score, make_scorer, roc_curve, roc_auc_score\n",
        "from sklearn.metrics import precision_recall_fscore_support as score\n",
        "from sklearn.metrics.pairwise import cosine_similarity\n",
        "\n",
        "# Visualization Libraries\n",
        "import matplotlib.pyplot as plt\n",
        "import seaborn as sns\n",
        "from PIL import Image\n",
        "from wordcloud import WordCloud, STOPWORDS, ImageColorGenerator\n",
        "sns.set()\n",
        "%matplotlib inline\n",
        "\n",
        "## timer\n",
        "import time \n",
        "\n",
        "## save model and other librery \n",
        "from sklearn.pipeline import Pipeline\n",
        "from skmultilearn.problem_transform import ClassifierChain\n",
        "from sklearn.linear_model import LogisticRegression\n",
        "from skmultilearn.adapt import MLkNN\n",
        "import pickle\n",
        "from skmultilearn.problem_transform import BinaryRelevance\n",
        "\n",
        "### language \n",
        "\n",
        "import matplotlib.font_manager as fm\n",
        "sns.set_style(\"darkgrid\",{\"font.sans-serif\":['simhei', 'Tahoma']})\n"
      ],
      "execution_count": null,
      "outputs": []
    },
    {
      "cell_type": "code",
      "metadata": {
        "colab": {
          "base_uri": "https://localhost:8080/"
        },
        "id": "Y9csiFUH_AVE",
        "outputId": "6ff32f73-8291-46a2-98cd-38f09b58d492"
      },
      "source": [
        "## Add thai front \n",
        "!wget https://github.com/Phonbopit/sarabun-webfont/raw/master/fonts/thsarabunnew-webfont.ttf\n",
        "# !pip install -U --pre matplotlib  \n",
        "import matplotlib as mpl\n",
        "mpl.font_manager.fontManager.addfont('thsarabunnew-webfont.ttf') # 3.2+\n",
        "mpl.rc('font', family='TH Sarabun New')"
      ],
      "execution_count": null,
      "outputs": [
        {
          "output_type": "stream",
          "text": [
            "--2021-06-20 06:59:56--  https://github.com/Phonbopit/sarabun-webfont/raw/master/fonts/thsarabunnew-webfont.ttf\n",
            "Resolving github.com (github.com)... 140.82.113.4\n",
            "Connecting to github.com (github.com)|140.82.113.4|:443... connected.\n",
            "HTTP request sent, awaiting response... 302 Found\n",
            "Location: https://raw.githubusercontent.com/Phonbopit/sarabun-webfont/master/fonts/thsarabunnew-webfont.ttf [following]\n",
            "--2021-06-20 06:59:56--  https://raw.githubusercontent.com/Phonbopit/sarabun-webfont/master/fonts/thsarabunnew-webfont.ttf\n",
            "Resolving raw.githubusercontent.com (raw.githubusercontent.com)... 185.199.108.133, 185.199.109.133, 185.199.110.133, ...\n",
            "Connecting to raw.githubusercontent.com (raw.githubusercontent.com)|185.199.108.133|:443... connected.\n",
            "HTTP request sent, awaiting response... 200 OK\n",
            "Length: 98308 (96K) [application/octet-stream]\n",
            "Saving to: ‘thsarabunnew-webfont.ttf’\n",
            "\n",
            "thsarabunnew-webfon 100%[===================>]  96.00K  --.-KB/s    in 0.01s   \n",
            "\n",
            "2021-06-20 06:59:56 (6.59 MB/s) - ‘thsarabunnew-webfont.ttf’ saved [98308/98308]\n",
            "\n"
          ],
          "name": "stdout"
        }
      ]
    },
    {
      "cell_type": "code",
      "metadata": {
        "colab": {
          "base_uri": "https://localhost:8080/"
        },
        "id": "l7QtrTc0rmK5",
        "outputId": "a3e5901a-a2db-4c95-f863-2b5a9db95128"
      },
      "source": [
        "print(time.time()) "
      ],
      "execution_count": null,
      "outputs": [
        {
          "output_type": "stream",
          "text": [
            "1624129921.2864711\n"
          ],
          "name": "stdout"
        }
      ]
    },
    {
      "cell_type": "code",
      "metadata": {
        "colab": {
          "base_uri": "https://localhost:8080/"
        },
        "id": "Lrp4WHHmjNQB",
        "outputId": "9f1940b5-86b9-4b96-f7f2-92c32656ddb1"
      },
      "source": [
        "## G-google mount drive\n",
        "from google.colab import drive\n",
        "drive.mount('/content/drive')"
      ],
      "execution_count": null,
      "outputs": [
        {
          "output_type": "stream",
          "text": [
            "Mounted at /content/drive\n"
          ],
          "name": "stdout"
        }
      ]
    },
    {
      "cell_type": "code",
      "metadata": {
        "colab": {
          "base_uri": "https://localhost:8080/"
        },
        "id": "JuRkbjsfjVmy",
        "outputId": "ef0d6b5f-384e-417e-f13e-fd3aaf614b62"
      },
      "source": [
        "# check path  \n",
        "%cd "
      ],
      "execution_count": null,
      "outputs": [
        {
          "output_type": "stream",
          "text": [
            "/root\n"
          ],
          "name": "stdout"
        }
      ]
    },
    {
      "cell_type": "code",
      "metadata": {
        "id": "8-rDenjVjhtw"
      },
      "source": [
        "df_train  = pd.read_csv('/content/drive/MyDrive/deep_final/Training_newsdata.csv')\n",
        "df_test = pd.read_csv('/content/drive/MyDrive/deep_final/testing_newsdata.csv')\n",
        "#/content/drive/MyDrive/deep_final/adj_type_data_tkn.csv   #nig \n",
        "#/content/drive/MyDrive/google colab/Colab Notebooks/adj_type_data_tkn.csv # kong "
      ],
      "execution_count": null,
      "outputs": []
    },
    {
      "cell_type": "code",
      "metadata": {
        "colab": {
          "base_uri": "https://localhost:8080/"
        },
        "id": "YudQtdtPj6az",
        "outputId": "dac931c3-557c-4bd0-fac5-b6c79f383b0e"
      },
      "source": [
        "print('Train_data : ',df_train.shape)\n",
        "print('Test_data : ',df_test.shape)"
      ],
      "execution_count": null,
      "outputs": [
        {
          "output_type": "stream",
          "text": [
            "Train_data :  (132175, 20)\n",
            "Test_data :  (56647, 20)\n"
          ],
          "name": "stdout"
        }
      ]
    },
    {
      "cell_type": "code",
      "metadata": {
        "id": "4Djtmx_tAML0",
        "colab": {
          "base_uri": "https://localhost:8080/",
          "height": 680
        },
        "outputId": "8df9b7cc-5ade-4de3-8dd9-7f971ff3de6d"
      },
      "source": [
        "df_train.head()"
      ],
      "execution_count": null,
      "outputs": [
        {
          "output_type": "execute_result",
          "data": {
            "text/html": [
              "<div>\n",
              "<style scoped>\n",
              "    .dataframe tbody tr th:only-of-type {\n",
              "        vertical-align: middle;\n",
              "    }\n",
              "\n",
              "    .dataframe tbody tr th {\n",
              "        vertical-align: top;\n",
              "    }\n",
              "\n",
              "    .dataframe thead th {\n",
              "        text-align: right;\n",
              "    }\n",
              "</style>\n",
              "<table border=\"1\" class=\"dataframe\">\n",
              "  <thead>\n",
              "    <tr style=\"text-align: right;\">\n",
              "      <th></th>\n",
              "      <th>Unnamed: 0</th>\n",
              "      <th>type</th>\n",
              "      <th>ไลฟ์สไตล์</th>\n",
              "      <th>เศรษฐกิจ</th>\n",
              "      <th>ต่างประเทศ</th>\n",
              "      <th>ความมั่นคง</th>\n",
              "      <th>สิ่งแวดล้อม</th>\n",
              "      <th>ผู้หญิง</th>\n",
              "      <th>การเมือง</th>\n",
              "      <th>แรงงาน</th>\n",
              "      <th>สังคม</th>\n",
              "      <th>อาชญากรรม</th>\n",
              "      <th>บันเทิง</th>\n",
              "      <th>สิทธิมนุษยชน</th>\n",
              "      <th>การศึกษา</th>\n",
              "      <th>วิทยาศาสตร์เทคโนโลยี</th>\n",
              "      <th>คุณภาพชีวิต</th>\n",
              "      <th>วัฒนธรรม</th>\n",
              "      <th>กีฬา</th>\n",
              "      <th>Tkn_Text</th>\n",
              "    </tr>\n",
              "  </thead>\n",
              "  <tbody>\n",
              "    <tr>\n",
              "      <th>0</th>\n",
              "      <td>169629</td>\n",
              "      <td>แรงงาน,คุณภาพชีวิต</td>\n",
              "      <td>0</td>\n",
              "      <td>0</td>\n",
              "      <td>0</td>\n",
              "      <td>0</td>\n",
              "      <td>0</td>\n",
              "      <td>0</td>\n",
              "      <td>0</td>\n",
              "      <td>1</td>\n",
              "      <td>0</td>\n",
              "      <td>0</td>\n",
              "      <td>0</td>\n",
              "      <td>0</td>\n",
              "      <td>0</td>\n",
              "      <td>0</td>\n",
              "      <td>1</td>\n",
              "      <td>0</td>\n",
              "      <td>0</td>\n",
              "      <td>วัน ลูกจ้าง ทำงานบ้าน สากล เครือข่าย ลูกจ้าง ท...</td>\n",
              "    </tr>\n",
              "    <tr>\n",
              "      <th>1</th>\n",
              "      <td>128696</td>\n",
              "      <td>ข่าว,เศรษฐกิจ</td>\n",
              "      <td>0</td>\n",
              "      <td>1</td>\n",
              "      <td>0</td>\n",
              "      <td>0</td>\n",
              "      <td>0</td>\n",
              "      <td>0</td>\n",
              "      <td>0</td>\n",
              "      <td>0</td>\n",
              "      <td>0</td>\n",
              "      <td>0</td>\n",
              "      <td>0</td>\n",
              "      <td>0</td>\n",
              "      <td>0</td>\n",
              "      <td>0</td>\n",
              "      <td>0</td>\n",
              "      <td>0</td>\n",
              "      <td>0</td>\n",
              "      <td>นาย จัก รก ฤศฏิ์ พารา พันธ กุล รองประธานกรรมกา...</td>\n",
              "    </tr>\n",
              "    <tr>\n",
              "      <th>2</th>\n",
              "      <td>186251</td>\n",
              "      <td>ข่าว,อาชญากรรม</td>\n",
              "      <td>0</td>\n",
              "      <td>0</td>\n",
              "      <td>0</td>\n",
              "      <td>0</td>\n",
              "      <td>0</td>\n",
              "      <td>0</td>\n",
              "      <td>0</td>\n",
              "      <td>0</td>\n",
              "      <td>0</td>\n",
              "      <td>1</td>\n",
              "      <td>0</td>\n",
              "      <td>0</td>\n",
              "      <td>0</td>\n",
              "      <td>0</td>\n",
              "      <td>0</td>\n",
              "      <td>0</td>\n",
              "      <td>0</td>\n",
              "      <td>รอง โฆษก ตร แจง ผบ ก น สั่ง ผก ก สน ท่า พระ ตร...</td>\n",
              "    </tr>\n",
              "    <tr>\n",
              "      <th>3</th>\n",
              "      <td>97109</td>\n",
              "      <td>ข่าว,ต่างประเทศ</td>\n",
              "      <td>0</td>\n",
              "      <td>0</td>\n",
              "      <td>1</td>\n",
              "      <td>0</td>\n",
              "      <td>0</td>\n",
              "      <td>0</td>\n",
              "      <td>0</td>\n",
              "      <td>0</td>\n",
              "      <td>0</td>\n",
              "      <td>0</td>\n",
              "      <td>0</td>\n",
              "      <td>0</td>\n",
              "      <td>0</td>\n",
              "      <td>0</td>\n",
              "      <td>0</td>\n",
              "      <td>0</td>\n",
              "      <td>0</td>\n",
              "      <td>สำนัก ข่าวต่างประเทศ รายงาน ว่า สม ชิ ก วุฒิสภ...</td>\n",
              "    </tr>\n",
              "    <tr>\n",
              "      <th>4</th>\n",
              "      <td>188332</td>\n",
              "      <td>สังคม</td>\n",
              "      <td>0</td>\n",
              "      <td>0</td>\n",
              "      <td>0</td>\n",
              "      <td>0</td>\n",
              "      <td>0</td>\n",
              "      <td>0</td>\n",
              "      <td>0</td>\n",
              "      <td>0</td>\n",
              "      <td>1</td>\n",
              "      <td>0</td>\n",
              "      <td>0</td>\n",
              "      <td>0</td>\n",
              "      <td>0</td>\n",
              "      <td>0</td>\n",
              "      <td>0</td>\n",
              "      <td>0</td>\n",
              "      <td>0</td>\n",
              "      <td>วันนี้ ก ค ที่ สถานีรถไฟ หาดใหญ่ จ สงขลา มี ปร...</td>\n",
              "    </tr>\n",
              "  </tbody>\n",
              "</table>\n",
              "</div>"
            ],
            "text/plain": [
              "   Unnamed: 0  ...                                           Tkn_Text\n",
              "0      169629  ...  วัน ลูกจ้าง ทำงานบ้าน สากล เครือข่าย ลูกจ้าง ท...\n",
              "1      128696  ...  นาย จัก รก ฤศฏิ์ พารา พันธ กุล รองประธานกรรมกา...\n",
              "2      186251  ...  รอง โฆษก ตร แจง ผบ ก น สั่ง ผก ก สน ท่า พระ ตร...\n",
              "3       97109  ...  สำนัก ข่าวต่างประเทศ รายงาน ว่า สม ชิ ก วุฒิสภ...\n",
              "4      188332  ...  วันนี้ ก ค ที่ สถานีรถไฟ หาดใหญ่ จ สงขลา มี ปร...\n",
              "\n",
              "[5 rows x 20 columns]"
            ]
          },
          "metadata": {
            "tags": []
          },
          "execution_count": 27
        }
      ]
    },
    {
      "cell_type": "code",
      "metadata": {
        "colab": {
          "base_uri": "https://localhost:8080/"
        },
        "id": "SjC-uepoCA_T",
        "outputId": "3c34232b-d607-48a7-b2a3-ef89b6ed04ab"
      },
      "source": [
        "df_train.columns"
      ],
      "execution_count": null,
      "outputs": [
        {
          "output_type": "execute_result",
          "data": {
            "text/plain": [
              "Index(['Unnamed: 0', 'type', 'ไลฟ์สไตล์', 'เศรษฐกิจ', 'ต่างประเทศ',\n",
              "       'ความมั่นคง', 'สิ่งแวดล้อม', 'ผู้หญิง', 'การเมือง', 'แรงงาน', 'สังคม',\n",
              "       'อาชญากรรม', 'บันเทิง', 'สิทธิมนุษยชน', 'การศึกษา',\n",
              "       'วิทยาศาสตร์เทคโนโลยี', 'คุณภาพชีวิต', 'วัฒนธรรม', 'กีฬา', 'Tkn_Text'],\n",
              "      dtype='object')"
            ]
          },
          "metadata": {
            "tags": []
          },
          "execution_count": 10
        }
      ]
    },
    {
      "cell_type": "code",
      "metadata": {
        "colab": {
          "base_uri": "https://localhost:8080/"
        },
        "id": "FsNRdxt6lPfH",
        "outputId": "15ef5210-db09-48e0-8001-8d5836a3d48f"
      },
      "source": [
        "#check sample data \n",
        "#print('Body : ', df_train.loc[0,'body_cln'])\n",
        "print('Token :',  df_train.loc[0,'Tkn_Text'])"
      ],
      "execution_count": null,
      "outputs": [
        {
          "output_type": "stream",
          "text": [
            "Token : วัน ลูกจ้าง ทำงานบ้าน สากล เครือข่าย ลูกจ้าง ทำงานบ้าน ขอ รบ ไทย รับรอง อนุสัญญา ILO ว่าด้วย งาน ที่ มีคุณค่า สำหรับ ลูกจ้าง ทำงานบ้าน อย่าง เร่งด่วน เร่ง ดำเนิน การปรับปรุง กฎหมาย เรื่อง ชั่วโมง การทำงาน ค่าจ้างขั้นต่ำ การ คุ้มครอง ความ ป็น มารดา และ การ คุ้มครอง จาก การ ล่วงละเมิด การ คุกคาม และ ความรุนแรง ใน ทุก รูปแบบ ประ สังคม เร่ง ให้ เข้าถึง สิทธิ ประกันสังคม ม และ ยกเลิก คำ ว่า คนรับใช้ ใน เอกสาร ทุกชนิด ของ ทางราชการ มิ ย รายงาน ข่าว แจ้ง ว่า เมื่อ วันที่ มิ ย ที่ผ่านมา เครือข่าย ลูกจ้าง ทำงานบ้าน ในประเทศ ไทย กรมสวัสดิการและคุ้มครองแรงงาน กระทรวง แรงงาน และ มูลนิธิ เพื่อ การพัฒนา แรงงาน และ อาชีพ ได้ จัด การอบรม โครงการ เพิ่มประสิทธิภาพ การ คุ้มครอง สิทธิ แรงงาน ต่างด้าว กิจ กรรมการ ส่งเสริม พัฒนา ความรู้ กฎหมายแรงงาน นอก ระบบ กลุ่ม ลูกจ้าง ทำงานบ้าน แรงงาน ต่างด้าว และ วัน ลูกจ้าง ทำงานบ้าน สากล ณ ห้องประชุม โรงแรม เดอะ พาลา ซ โซ่ กรุงเทพฯ การ จัดงาน ครั้งนี้ เพื่อ แลกเปลี่ยน เรียนรู้ ใน ประเด็น ที่ เกี่ยวข้อง กับ ลูกจ้าง ทำงานบ้าน ซึ่ง เป็นการ เพิ่มพูนความรู้ และ พัฒนา ทักษะ ใน การทำงาน ทั้ง กฎกระทรวง ฉบับ ที่ พ ศ กฎหมาย ที่ เกี่ยวข้อง กับ ลูกจ้าง ทำงานบ้าน ข้ามชาติ ประกันสังคม มาตรา การยุติ ความรุนแรง ที่เกิด จาก มิติ หญิง ชาย และ การป้องกัน และ บรรเทา สาธารณภัย นอกจากนี้ ยังมี การแสดง ทางวัฒนธรรม ของ เครือข่าย ลูกจ้าง ทำงานบ้าน ในประเทศ ไทย ทั้ง การ แสดงละคร สะท้อน ปัญหา ที่ ลูกจ้าง ทำงานบ้าน ต้อง เผชิญ การ เต้นระบำ ของ ชน เผ่า ต่าง รวมทั้ง การ รณรงค์ ยุติ ความรุนแรง ที่เกิด จาก มิติ หญิง ชาย สำหรับ ลูกจ้าง ทำงานบ้าน ใน โลก ของ การทำงาน ด้วย การสวม ถุงมือ Stop GBVGender Based Violence แล้ว ชู มือขวา พร้อมกัน เพื่อ เป็น การแสดงออก เชิง สัญลักษณ์ ร่วมกับ เครือข่าย ลูกจ้าง ทำงานบ้าน ทั่วโลก ซึ่ง ร่วมกัน รณรงค์ ประเด็น ดังกล่าว ใน วันที่ มิ ย ซึ่ง เป็น วัน ลูกจ้าง ทำงานบ้าน สากล จากนั้น เครือข่าย ลูกจ้าง ทำงานบ้าน ในประเทศ ไทย ได้ อ่าน คำประกาศ เนื่องใน วัน ลูกจ้าง ทำงานบ้าน สากล มิถุนายน ซึ่ง มี ข้อเรียกร้อง ให้ ผู้ ที่ มีส่วน เกี่ยวข้อง เร่ง ดำเนินการ แก้ไขปัญหา ดังต่อไปนี้\n"
          ],
          "name": "stdout"
        }
      ]
    },
    {
      "cell_type": "code",
      "metadata": {
        "id": "H-feZqCoBvXP"
      },
      "source": [
        "## sample data \n",
        "#df.loc[7297,'Tkn_Text']"
      ],
      "execution_count": null,
      "outputs": []
    },
    {
      "cell_type": "code",
      "metadata": {
        "id": "VD4kiDvAj7rh"
      },
      "source": [
        "# copy file \n",
        "df_train_prep = df_train.copy()\n",
        "df_test_prep =  df_test.copy()"
      ],
      "execution_count": null,
      "outputs": []
    },
    {
      "cell_type": "code",
      "metadata": {
        "id": "rv46eFStkIum"
      },
      "source": [
        "## Drop un-useful columns \n",
        "df_train_prep = df_train_prep.drop(columns = ['Unnamed: 0','type'])\n",
        "df_test_prep = df_test_prep.drop(columns = ['Unnamed: 0','type'])"
      ],
      "execution_count": null,
      "outputs": []
    },
    {
      "cell_type": "code",
      "metadata": {
        "colab": {
          "base_uri": "https://localhost:8080/",
          "height": 680
        },
        "id": "1L7U_xwCjstu",
        "outputId": "9e99cb61-bbdc-42ae-8792-3ef660025dbb"
      },
      "source": [
        "df_train_prep.head()"
      ],
      "execution_count": null,
      "outputs": [
        {
          "output_type": "execute_result",
          "data": {
            "text/html": [
              "<div>\n",
              "<style scoped>\n",
              "    .dataframe tbody tr th:only-of-type {\n",
              "        vertical-align: middle;\n",
              "    }\n",
              "\n",
              "    .dataframe tbody tr th {\n",
              "        vertical-align: top;\n",
              "    }\n",
              "\n",
              "    .dataframe thead th {\n",
              "        text-align: right;\n",
              "    }\n",
              "</style>\n",
              "<table border=\"1\" class=\"dataframe\">\n",
              "  <thead>\n",
              "    <tr style=\"text-align: right;\">\n",
              "      <th></th>\n",
              "      <th>ไลฟ์สไตล์</th>\n",
              "      <th>เศรษฐกิจ</th>\n",
              "      <th>ต่างประเทศ</th>\n",
              "      <th>ความมั่นคง</th>\n",
              "      <th>สิ่งแวดล้อม</th>\n",
              "      <th>ผู้หญิง</th>\n",
              "      <th>การเมือง</th>\n",
              "      <th>แรงงาน</th>\n",
              "      <th>สังคม</th>\n",
              "      <th>อาชญากรรม</th>\n",
              "      <th>บันเทิง</th>\n",
              "      <th>สิทธิมนุษยชน</th>\n",
              "      <th>การศึกษา</th>\n",
              "      <th>วิทยาศาสตร์เทคโนโลยี</th>\n",
              "      <th>คุณภาพชีวิต</th>\n",
              "      <th>วัฒนธรรม</th>\n",
              "      <th>กีฬา</th>\n",
              "      <th>Tkn_Text</th>\n",
              "    </tr>\n",
              "  </thead>\n",
              "  <tbody>\n",
              "    <tr>\n",
              "      <th>0</th>\n",
              "      <td>0</td>\n",
              "      <td>0</td>\n",
              "      <td>0</td>\n",
              "      <td>0</td>\n",
              "      <td>0</td>\n",
              "      <td>0</td>\n",
              "      <td>0</td>\n",
              "      <td>1</td>\n",
              "      <td>0</td>\n",
              "      <td>0</td>\n",
              "      <td>0</td>\n",
              "      <td>0</td>\n",
              "      <td>0</td>\n",
              "      <td>0</td>\n",
              "      <td>1</td>\n",
              "      <td>0</td>\n",
              "      <td>0</td>\n",
              "      <td>วัน ลูกจ้าง ทำงานบ้าน สากล เครือข่าย ลูกจ้าง ท...</td>\n",
              "    </tr>\n",
              "    <tr>\n",
              "      <th>1</th>\n",
              "      <td>0</td>\n",
              "      <td>1</td>\n",
              "      <td>0</td>\n",
              "      <td>0</td>\n",
              "      <td>0</td>\n",
              "      <td>0</td>\n",
              "      <td>0</td>\n",
              "      <td>0</td>\n",
              "      <td>0</td>\n",
              "      <td>0</td>\n",
              "      <td>0</td>\n",
              "      <td>0</td>\n",
              "      <td>0</td>\n",
              "      <td>0</td>\n",
              "      <td>0</td>\n",
              "      <td>0</td>\n",
              "      <td>0</td>\n",
              "      <td>นาย จัก รก ฤศฏิ์ พารา พันธ กุล รองประธานกรรมกา...</td>\n",
              "    </tr>\n",
              "    <tr>\n",
              "      <th>2</th>\n",
              "      <td>0</td>\n",
              "      <td>0</td>\n",
              "      <td>0</td>\n",
              "      <td>0</td>\n",
              "      <td>0</td>\n",
              "      <td>0</td>\n",
              "      <td>0</td>\n",
              "      <td>0</td>\n",
              "      <td>0</td>\n",
              "      <td>1</td>\n",
              "      <td>0</td>\n",
              "      <td>0</td>\n",
              "      <td>0</td>\n",
              "      <td>0</td>\n",
              "      <td>0</td>\n",
              "      <td>0</td>\n",
              "      <td>0</td>\n",
              "      <td>รอง โฆษก ตร แจง ผบ ก น สั่ง ผก ก สน ท่า พระ ตร...</td>\n",
              "    </tr>\n",
              "    <tr>\n",
              "      <th>3</th>\n",
              "      <td>0</td>\n",
              "      <td>0</td>\n",
              "      <td>1</td>\n",
              "      <td>0</td>\n",
              "      <td>0</td>\n",
              "      <td>0</td>\n",
              "      <td>0</td>\n",
              "      <td>0</td>\n",
              "      <td>0</td>\n",
              "      <td>0</td>\n",
              "      <td>0</td>\n",
              "      <td>0</td>\n",
              "      <td>0</td>\n",
              "      <td>0</td>\n",
              "      <td>0</td>\n",
              "      <td>0</td>\n",
              "      <td>0</td>\n",
              "      <td>สำนัก ข่าวต่างประเทศ รายงาน ว่า สม ชิ ก วุฒิสภ...</td>\n",
              "    </tr>\n",
              "    <tr>\n",
              "      <th>4</th>\n",
              "      <td>0</td>\n",
              "      <td>0</td>\n",
              "      <td>0</td>\n",
              "      <td>0</td>\n",
              "      <td>0</td>\n",
              "      <td>0</td>\n",
              "      <td>0</td>\n",
              "      <td>0</td>\n",
              "      <td>1</td>\n",
              "      <td>0</td>\n",
              "      <td>0</td>\n",
              "      <td>0</td>\n",
              "      <td>0</td>\n",
              "      <td>0</td>\n",
              "      <td>0</td>\n",
              "      <td>0</td>\n",
              "      <td>0</td>\n",
              "      <td>วันนี้ ก ค ที่ สถานีรถไฟ หาดใหญ่ จ สงขลา มี ปร...</td>\n",
              "    </tr>\n",
              "  </tbody>\n",
              "</table>\n",
              "</div>"
            ],
            "text/plain": [
              "   ไลฟ์สไตล์  เศรษฐกิจ  ...  กีฬา                                           Tkn_Text\n",
              "0          0         0  ...     0  วัน ลูกจ้าง ทำงานบ้าน สากล เครือข่าย ลูกจ้าง ท...\n",
              "1          0         1  ...     0  นาย จัก รก ฤศฏิ์ พารา พันธ กุล รองประธานกรรมกา...\n",
              "2          0         0  ...     0  รอง โฆษก ตร แจง ผบ ก น สั่ง ผก ก สน ท่า พระ ตร...\n",
              "3          0         0  ...     0  สำนัก ข่าวต่างประเทศ รายงาน ว่า สม ชิ ก วุฒิสภ...\n",
              "4          0         0  ...     0  วันนี้ ก ค ที่ สถานีรถไฟ หาดใหญ่ จ สงขลา มี ปร...\n",
              "\n",
              "[5 rows x 18 columns]"
            ]
          },
          "metadata": {
            "tags": []
          },
          "execution_count": 15
        }
      ]
    },
    {
      "cell_type": "code",
      "metadata": {
        "colab": {
          "base_uri": "https://localhost:8080/"
        },
        "id": "m4n7H2-WkxjI",
        "outputId": "2e7404bb-59ba-41a9-faf3-a215a6130d9a"
      },
      "source": [
        "# check null value\n",
        "print(df_train_prep.isnull().sum())\n",
        "print(df_test_prep.isnull().sum())"
      ],
      "execution_count": null,
      "outputs": [
        {
          "output_type": "stream",
          "text": [
            "ไลฟ์สไตล์               0\n",
            "เศรษฐกิจ                0\n",
            "ต่างประเทศ              0\n",
            "ความมั่นคง              0\n",
            "สิ่งแวดล้อม             0\n",
            "ผู้หญิง                 0\n",
            "การเมือง                0\n",
            "แรงงาน                  0\n",
            "สังคม                   0\n",
            "อาชญากรรม               0\n",
            "บันเทิง                 0\n",
            "สิทธิมนุษยชน            0\n",
            "การศึกษา                0\n",
            "วิทยาศาสตร์เทคโนโลยี    0\n",
            "คุณภาพชีวิต             0\n",
            "วัฒนธรรม                0\n",
            "กีฬา                    0\n",
            "Tkn_Text                0\n",
            "dtype: int64\n",
            "ไลฟ์สไตล์               0\n",
            "เศรษฐกิจ                0\n",
            "ต่างประเทศ              0\n",
            "ความมั่นคง              0\n",
            "สิ่งแวดล้อม             0\n",
            "ผู้หญิง                 0\n",
            "การเมือง                0\n",
            "แรงงาน                  0\n",
            "สังคม                   0\n",
            "อาชญากรรม               0\n",
            "บันเทิง                 0\n",
            "สิทธิมนุษยชน            0\n",
            "การศึกษา                0\n",
            "วิทยาศาสตร์เทคโนโลยี    0\n",
            "คุณภาพชีวิต             0\n",
            "วัฒนธรรม                0\n",
            "กีฬา                    0\n",
            "Tkn_Text                0\n",
            "dtype: int64\n"
          ],
          "name": "stdout"
        }
      ]
    },
    {
      "cell_type": "code",
      "metadata": {
        "id": "Bg3I68_xlBrW",
        "colab": {
          "base_uri": "https://localhost:8080/",
          "height": 287
        },
        "outputId": "e08eb93a-6c7d-4532-b34f-234b26e4c7e8"
      },
      "source": [
        "import seaborn as sn\n",
        "df_total = df_train_prep.append(df_test_prep)\n",
        "df_total.iloc[:,:-1].sum(axis = 0).plot.barh()"
      ],
      "execution_count": null,
      "outputs": [
        {
          "output_type": "execute_result",
          "data": {
            "text/plain": [
              "<matplotlib.axes._subplots.AxesSubplot at 0x7f87b1dcfd10>"
            ]
          },
          "metadata": {
            "tags": []
          },
          "execution_count": 10
        },
        {
          "output_type": "display_data",
          "data": {
            "image/png": "[encoded data removed]",
            "text/plain": [
              "<Figure size 432x288 with 1 Axes>"
            ]
          },
          "metadata": {
            "tags": []
          }
        }
      ]
    },
    {
      "cell_type": "code",
      "metadata": {
        "colab": {
          "base_uri": "https://localhost:8080/"
        },
        "id": "R6oc6ILgs1jZ",
        "outputId": "eba0be38-5c44-42dc-a09d-43eb035a6153"
      },
      "source": [
        "### Y_lable news category \n",
        "news_cat = df_total.iloc[:,:-1].columns\n",
        "news_cat_ls = list(news_cat)\n",
        "print('Category',news_cat_ls)"
      ],
      "execution_count": null,
      "outputs": [
        {
          "output_type": "stream",
          "text": [
            "Category ['ไลฟ์สไตล์', 'เศรษฐกิจ', 'ต่างประเทศ', 'ความมั่นคง', 'สิ่งแวดล้อม', 'ผู้หญิง', 'การเมือง', 'แรงงาน', 'สังคม', 'อาชญากรรม', 'บันเทิง', 'สิทธิมนุษยชน', 'การศึกษา', 'วิทยาศาสตร์เทคโนโลยี', 'คุณภาพชีวิต', 'วัฒนธรรม', 'กีฬา']\n"
          ],
          "name": "stdout"
        }
      ]
    },
    {
      "cell_type": "code",
      "metadata": {
        "id": "3Fy0YfliOSmR"
      },
      "source": [
        ""
      ],
      "execution_count": null,
      "outputs": []
    },
    {
      "cell_type": "code",
      "metadata": {
        "id": "f37r43VFfHB9"
      },
      "source": [
        "# y_train = y_train.drop(columns= 'predict_กีฬา',errors='ignore')\n",
        "# y_train"
      ],
      "execution_count": null,
      "outputs": []
    },
    {
      "cell_type": "code",
      "metadata": {
        "colab": {
          "base_uri": "https://localhost:8080/"
        },
        "id": "SRLZBDZqu-p7",
        "outputId": "34fdbe2e-fe91-42b8-e084-676ab8972a1f"
      },
      "source": [
        "## Train test data split \n",
        "print('before_split :' , df_total.shape )\n",
        "# train, test = train_test_split(df_prep, random_state=42, test_size=0.3, shuffle=True) #random stat -42\n",
        "# print('X-Test_set :' , train['Tkn_Text'].shape)\n",
        "# print('X-Test_set :' , test['Tkn_Text'].shape)\n",
        "\n",
        "x_train = df_train_prep['Tkn_Text']\n",
        "y_train = df_train_prep[news_cat_ls]\n",
        "x_test = df_test_prep['Tkn_Text']\n",
        "y_test = df_test_prep[news_cat_ls]\n",
        "print( x_train.shape,y_train.shape,x_train.shape,y_test.shape)"
      ],
      "execution_count": null,
      "outputs": [
        {
          "output_type": "stream",
          "text": [
            "before_split : (188822, 18)\n",
            "(132175,) (132175, 17) (132175,) (56647, 17)\n"
          ],
          "name": "stdout"
        }
      ]
    },
    {
      "cell_type": "code",
      "metadata": {
        "id": "Ocj4R48Km10k"
      },
      "source": [
        "## Prep to embedding vector \n",
        "from sklearn.feature_extraction.text import CountVectorizer ,TfidfVectorizer\n",
        "from sklearn.feature_extraction.text import TfidfVectorizer\n",
        "# vectorizer = TfidfVectorizer()\n",
        "# X = vectorizer.fit_transform(train['Tkn_Text'])"
      ],
      "execution_count": null,
      "outputs": []
    },
    {
      "cell_type": "code",
      "metadata": {
        "id": "83K-CGBciFfk"
      },
      "source": [
        "### Define fuction\n",
        "### cal accuracy \n",
        "from sklearn.metrics import classification_report\n",
        "def calculate_accuracy(y_train,y_test):\n",
        "  \n",
        "  correct = 0\n",
        "  incorrect = 0\n",
        "\n",
        "  for i in range(0, len(y_test)):\n",
        "    actual = list(y_test.iloc[i][0:17].sort_index())\n",
        "    predict = list(y_test.iloc[i][17:].sort_index())\n",
        "    #yest_predict = y_test.loc[ : , y_test.columns.str.contains('predict') ].reset_index().drop(columns=['index'],errors='ignore').sort_index()\n",
        "    #yest_actual= y_test.loc[:,~y_test.columns.str.contains('predict')].reset_index().drop(columns=['index'],errors='ignore').sort_index()\n",
        "    #actual = list(y_test.loc[i, yest_predict.columns])\n",
        "    #predict = list(y_test.loc[i, yest_actual.columns])\n",
        "    #predict = \n",
        "    if predict == actual:\n",
        "      correct += 1\n",
        "    else:\n",
        "      incorrect += 1\n",
        "  \n",
        "  correct_train = 0\n",
        "  incorrect_train = 0\n",
        "  for i in range(0, len(y_train)):\n",
        "    actual_train = list(y_train.iloc[i][0:17].sort_index())\n",
        "    predict_train = list(y_train.iloc[i][17:].sort_index())\n",
        "    if predict_train == actual_train:\n",
        "      correct_train += 1\n",
        "    else:\n",
        "      incorrect_train += 1\n",
        "\n",
        "  accuracy_train = (correct_train/(correct_train+incorrect_train)) * 100\n",
        "  print(\"Accuracy Score Train: \",accuracy_train) \n",
        "  accuracy = (correct/(correct+incorrect)) * 100\n",
        "  print(\"Accuracy Score Test: \",accuracy) \n",
        "  \n",
        "def save_mol(pip_line,name) :\n",
        "      Pkl_Filename = f\"/content/drive/MyDrive/deep_final/Pickle_{name}_Model.pkl\" \n",
        "      with open(Pkl_Filename, 'wb') as file:  \n",
        "        pickle.dump(pip_line, file)  \n",
        "      print('Save Done')   \n",
        "\n",
        "def save_mol_loop(pip_line,category) :\n",
        "      Pkl_Filename = f\"/content/drive/MyDrive/deep_final/ovsr_NB/Pickle_{category}_Model.pkl\" \n",
        "      with open(Pkl_Filename, 'wb') as file:  \n",
        "        pickle.dump(pip_line, file)  \n",
        "      print('Save Done')             \n",
        "\n",
        "def result_set( pip_line,x_train,y_train,x_test,y_test ) :\n",
        "    categorys = []\n",
        "    accuracy_scores = []\n",
        "    accuracy_scores_train = []\n",
        "    confusion_re = []\n",
        "    start_time = time.time()\n",
        "    print('Start Time :', start_time )  \n",
        "    for category in  y_train.iloc[:,0:17] :\n",
        "      print('... Processing {}'.format(category))\n",
        "      #SVC_pipeline.fit(train['Tkn_Text'], train[category])\n",
        "      pip_line.fit(x_train, y_train[category])\n",
        "      ## fit x_train ##\n",
        "      prediction_x_train = pip_line.predict(x_train)\n",
        "      # compute the testing accuracy\n",
        "      prediction = pip_line.predict(x_test)\n",
        "      print(\"Start_train\")\n",
        "      ## Addition  columns with dataset\n",
        "      y_train[f'predict_{category}'] = prediction_x_train\n",
        "      print(\"Train_ok\")\n",
        "      y_test[f'predict_{category}'] = prediction\n",
        "      \n",
        "      print('Train accracy is {}'.format(accuracy_score(y_train[category], prediction_x_train)))\n",
        "      print('Test accuracy is {}'.format(accuracy_score(y_test[category], prediction)))\n",
        "      save_mol_loop(pip_line,category)\n",
        "      categorys.append(category)\n",
        "      accuracy_scores.append(accuracy_score(y_test[category], prediction))\n",
        "      accuracy_scores_train.append(accuracy_score(y_train[category], prediction_x_train))\n",
        "      ## confusion matrix \n",
        "      report_test_dic = classification_report(y_test[category], prediction,output_dict=True)\n",
        "      print('confusion : ', report_test_dic )\n",
        "      confusion_re.append(report_test_dic)\n",
        "\n",
        "\n",
        "    print('Consume time : ',(time.time() - start_time))  \n",
        "    ### collect accuracy score by  types news  \n",
        "    df_accuracy = pd.DataFrame({'NEWS_TYPE':categorys,'ACCURACY_SCORE_TRAIN':accuracy_scores_train,'ACCURACY_SCORE_TEST':accuracy_scores,'CONFUSION_REPORT':confusion_re}) \n",
        "    df_accuracy.to_csv('/content/drive/MyDrive/deep_final/Accuracy_report.csv')\n",
        "    df_accuracy.plot(kind ='bar' , x='NEWS_TYPE',y='ACCURACY_SCORE_TEST' , title = 'Accuracy Graph') \n",
        "    plt.xticks(fontsize=5)\n",
        "    plt.savefig('/content/drive/MyDrive/deep_final/Accuracy_graph.png',dpi = 150 ,format = 'png')\n",
        "    plt.show()\n",
        "    ###  Accuracy all  ### \n",
        "    calculate_accuracy(y_train,y_test)\n",
        "    return df_accuracy\n",
        "\n",
        "def model_set(name,x_train,y_train,x_test,y_test) :\n",
        "  t_vector = TfidfVectorizer()\n",
        "  if name == 'SVC' : ## one versusrest\n",
        "    print('Training by OneVsRestClassifier(LinearSVC()) ')  \n",
        "    model = OneVsRestClassifier(LinearSVC(), n_jobs=-1)\n",
        "    pip_line = Pipeline([\n",
        "                ('tfidf',t_vector ),\n",
        "                ('clf', model),\n",
        "            ])\n",
        "    final_data = result_set( pip_line ,x_train,y_train,x_test,y_test )\n",
        "    #### start \n",
        "    return final_data\n",
        "    \n",
        "  elif name == 'NB' :\n",
        "    print('Training by NB ')   \n",
        "    model = OneVsRestClassifier(MultinomialNB(fit_prior=True, class_prior=None))\n",
        "    pip_line = Pipeline([\n",
        "                ('tfidf',t_vector ),\n",
        "                ('clf', model),\n",
        "            ])\n",
        "    final_data = result_set( pip_line,x_train,y_train,x_test,y_test )\n",
        "    return final_data\n",
        "\n",
        "  elif name == 'chain' :\n",
        "    print('Training by chain-LogisticRegression ') \n",
        "    model = ClassifierChain(LogisticRegression())\n",
        "    pip_line = Pipeline([\n",
        "                ('tfidf',t_vector ),\n",
        "                ('clf', model),\n",
        "            ])\n",
        "    pip_line.fit(x_train, y_train.values)\n",
        "    ## Predict \n",
        "    predictions = pip_line.predict(x_test)\n",
        "    print('Test accuracy is {}'.format(accuracy_score(y_test.values, prediction)))\n",
        "    save_mol(pip_line,name)\n",
        "  elif name == 'GB' :\n",
        "     print('Training by GaussianNB ')\n",
        "     model = BinaryRelevance(GaussianNB())\n",
        "     pip_line = Pipeline([\n",
        "                ('tfidf',t_vector ),\n",
        "                ('clf', model),\n",
        "            ])\n",
        "     pip_line.fit(x_train, y_train.values)\n",
        "     ## Predict \n",
        "     predictions = pip_line.predict(x_test)    \n",
        "     print('Test accuracy is {}'.format(accuracy_score(y_test.values, prediction)))\n",
        "     save_mol(pip_line,name)\n",
        "\n",
        "  elif name == 'MKNN' : ### Multilabel with  KNN\n",
        "     print('Training by Multi-KNN ')\n",
        "     model = MLkNN()\n",
        "     pip_line = Pipeline([\n",
        "                ('tfidf',t_vector ),\n",
        "                ('clf', model),\n",
        "            ])\n",
        "     pip_line.fit(x_train, y_train.values)\n",
        "     ## Predict \n",
        "     predictions = pip_line.predict(x_test)    \n",
        "     print('Test accuracy is {}'.format(accuracy_score(y_test.values, prediction)))\n",
        "     save_mol(pip_line,name)\n",
        "  #return df_accuracy\n"
      ],
      "execution_count": null,
      "outputs": []
    },
    {
      "cell_type": "code",
      "metadata": {
        "colab": {
          "base_uri": "https://localhost:8080/"
        },
        "id": "6C7avxHNz9Ii",
        "outputId": "66fad701-5485-429c-85fa-dd75ac6a9e2a"
      },
      "source": [
        "# for i in y_train.iloc[:,0:17] :\n",
        "#     print(i)"
      ],
      "execution_count": null,
      "outputs": [
        {
          "output_type": "stream",
          "text": [
            "ไลฟ์สไตล์\n",
            "เศรษฐกิจ\n",
            "ต่างประเทศ\n",
            "ความมั่นคง\n",
            "สิ่งแวดล้อม\n",
            "ผู้หญิง\n",
            "การเมือง\n",
            "แรงงาน\n",
            "สังคม\n",
            "อาชญากรรม\n",
            "บันเทิง\n",
            "สิทธิมนุษยชน\n",
            "การศึกษา\n",
            "วิทยาศาสตร์เทคโนโลยี\n",
            "คุณภาพชีวิต\n",
            "วัฒนธรรม\n",
            "กีฬา\n"
          ],
          "name": "stdout"
        }
      ]
    },
    {
      "cell_type": "code",
      "metadata": {
        "id": "CStbA_iS-xPs"
      },
      "source": [
        "#Input value\n",
        "x_train = df_train_prep['Tkn_Text']\n",
        "y_train = df_train_prep[news_cat_ls]\n",
        "x_test = df_test_prep['Tkn_Text']\n",
        "y_test = df_test_prep[news_cat_ls]\n",
        "#dataset = \n",
        "\n",
        "# model_set( 'SVC' ,x_train,y_train,x_test,y_test) "
      ],
      "execution_count": null,
      "outputs": []
    },
    {
      "cell_type": "code",
      "metadata": {
        "id": "ACG7cC7cNq-K",
        "colab": {
          "base_uri": "https://localhost:8080/",
          "height": 1000
        },
        "outputId": "4d133112-3770-46b8-e4c8-28da3f841a5b"
      },
      "source": [
        "## start model\n",
        "print('Start')\n",
        "dfx = model_set( 'NB' ,x_train,y_train,x_test,y_test) \n",
        "print('END')\n",
        "dfx.head(100)"
      ],
      "execution_count": null,
      "outputs": [
        {
          "output_type": "stream",
          "text": [
            "Start\n",
            "Training by NB \n",
            "Start Time : 1624122002.0392559\n",
            "... Processing ไลฟ์สไตล์\n",
            "Start_train\n",
            "Train_ok\n",
            "Train accracy is 0.9659315301683374\n",
            "Test accuracy is 0.9630165763412007\n",
            "Save Done\n",
            "confusion :  {'0': {'precision': 0.9631415654640546, 'recall': 0.9997055684369365, 'f1-score': 0.9810830090205603, 'support': 54342}, '1': {'precision': 0.9338842975206612, 'recall': 0.09804772234273319, 'f1-score': 0.17746368276403612, 'support': 2305}, 'accuracy': 0.9630165763412007, 'macro avg': {'precision': 0.9485129314923579, 'recall': 0.5488766453898348, 'f1-score': 0.5792733458922983, 'support': 56647}, 'weighted avg': {'precision': 0.9619510698930708, 'recall': 0.9630165763412007, 'f1-score': 0.9483832623963562, 'support': 56647}}\n",
            "... Processing เศรษฐกิจ\n",
            "Start_train\n",
            "Train_ok\n",
            "Train accracy is 0.9246453565348969\n",
            "Test accuracy is 0.9228555792892827\n",
            "Save Done\n",
            "confusion :  {'0': {'precision': 0.9234162568701186, 'recall': 0.9973833235696153, 'f1-score': 0.9589756106719739, 'support': 51210}, '1': {'precision': 0.899625468164794, 'recall': 0.22089387529887805, 'f1-score': 0.35469580626107505, 'support': 5437}, 'accuracy': 0.9228555792892827, 'macro avg': {'precision': 0.9115208625174563, 'recall': 0.6091385994342466, 'f1-score': 0.6568357084665245, 'support': 56647}, 'weighted avg': {'precision': 0.9211328081757333, 'recall': 0.9228555792892827, 'f1-score': 0.9009766116679304, 'support': 56647}}\n",
            "... Processing ต่างประเทศ\n",
            "Start_train\n",
            "Train_ok\n",
            "Train accracy is 0.9113372422924153\n",
            "Test accuracy is 0.9091743605133547\n",
            "Save Done\n",
            "confusion :  {'0': {'precision': 0.9084159314526377, 'recall': 0.9980056241399254, 'f1-score': 0.9511057048096021, 'support': 50141}, '1': {'precision': 0.9359385009609225, 'recall': 0.22456194282201045, 'f1-score': 0.3622164373373001, 'support': 6506}, 'accuracy': 0.9091743605133547, 'macro avg': {'precision': 0.9221772162067801, 'recall': 0.6112837834809679, 'f1-score': 0.6566610710734511, 'support': 56647}, 'weighted avg': {'precision': 0.9115769432841716, 'recall': 0.9091743605133547, 'f1-score': 0.8834708155096427, 'support': 56647}}\n",
            "... Processing ความมั่นคง\n",
            "Start_train\n",
            "Train_ok\n",
            "Train accracy is 0.9887195006620011\n",
            "Test accuracy is 0.9884548166716685\n",
            "Save Done\n",
            "confusion :  {'0': {'precision': 0.9884895134524398, 'recall': 0.9999642818873451, 'f1-score': 0.9941937889522187, 'support': 55994}, '1': {'precision': 0.3333333333333333, 'recall': 0.0015313935681470138, 'f1-score': 0.003048780487804878, 'support': 653}, 'accuracy': 0.9884548166716685, 'macro avg': {'precision': 0.6609114233928866, 'recall': 0.500747837727746, 'f1-score': 0.49862128472001177, 'support': 56647}, 'weighted avg': {'precision': 0.9809371808378657, 'recall': 0.9884548166716685, 'f1-score': 0.9827683349912453, 'support': 56647}}\n",
            "... Processing สิ่งแวดล้อม\n",
            "Start_train\n",
            "Train_ok\n",
            "Train accracy is 0.9434007944013618\n",
            "Test accuracy is 0.9442512401362826\n",
            "Save Done\n",
            "confusion :  {'0': {'precision': 0.9444454258006395, 'recall': 0.9997569139288319, 'f1-score': 0.9713143791443365, 'support': 53479}, '1': {'precision': 0.6388888888888888, 'recall': 0.00726010101010101, 'f1-score': 0.01435705368289638, 'support': 3168}, 'accuracy': 0.9442512401362826, 'macro avg': {'precision': 0.7916671573447642, 'recall': 0.5035085074694665, 'f1-score': 0.49283571641361645, 'support': 56647}, 'weighted avg': {'precision': 0.9273570873372359, 'recall': 0.9442512401362826, 'f1-score': 0.9177962615553761, 'support': 56647}}\n",
            "... Processing ผู้หญิง\n",
            "Start_train\n",
            "Train_ok\n",
            "Train accracy is 0.9802080574995271\n",
            "Test accuracy is 0.9778275989902377\n",
            "Save Done\n",
            "confusion :  {'0': {'precision': 0.9779437733983188, 'recall': 0.9998736142707544, 'f1-score': 0.9887871158962273, 'support': 55386}, '1': {'precision': 0.631578947368421, 'recall': 0.00951625693893735, 'f1-score': 0.01875, 'support': 1261}, 'accuracy': 0.9778275989902377, 'macro avg': {'precision': 0.8047613603833699, 'recall': 0.5046949356048459, 'f1-score': 0.5037685579481136, 'support': 56647}, 'weighted avg': {'precision': 0.9702334613672545, 'recall': 0.9778275989902377, 'f1-score': 0.9671934427423949, 'support': 56647}}\n",
            "... Processing การเมือง\n",
            "Start_train\n",
            "Train_ok\n",
            "Train accracy is 0.9004879894079818\n",
            "Test accuracy is 0.8992003106960651\n",
            "Save Done\n",
            "confusion :  {'0': {'precision': 0.9078489090623104, 'recall': 0.9617005070100688, 'f1-score': 0.9339991215294633, 'support': 42011}, '1': {'precision': 0.8675065876152833, 'recall': 0.7198004919376879, 'f1-score': 0.7867811799850635, 'support': 14636}, 'accuracy': 0.8992003106960651, 'macro avg': {'precision': 0.8876777483387969, 'recall': 0.8407504994738784, 'f1-score': 0.8603901507572633, 'support': 56647}, 'weighted avg': {'precision': 0.8974255818481828, 'recall': 0.8992003106960651, 'f1-score': 0.8959621241166464, 'support': 56647}}\n",
            "... Processing แรงงาน\n",
            "Start_train\n",
            "Train_ok\n",
            "Train accracy is 0.9860790618498203\n",
            "Test accuracy is 0.9856479601744135\n",
            "Save Done\n",
            "confusion :  {'0': {'precision': 0.9856648541769649, 'recall': 0.9999820894453101, 'f1-score': 0.9927718555793629, 'support': 55833}, '1': {'precision': 0.6666666666666666, 'recall': 0.002457002457002457, 'f1-score': 0.004895960832313342, 'support': 814}, 'accuracy': 0.9856479601744135, 'macro avg': {'precision': 0.8261657604218158, 'recall': 0.5012195459511563, 'f1-score': 0.4988339082058381, 'support': 56647}, 'weighted avg': {'precision': 0.9810809481513434, 'recall': 0.9856479601744135, 'f1-score': 0.9785763822387783, 'support': 56647}}\n",
            "... Processing สังคม\n",
            "Start_train\n",
            "Train_ok\n",
            "Train accracy is 0.8536334405144694\n",
            "Test accuracy is 0.8494006743516868\n",
            "Save Done\n",
            "confusion :  {'0': {'precision': 0.8497100544205549, 'recall': 0.9977372721558768, 'f1-score': 0.9177933028185978, 'support': 47730}, '1': {'precision': 0.8205980066445183, 'recall': 0.05539979813838735, 'f1-score': 0.10379241516966067, 'support': 8917}, 'accuracy': 0.8494006743516868, 'macro avg': {'precision': 0.8351540305325367, 'recall': 0.5265685351471321, 'f1-score': 0.5107928589941293, 'support': 56647}, 'weighted avg': {'precision': 0.845127426390493, 'recall': 0.8494006743516868, 'f1-score': 0.7896586105106985, 'support': 56647}}\n",
            "... Processing อาชญากรรม\n",
            "Start_train\n",
            "Train_ok\n",
            "Train accracy is 0.9397768110459618\n",
            "Test accuracy is 0.9390258972231539\n",
            "Save Done\n",
            "confusion :  {'0': {'precision': 0.9392258111770306, 'recall': 0.9973749708330093, 'f1-score': 0.9674273858921162, 'support': 51428}, '1': {'precision': 0.9336609336609336, 'recall': 0.36405441655489557, 'f1-score': 0.5238489109456851, 'support': 5219}, 'accuracy': 0.9390258972231539, 'macro avg': {'precision': 0.9364433724189821, 'recall': 0.6807146936939524, 'f1-score': 0.7456381484189006, 'support': 56647}, 'weighted avg': {'precision': 0.9387131080196434, 'recall': 0.9390258972231539, 'f1-score': 0.9265596248324762, 'support': 56647}}\n",
            "... Processing บันเทิง\n",
            "Start_train\n",
            "Train_ok\n",
            "Train accracy is 0.9594855305466238\n",
            "Test accuracy is 0.9585326672197998\n",
            "Save Done\n",
            "confusion :  {'0': {'precision': 0.9586266809042043, 'recall': 0.9988119932113898, 'f1-score': 0.9783068441029524, 'support': 53030}, '1': {'precision': 0.9548063127690101, 'recall': 0.3679845175559856, 'f1-score': 0.5312312911594491, 'support': 3617}, 'accuracy': 0.9585326672197998, 'macro avg': {'precision': 0.9567164968366072, 'recall': 0.6833982553836877, 'f1-score': 0.7547690676312008, 'support': 56647}, 'weighted avg': {'precision': 0.9583827443930917, 'recall': 0.9585326672197998, 'f1-score': 0.9497603672375113, 'support': 56647}}\n",
            "... Processing สิทธิมนุษยชน\n",
            "Start_train\n",
            "Train_ok\n",
            "Train accracy is 0.9334821259693588\n",
            "Test accuracy is 0.9347538263279609\n",
            "Save Done\n",
            "confusion :  {'0': {'precision': 0.935006889729004, 'recall': 0.9996789060139015, 'f1-score': 0.9662619808306709, 'support': 52944}, '1': {'precision': 0.5853658536585366, 'recall': 0.006481231433972455, 'f1-score': 0.01282051282051282, 'support': 3703}, 'accuracy': 0.9347538263279609, 'macro avg': {'precision': 0.7601863716937702, 'recall': 0.503080068723937, 'f1-score': 0.48954124682559186, 'support': 56647}, 'weighted avg': {'precision': 0.9121509440201591, 'recall': 0.9347538263279609, 'f1-score': 0.9039357542689533, 'support': 56647}}\n",
            "... Processing การศึกษา\n",
            "Start_train\n",
            "Train_ok\n",
            "Train accracy is 0.988008322299981\n",
            "Test accuracy is 0.9875721573958021\n",
            "Save Done\n",
            "confusion :  {'0': {'precision': 0.9876416793192331, 'recall': 0.9999285024845387, 'f1-score': 0.9937471133690978, 'support': 55946}, '1': {'precision': 0.2, 'recall': 0.0014265335235378032, 'f1-score': 0.0028328611898016994, 'support': 701}, 'accuracy': 0.9875721573958021, 'macro avg': {'precision': 0.5938208396596165, 'recall': 0.5006775180040383, 'f1-score': 0.4982899872794498, 'support': 56647}, 'weighted avg': {'precision': 0.9778947056542061, 'recall': 0.9875721573958021, 'f1-score': 0.9814846653881335, 'support': 56647}}\n",
            "... Processing วิทยาศาสตร์เทคโนโลยี\n",
            "Start_train\n",
            "Train_ok\n",
            "Train accracy is 0.9723623983355401\n",
            "Test accuracy is 0.9709605098239977\n",
            "Save Done\n",
            "confusion :  {'0': {'precision': 0.9711236771666105, 'recall': 0.9997080291970802, 'f1-score': 0.985208563747044, 'support': 54800}, '1': {'precision': 0.9316239316239316, 'recall': 0.11802923659989172, 'f1-score': 0.20951465641518505, 'support': 1847}, 'accuracy': 0.9709605098239977, 'macro avg': {'precision': 0.9513738043952711, 'recall': 0.558868632898486, 'f1-score': 0.5973616100811145, 'support': 56647}, 'weighted avg': {'precision': 0.9698357708341069, 'recall': 0.9709605098239977, 'f1-score': 0.9599167275184363, 'support': 56647}}\n",
            "... Processing คุณภาพชีวิต\n",
            "Start_train\n",
            "Train_ok\n",
            "Train accracy is 0.9517609230187252\n",
            "Test accuracy is 0.9502180168411389\n",
            "Save Done\n",
            "confusion :  {'0': {'precision': 0.9503999434958417, 'recall': 0.9997956719606205, 'f1-score': 0.9744722453561213, 'support': 53835}, '1': {'precision': 0.21428571428571427, 'recall': 0.0010668563300142249, 'f1-score': 0.002123142250530786, 'support': 2812}, 'accuracy': 0.9502180168411389, 'macro avg': {'precision': 0.5823428288907779, 'recall': 0.5004312641453174, 'f1-score': 0.48829769380332605, 'support': 56647}, 'weighted avg': {'precision': 0.9138586754227066, 'recall': 0.9502180168411389, 'f1-score': 0.9262040991536229, 'support': 56647}}\n",
            "... Processing วัฒนธรรม\n",
            "Start_train\n",
            "Train_ok\n",
            "Train accracy is 0.9801475316814828\n",
            "Test accuracy is 0.9797517962116263\n",
            "Save Done\n",
            "confusion :  {'0': {'precision': 0.9798725259979872, 'recall': 0.9998738875076568, 'f1-score': 0.9897721699585359, 'support': 55506}, '1': {'precision': 0.125, 'recall': 0.0008764241893076249, 'f1-score': 0.001740644038294169, 'support': 1141}, 'accuracy': 0.9797517962116263, 'macro avg': {'precision': 0.5524362629989936, 'recall': 0.5003751558484822, 'f1-score': 0.49575640699841506, 'support': 56647}, 'weighted avg': {'precision': 0.9626534402182689, 'recall': 0.9797517962116263, 'f1-score': 0.9698709576953094, 'support': 56647}}\n",
            "... Processing กีฬา\n",
            "Start_train\n",
            "Train_ok\n",
            "Train accracy is 0.9843994703990921\n",
            "Test accuracy is 0.9838649884371635\n",
            "Save Done\n",
            "confusion :  {'0': {'precision': 0.9827322017916077, 'recall': 0.9993008389932081, 'f1-score': 0.9909472683332672, 'support': 50060}, '1': {'precision': 0.9939056242382031, 'recall': 0.8665553362684074, 'f1-score': 0.9258718572587186, 'support': 6587}, 'accuracy': 0.9838649884371635, 'macro avg': {'precision': 0.9883189130149054, 'recall': 0.9329280876308077, 'f1-score': 0.9584095627959929, 'support': 56647}, 'weighted avg': {'precision': 0.9840314644825838, 'recall': 0.9838649884371635, 'f1-score': 0.9833801997727423, 'support': 56647}}\n",
            "Consume time :  2374.8570561408997\n"
          ],
          "name": "stdout"
        },
        {
          "output_type": "display_data",
          "data": {
            "image/png": "[encoded data removed]",
            "text/plain": [
              "<Figure size 432x288 with 1 Axes>"
            ]
          },
          "metadata": {
            "tags": []
          }
        },
        {
          "output_type": "stream",
          "text": [
            "Accuracy Score Train:  37.71968980518252\n",
            "Accuracy Score Test:  36.55974720638339\n",
            "END\n"
          ],
          "name": "stdout"
        },
        {
          "output_type": "execute_result",
          "data": {
            "text/html": [
              "<div>\n",
              "<style scoped>\n",
              "    .dataframe tbody tr th:only-of-type {\n",
              "        vertical-align: middle;\n",
              "    }\n",
              "\n",
              "    .dataframe tbody tr th {\n",
              "        vertical-align: top;\n",
              "    }\n",
              "\n",
              "    .dataframe thead th {\n",
              "        text-align: right;\n",
              "    }\n",
              "</style>\n",
              "<table border=\"1\" class=\"dataframe\">\n",
              "  <thead>\n",
              "    <tr style=\"text-align: right;\">\n",
              "      <th></th>\n",
              "      <th>NEWS_TYPE</th>\n",
              "      <th>ACCURACY_SCORE_TRAIN</th>\n",
              "      <th>ACCURACY_SCORE_TEST</th>\n",
              "      <th>CONFUSION_REPORT</th>\n",
              "    </tr>\n",
              "  </thead>\n",
              "  <tbody>\n",
              "    <tr>\n",
              "      <th>0</th>\n",
              "      <td>ไลฟ์สไตล์</td>\n",
              "      <td>0.965932</td>\n",
              "      <td>0.963017</td>\n",
              "      <td>{'0': {'precision': 0.9631415654640546, 'recal...</td>\n",
              "    </tr>\n",
              "    <tr>\n",
              "      <th>1</th>\n",
              "      <td>เศรษฐกิจ</td>\n",
              "      <td>0.924645</td>\n",
              "      <td>0.922856</td>\n",
              "      <td>{'0': {'precision': 0.9234162568701186, 'recal...</td>\n",
              "    </tr>\n",
              "    <tr>\n",
              "      <th>2</th>\n",
              "      <td>ต่างประเทศ</td>\n",
              "      <td>0.911337</td>\n",
              "      <td>0.909174</td>\n",
              "      <td>{'0': {'precision': 0.9084159314526377, 'recal...</td>\n",
              "    </tr>\n",
              "    <tr>\n",
              "      <th>3</th>\n",
              "      <td>ความมั่นคง</td>\n",
              "      <td>0.988720</td>\n",
              "      <td>0.988455</td>\n",
              "      <td>{'0': {'precision': 0.9884895134524398, 'recal...</td>\n",
              "    </tr>\n",
              "    <tr>\n",
              "      <th>4</th>\n",
              "      <td>สิ่งแวดล้อม</td>\n",
              "      <td>0.943401</td>\n",
              "      <td>0.944251</td>\n",
              "      <td>{'0': {'precision': 0.9444454258006395, 'recal...</td>\n",
              "    </tr>\n",
              "    <tr>\n",
              "      <th>5</th>\n",
              "      <td>ผู้หญิง</td>\n",
              "      <td>0.980208</td>\n",
              "      <td>0.977828</td>\n",
              "      <td>{'0': {'precision': 0.9779437733983188, 'recal...</td>\n",
              "    </tr>\n",
              "    <tr>\n",
              "      <th>6</th>\n",
              "      <td>การเมือง</td>\n",
              "      <td>0.900488</td>\n",
              "      <td>0.899200</td>\n",
              "      <td>{'0': {'precision': 0.9078489090623104, 'recal...</td>\n",
              "    </tr>\n",
              "    <tr>\n",
              "      <th>7</th>\n",
              "      <td>แรงงาน</td>\n",
              "      <td>0.986079</td>\n",
              "      <td>0.985648</td>\n",
              "      <td>{'0': {'precision': 0.9856648541769649, 'recal...</td>\n",
              "    </tr>\n",
              "    <tr>\n",
              "      <th>8</th>\n",
              "      <td>สังคม</td>\n",
              "      <td>0.853633</td>\n",
              "      <td>0.849401</td>\n",
              "      <td>{'0': {'precision': 0.8497100544205549, 'recal...</td>\n",
              "    </tr>\n",
              "    <tr>\n",
              "      <th>9</th>\n",
              "      <td>อาชญากรรม</td>\n",
              "      <td>0.939777</td>\n",
              "      <td>0.939026</td>\n",
              "      <td>{'0': {'precision': 0.9392258111770306, 'recal...</td>\n",
              "    </tr>\n",
              "    <tr>\n",
              "      <th>10</th>\n",
              "      <td>บันเทิง</td>\n",
              "      <td>0.959486</td>\n",
              "      <td>0.958533</td>\n",
              "      <td>{'0': {'precision': 0.9586266809042043, 'recal...</td>\n",
              "    </tr>\n",
              "    <tr>\n",
              "      <th>11</th>\n",
              "      <td>สิทธิมนุษยชน</td>\n",
              "      <td>0.933482</td>\n",
              "      <td>0.934754</td>\n",
              "      <td>{'0': {'precision': 0.935006889729004, 'recall...</td>\n",
              "    </tr>\n",
              "    <tr>\n",
              "      <th>12</th>\n",
              "      <td>การศึกษา</td>\n",
              "      <td>0.988008</td>\n",
              "      <td>0.987572</td>\n",
              "      <td>{'0': {'precision': 0.9876416793192331, 'recal...</td>\n",
              "    </tr>\n",
              "    <tr>\n",
              "      <th>13</th>\n",
              "      <td>วิทยาศาสตร์เทคโนโลยี</td>\n",
              "      <td>0.972362</td>\n",
              "      <td>0.970961</td>\n",
              "      <td>{'0': {'precision': 0.9711236771666105, 'recal...</td>\n",
              "    </tr>\n",
              "    <tr>\n",
              "      <th>14</th>\n",
              "      <td>คุณภาพชีวิต</td>\n",
              "      <td>0.951761</td>\n",
              "      <td>0.950218</td>\n",
              "      <td>{'0': {'precision': 0.9503999434958417, 'recal...</td>\n",
              "    </tr>\n",
              "    <tr>\n",
              "      <th>15</th>\n",
              "      <td>วัฒนธรรม</td>\n",
              "      <td>0.980148</td>\n",
              "      <td>0.979752</td>\n",
              "      <td>{'0': {'precision': 0.9798725259979872, 'recal...</td>\n",
              "    </tr>\n",
              "    <tr>\n",
              "      <th>16</th>\n",
              "      <td>กีฬา</td>\n",
              "      <td>0.984399</td>\n",
              "      <td>0.983865</td>\n",
              "      <td>{'0': {'precision': 0.9827322017916077, 'recal...</td>\n",
              "    </tr>\n",
              "  </tbody>\n",
              "</table>\n",
              "</div>"
            ],
            "text/plain": [
              "               NEWS_TYPE  ...                                   CONFUSION_REPORT\n",
              "0              ไลฟ์สไตล์  ...  {'0': {'precision': 0.9631415654640546, 'recal...\n",
              "1               เศรษฐกิจ  ...  {'0': {'precision': 0.9234162568701186, 'recal...\n",
              "2             ต่างประเทศ  ...  {'0': {'precision': 0.9084159314526377, 'recal...\n",
              "3             ความมั่นคง  ...  {'0': {'precision': 0.9884895134524398, 'recal...\n",
              "4            สิ่งแวดล้อม  ...  {'0': {'precision': 0.9444454258006395, 'recal...\n",
              "5                ผู้หญิง  ...  {'0': {'precision': 0.9779437733983188, 'recal...\n",
              "6               การเมือง  ...  {'0': {'precision': 0.9078489090623104, 'recal...\n",
              "7                 แรงงาน  ...  {'0': {'precision': 0.9856648541769649, 'recal...\n",
              "8                  สังคม  ...  {'0': {'precision': 0.8497100544205549, 'recal...\n",
              "9              อาชญากรรม  ...  {'0': {'precision': 0.9392258111770306, 'recal...\n",
              "10               บันเทิง  ...  {'0': {'precision': 0.9586266809042043, 'recal...\n",
              "11          สิทธิมนุษยชน  ...  {'0': {'precision': 0.935006889729004, 'recall...\n",
              "12              การศึกษา  ...  {'0': {'precision': 0.9876416793192331, 'recal...\n",
              "13  วิทยาศาสตร์เทคโนโลยี  ...  {'0': {'precision': 0.9711236771666105, 'recal...\n",
              "14           คุณภาพชีวิต  ...  {'0': {'precision': 0.9503999434958417, 'recal...\n",
              "15              วัฒนธรรม  ...  {'0': {'precision': 0.9798725259979872, 'recal...\n",
              "16                  กีฬา  ...  {'0': {'precision': 0.9827322017916077, 'recal...\n",
              "\n",
              "[17 rows x 4 columns]"
            ]
          },
          "metadata": {
            "tags": []
          },
          "execution_count": 27
        }
      ]
    },
    {
      "cell_type": "code",
      "metadata": {
        "id": "NDzIWzeS__HM"
      },
      "source": [
        "dfx.to_csv('/content/drive/MyDrive/deep_final/Accuracy_report_NB.csv',encoding='UTF-8-sig')"
      ],
      "execution_count": null,
      "outputs": []
    },
    {
      "cell_type": "code",
      "metadata": {
        "colab": {
          "base_uri": "https://localhost:8080/"
        },
        "id": "HcxNl-qPb1Rd",
        "outputId": "35951815-a945-416a-a8f2-6539376acece"
      },
      "source": [
        "# #y_test.columns.values#.str.contains('predict')\n",
        "# y_test_new = [ i  for i in  y_test.columns if 'predict' in i ]\n",
        "# y_test_new\n",
        "# yest_predict = y_test.loc[ : , y_test.columns.str.contains('predict') ].reset_index().drop(columns=['index'],errors='ignore').sort_index()\n",
        "# yest_actual= y_test.loc[:,~y_test.columns.str.contains('predict')].reset_index().drop(columns=['index'],errors='ignore').sort_index()\n",
        "# #actual = list(yest_actual.loc[1 ,  yest_actual.columns.str.contains('predict') ] ).sort_index())\n",
        "# #yest_predict = yest_predict.reset_index().drop(columns ='index')\n",
        "# print(yest_actual.columns)\n",
        "# print(yest_predict.columns)\n",
        "# #actual\n",
        "# print(list(y_test.loc[0, yest_predict.columns]))\n",
        "#  #,y_test.loc[0, yest_actual.columns])\n",
        "# print(list(y_test.loc[0, yest_actual.columns]))"
      ],
      "execution_count": null,
      "outputs": [
        {
          "output_type": "stream",
          "text": [
            "Index(['ไลฟ์สไตล์', 'เศรษฐกิจ', 'ต่างประเทศ', 'ความมั่นคง', 'สิ่งแวดล้อม',\n",
            "       'ผู้หญิง', 'การเมือง', 'แรงงาน', 'สังคม', 'อาชญากรรม', 'บันเทิง',\n",
            "       'สิทธิมนุษยชน', 'การศึกษา', 'วิทยาศาสตร์เทคโนโลยี', 'คุณภาพชีวิต',\n",
            "       'วัฒนธรรม', 'กีฬา'],\n",
            "      dtype='object')\n",
            "Index(['predict_ไลฟ์สไตล์', 'predict_เศรษฐกิจ', 'predict_ต่างประเทศ',\n",
            "       'predict_ความมั่นคง', 'predict_สิ่งแวดล้อม', 'predict_ผู้หญิง',\n",
            "       'predict_การเมือง', 'predict_แรงงาน', 'predict_สังคม',\n",
            "       'predict_อาชญากรรม', 'predict_บันเทิง', 'predict_สิทธิมนุษยชน',\n",
            "       'predict_การศึกษา', 'predict_วิทยาศาสตร์เทคโนโลยี',\n",
            "       'predict_คุณภาพชีวิต', 'predict_วัฒนธรรม', 'predict_กีฬา'],\n",
            "      dtype='object')\n",
            "[0, 0, 0, 0, 0, 0, 0, 0, 0, 0, 0, 1, 0, 0, 0, 0, 0]\n",
            "[0, 0, 0, 0, 0, 0, 0, 0, 0, 0, 0, 1, 0, 1, 0, 0, 0]\n"
          ],
          "name": "stdout"
        }
      ]
    },
    {
      "cell_type": "markdown",
      "metadata": {
        "id": "izv2sx_bCVAK"
      },
      "source": [
        "## TEST _Result "
      ]
    },
    {
      "cell_type": "code",
      "metadata": {
        "colab": {
          "base_uri": "https://localhost:8080/",
          "height": 305
        },
        "id": "WCCcrpYiCgxn",
        "outputId": "1d0e4720-290c-4be7-fb17-3ad48f5c1dee"
      },
      "source": [
        "## load data\n",
        "df_result = pd.read_csv('/content/drive/MyDrive/deep_final/data_for_result3.csv')\n",
        "df_show =pd.read_csv('/content/drive/MyDrive/deep_final/data_for_showcase.csv')\n",
        "df_show.head()"
      ],
      "execution_count": null,
      "outputs": [
        {
          "output_type": "execute_result",
          "data": {
            "text/html": [
              "<div>\n",
              "<style scoped>\n",
              "    .dataframe tbody tr th:only-of-type {\n",
              "        vertical-align: middle;\n",
              "    }\n",
              "\n",
              "    .dataframe tbody tr th {\n",
              "        vertical-align: top;\n",
              "    }\n",
              "\n",
              "    .dataframe thead th {\n",
              "        text-align: right;\n",
              "    }\n",
              "</style>\n",
              "<table border=\"1\" class=\"dataframe\">\n",
              "  <thead>\n",
              "    <tr style=\"text-align: right;\">\n",
              "      <th></th>\n",
              "      <th>title</th>\n",
              "      <th>body</th>\n",
              "      <th>url</th>\n",
              "      <th>body_cln</th>\n",
              "      <th>Text_Tkn</th>\n",
              "    </tr>\n",
              "  </thead>\n",
              "  <tbody>\n",
              "    <tr>\n",
              "      <th>0</th>\n",
              "      <td>วิษณุ ยันโรดแม็ปเดิม ตอบไม่ถูกเวลาเลือกตั้ง ต...</td>\n",
              "      <td>เมื่อวันที่ 6 ม.ค.60 ที่ทำเนียบรัฐบาล นายวิษณุ...</td>\n",
              "      <td>https://www.thairath.co.th/content/829502</td>\n",
              "      <td>เมื่อวันที่ ม ค ที่ทำเนียบรัฐบาล นายวิษณุ เครื...</td>\n",
              "      <td>เมื่อ วันที่ ม ค ที่ ทำเนียบรัฐบาล นาย วิษณุ เ...</td>\n",
              "    </tr>\n",
              "    <tr>\n",
              "      <th>1</th>\n",
              "      <td>แชมป์โลก 2018</td>\n",
              "      <td>พ่ายสวีเดนด้วยประตูรวม 0–1 ตกรอบเพลย์ออฟไปอย่...</td>\n",
              "      <td>https://www.thairath.co.th/sport/eurofootball/...</td>\n",
              "      <td>พ่ายสวีเดนด้วยประตูรวม  ตกรอบเพลย์ออฟไปอย่างน...</td>\n",
              "      <td>พ่าย สวีเดน ด้วย ประตู รวม ตกรอบ เพลย์ ออฟ ไป ...</td>\n",
              "    </tr>\n",
              "    <tr>\n",
              "      <th>2</th>\n",
              "      <td>ลุยเจาะไข่แดงตลาดใหม่ พาณิชย์ การันตีปนี้ส่งออ...</td>\n",
              "      <td>ด้านฮาลาล ธนาคารพาณิชย์ร่วมมือกันดันส่งออก,นาง...</td>\n",
              "      <td>https://www.thairath.co.th/content/594241</td>\n",
              "      <td>ด้านฮาลาล ธนาคารพาณิชย์ร่วมมือกันดันส่งออกนางอ...</td>\n",
              "      <td>ด้าน ฮาลาล ธนาคารพาณิชย์ ร่วมมือ กัน ดัน ส่งออ...</td>\n",
              "    </tr>\n",
              "    <tr>\n",
              "      <th>3</th>\n",
              "      <td>เกร็ดข่าวลูกหนัง 16/05/58</td>\n",
              "      <td>เซบีญา ยังคงโชว์ฟอร์มยอดเยี่ยมสมราคาแชมป์เก่า ...</td>\n",
              "      <td>https://www.thairath.co.th/content/499085</td>\n",
              "      <td>เซบีญา ยังคงโชว์ฟอร์มยอดเยี่ยมสมราคาแชมป์เก่า ...</td>\n",
              "      <td>เซ บี ญา ยังคง โชว์ ฟอร์ม ยอดเยี่ยม สมราคา แชม...</td>\n",
              "    </tr>\n",
              "    <tr>\n",
              "      <th>4</th>\n",
              "      <td>MERCEDES BENZ เปิดตัว MAYBACH S500 2015 รถหรู...</td>\n",
              "      <td>6 สิงหาคม 2558 Mercedes Benz ตอกย้ำภาพลักษณ์คว...</td>\n",
              "      <td>https://www.thairath.co.th/content/516621</td>\n",
              "      <td>สิงหาคม Mercedes Benz ตอกย้ำภาพลักษณ์ความเป็น...</td>\n",
              "      <td>สิงหาคม Mercedes Benz ตอกย้ำ ภาพลักษณ์ ความเป็...</td>\n",
              "    </tr>\n",
              "  </tbody>\n",
              "</table>\n",
              "</div>"
            ],
            "text/plain": [
              "                                               title  ...                                           Text_Tkn\n",
              "0   วิษณุ ยันโรดแม็ปเดิม ตอบไม่ถูกเวลาเลือกตั้ง ต...  ...  เมื่อ วันที่ ม ค ที่ ทำเนียบรัฐบาล นาย วิษณุ เ...\n",
              "1                                      แชมป์โลก 2018  ...  พ่าย สวีเดน ด้วย ประตู รวม ตกรอบ เพลย์ ออฟ ไป ...\n",
              "2  ลุยเจาะไข่แดงตลาดใหม่ พาณิชย์ การันตีปนี้ส่งออ...  ...  ด้าน ฮาลาล ธนาคารพาณิชย์ ร่วมมือ กัน ดัน ส่งออ...\n",
              "3                          เกร็ดข่าวลูกหนัง 16/05/58  ...  เซ บี ญา ยังคง โชว์ ฟอร์ม ยอดเยี่ยม สมราคา แชม...\n",
              "4   MERCEDES BENZ เปิดตัว MAYBACH S500 2015 รถหรู...  ...  สิงหาคม Mercedes Benz ตอกย้ำ ภาพลักษณ์ ความเป็...\n",
              "\n",
              "[5 rows x 5 columns]"
            ]
          },
          "metadata": {
            "tags": []
          },
          "execution_count": 29
        }
      ]
    },
    {
      "cell_type": "code",
      "metadata": {
        "colab": {
          "base_uri": "https://localhost:8080/",
          "height": 730
        },
        "id": "61IBQv-6EYZr",
        "outputId": "9cb9830c-f313-4e49-f2b2-4ba28ed41be6"
      },
      "source": [
        "#df_show.columns\\\n",
        "df_result.head()"
      ],
      "execution_count": null,
      "outputs": [
        {
          "output_type": "execute_result",
          "data": {
            "text/html": [
              "<div>\n",
              "<style scoped>\n",
              "    .dataframe tbody tr th:only-of-type {\n",
              "        vertical-align: middle;\n",
              "    }\n",
              "\n",
              "    .dataframe tbody tr th {\n",
              "        vertical-align: top;\n",
              "    }\n",
              "\n",
              "    .dataframe thead th {\n",
              "        text-align: right;\n",
              "    }\n",
              "</style>\n",
              "<table border=\"1\" class=\"dataframe\">\n",
              "  <thead>\n",
              "    <tr style=\"text-align: right;\">\n",
              "      <th></th>\n",
              "      <th>type</th>\n",
              "      <th>body_cln</th>\n",
              "      <th>Text_Tkn</th>\n",
              "      <th>ต่างประเทศ</th>\n",
              "      <th>เศรษฐกิจ</th>\n",
              "      <th>วัฒนธรรม</th>\n",
              "      <th>การศึกษา</th>\n",
              "      <th>ความมั่นคง</th>\n",
              "      <th>คุณภาพชีวิต</th>\n",
              "      <th>อาชญากรรม</th>\n",
              "      <th>สิทธิมนุษยชน</th>\n",
              "      <th>สิ่งแวดล้อม</th>\n",
              "      <th>กีฬา</th>\n",
              "      <th>สังคม</th>\n",
              "      <th>บันเทิง</th>\n",
              "      <th>การเมือง</th>\n",
              "      <th>filter</th>\n",
              "    </tr>\n",
              "  </thead>\n",
              "  <tbody>\n",
              "    <tr>\n",
              "      <th>0</th>\n",
              "      <td>สิทธิมนุษยชน,ไอซีที</td>\n",
              "      <td>โดยล่าสุดถูกปั่นว่าเรียกร้องให้สังคมให้อภัยเป...</td>\n",
              "      <td>โดย ล่าสุด ถูก ปั่น ว่า เรียกร้อง ให้ สังคม ให...</td>\n",
              "      <td>0</td>\n",
              "      <td>0</td>\n",
              "      <td>0</td>\n",
              "      <td>0</td>\n",
              "      <td>0</td>\n",
              "      <td>0</td>\n",
              "      <td>0</td>\n",
              "      <td>1</td>\n",
              "      <td>0</td>\n",
              "      <td>0</td>\n",
              "      <td>0</td>\n",
              "      <td>0</td>\n",
              "      <td>0</td>\n",
              "      <td>1</td>\n",
              "    </tr>\n",
              "    <tr>\n",
              "      <th>1</th>\n",
              "      <td>กีฬา,ฟุตบอลยุโรป</td>\n",
              "      <td>สำนักข่าวต่างประเทศรายงานวันที่ ก ย ว่า หลังจา...</td>\n",
              "      <td>สำนัก ข่าวต่างประเทศ รายงาน วันที่ ก ย ว่า หลั...</td>\n",
              "      <td>0</td>\n",
              "      <td>0</td>\n",
              "      <td>0</td>\n",
              "      <td>0</td>\n",
              "      <td>0</td>\n",
              "      <td>0</td>\n",
              "      <td>0</td>\n",
              "      <td>0</td>\n",
              "      <td>0</td>\n",
              "      <td>1</td>\n",
              "      <td>0</td>\n",
              "      <td>0</td>\n",
              "      <td>0</td>\n",
              "      <td>1</td>\n",
              "    </tr>\n",
              "    <tr>\n",
              "      <th>2</th>\n",
              "      <td>ข่าว,อาชญากรรม</td>\n",
              "      <td>ชาวบ้านหมู่ ต บ้านกลาง อ อ่าวลึก จ กระบี่ ออกม...</td>\n",
              "      <td>ชาวบ้าน หมู่ ต บ้าน กลาง อ อ่าว ลึก จ กระบี่ อ...</td>\n",
              "      <td>0</td>\n",
              "      <td>0</td>\n",
              "      <td>0</td>\n",
              "      <td>0</td>\n",
              "      <td>0</td>\n",
              "      <td>0</td>\n",
              "      <td>1</td>\n",
              "      <td>0</td>\n",
              "      <td>0</td>\n",
              "      <td>0</td>\n",
              "      <td>0</td>\n",
              "      <td>0</td>\n",
              "      <td>0</td>\n",
              "      <td>1</td>\n",
              "    </tr>\n",
              "    <tr>\n",
              "      <th>3</th>\n",
              "      <td>การเมือง,สังคม</td>\n",
              "      <td>ชี้ถ้าไม่ยกเลิกองค์ประกอบอย่างมาตรา ไทยก็ไม่ม...</td>\n",
              "      <td>ชี้ ถ้า ไม่ ยกเลิก องค์ประกอบ อย่าง มาตรา ไทย ...</td>\n",
              "      <td>0</td>\n",
              "      <td>0</td>\n",
              "      <td>0</td>\n",
              "      <td>0</td>\n",
              "      <td>0</td>\n",
              "      <td>0</td>\n",
              "      <td>0</td>\n",
              "      <td>0</td>\n",
              "      <td>0</td>\n",
              "      <td>0</td>\n",
              "      <td>1</td>\n",
              "      <td>0</td>\n",
              "      <td>1</td>\n",
              "      <td>2</td>\n",
              "    </tr>\n",
              "    <tr>\n",
              "      <th>4</th>\n",
              "      <td>เศรษฐกิจ</td>\n",
              "      <td>นายนิพนธ์ วงษ์ตระหง่าน อดีตผู้อำนวยการองค์การค...</td>\n",
              "      <td>นาย นิพนธ์ วงษ์ ตระหง่าน อดีต ผู้อำนวยการ องค์...</td>\n",
              "      <td>0</td>\n",
              "      <td>1</td>\n",
              "      <td>0</td>\n",
              "      <td>0</td>\n",
              "      <td>0</td>\n",
              "      <td>0</td>\n",
              "      <td>0</td>\n",
              "      <td>0</td>\n",
              "      <td>0</td>\n",
              "      <td>0</td>\n",
              "      <td>0</td>\n",
              "      <td>0</td>\n",
              "      <td>0</td>\n",
              "      <td>1</td>\n",
              "    </tr>\n",
              "  </tbody>\n",
              "</table>\n",
              "</div>"
            ],
            "text/plain": [
              "                  type  ... filter\n",
              "0  สิทธิมนุษยชน,ไอซีที  ...      1\n",
              "1     กีฬา,ฟุตบอลยุโรป  ...      1\n",
              "2       ข่าว,อาชญากรรม  ...      1\n",
              "3       การเมือง,สังคม  ...      2\n",
              "4             เศรษฐกิจ  ...      1\n",
              "\n",
              "[5 rows x 17 columns]"
            ]
          },
          "metadata": {
            "tags": []
          },
          "execution_count": 30
        }
      ]
    },
    {
      "cell_type": "code",
      "metadata": {
        "id": "fzrZM2Xt5krh"
      },
      "source": [
        "import pickle\n",
        "import glob  \n",
        "# # Save the Modle to file in the current working directory\n",
        "\n",
        "for i in glob.glob('/content/drive/MyDrive/deep_final/ovsr_NB/*') :\n",
        "    rr = i.split('/')[-1].split('_')[1]\n",
        "    with open(i, 'rb') as file:  \n",
        "      Pickled_LR_Model = pickle.load(file)\n",
        "      #print(Pickled_LR_Model)\n",
        "    df_test_prep[f'predict_{rr}'] = Pickled_LR_Model.predict(df_test_prep['Tkn_Text'])\n",
        "    #df_test_prep[f'predict_{rr}'] = Pickled_LR_Model.predict(df_test_prep['Tkn_Text'])\n",
        "\n"
      ],
      "execution_count": null,
      "outputs": []
    },
    {
      "cell_type": "code",
      "metadata": {
        "colab": {
          "base_uri": "https://localhost:8080/",
          "height": 646
        },
        "id": "34bmdN0HtPsc",
        "outputId": "c4ea79c8-9e0c-4f4f-f385-4a4c89a147ea"
      },
      "source": [
        "# = df_test_prep.drop(columns='predict_ไลฟ์สไตล์')\n",
        "df_test_prep.head()"
      ],
      "execution_count": null,
      "outputs": [
        {
          "output_type": "execute_result",
          "data": {
            "text/html": [
              "<div>\n",
              "<style scoped>\n",
              "    .dataframe tbody tr th:only-of-type {\n",
              "        vertical-align: middle;\n",
              "    }\n",
              "\n",
              "    .dataframe tbody tr th {\n",
              "        vertical-align: top;\n",
              "    }\n",
              "\n",
              "    .dataframe thead th {\n",
              "        text-align: right;\n",
              "    }\n",
              "</style>\n",
              "<table border=\"1\" class=\"dataframe\">\n",
              "  <thead>\n",
              "    <tr style=\"text-align: right;\">\n",
              "      <th></th>\n",
              "      <th>ไลฟ์สไตล์</th>\n",
              "      <th>เศรษฐกิจ</th>\n",
              "      <th>ต่างประเทศ</th>\n",
              "      <th>ความมั่นคง</th>\n",
              "      <th>สิ่งแวดล้อม</th>\n",
              "      <th>ผู้หญิง</th>\n",
              "      <th>การเมือง</th>\n",
              "      <th>แรงงาน</th>\n",
              "      <th>สังคม</th>\n",
              "      <th>อาชญากรรม</th>\n",
              "      <th>บันเทิง</th>\n",
              "      <th>สิทธิมนุษยชน</th>\n",
              "      <th>การศึกษา</th>\n",
              "      <th>วิทยาศาสตร์เทคโนโลยี</th>\n",
              "      <th>คุณภาพชีวิต</th>\n",
              "      <th>วัฒนธรรม</th>\n",
              "      <th>กีฬา</th>\n",
              "      <th>Tkn_Text</th>\n",
              "      <th>predict_ไลฟ์สไตล์</th>\n",
              "      <th>predict_เศรษฐกิจ</th>\n",
              "      <th>predict_ต่างประเทศ</th>\n",
              "      <th>predict_ความมั่นคง</th>\n",
              "      <th>predict_สิ่งแวดล้อม</th>\n",
              "      <th>predict_ผู้หญิง</th>\n",
              "      <th>predict_การเมือง</th>\n",
              "      <th>predict_แรงงาน</th>\n",
              "      <th>predict_สังคม</th>\n",
              "      <th>predict_อาชญากรรม</th>\n",
              "      <th>predict_บันเทิง</th>\n",
              "      <th>predict_สิทธิมนุษยชน</th>\n",
              "      <th>predict_การศึกษา</th>\n",
              "      <th>predict_วิทยาศาสตร์เทคโนโลยี</th>\n",
              "      <th>predict_คุณภาพชีวิต</th>\n",
              "      <th>predict_วัฒนธรรม</th>\n",
              "      <th>predict_กีฬา</th>\n",
              "    </tr>\n",
              "  </thead>\n",
              "  <tbody>\n",
              "    <tr>\n",
              "      <th>0</th>\n",
              "      <td>0</td>\n",
              "      <td>0</td>\n",
              "      <td>0</td>\n",
              "      <td>0</td>\n",
              "      <td>0</td>\n",
              "      <td>0</td>\n",
              "      <td>0</td>\n",
              "      <td>0</td>\n",
              "      <td>0</td>\n",
              "      <td>1</td>\n",
              "      <td>0</td>\n",
              "      <td>0</td>\n",
              "      <td>0</td>\n",
              "      <td>0</td>\n",
              "      <td>0</td>\n",
              "      <td>0</td>\n",
              "      <td>0</td>\n",
              "      <td>วันนี้ ก พ นาย บุ ณย พงศ์ โพธิ วัฒน ์ธนัต ผู้อ...</td>\n",
              "      <td>0</td>\n",
              "      <td>0</td>\n",
              "      <td>0</td>\n",
              "      <td>0</td>\n",
              "      <td>0</td>\n",
              "      <td>0</td>\n",
              "      <td>0</td>\n",
              "      <td>0</td>\n",
              "      <td>0</td>\n",
              "      <td>0</td>\n",
              "      <td>0</td>\n",
              "      <td>0</td>\n",
              "      <td>0</td>\n",
              "      <td>0</td>\n",
              "      <td>0</td>\n",
              "      <td>0</td>\n",
              "      <td>0</td>\n",
              "    </tr>\n",
              "    <tr>\n",
              "      <th>1</th>\n",
              "      <td>0</td>\n",
              "      <td>1</td>\n",
              "      <td>0</td>\n",
              "      <td>0</td>\n",
              "      <td>0</td>\n",
              "      <td>0</td>\n",
              "      <td>0</td>\n",
              "      <td>0</td>\n",
              "      <td>0</td>\n",
              "      <td>0</td>\n",
              "      <td>0</td>\n",
              "      <td>0</td>\n",
              "      <td>0</td>\n",
              "      <td>0</td>\n",
              "      <td>0</td>\n",
              "      <td>0</td>\n",
              "      <td>0</td>\n",
              "      <td>ที่ประชุม คณะกรรมการ กิจการ โทร คม นาค มก ทค ม...</td>\n",
              "      <td>0</td>\n",
              "      <td>0</td>\n",
              "      <td>0</td>\n",
              "      <td>0</td>\n",
              "      <td>0</td>\n",
              "      <td>0</td>\n",
              "      <td>0</td>\n",
              "      <td>0</td>\n",
              "      <td>0</td>\n",
              "      <td>0</td>\n",
              "      <td>0</td>\n",
              "      <td>0</td>\n",
              "      <td>0</td>\n",
              "      <td>0</td>\n",
              "      <td>0</td>\n",
              "      <td>0</td>\n",
              "      <td>0</td>\n",
              "    </tr>\n",
              "    <tr>\n",
              "      <th>2</th>\n",
              "      <td>1</td>\n",
              "      <td>0</td>\n",
              "      <td>0</td>\n",
              "      <td>0</td>\n",
              "      <td>0</td>\n",
              "      <td>1</td>\n",
              "      <td>0</td>\n",
              "      <td>0</td>\n",
              "      <td>0</td>\n",
              "      <td>0</td>\n",
              "      <td>0</td>\n",
              "      <td>0</td>\n",
              "      <td>0</td>\n",
              "      <td>0</td>\n",
              "      <td>0</td>\n",
              "      <td>0</td>\n",
              "      <td>0</td>\n",
              "      <td>ลูก อยู่ ไม่ นิ่ง เดี๋ยว ปีน โซฟา บ้าง ปีน เก้...</td>\n",
              "      <td>0</td>\n",
              "      <td>0</td>\n",
              "      <td>0</td>\n",
              "      <td>0</td>\n",
              "      <td>0</td>\n",
              "      <td>0</td>\n",
              "      <td>0</td>\n",
              "      <td>0</td>\n",
              "      <td>0</td>\n",
              "      <td>0</td>\n",
              "      <td>0</td>\n",
              "      <td>0</td>\n",
              "      <td>0</td>\n",
              "      <td>0</td>\n",
              "      <td>0</td>\n",
              "      <td>0</td>\n",
              "      <td>0</td>\n",
              "    </tr>\n",
              "    <tr>\n",
              "      <th>3</th>\n",
              "      <td>0</td>\n",
              "      <td>0</td>\n",
              "      <td>0</td>\n",
              "      <td>0</td>\n",
              "      <td>0</td>\n",
              "      <td>0</td>\n",
              "      <td>1</td>\n",
              "      <td>0</td>\n",
              "      <td>0</td>\n",
              "      <td>0</td>\n",
              "      <td>0</td>\n",
              "      <td>0</td>\n",
              "      <td>0</td>\n",
              "      <td>0</td>\n",
              "      <td>0</td>\n",
              "      <td>0</td>\n",
              "      <td>0</td>\n",
              "      <td>วันที่ พ ค นาย มานพ มานะ สกุล กิจ นายก สมาคม ศ...</td>\n",
              "      <td>0</td>\n",
              "      <td>0</td>\n",
              "      <td>0</td>\n",
              "      <td>0</td>\n",
              "      <td>0</td>\n",
              "      <td>0</td>\n",
              "      <td>1</td>\n",
              "      <td>0</td>\n",
              "      <td>0</td>\n",
              "      <td>0</td>\n",
              "      <td>0</td>\n",
              "      <td>0</td>\n",
              "      <td>0</td>\n",
              "      <td>0</td>\n",
              "      <td>0</td>\n",
              "      <td>0</td>\n",
              "      <td>0</td>\n",
              "    </tr>\n",
              "    <tr>\n",
              "      <th>4</th>\n",
              "      <td>0</td>\n",
              "      <td>0</td>\n",
              "      <td>1</td>\n",
              "      <td>0</td>\n",
              "      <td>0</td>\n",
              "      <td>0</td>\n",
              "      <td>0</td>\n",
              "      <td>0</td>\n",
              "      <td>0</td>\n",
              "      <td>0</td>\n",
              "      <td>0</td>\n",
              "      <td>0</td>\n",
              "      <td>0</td>\n",
              "      <td>0</td>\n",
              "      <td>0</td>\n",
              "      <td>0</td>\n",
              "      <td>0</td>\n",
              "      <td>แมลงสาบ ขึ้นชื่อว่า เป็น สัตว์ อึด ที่สุด ใน โ...</td>\n",
              "      <td>0</td>\n",
              "      <td>0</td>\n",
              "      <td>0</td>\n",
              "      <td>0</td>\n",
              "      <td>0</td>\n",
              "      <td>0</td>\n",
              "      <td>0</td>\n",
              "      <td>0</td>\n",
              "      <td>0</td>\n",
              "      <td>0</td>\n",
              "      <td>0</td>\n",
              "      <td>0</td>\n",
              "      <td>0</td>\n",
              "      <td>0</td>\n",
              "      <td>0</td>\n",
              "      <td>0</td>\n",
              "      <td>0</td>\n",
              "    </tr>\n",
              "  </tbody>\n",
              "</table>\n",
              "</div>"
            ],
            "text/plain": [
              "   ไลฟ์สไตล์  เศรษฐกิจ  ...  predict_วัฒนธรรม  predict_กีฬา\n",
              "0          0         0  ...                 0             0\n",
              "1          0         1  ...                 0             0\n",
              "2          1         0  ...                 0             0\n",
              "3          0         0  ...                 0             0\n",
              "4          0         0  ...                 0             0\n",
              "\n",
              "[5 rows x 35 columns]"
            ]
          },
          "metadata": {
            "tags": []
          },
          "execution_count": 33
        }
      ]
    },
    {
      "cell_type": "code",
      "metadata": {
        "id": "5273ifo4LlF8"
      },
      "source": [
        "df_test_prep.to_csv('/content/drive/MyDrive/deep_final/test_result_NB.csv',encoding='UTF-8-sig')"
      ],
      "execution_count": null,
      "outputs": []
    },
    {
      "cell_type": "code",
      "metadata": {
        "id": "FexvPLHjL1Om"
      },
      "source": [
        "df_result.to_csv('/content/drive/MyDrive/deep_final/result_result_predict_NB.csv',encoding='UTF-8-sig')"
      ],
      "execution_count": null,
      "outputs": []
    },
    {
      "cell_type": "code",
      "metadata": {
        "id": "vRc6FD7BEcVP"
      },
      "source": [
        "df_show.to_csv('/content/drive/MyDrive/deep_final/showcase_result_predict_NB.csv',encoding='UTF-8-sig')"
      ],
      "execution_count": null,
      "outputs": []
    }
  ]
}